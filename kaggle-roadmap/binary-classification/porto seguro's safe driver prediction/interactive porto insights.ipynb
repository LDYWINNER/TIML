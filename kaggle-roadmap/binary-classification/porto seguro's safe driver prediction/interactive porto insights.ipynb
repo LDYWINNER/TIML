{
 "cells": [
  {
   "cell_type": "code",
   "execution_count": 2,
   "id": "5607e10f",
   "metadata": {},
   "outputs": [
    {
     "data": {
      "text/html": [
       "        <script type=\"text/javascript\">\n",
       "        window.PlotlyConfig = {MathJaxConfig: 'local'};\n",
       "        if (window.MathJax && window.MathJax.Hub && window.MathJax.Hub.Config) {window.MathJax.Hub.Config({SVG: {font: \"STIX-Web\"}});}\n",
       "        if (typeof require !== 'undefined') {\n",
       "        require.undef(\"plotly\");\n",
       "        requirejs.config({\n",
       "            paths: {\n",
       "                'plotly': ['https://cdn.plot.ly/plotly-2.12.1.min']\n",
       "            }\n",
       "        });\n",
       "        require(['plotly'], function(Plotly) {\n",
       "            window._Plotly = Plotly;\n",
       "        });\n",
       "        }\n",
       "        </script>\n",
       "        "
      ]
     },
     "metadata": {},
     "output_type": "display_data"
    }
   ],
   "source": [
    "import pandas as pd\n",
    "import numpy as np\n",
    "import seaborn as sns\n",
    "import matplotlib.pyplot as plt\n",
    "%matplotlib inline\n",
    "import plotly.offline as py\n",
    "py.init_notebook_mode(connected=True)\n",
    "import plotly.graph_objs as go\n",
    "import plotly.tools as tls\n",
    "import warnings\n",
    "from collections import Counter\n",
    "from sklearn.feature_selection import mutual_info_classif\n",
    "warnings.filterwarnings('ignore')"
   ]
  },
  {
   "cell_type": "code",
   "execution_count": 3,
   "id": "37639a34",
   "metadata": {},
   "outputs": [
    {
     "data": {
      "text/html": [
       "<div>\n",
       "<style scoped>\n",
       "    .dataframe tbody tr th:only-of-type {\n",
       "        vertical-align: middle;\n",
       "    }\n",
       "\n",
       "    .dataframe tbody tr th {\n",
       "        vertical-align: top;\n",
       "    }\n",
       "\n",
       "    .dataframe thead th {\n",
       "        text-align: right;\n",
       "    }\n",
       "</style>\n",
       "<table border=\"1\" class=\"dataframe\">\n",
       "  <thead>\n",
       "    <tr style=\"text-align: right;\">\n",
       "      <th></th>\n",
       "      <th>id</th>\n",
       "      <th>target</th>\n",
       "      <th>ps_ind_01</th>\n",
       "      <th>ps_ind_02_cat</th>\n",
       "      <th>ps_ind_03</th>\n",
       "      <th>ps_ind_04_cat</th>\n",
       "      <th>ps_ind_05_cat</th>\n",
       "      <th>ps_ind_06_bin</th>\n",
       "      <th>ps_ind_07_bin</th>\n",
       "      <th>ps_ind_08_bin</th>\n",
       "      <th>...</th>\n",
       "      <th>ps_calc_11</th>\n",
       "      <th>ps_calc_12</th>\n",
       "      <th>ps_calc_13</th>\n",
       "      <th>ps_calc_14</th>\n",
       "      <th>ps_calc_15_bin</th>\n",
       "      <th>ps_calc_16_bin</th>\n",
       "      <th>ps_calc_17_bin</th>\n",
       "      <th>ps_calc_18_bin</th>\n",
       "      <th>ps_calc_19_bin</th>\n",
       "      <th>ps_calc_20_bin</th>\n",
       "    </tr>\n",
       "  </thead>\n",
       "  <tbody>\n",
       "    <tr>\n",
       "      <th>0</th>\n",
       "      <td>7</td>\n",
       "      <td>0</td>\n",
       "      <td>2</td>\n",
       "      <td>2</td>\n",
       "      <td>5</td>\n",
       "      <td>1</td>\n",
       "      <td>0</td>\n",
       "      <td>0</td>\n",
       "      <td>1</td>\n",
       "      <td>0</td>\n",
       "      <td>...</td>\n",
       "      <td>9</td>\n",
       "      <td>1</td>\n",
       "      <td>5</td>\n",
       "      <td>8</td>\n",
       "      <td>0</td>\n",
       "      <td>1</td>\n",
       "      <td>1</td>\n",
       "      <td>0</td>\n",
       "      <td>0</td>\n",
       "      <td>1</td>\n",
       "    </tr>\n",
       "    <tr>\n",
       "      <th>1</th>\n",
       "      <td>9</td>\n",
       "      <td>0</td>\n",
       "      <td>1</td>\n",
       "      <td>1</td>\n",
       "      <td>7</td>\n",
       "      <td>0</td>\n",
       "      <td>0</td>\n",
       "      <td>0</td>\n",
       "      <td>0</td>\n",
       "      <td>1</td>\n",
       "      <td>...</td>\n",
       "      <td>3</td>\n",
       "      <td>1</td>\n",
       "      <td>1</td>\n",
       "      <td>9</td>\n",
       "      <td>0</td>\n",
       "      <td>1</td>\n",
       "      <td>1</td>\n",
       "      <td>0</td>\n",
       "      <td>1</td>\n",
       "      <td>0</td>\n",
       "    </tr>\n",
       "    <tr>\n",
       "      <th>2</th>\n",
       "      <td>13</td>\n",
       "      <td>0</td>\n",
       "      <td>5</td>\n",
       "      <td>4</td>\n",
       "      <td>9</td>\n",
       "      <td>1</td>\n",
       "      <td>0</td>\n",
       "      <td>0</td>\n",
       "      <td>0</td>\n",
       "      <td>1</td>\n",
       "      <td>...</td>\n",
       "      <td>4</td>\n",
       "      <td>2</td>\n",
       "      <td>7</td>\n",
       "      <td>7</td>\n",
       "      <td>0</td>\n",
       "      <td>1</td>\n",
       "      <td>1</td>\n",
       "      <td>0</td>\n",
       "      <td>1</td>\n",
       "      <td>0</td>\n",
       "    </tr>\n",
       "    <tr>\n",
       "      <th>3</th>\n",
       "      <td>16</td>\n",
       "      <td>0</td>\n",
       "      <td>0</td>\n",
       "      <td>1</td>\n",
       "      <td>2</td>\n",
       "      <td>0</td>\n",
       "      <td>0</td>\n",
       "      <td>1</td>\n",
       "      <td>0</td>\n",
       "      <td>0</td>\n",
       "      <td>...</td>\n",
       "      <td>2</td>\n",
       "      <td>2</td>\n",
       "      <td>4</td>\n",
       "      <td>9</td>\n",
       "      <td>0</td>\n",
       "      <td>0</td>\n",
       "      <td>0</td>\n",
       "      <td>0</td>\n",
       "      <td>0</td>\n",
       "      <td>0</td>\n",
       "    </tr>\n",
       "    <tr>\n",
       "      <th>4</th>\n",
       "      <td>17</td>\n",
       "      <td>0</td>\n",
       "      <td>0</td>\n",
       "      <td>2</td>\n",
       "      <td>0</td>\n",
       "      <td>1</td>\n",
       "      <td>0</td>\n",
       "      <td>1</td>\n",
       "      <td>0</td>\n",
       "      <td>0</td>\n",
       "      <td>...</td>\n",
       "      <td>3</td>\n",
       "      <td>1</td>\n",
       "      <td>1</td>\n",
       "      <td>3</td>\n",
       "      <td>0</td>\n",
       "      <td>0</td>\n",
       "      <td>0</td>\n",
       "      <td>1</td>\n",
       "      <td>1</td>\n",
       "      <td>0</td>\n",
       "    </tr>\n",
       "  </tbody>\n",
       "</table>\n",
       "<p>5 rows × 59 columns</p>\n",
       "</div>"
      ],
      "text/plain": [
       "   id  target  ps_ind_01  ps_ind_02_cat  ps_ind_03  ps_ind_04_cat  \\\n",
       "0   7       0          2              2          5              1   \n",
       "1   9       0          1              1          7              0   \n",
       "2  13       0          5              4          9              1   \n",
       "3  16       0          0              1          2              0   \n",
       "4  17       0          0              2          0              1   \n",
       "\n",
       "   ps_ind_05_cat  ps_ind_06_bin  ps_ind_07_bin  ps_ind_08_bin  ...  \\\n",
       "0              0              0              1              0  ...   \n",
       "1              0              0              0              1  ...   \n",
       "2              0              0              0              1  ...   \n",
       "3              0              1              0              0  ...   \n",
       "4              0              1              0              0  ...   \n",
       "\n",
       "   ps_calc_11  ps_calc_12  ps_calc_13  ps_calc_14  ps_calc_15_bin  \\\n",
       "0           9           1           5           8               0   \n",
       "1           3           1           1           9               0   \n",
       "2           4           2           7           7               0   \n",
       "3           2           2           4           9               0   \n",
       "4           3           1           1           3               0   \n",
       "\n",
       "   ps_calc_16_bin  ps_calc_17_bin  ps_calc_18_bin  ps_calc_19_bin  \\\n",
       "0               1               1               0               0   \n",
       "1               1               1               0               1   \n",
       "2               1               1               0               1   \n",
       "3               0               0               0               0   \n",
       "4               0               0               1               1   \n",
       "\n",
       "   ps_calc_20_bin  \n",
       "0               1  \n",
       "1               0  \n",
       "2               0  \n",
       "3               0  \n",
       "4               0  \n",
       "\n",
       "[5 rows x 59 columns]"
      ]
     },
     "execution_count": 3,
     "metadata": {},
     "output_type": "execute_result"
    }
   ],
   "source": [
    "train = pd.read_csv(\"./data/train.csv\")\n",
    "train.head()"
   ]
  },
  {
   "cell_type": "code",
   "execution_count": 4,
   "id": "afefc182",
   "metadata": {},
   "outputs": [
    {
     "name": "stdout",
     "output_type": "stream",
     "text": [
      "The train dataset contains 595212 rows and 59 columns\n"
     ]
    }
   ],
   "source": [
    "rows = train.shape[0]\n",
    "columns = train.shape[1]\n",
    "print(\"The train dataset contains {0} rows and {1} columns\".format(rows, columns))"
   ]
  },
  {
   "cell_type": "markdown",
   "id": "ee2c7d56",
   "metadata": {},
   "source": [
    "## Data Quality Check"
   ]
  },
  {
   "cell_type": "code",
   "execution_count": 5,
   "id": "fb568cba",
   "metadata": {},
   "outputs": [
    {
     "data": {
      "text/plain": [
       "False"
      ]
     },
     "execution_count": 5,
     "metadata": {},
     "output_type": "execute_result"
    }
   ],
   "source": [
    "# null or missing values check\n",
    "\n",
    "# any() applied twice to check run the isnull check across all columns.\n",
    "train.isnull().any().any()"
   ]
  },
  {
   "cell_type": "code",
   "execution_count": 6,
   "id": "5f8f54bf",
   "metadata": {},
   "outputs": [],
   "source": [
    "train_copy = train\n",
    "train_copy = train_copy.replace(-1, np.NaN)"
   ]
  },
  {
   "cell_type": "code",
   "execution_count": 7,
   "id": "8d10af80",
   "metadata": {},
   "outputs": [
    {
     "data": {
      "text/plain": [
       "<Axes: >"
      ]
     },
     "execution_count": 7,
     "metadata": {},
     "output_type": "execute_result"
    },
    {
     "data": {
      "image/png": "[encoded data removed]",
      "text/plain": [
       "<Figure size 2000x1400 with 2 Axes>"
      ]
     },
     "metadata": {},
     "output_type": "display_data"
    }
   ],
   "source": [
    "import missingno as msno\n",
    "\n",
    "# Nullity or missing values by columns\n",
    "msno.matrix(df=train_copy.iloc[:,2:39], figsize=(20, 14), color=(0.42, 0.1, 0.05))"
   ]
  },
  {
   "cell_type": "code",
   "execution_count": 8,
   "id": "286d3724",
   "metadata": {},
   "outputs": [
    {
     "data": {
      "application/vnd.plotly.v1+json": {
       "config": {
        "linkText": "Export to plot.ly",
        "plotlyServerURL": "https://plot.ly",
        "showLink": false
       },
       "data": [
        {
         "text": "Distribution of target variable",
         "type": "bar",
         "x": [
          0,
          1
         ],
         "y": [
          573518,
          21694
         ]
        }
       ],
       "layout": {
        "template": {
         "data": {
          "bar": [
           {
            "error_x": {
             "color": "#2a3f5f"
            },
            "error_y": {
             "color": "#2a3f5f"
            },
            "marker": {
             "line": {
              "color": "#E5ECF6",
              "width": 0.5
             },
             "pattern": {
              "fillmode": "overlay",
              "size": 10,
              "solidity": 0.2
             }
            },
            "type": "bar"
           }
          ],
          "barpolar": [
           {
            "marker": {
             "line": {
              "color": "#E5ECF6",
              "width": 0.5
             },
             "pattern": {
              "fillmode": "overlay",
              "size": 10,
              "solidity": 0.2
             }
            },
            "type": "barpolar"
           }
          ],
          "carpet": [
           {
            "aaxis": {
             "endlinecolor": "#2a3f5f",
             "gridcolor": "white",
             "linecolor": "white",
             "minorgridcolor": "white",
             "startlinecolor": "#2a3f5f"
            },
            "baxis": {
             "endlinecolor": "#2a3f5f",
             "gridcolor": "white",
             "linecolor": "white",
             "minorgridcolor": "white",
             "startlinecolor": "#2a3f5f"
            },
            "type": "carpet"
           }
          ],
          "choropleth": [
           {
            "colorbar": {
             "outlinewidth": 0,
             "ticks": ""
            },
            "type": "choropleth"
           }
          ],
          "contour": [
           {
            "colorbar": {
             "outlinewidth": 0,
             "ticks": ""
            },
            "colorscale": [
             [
              0,
              "#0d0887"
             ],
             [
              0.1111111111111111,
              "#46039f"
             ],
             [
              0.2222222222222222,
              "#7201a8"
             ],
             [
              0.3333333333333333,
              "#9c179e"
             ],
             [
              0.4444444444444444,
              "#bd3786"
             ],
             [
              0.5555555555555556,
              "#d8576b"
             ],
             [
              0.6666666666666666,
              "#ed7953"
             ],
             [
              0.7777777777777778,
              "#fb9f3a"
             ],
             [
              0.8888888888888888,
              "#fdca26"
             ],
             [
              1,
              "#f0f921"
             ]
            ],
            "type": "contour"
           }
          ],
          "contourcarpet": [
           {
            "colorbar": {
             "outlinewidth": 0,
             "ticks": ""
            },
            "type": "contourcarpet"
           }
          ],
          "heatmap": [
           {
            "colorbar": {
             "outlinewidth": 0,
             "ticks": ""
            },
            "colorscale": [
             [
              0,
              "#0d0887"
             ],
             [
              0.1111111111111111,
              "#46039f"
             ],
             [
              0.2222222222222222,
              "#7201a8"
             ],
             [
              0.3333333333333333,
              "#9c179e"
             ],
             [
              0.4444444444444444,
              "#bd3786"
             ],
             [
              0.5555555555555556,
              "#d8576b"
             ],
             [
              0.6666666666666666,
              "#ed7953"
             ],
             [
              0.7777777777777778,
              "#fb9f3a"
             ],
             [
              0.8888888888888888,
              "#fdca26"
             ],
             [
              1,
              "#f0f921"
             ]
            ],
            "type": "heatmap"
           }
          ],
          "heatmapgl": [
           {
            "colorbar": {
             "outlinewidth": 0,
             "ticks": ""
            },
            "colorscale": [
             [
              0,
              "#0d0887"
             ],
             [
              0.1111111111111111,
              "#46039f"
             ],
             [
              0.2222222222222222,
              "#7201a8"
             ],
             [
              0.3333333333333333,
              "#9c179e"
             ],
             [
              0.4444444444444444,
              "#bd3786"
             ],
             [
              0.5555555555555556,
              "#d8576b"
             ],
             [
              0.6666666666666666,
              "#ed7953"
             ],
             [
              0.7777777777777778,
              "#fb9f3a"
             ],
             [
              0.8888888888888888,
              "#fdca26"
             ],
             [
              1,
              "#f0f921"
             ]
            ],
            "type": "heatmapgl"
           }
          ],
          "histogram": [
           {
            "marker": {
             "pattern": {
              "fillmode": "overlay",
              "size": 10,
              "solidity": 0.2
             }
            },
            "type": "histogram"
           }
          ],
          "histogram2d": [
           {
            "colorbar": {
             "outlinewidth": 0,
             "ticks": ""
            },
            "colorscale": [
             [
              0,
              "#0d0887"
             ],
             [
              0.1111111111111111,
              "#46039f"
             ],
             [
              0.2222222222222222,
              "#7201a8"
             ],
             [
              0.3333333333333333,
              "#9c179e"
             ],
             [
              0.4444444444444444,
              "#bd3786"
             ],
             [
              0.5555555555555556,
              "#d8576b"
             ],
             [
              0.6666666666666666,
              "#ed7953"
             ],
             [
              0.7777777777777778,
              "#fb9f3a"
             ],
             [
              0.8888888888888888,
              "#fdca26"
             ],
             [
              1,
              "#f0f921"
             ]
            ],
            "type": "histogram2d"
           }
          ],
          "histogram2dcontour": [
           {
            "colorbar": {
             "outlinewidth": 0,
             "ticks": ""
            },
            "colorscale": [
             [
              0,
              "#0d0887"
             ],
             [
              0.1111111111111111,
              "#46039f"
             ],
             [
              0.2222222222222222,
              "#7201a8"
             ],
             [
              0.3333333333333333,
              "#9c179e"
             ],
             [
              0.4444444444444444,
              "#bd3786"
             ],
             [
              0.5555555555555556,
              "#d8576b"
             ],
             [
              0.6666666666666666,
              "#ed7953"
             ],
             [
              0.7777777777777778,
              "#fb9f3a"
             ],
             [
              0.8888888888888888,
              "#fdca26"
             ],
             [
              1,
              "#f0f921"
             ]
            ],
            "type": "histogram2dcontour"
           }
          ],
          "mesh3d": [
           {
            "colorbar": {
             "outlinewidth": 0,
             "ticks": ""
            },
            "type": "mesh3d"
           }
          ],
          "parcoords": [
           {
            "line": {
             "colorbar": {
              "outlinewidth": 0,
              "ticks": ""
             }
            },
            "type": "parcoords"
           }
          ],
          "pie": [
           {
            "automargin": true,
            "type": "pie"
           }
          ],
          "scatter": [
           {
            "fillpattern": {
             "fillmode": "overlay",
             "size": 10,
             "solidity": 0.2
            },
            "type": "scatter"
           }
          ],
          "scatter3d": [
           {
            "line": {
             "colorbar": {
              "outlinewidth": 0,
              "ticks": ""
             }
            },
            "marker": {
             "colorbar": {
              "outlinewidth": 0,
              "ticks": ""
             }
            },
            "type": "scatter3d"
           }
          ],
          "scattercarpet": [
           {
            "marker": {
             "colorbar": {
              "outlinewidth": 0,
              "ticks": ""
             }
            },
            "type": "scattercarpet"
           }
          ],
          "scattergeo": [
           {
            "marker": {
             "colorbar": {
              "outlinewidth": 0,
              "ticks": ""
             }
            },
            "type": "scattergeo"
           }
          ],
          "scattergl": [
           {
            "marker": {
             "colorbar": {
              "outlinewidth": 0,
              "ticks": ""
             }
            },
            "type": "scattergl"
           }
          ],
          "scattermapbox": [
           {
            "marker": {
             "colorbar": {
              "outlinewidth": 0,
              "ticks": ""
             }
            },
            "type": "scattermapbox"
           }
          ],
          "scatterpolar": [
           {
            "marker": {
             "colorbar": {
              "outlinewidth": 0,
              "ticks": ""
             }
            },
            "type": "scatterpolar"
           }
          ],
          "scatterpolargl": [
           {
            "marker": {
             "colorbar": {
              "outlinewidth": 0,
              "ticks": ""
             }
            },
            "type": "scatterpolargl"
           }
          ],
          "scatterternary": [
           {
            "marker": {
             "colorbar": {
              "outlinewidth": 0,
              "ticks": ""
             }
            },
            "type": "scatterternary"
           }
          ],
          "surface": [
           {
            "colorbar": {
             "outlinewidth": 0,
             "ticks": ""
            },
            "colorscale": [
             [
              0,
              "#0d0887"
             ],
             [
              0.1111111111111111,
              "#46039f"
             ],
             [
              0.2222222222222222,
              "#7201a8"
             ],
             [
              0.3333333333333333,
              "#9c179e"
             ],
             [
              0.4444444444444444,
              "#bd3786"
             ],
             [
              0.5555555555555556,
              "#d8576b"
             ],
             [
              0.6666666666666666,
              "#ed7953"
             ],
             [
              0.7777777777777778,
              "#fb9f3a"
             ],
             [
              0.8888888888888888,
              "#fdca26"
             ],
             [
              1,
              "#f0f921"
             ]
            ],
            "type": "surface"
           }
          ],
          "table": [
           {
            "cells": {
             "fill": {
              "color": "#EBF0F8"
             },
             "line": {
              "color": "white"
             }
            },
            "header": {
             "fill": {
              "color": "#C8D4E3"
             },
             "line": {
              "color": "white"
             }
            },
            "type": "table"
           }
          ]
         },
         "layout": {
          "annotationdefaults": {
           "arrowcolor": "#2a3f5f",
           "arrowhead": 0,
           "arrowwidth": 1
          },
          "autotypenumbers": "strict",
          "coloraxis": {
           "colorbar": {
            "outlinewidth": 0,
            "ticks": ""
           }
          },
          "colorscale": {
           "diverging": [
            [
             0,
             "#8e0152"
            ],
            [
             0.1,
             "#c51b7d"
            ],
            [
             0.2,
             "#de77ae"
            ],
            [
             0.3,
             "#f1b6da"
            ],
            [
             0.4,
             "#fde0ef"
            ],
            [
             0.5,
             "#f7f7f7"
            ],
            [
             0.6,
             "#e6f5d0"
            ],
            [
             0.7,
             "#b8e186"
            ],
            [
             0.8,
             "#7fbc41"
            ],
            [
             0.9,
             "#4d9221"
            ],
            [
             1,
             "#276419"
            ]
           ],
           "sequential": [
            [
             0,
             "#0d0887"
            ],
            [
             0.1111111111111111,
             "#46039f"
            ],
            [
             0.2222222222222222,
             "#7201a8"
            ],
            [
             0.3333333333333333,
             "#9c179e"
            ],
            [
             0.4444444444444444,
             "#bd3786"
            ],
            [
             0.5555555555555556,
             "#d8576b"
            ],
            [
             0.6666666666666666,
             "#ed7953"
            ],
            [
             0.7777777777777778,
             "#fb9f3a"
            ],
            [
             0.8888888888888888,
             "#fdca26"
            ],
            [
             1,
             "#f0f921"
            ]
           ],
           "sequentialminus": [
            [
             0,
             "#0d0887"
            ],
            [
             0.1111111111111111,
             "#46039f"
            ],
            [
             0.2222222222222222,
             "#7201a8"
            ],
            [
             0.3333333333333333,
             "#9c179e"
            ],
            [
             0.4444444444444444,
             "#bd3786"
            ],
            [
             0.5555555555555556,
             "#d8576b"
            ],
            [
             0.6666666666666666,
             "#ed7953"
            ],
            [
             0.7777777777777778,
             "#fb9f3a"
            ],
            [
             0.8888888888888888,
             "#fdca26"
            ],
            [
             1,
             "#f0f921"
            ]
           ]
          },
          "colorway": [
           "#636efa",
           "#EF553B",
           "#00cc96",
           "#ab63fa",
           "#FFA15A",
           "#19d3f3",
           "#FF6692",
           "#B6E880",
           "#FF97FF",
           "#FECB52"
          ],
          "font": {
           "color": "#2a3f5f"
          },
          "geo": {
           "bgcolor": "white",
           "lakecolor": "white",
           "landcolor": "#E5ECF6",
           "showlakes": true,
           "showland": true,
           "subunitcolor": "white"
          },
          "hoverlabel": {
           "align": "left"
          },
          "hovermode": "closest",
          "mapbox": {
           "style": "light"
          },
          "paper_bgcolor": "white",
          "plot_bgcolor": "#E5ECF6",
          "polar": {
           "angularaxis": {
            "gridcolor": "white",
            "linecolor": "white",
            "ticks": ""
           },
           "bgcolor": "#E5ECF6",
           "radialaxis": {
            "gridcolor": "white",
            "linecolor": "white",
            "ticks": ""
           }
          },
          "scene": {
           "xaxis": {
            "backgroundcolor": "#E5ECF6",
            "gridcolor": "white",
            "gridwidth": 2,
            "linecolor": "white",
            "showbackground": true,
            "ticks": "",
            "zerolinecolor": "white"
           },
           "yaxis": {
            "backgroundcolor": "#E5ECF6",
            "gridcolor": "white",
            "gridwidth": 2,
            "linecolor": "white",
            "showbackground": true,
            "ticks": "",
            "zerolinecolor": "white"
           },
           "zaxis": {
            "backgroundcolor": "#E5ECF6",
            "gridcolor": "white",
            "gridwidth": 2,
            "linecolor": "white",
            "showbackground": true,
            "ticks": "",
            "zerolinecolor": "white"
           }
          },
          "shapedefaults": {
           "line": {
            "color": "#2a3f5f"
           }
          },
          "ternary": {
           "aaxis": {
            "gridcolor": "white",
            "linecolor": "white",
            "ticks": ""
           },
           "baxis": {
            "gridcolor": "white",
            "linecolor": "white",
            "ticks": ""
           },
           "bgcolor": "#E5ECF6",
           "caxis": {
            "gridcolor": "white",
            "linecolor": "white",
            "ticks": ""
           }
          },
          "title": {
           "x": 0.05
          },
          "xaxis": {
           "automargin": true,
           "gridcolor": "white",
           "linecolor": "white",
           "ticks": "",
           "title": {
            "standoff": 15
           },
           "zerolinecolor": "white",
           "zerolinewidth": 2
          },
          "yaxis": {
           "automargin": true,
           "gridcolor": "white",
           "linecolor": "white",
           "ticks": "",
           "title": {
            "standoff": 15
           },
           "zerolinecolor": "white",
           "zerolinewidth": 2
          }
         }
        },
        "title": {
         "text": "Target variable distribution"
        }
       }
      },
      "text/html": [
       "<div>                            <div id=\"6b9db310-72d8-47a7-b302-6f435cf8dc11\" class=\"plotly-graph-div\" style=\"height:525px; width:100%;\"></div>            <script type=\"text/javascript\">                require([\"plotly\"], function(Plotly) {                    window.PLOTLYENV=window.PLOTLYENV || {};                                    if (document.getElementById(\"6b9db310-72d8-47a7-b302-6f435cf8dc11\")) {                    Plotly.newPlot(                        \"6b9db310-72d8-47a7-b302-6f435cf8dc11\",                        [{\"text\":\"Distribution of target variable\",\"x\":[0,1],\"y\":[573518,21694],\"type\":\"bar\"}],                        {\"template\":{\"data\":{\"barpolar\":[{\"marker\":{\"line\":{\"color\":\"#E5ECF6\",\"width\":0.5},\"pattern\":{\"fillmode\":\"overlay\",\"size\":10,\"solidity\":0.2}},\"type\":\"barpolar\"}],\"bar\":[{\"error_x\":{\"color\":\"#2a3f5f\"},\"error_y\":{\"color\":\"#2a3f5f\"},\"marker\":{\"line\":{\"color\":\"#E5ECF6\",\"width\":0.5},\"pattern\":{\"fillmode\":\"overlay\",\"size\":10,\"solidity\":0.2}},\"type\":\"bar\"}],\"carpet\":[{\"aaxis\":{\"endlinecolor\":\"#2a3f5f\",\"gridcolor\":\"white\",\"linecolor\":\"white\",\"minorgridcolor\":\"white\",\"startlinecolor\":\"#2a3f5f\"},\"baxis\":{\"endlinecolor\":\"#2a3f5f\",\"gridcolor\":\"white\",\"linecolor\":\"white\",\"minorgridcolor\":\"white\",\"startlinecolor\":\"#2a3f5f\"},\"type\":\"carpet\"}],\"choropleth\":[{\"colorbar\":{\"outlinewidth\":0,\"ticks\":\"\"},\"type\":\"choropleth\"}],\"contourcarpet\":[{\"colorbar\":{\"outlinewidth\":0,\"ticks\":\"\"},\"type\":\"contourcarpet\"}],\"contour\":[{\"colorbar\":{\"outlinewidth\":0,\"ticks\":\"\"},\"colorscale\":[[0.0,\"#0d0887\"],[0.1111111111111111,\"#46039f\"],[0.2222222222222222,\"#7201a8\"],[0.3333333333333333,\"#9c179e\"],[0.4444444444444444,\"#bd3786\"],[0.5555555555555556,\"#d8576b\"],[0.6666666666666666,\"#ed7953\"],[0.7777777777777778,\"#fb9f3a\"],[0.8888888888888888,\"#fdca26\"],[1.0,\"#f0f921\"]],\"type\":\"contour\"}],\"heatmapgl\":[{\"colorbar\":{\"outlinewidth\":0,\"ticks\":\"\"},\"colorscale\":[[0.0,\"#0d0887\"],[0.1111111111111111,\"#46039f\"],[0.2222222222222222,\"#7201a8\"],[0.3333333333333333,\"#9c179e\"],[0.4444444444444444,\"#bd3786\"],[0.5555555555555556,\"#d8576b\"],[0.6666666666666666,\"#ed7953\"],[0.7777777777777778,\"#fb9f3a\"],[0.8888888888888888,\"#fdca26\"],[1.0,\"#f0f921\"]],\"type\":\"heatmapgl\"}],\"heatmap\":[{\"colorbar\":{\"outlinewidth\":0,\"ticks\":\"\"},\"colorscale\":[[0.0,\"#0d0887\"],[0.1111111111111111,\"#46039f\"],[0.2222222222222222,\"#7201a8\"],[0.3333333333333333,\"#9c179e\"],[0.4444444444444444,\"#bd3786\"],[0.5555555555555556,\"#d8576b\"],[0.6666666666666666,\"#ed7953\"],[0.7777777777777778,\"#fb9f3a\"],[0.8888888888888888,\"#fdca26\"],[1.0,\"#f0f921\"]],\"type\":\"heatmap\"}],\"histogram2dcontour\":[{\"colorbar\":{\"outlinewidth\":0,\"ticks\":\"\"},\"colorscale\":[[0.0,\"#0d0887\"],[0.1111111111111111,\"#46039f\"],[0.2222222222222222,\"#7201a8\"],[0.3333333333333333,\"#9c179e\"],[0.4444444444444444,\"#bd3786\"],[0.5555555555555556,\"#d8576b\"],[0.6666666666666666,\"#ed7953\"],[0.7777777777777778,\"#fb9f3a\"],[0.8888888888888888,\"#fdca26\"],[1.0,\"#f0f921\"]],\"type\":\"histogram2dcontour\"}],\"histogram2d\":[{\"colorbar\":{\"outlinewidth\":0,\"ticks\":\"\"},\"colorscale\":[[0.0,\"#0d0887\"],[0.1111111111111111,\"#46039f\"],[0.2222222222222222,\"#7201a8\"],[0.3333333333333333,\"#9c179e\"],[0.4444444444444444,\"#bd3786\"],[0.5555555555555556,\"#d8576b\"],[0.6666666666666666,\"#ed7953\"],[0.7777777777777778,\"#fb9f3a\"],[0.8888888888888888,\"#fdca26\"],[1.0,\"#f0f921\"]],\"type\":\"histogram2d\"}],\"histogram\":[{\"marker\":{\"pattern\":{\"fillmode\":\"overlay\",\"size\":10,\"solidity\":0.2}},\"type\":\"histogram\"}],\"mesh3d\":[{\"colorbar\":{\"outlinewidth\":0,\"ticks\":\"\"},\"type\":\"mesh3d\"}],\"parcoords\":[{\"line\":{\"colorbar\":{\"outlinewidth\":0,\"ticks\":\"\"}},\"type\":\"parcoords\"}],\"pie\":[{\"automargin\":true,\"type\":\"pie\"}],\"scatter3d\":[{\"line\":{\"colorbar\":{\"outlinewidth\":0,\"ticks\":\"\"}},\"marker\":{\"colorbar\":{\"outlinewidth\":0,\"ticks\":\"\"}},\"type\":\"scatter3d\"}],\"scattercarpet\":[{\"marker\":{\"colorbar\":{\"outlinewidth\":0,\"ticks\":\"\"}},\"type\":\"scattercarpet\"}],\"scattergeo\":[{\"marker\":{\"colorbar\":{\"outlinewidth\":0,\"ticks\":\"\"}},\"type\":\"scattergeo\"}],\"scattergl\":[{\"marker\":{\"colorbar\":{\"outlinewidth\":0,\"ticks\":\"\"}},\"type\":\"scattergl\"}],\"scattermapbox\":[{\"marker\":{\"colorbar\":{\"outlinewidth\":0,\"ticks\":\"\"}},\"type\":\"scattermapbox\"}],\"scatterpolargl\":[{\"marker\":{\"colorbar\":{\"outlinewidth\":0,\"ticks\":\"\"}},\"type\":\"scatterpolargl\"}],\"scatterpolar\":[{\"marker\":{\"colorbar\":{\"outlinewidth\":0,\"ticks\":\"\"}},\"type\":\"scatterpolar\"}],\"scatter\":[{\"fillpattern\":{\"fillmode\":\"overlay\",\"size\":10,\"solidity\":0.2},\"type\":\"scatter\"}],\"scatterternary\":[{\"marker\":{\"colorbar\":{\"outlinewidth\":0,\"ticks\":\"\"}},\"type\":\"scatterternary\"}],\"surface\":[{\"colorbar\":{\"outlinewidth\":0,\"ticks\":\"\"},\"colorscale\":[[0.0,\"#0d0887\"],[0.1111111111111111,\"#46039f\"],[0.2222222222222222,\"#7201a8\"],[0.3333333333333333,\"#9c179e\"],[0.4444444444444444,\"#bd3786\"],[0.5555555555555556,\"#d8576b\"],[0.6666666666666666,\"#ed7953\"],[0.7777777777777778,\"#fb9f3a\"],[0.8888888888888888,\"#fdca26\"],[1.0,\"#f0f921\"]],\"type\":\"surface\"}],\"table\":[{\"cells\":{\"fill\":{\"color\":\"#EBF0F8\"},\"line\":{\"color\":\"white\"}},\"header\":{\"fill\":{\"color\":\"#C8D4E3\"},\"line\":{\"color\":\"white\"}},\"type\":\"table\"}]},\"layout\":{\"annotationdefaults\":{\"arrowcolor\":\"#2a3f5f\",\"arrowhead\":0,\"arrowwidth\":1},\"autotypenumbers\":\"strict\",\"coloraxis\":{\"colorbar\":{\"outlinewidth\":0,\"ticks\":\"\"}},\"colorscale\":{\"diverging\":[[0,\"#8e0152\"],[0.1,\"#c51b7d\"],[0.2,\"#de77ae\"],[0.3,\"#f1b6da\"],[0.4,\"#fde0ef\"],[0.5,\"#f7f7f7\"],[0.6,\"#e6f5d0\"],[0.7,\"#b8e186\"],[0.8,\"#7fbc41\"],[0.9,\"#4d9221\"],[1,\"#276419\"]],\"sequential\":[[0.0,\"#0d0887\"],[0.1111111111111111,\"#46039f\"],[0.2222222222222222,\"#7201a8\"],[0.3333333333333333,\"#9c179e\"],[0.4444444444444444,\"#bd3786\"],[0.5555555555555556,\"#d8576b\"],[0.6666666666666666,\"#ed7953\"],[0.7777777777777778,\"#fb9f3a\"],[0.8888888888888888,\"#fdca26\"],[1.0,\"#f0f921\"]],\"sequentialminus\":[[0.0,\"#0d0887\"],[0.1111111111111111,\"#46039f\"],[0.2222222222222222,\"#7201a8\"],[0.3333333333333333,\"#9c179e\"],[0.4444444444444444,\"#bd3786\"],[0.5555555555555556,\"#d8576b\"],[0.6666666666666666,\"#ed7953\"],[0.7777777777777778,\"#fb9f3a\"],[0.8888888888888888,\"#fdca26\"],[1.0,\"#f0f921\"]]},\"colorway\":[\"#636efa\",\"#EF553B\",\"#00cc96\",\"#ab63fa\",\"#FFA15A\",\"#19d3f3\",\"#FF6692\",\"#B6E880\",\"#FF97FF\",\"#FECB52\"],\"font\":{\"color\":\"#2a3f5f\"},\"geo\":{\"bgcolor\":\"white\",\"lakecolor\":\"white\",\"landcolor\":\"#E5ECF6\",\"showlakes\":true,\"showland\":true,\"subunitcolor\":\"white\"},\"hoverlabel\":{\"align\":\"left\"},\"hovermode\":\"closest\",\"mapbox\":{\"style\":\"light\"},\"paper_bgcolor\":\"white\",\"plot_bgcolor\":\"#E5ECF6\",\"polar\":{\"angularaxis\":{\"gridcolor\":\"white\",\"linecolor\":\"white\",\"ticks\":\"\"},\"bgcolor\":\"#E5ECF6\",\"radialaxis\":{\"gridcolor\":\"white\",\"linecolor\":\"white\",\"ticks\":\"\"}},\"scene\":{\"xaxis\":{\"backgroundcolor\":\"#E5ECF6\",\"gridcolor\":\"white\",\"gridwidth\":2,\"linecolor\":\"white\",\"showbackground\":true,\"ticks\":\"\",\"zerolinecolor\":\"white\"},\"yaxis\":{\"backgroundcolor\":\"#E5ECF6\",\"gridcolor\":\"white\",\"gridwidth\":2,\"linecolor\":\"white\",\"showbackground\":true,\"ticks\":\"\",\"zerolinecolor\":\"white\"},\"zaxis\":{\"backgroundcolor\":\"#E5ECF6\",\"gridcolor\":\"white\",\"gridwidth\":2,\"linecolor\":\"white\",\"showbackground\":true,\"ticks\":\"\",\"zerolinecolor\":\"white\"}},\"shapedefaults\":{\"line\":{\"color\":\"#2a3f5f\"}},\"ternary\":{\"aaxis\":{\"gridcolor\":\"white\",\"linecolor\":\"white\",\"ticks\":\"\"},\"baxis\":{\"gridcolor\":\"white\",\"linecolor\":\"white\",\"ticks\":\"\"},\"bgcolor\":\"#E5ECF6\",\"caxis\":{\"gridcolor\":\"white\",\"linecolor\":\"white\",\"ticks\":\"\"}},\"title\":{\"x\":0.05},\"xaxis\":{\"automargin\":true,\"gridcolor\":\"white\",\"linecolor\":\"white\",\"ticks\":\"\",\"title\":{\"standoff\":15},\"zerolinecolor\":\"white\",\"zerolinewidth\":2},\"yaxis\":{\"automargin\":true,\"gridcolor\":\"white\",\"linecolor\":\"white\",\"ticks\":\"\",\"title\":{\"standoff\":15},\"zerolinecolor\":\"white\",\"zerolinewidth\":2}}},\"title\":{\"text\":\"Target variable distribution\"}},                        {\"responsive\": true}                    ).then(function(){\n",
       "                            \n",
       "var gd = document.getElementById('6b9db310-72d8-47a7-b302-6f435cf8dc11');\n",
       "var x = new MutationObserver(function (mutations, observer) {{\n",
       "        var display = window.getComputedStyle(gd).display;\n",
       "        if (!display || display === 'none') {{\n",
       "            console.log([gd, 'removed!']);\n",
       "            Plotly.purge(gd);\n",
       "            observer.disconnect();\n",
       "        }}\n",
       "}});\n",
       "\n",
       "// Listen for the removal of the full notebook cells\n",
       "var notebookContainer = gd.closest('#notebook-container');\n",
       "if (notebookContainer) {{\n",
       "    x.observe(notebookContainer, {childList: true});\n",
       "}}\n",
       "\n",
       "// Listen for the clearing of the current output cell\n",
       "var outputEl = gd.closest('.output');\n",
       "if (outputEl) {{\n",
       "    x.observe(outputEl, {childList: true});\n",
       "}}\n",
       "\n",
       "                        })                };                });            </script>        </div>"
      ]
     },
     "metadata": {},
     "output_type": "display_data"
    }
   ],
   "source": [
    "# Target variable inspection\n",
    "\n",
    "data = [go.Bar(\n",
    "            x = train[\"target\"].value_counts().index.values,\n",
    "            y = train[\"target\"].value_counts().values,\n",
    "            text='Distribution of target variable'\n",
    "    )]\n",
    "\n",
    "layout = go.Layout(\n",
    "    title='Target variable distribution'\n",
    ")\n",
    "\n",
    "fig = go.Figure(data=data, layout=layout)\n",
    "\n",
    "py.iplot(fig, filename='basic-bar')"
   ]
  },
  {
   "cell_type": "markdown",
   "id": "fecbd382",
   "metadata": {},
   "source": [
    "--> Target variable is imbalanced"
   ]
  },
  {
   "cell_type": "code",
   "execution_count": 9,
   "id": "cf993cea",
   "metadata": {},
   "outputs": [
    {
     "data": {
      "text/plain": [
       "Counter({dtype('int64'): 49, dtype('float64'): 10})"
      ]
     },
     "execution_count": 9,
     "metadata": {},
     "output_type": "execute_result"
    }
   ],
   "source": [
    "# Datatype check\n",
    "Counter(train.dtypes.values)"
   ]
  },
  {
   "cell_type": "code",
   "execution_count": 10,
   "id": "3536ac81",
   "metadata": {},
   "outputs": [],
   "source": [
    "train_float = train.select_dtypes(include=['float64'])\n",
    "train_int = train.select_dtypes(include=['int64'])"
   ]
  },
  {
   "cell_type": "markdown",
   "id": "5928f92e",
   "metadata": {},
   "source": [
    "## Correlation plots"
   ]
  },
  {
   "cell_type": "code",
   "execution_count": 11,
   "id": "4bd85a5a",
   "metadata": {},
   "outputs": [
    {
     "data": {
      "text/plain": [
       "<Axes: title={'center': 'Pearson correlation of continuous features'}>"
      ]
     },
     "execution_count": 11,
     "metadata": {},
     "output_type": "execute_result"
    },
    {
     "data": {
      "image/png": "[encoded data removed]",
      "text/plain": [
       "<Figure size 1600x1200 with 2 Axes>"
      ]
     },
     "metadata": {},
     "output_type": "display_data"
    }
   ],
   "source": [
    "colormap = plt.cm.magma\n",
    "plt.figure(figsize=(16,12))\n",
    "plt.title('Pearson correlation of continuous features', y=1.05, size=15)\n",
    "sns.heatmap(train_float.corr(),linewidths=0.1,vmax=1.0, square=True, \n",
    "            cmap=colormap, linecolor='white', annot=True)"
   ]
  },
  {
   "cell_type": "code",
   "execution_count": 15,
   "id": "d753b30a",
   "metadata": {
    "scrolled": false
   },
   "outputs": [
    {
     "data": {
      "application/vnd.plotly.v1+json": {
       "config": {
        "plotlyServerURL": "https://plot.ly"
       },
       "data": [
        {
         "colorscale": [
          [
           0,
           "#440154"
          ],
          [
           0.1111111111111111,
           "#482878"
          ],
          [
           0.2222222222222222,
           "#3e4989"
          ],
          [
           0.3333333333333333,
           "#31688e"
          ],
          [
           0.4444444444444444,
           "#26828e"
          ],
          [
           0.5555555555555556,
           "#1f9e89"
          ],
          [
           0.6666666666666666,
           "#35b779"
          ],
          [
           0.7777777777777778,
           "#6ece58"
          ],
          [
           0.8888888888888888,
           "#b5de2b"
          ],
          [
           1,
           "#fde725"
          ]
         ],
         "hoverinfo": "text",
         "opacity": 1,
         "reversescale": false,
         "text": [
          [
           1,
           0,
           0,
           0,
           0,
           0,
           0,
           0,
           0,
           0,
           0,
           0,
           0,
           0,
           0,
           0,
           0,
           0,
           0,
           0,
           0,
           0,
           0,
           0,
           0,
           0,
           0,
           0,
           0,
           0,
           0,
           0,
           0,
           0,
           0,
           0,
           0,
           0,
           0,
           0,
           0,
           0,
           0,
           0,
           0,
           0,
           0,
           0,
           0
          ],
          [
           0,
           1,
           0.02,
           0,
           0.01,
           0.01,
           0.03,
           -0.03,
           0.03,
           0.01,
           -0.01,
           0,
           0,
           0.01,
           0,
           0.01,
           -0.02,
           -0.03,
           0.04,
           0,
           0.02,
           -0.03,
           0.03,
           0.03,
           0.02,
           0.01,
           -0.04,
           -0.02,
           0.01,
           0,
           0.01,
           0,
           0,
           0,
           0,
           0,
           0,
           0,
           0,
           0,
           0,
           0,
           0,
           0,
           0,
           0,
           0,
           0,
           0
          ],
          [
           0,
           0.02,
           1,
           0,
           0.22,
           0.07,
           0.01,
           -0.28,
           0.01,
           0.19,
           0.16,
           0,
           -0.02,
           -0.02,
           -0.01,
           -0.02,
           0.12,
           0.04,
           0.1,
           -0.11,
           -0.06,
           -0.12,
           0.04,
           0.08,
           0.21,
           0.07,
           0,
           0.14,
           -0.1,
           0.01,
           0.01,
           0.01,
           0,
           0,
           0,
           0,
           0,
           0,
           0,
           0,
           0,
           0,
           0,
           0,
           0,
           0,
           0,
           0,
           0
          ],
          [
           0,
           0,
           0,
           1,
           -0.06,
           0.15,
           -0.01,
           -0.13,
           0.02,
           0.03,
           0.11,
           0,
           0,
           0,
           0,
           0,
           0,
           0.01,
           -0.02,
           0,
           0,
           0.05,
           0,
           -0.07,
           -0.01,
           -0.02,
           -0.01,
           0,
           0.01,
           0.01,
           0.01,
           0.02,
           0,
           0,
           0,
           0,
           0,
           0,
           0,
           0,
           0,
           0,
           0,
           0,
           0,
           0,
           0,
           0,
           0
          ],
          [
           0,
           0.01,
           0.22,
           -0.06,
           1,
           -0.1,
           0.05,
           -0.05,
           -0.06,
           0.01,
           0.11,
           0.01,
           0,
           0,
           0,
           0,
           0.17,
           -0.02,
           0.03,
           0,
           -0.03,
           -0.04,
           0.1,
           0.07,
           0.14,
           0.01,
           0.06,
           0,
           -0.01,
           -0.01,
           -0.03,
           -0.06,
           0,
           0,
           0,
           0,
           0,
           0,
           0,
           0,
           0,
           0,
           0,
           0,
           0,
           0,
           0,
           0,
           0
          ],
          [
           0,
           0.01,
           0.07,
           0.15,
           -0.1,
           1,
           0.01,
           -0.3,
           0.3,
           0.04,
           -0.01,
           0,
           0,
           0,
           0,
           0,
           0.08,
           0.02,
           0.01,
           -0.03,
           0.03,
           0,
           0.02,
           -0.05,
           0.06,
           0.03,
           0.06,
           -0.01,
           -0.04,
           0.02,
           0,
           0.07,
           0,
           0,
           0,
           0,
           0,
           0,
           0,
           0,
           0,
           0,
           0,
           0,
           0,
           0,
           0,
           0,
           0
          ],
          [
           0,
           0.03,
           0.01,
           -0.01,
           0.05,
           0.01,
           1,
           0.01,
           -0.01,
           0,
           -0.01,
           0,
           0,
           0,
           0,
           0,
           0.01,
           0,
           0.01,
           -0.01,
           -0.04,
           0.01,
           -0.01,
           -0.01,
           -0.01,
           -0.01,
           0.05,
           0,
           -0.01,
           0,
           0,
           0,
           0,
           0,
           0,
           0,
           0,
           0,
           0,
           0,
           0,
           0,
           0,
           0,
           0,
           0,
           0,
           0,
           0
          ],
          [
           0,
           -0.03,
           -0.28,
           -0.13,
           -0.05,
           -0.3,
           0.01,
           1,
           -0.47,
           -0.36,
           -0.38,
           -0.01,
           -0.01,
           -0.02,
           -0.01,
           -0.02,
           0.02,
           0.03,
           -0.04,
           -0.01,
           -0.08,
           0.14,
           -0.08,
           -0.19,
           -0.16,
           -0.06,
           0.04,
           0.04,
           0.1,
           -0.04,
           -0.03,
           0.02,
           0,
           0,
           0,
           0,
           0,
           0,
           0,
           0,
           0,
           0,
           0,
           0,
           0,
           0,
           0,
           0,
           0
          ],
          [
           0,
           0.03,
           0.01,
           0.02,
           -0.06,
           0.3,
           -0.01,
           -0.47,
           1,
           -0.26,
           -0.28,
           0.01,
           0.01,
           0.04,
           0.01,
           0.04,
           -0.12,
           -0.07,
           0.02,
           0.08,
           0.06,
           -0.16,
           0.1,
           0.2,
           0.09,
           0.02,
           -0.06,
           -0.12,
           -0.06,
           0.03,
           0.05,
           0.07,
           0,
           0,
           0,
           0,
           0,
           0,
           0,
           0,
           0,
           0,
           0,
           0,
           0,
           0,
           0,
           0,
           0
          ],
          [
           0,
           0.01,
           0.19,
           0.03,
           0.01,
           0.04,
           0,
           -0.36,
           -0.26,
           1,
           -0.21,
           0.01,
           0.01,
           0.01,
           0.01,
           0.02,
           0.05,
           0.01,
           0.04,
           -0.03,
           0,
           -0.03,
           0.04,
           0.08,
           0.06,
           0.06,
           -0.01,
           0.04,
           -0.01,
           0.03,
           0.04,
           -0.08,
           0,
           0,
           0,
           0,
           0,
           0,
           0,
           0,
           0,
           0,
           0,
           0,
           0,
           0,
           0,
           0,
           0
          ],
          [
           0,
           -0.01,
           0.16,
           0.11,
           0.11,
           -0.01,
           -0.01,
           -0.38,
           -0.28,
           -0.21,
           1,
           -0.01,
           -0.01,
           -0.03,
           -0.01,
           -0.03,
           0.06,
           0.04,
           -0.01,
           -0.04,
           0.02,
           0.04,
           -0.05,
           -0.07,
           0.04,
           -0.01,
           0.03,
           0.05,
           -0.05,
           -0.01,
           -0.05,
           -0.02,
           0,
           0,
           0,
           0,
           0,
           0,
           0,
           0,
           0,
           0,
           0,
           0,
           0,
           0,
           0,
           0,
           0
          ],
          [
           0,
           0,
           0,
           0,
           0.01,
           0,
           0,
           -0.01,
           0.01,
           0.01,
           -0.01,
           1,
           0.06,
           0.1,
           0.08,
           0.27,
           -0.02,
           -0.02,
           0.01,
           0.03,
           0.01,
           -0.02,
           0.02,
           0.02,
           0.02,
           0,
           -0.02,
           0,
           0.01,
           0,
           0.01,
           0,
           0,
           0,
           0,
           0,
           0,
           0,
           0,
           0,
           0,
           0,
           0,
           0,
           0,
           0,
           0,
           0,
           0
          ],
          [
           0,
           0,
           -0.02,
           0,
           0,
           0,
           0,
           -0.01,
           0.01,
           0.01,
           -0.01,
           0.06,
           1,
           0.25,
           0.18,
           0.56,
           -0.06,
           -0.05,
           0,
           0.07,
           0,
           0,
           0.05,
           0.01,
           0.03,
           0,
           -0.02,
           0,
           0.02,
           0,
           0.01,
           0,
           0,
           0,
           0,
           0,
           0,
           0,
           0,
           0,
           0,
           0,
           0,
           0,
           0,
           0,
           0,
           0,
           0
          ],
          [
           0,
           0.01,
           -0.02,
           0,
           0,
           0,
           0,
           -0.02,
           0.04,
           0.01,
           -0.03,
           0.1,
           0.25,
           1,
           0.15,
           0.89,
           -0.12,
           -0.1,
           0.03,
           0.11,
           0.02,
           -0.02,
           0.12,
           0.03,
           0.07,
           0,
           -0.03,
           -0.01,
           0.04,
           -0.01,
           0.01,
           0,
           0,
           0,
           0,
           0,
           0,
           0,
           0,
           0,
           0,
           0,
           0,
           0,
           0,
           0,
           0,
           0,
           0
          ],
          [
           0,
           0,
           -0.01,
           0,
           0,
           0,
           0,
           -0.01,
           0.01,
           0.01,
           -0.01,
           0.08,
           0.18,
           0.15,
           1,
           0.43,
           -0.04,
           -0.04,
           0,
           0.05,
           0.01,
           -0.01,
           0.04,
           0.01,
           0.02,
           0,
           -0.02,
           -0.01,
           0.01,
           0,
           0,
           0,
           0,
           0,
           0,
           0,
           0,
           0,
           0,
           0,
           0,
           0,
           0,
           0,
           0,
           0,
           0,
           0,
           0
          ],
          [
           0,
           0.01,
           -0.02,
           0,
           0,
           0,
           0,
           -0.02,
           0.04,
           0.02,
           -0.03,
           0.27,
           0.56,
           0.89,
           0.43,
           1,
           -0.12,
           -0.11,
           0.02,
           0.12,
           0.02,
           -0.02,
           0.12,
           0.03,
           0.07,
           0.01,
           -0.04,
           -0.01,
           0.05,
           0,
           0.01,
           0,
           0,
           0,
           0,
           0,
           0,
           0,
           0,
           0,
           0,
           0,
           0,
           0,
           0,
           0,
           0,
           0,
           0
          ],
          [
           0,
           -0.02,
           0.12,
           0,
           0.17,
           0.08,
           0.01,
           0.02,
           -0.12,
           0.05,
           0.06,
           -0.02,
           -0.06,
           -0.12,
           -0.04,
           -0.12,
           1,
           0.31,
           -0.02,
           -0.45,
           0.03,
           0.01,
           0.07,
           -0.05,
           0.05,
           0,
           0.06,
           0.02,
           0.04,
           0.02,
           -0.01,
           0.02,
           0,
           0,
           0,
           0,
           0,
           0,
           0,
           0,
           0,
           0,
           0,
           0,
           0,
           0,
           0,
           0,
           0
          ],
          [
           0,
           -0.03,
           0.04,
           0.01,
           -0.02,
           0.02,
           0,
           0.03,
           -0.07,
           0.01,
           0.04,
           -0.02,
           -0.05,
           -0.1,
           -0.04,
           -0.11,
           0.31,
           1,
           -0.52,
           -0.59,
           0,
           0.03,
           -0.05,
           -0.04,
           -0.06,
           -0.02,
           0.04,
           0.03,
           0.02,
           0.01,
           -0.01,
           0.02,
           0,
           0,
           0,
           0,
           0,
           0,
           0,
           0,
           0,
           0,
           0,
           0,
           0,
           0,
           0,
           0,
           0
          ],
          [
           0,
           0.04,
           0.1,
           -0.02,
           0.03,
           0.01,
           0.01,
           -0.04,
           0.02,
           0.04,
           -0.01,
           0.01,
           0,
           0.03,
           0,
           0.02,
           -0.02,
           -0.52,
           1,
           -0.16,
           0.06,
           -0.06,
           0.14,
           0.04,
           0.07,
           0.03,
           -0.04,
           -0.01,
           0.08,
           -0.01,
           0.01,
           0.01,
           0,
           0,
           0,
           0,
           0,
           0,
           0,
           0,
           0,
           0,
           0,
           0,
           0,
           0,
           0,
           0,
           0
          ],
          [
           0,
           0,
           -0.11,
           0,
           0,
           -0.03,
           -0.01,
           -0.01,
           0.08,
           -0.03,
           -0.04,
           0.03,
           0.07,
           0.11,
           0.05,
           0.12,
           -0.45,
           -0.59,
           -0.16,
           1,
           -0.05,
           0.01,
           -0.04,
           0.02,
           0,
           -0.01,
           -0.02,
           -0.03,
           -0.04,
           0,
           0,
           -0.03,
           0,
           0,
           0,
           0,
           0,
           0,
           0,
           0,
           0,
           0,
           0,
           0,
           0,
           0,
           0,
           0,
           0
          ],
          [
           0,
           0.02,
           -0.06,
           0,
           -0.03,
           0.03,
           -0.04,
           -0.08,
           0.06,
           0,
           0.02,
           0.01,
           0,
           0.02,
           0.01,
           0.02,
           0.03,
           0,
           0.06,
           -0.05,
           1,
           -0.15,
           0.14,
           0.07,
           -0.15,
           0.05,
           0,
           -0.06,
           0.27,
           0.01,
           0.01,
           0.11,
           0,
           0,
           0,
           0,
           0,
           0,
           0,
           0,
           0,
           0,
           0,
           0,
           0,
           0,
           0,
           0,
           0
          ],
          [
           0,
           -0.03,
           -0.12,
           0.05,
           -0.04,
           0,
           0.01,
           0.14,
           -0.16,
           -0.03,
           0.04,
           -0.02,
           0,
           -0.02,
           -0.01,
           -0.02,
           0.01,
           0.03,
           -0.06,
           0.01,
           -0.15,
           1,
           -0.11,
           -0.27,
           -0.09,
           -0.25,
           0.1,
           0.04,
           -0.01,
           -0.02,
           0,
           -0.09,
           0,
           0,
           0,
           0,
           0,
           0,
           0,
           0,
           0,
           0,
           0,
           0,
           0,
           0,
           0,
           0,
           0
          ],
          [
           0,
           0.03,
           0.04,
           0,
           0.1,
           0.02,
           -0.01,
           -0.08,
           0.1,
           0.04,
           -0.05,
           0.02,
           0.05,
           0.12,
           0.04,
           0.12,
           0.07,
           -0.05,
           0.14,
           -0.04,
           0.14,
           -0.11,
           1,
           0.1,
           0.49,
           0.03,
           -0.15,
           -0.25,
           0.27,
           0.01,
           0.02,
           0.08,
           0,
           0,
           0,
           0,
           0,
           0,
           0,
           0,
           0,
           0,
           0,
           0,
           0,
           0,
           0,
           0,
           0
          ],
          [
           0,
           0.03,
           0.08,
           -0.07,
           0.07,
           -0.05,
           -0.01,
           -0.19,
           0.2,
           0.08,
           -0.07,
           0.02,
           0.01,
           0.03,
           0.01,
           0.03,
           -0.05,
           -0.04,
           0.04,
           0.02,
           0.07,
           -0.27,
           0.1,
           1,
           0.14,
           0.19,
           -0.18,
           -0.05,
           -0.04,
           0,
           0.07,
           -0.06,
           0,
           0,
           0,
           0,
           0,
           0,
           0,
           0,
           0,
           0,
           0,
           0,
           0,
           0,
           0,
           0,
           0
          ],
          [
           0,
           0.02,
           0.21,
           -0.01,
           0.14,
           0.06,
           -0.01,
           -0.16,
           0.09,
           0.06,
           0.04,
           0.02,
           0.03,
           0.07,
           0.02,
           0.07,
           0.05,
           -0.06,
           0.07,
           0,
           -0.15,
           -0.09,
           0.49,
           0.14,
           1,
           0.06,
           -0.08,
           -0.04,
           -0.33,
           0.02,
           0.04,
           -0.08,
           0,
           0,
           0,
           0,
           0,
           0,
           0,
           0,
           0,
           0,
           0,
           0,
           0,
           0,
           0,
           0,
           0
          ],
          [
           0,
           0.01,
           0.07,
           -0.02,
           0.01,
           0.03,
           -0.01,
           -0.06,
           0.02,
           0.06,
           -0.01,
           0,
           0,
           0,
           0,
           0.01,
           0,
           -0.02,
           0.03,
           -0.01,
           0.05,
           -0.25,
           0.03,
           0.19,
           0.06,
           1,
           -0.03,
           -0.01,
           0,
           0,
           0.03,
           -0.03,
           0,
           0,
           0,
           0,
           0,
           0,
           0,
           0,
           0,
           0,
           0,
           0,
           0,
           0,
           0,
           0,
           0
          ],
          [
           0,
           -0.04,
           0,
           -0.01,
           0.06,
           0.06,
           0.05,
           0.04,
           -0.06,
           -0.01,
           0.03,
           -0.02,
           -0.02,
           -0.03,
           -0.02,
           -0.04,
           0.06,
           0.04,
           -0.04,
           -0.02,
           0,
           0.1,
           -0.15,
           -0.18,
           -0.08,
           -0.03,
           1,
           0.06,
           -0.04,
           0,
           -0.08,
           0.06,
           0,
           0,
           0,
           0,
           0,
           0,
           0,
           0,
           0,
           0,
           0,
           0,
           0,
           0,
           0,
           0,
           0
          ],
          [
           0,
           -0.02,
           0.14,
           0,
           0,
           -0.01,
           0,
           0.04,
           -0.12,
           0.04,
           0.05,
           0,
           0,
           -0.01,
           -0.01,
           -0.01,
           0.02,
           0.03,
           -0.01,
           -0.03,
           -0.06,
           0.04,
           -0.25,
           -0.05,
           -0.04,
           -0.01,
           0.06,
           1,
           -0.02,
           -0.03,
           0.03,
           -0.04,
           0,
           0,
           0,
           0,
           0,
           0,
           0,
           0,
           0,
           0,
           0,
           0,
           0,
           0,
           0,
           0,
           0
          ],
          [
           0,
           0.01,
           -0.1,
           0.01,
           -0.01,
           -0.04,
           -0.01,
           0.1,
           -0.06,
           -0.01,
           -0.05,
           0.01,
           0.02,
           0.04,
           0.01,
           0.05,
           0.04,
           0.02,
           0.08,
           -0.04,
           0.27,
           -0.01,
           0.27,
           -0.04,
           -0.33,
           0,
           -0.04,
           -0.02,
           1,
           -0.02,
           -0.01,
           0.12,
           0,
           0,
           0,
           0,
           0,
           0,
           0,
           0,
           0,
           0,
           0,
           0,
           0,
           0,
           0,
           0,
           0
          ],
          [
           0,
           0,
           0.01,
           0.01,
           -0.01,
           0.02,
           0,
           -0.04,
           0.03,
           0.03,
           -0.01,
           0,
           0,
           -0.01,
           0,
           0,
           0.02,
           0.01,
           -0.01,
           0,
           0.01,
           -0.02,
           0.01,
           0,
           0.02,
           0,
           0,
           -0.03,
           -0.02,
           1,
           0,
           0.01,
           0,
           0,
           0,
           0,
           0,
           0,
           0,
           0,
           0,
           0,
           0,
           0,
           0,
           0,
           0,
           0,
           0
          ],
          [
           0,
           0.01,
           0.01,
           0.01,
           -0.03,
           0,
           0,
           -0.03,
           0.05,
           0.04,
           -0.05,
           0.01,
           0.01,
           0.01,
           0,
           0.01,
           -0.01,
           -0.01,
           0.01,
           0,
           0.01,
           0,
           0.02,
           0.07,
           0.04,
           0.03,
           -0.08,
           0.03,
           -0.01,
           0,
           1,
           -0.05,
           0,
           0,
           0,
           0,
           0,
           0,
           0,
           0,
           0,
           0,
           0,
           0,
           0,
           0,
           0,
           0,
           0
          ],
          [
           0,
           0,
           0.01,
           0.02,
           -0.06,
           0.07,
           0,
           0.02,
           0.07,
           -0.08,
           -0.02,
           0,
           0,
           0,
           0,
           0,
           0.02,
           0.02,
           0.01,
           -0.03,
           0.11,
           -0.09,
           0.08,
           -0.06,
           -0.08,
           -0.03,
           0.06,
           -0.04,
           0.12,
           0.01,
           -0.05,
           1,
           0,
           0,
           0,
           0,
           0,
           0,
           0,
           0,
           0,
           0,
           0,
           0,
           0,
           0,
           0,
           0,
           0
          ],
          [
           0,
           0,
           0,
           0,
           0,
           0,
           0,
           0,
           0,
           0,
           0,
           0,
           0,
           0,
           0,
           0,
           0,
           0,
           0,
           0,
           0,
           0,
           0,
           0,
           0,
           0,
           0,
           0,
           0,
           0,
           0,
           0,
           1,
           0,
           0,
           0,
           0,
           0,
           0,
           0,
           0,
           0,
           0,
           0,
           0,
           0,
           0,
           0,
           0
          ],
          [
           0,
           0,
           0,
           0,
           0,
           0,
           0,
           0,
           0,
           0,
           0,
           0,
           0,
           0,
           0,
           0,
           0,
           0,
           0,
           0,
           0,
           0,
           0,
           0,
           0,
           0,
           0,
           0,
           0,
           0,
           0,
           0,
           0,
           1,
           0,
           0,
           0,
           0,
           0,
           0,
           0,
           0,
           0,
           0,
           0,
           0,
           0,
           0,
           0
          ],
          [
           0,
           0,
           0,
           0,
           0,
           0,
           0,
           0,
           0,
           0,
           0,
           0,
           0,
           0,
           0,
           0,
           0,
           0,
           0,
           0,
           0,
           0,
           0,
           0,
           0,
           0,
           0,
           0,
           0,
           0,
           0,
           0,
           0,
           0,
           1,
           0,
           0,
           0,
           0,
           0,
           0,
           0,
           0,
           0,
           0,
           0,
           0,
           0,
           0
          ],
          [
           0,
           0,
           0,
           0,
           0,
           0,
           0,
           0,
           0,
           0,
           0,
           0,
           0,
           0,
           0,
           0,
           0,
           0,
           0,
           0,
           0,
           0,
           0,
           0,
           0,
           0,
           0,
           0,
           0,
           0,
           0,
           0,
           0,
           0,
           0,
           1,
           0,
           0,
           0,
           0,
           0,
           0,
           0,
           0,
           0,
           0,
           0,
           0,
           0
          ],
          [
           0,
           0,
           0,
           0,
           0,
           0,
           0,
           0,
           0,
           0,
           0,
           0,
           0,
           0,
           0,
           0,
           0,
           0,
           0,
           0,
           0,
           0,
           0,
           0,
           0,
           0,
           0,
           0,
           0,
           0,
           0,
           0,
           0,
           0,
           0,
           0,
           1,
           0,
           0,
           0,
           0,
           0,
           0,
           0,
           0,
           0,
           0,
           0,
           0
          ],
          [
           0,
           0,
           0,
           0,
           0,
           0,
           0,
           0,
           0,
           0,
           0,
           0,
           0,
           0,
           0,
           0,
           0,
           0,
           0,
           0,
           0,
           0,
           0,
           0,
           0,
           0,
           0,
           0,
           0,
           0,
           0,
           0,
           0,
           0,
           0,
           0,
           0,
           1,
           0,
           0,
           0,
           0,
           0,
           0,
           0,
           0,
           0,
           0,
           0
          ],
          [
           0,
           0,
           0,
           0,
           0,
           0,
           0,
           0,
           0,
           0,
           0,
           0,
           0,
           0,
           0,
           0,
           0,
           0,
           0,
           0,
           0,
           0,
           0,
           0,
           0,
           0,
           0,
           0,
           0,
           0,
           0,
           0,
           0,
           0,
           0,
           0,
           0,
           0,
           1,
           0,
           0,
           0,
           0,
           0,
           0,
           0,
           0,
           0,
           0
          ],
          [
           0,
           0,
           0,
           0,
           0,
           0,
           0,
           0,
           0,
           0,
           0,
           0,
           0,
           0,
           0,
           0,
           0,
           0,
           0,
           0,
           0,
           0,
           0,
           0,
           0,
           0,
           0,
           0,
           0,
           0,
           0,
           0,
           0,
           0,
           0,
           0,
           0,
           0,
           0,
           1,
           0,
           0,
           0,
           0,
           0,
           0,
           0,
           0,
           0
          ],
          [
           0,
           0,
           0,
           0,
           0,
           0,
           0,
           0,
           0,
           0,
           0,
           0,
           0,
           0,
           0,
           0,
           0,
           0,
           0,
           0,
           0,
           0,
           0,
           0,
           0,
           0,
           0,
           0,
           0,
           0,
           0,
           0,
           0,
           0,
           0,
           0,
           0,
           0,
           0,
           0,
           1,
           0,
           0,
           0,
           0,
           0,
           0,
           0,
           0
          ],
          [
           0,
           0,
           0,
           0,
           0,
           0,
           0,
           0,
           0,
           0,
           0,
           0,
           0,
           0,
           0,
           0,
           0,
           0,
           0,
           0,
           0,
           0,
           0,
           0,
           0,
           0,
           0,
           0,
           0,
           0,
           0,
           0,
           0,
           0,
           0,
           0,
           0,
           0,
           0,
           0,
           0,
           1,
           0,
           0,
           0,
           0,
           0,
           0,
           0
          ],
          [
           0,
           0,
           0,
           0,
           0,
           0,
           0,
           0,
           0,
           0,
           0,
           0,
           0,
           0,
           0,
           0,
           0,
           0,
           0,
           0,
           0,
           0,
           0,
           0,
           0,
           0,
           0,
           0,
           0,
           0,
           0,
           0,
           0,
           0,
           0,
           0,
           0,
           0,
           0,
           0,
           0,
           0,
           1,
           0,
           0,
           0,
           0,
           0,
           0
          ],
          [
           0,
           0,
           0,
           0,
           0,
           0,
           0,
           0,
           0,
           0,
           0,
           0,
           0,
           0,
           0,
           0,
           0,
           0,
           0,
           0,
           0,
           0,
           0,
           0,
           0,
           0,
           0,
           0,
           0,
           0,
           0,
           0,
           0,
           0,
           0,
           0,
           0,
           0,
           0,
           0,
           0,
           0,
           0,
           1,
           0,
           0,
           0,
           0,
           0
          ],
          [
           0,
           0,
           0,
           0,
           0,
           0,
           0,
           0,
           0,
           0,
           0,
           0,
           0,
           0,
           0,
           0,
           0,
           0,
           0,
           0,
           0,
           0,
           0,
           0,
           0,
           0,
           0,
           0,
           0,
           0,
           0,
           0,
           0,
           0,
           0,
           0,
           0,
           0,
           0,
           0,
           0,
           0,
           0,
           0,
           1,
           0,
           0,
           0,
           0
          ],
          [
           0,
           0,
           0,
           0,
           0,
           0,
           0,
           0,
           0,
           0,
           0,
           0,
           0,
           0,
           0,
           0,
           0,
           0,
           0,
           0,
           0,
           0,
           0,
           0,
           0,
           0,
           0,
           0,
           0,
           0,
           0,
           0,
           0,
           0,
           0,
           0,
           0,
           0,
           0,
           0,
           0,
           0,
           0,
           0,
           0,
           1,
           0,
           0,
           0
          ],
          [
           0,
           0,
           0,
           0,
           0,
           0,
           0,
           0,
           0,
           0,
           0,
           0,
           0,
           0,
           0,
           0,
           0,
           0,
           0,
           0,
           0,
           0,
           0,
           0,
           0,
           0,
           0,
           0,
           0,
           0,
           0,
           0,
           0,
           0,
           0,
           0,
           0,
           0,
           0,
           0,
           0,
           0,
           0,
           0,
           0,
           0,
           1,
           0,
           0
          ],
          [
           0,
           0,
           0,
           0,
           0,
           0,
           0,
           0,
           0,
           0,
           0,
           0,
           0,
           0,
           0,
           0,
           0,
           0,
           0,
           0,
           0,
           0,
           0,
           0,
           0,
           0,
           0,
           0,
           0,
           0,
           0,
           0,
           0,
           0,
           0,
           0,
           0,
           0,
           0,
           0,
           0,
           0,
           0,
           0,
           0,
           0,
           0,
           1,
           0
          ],
          [
           0,
           0,
           0,
           0,
           0,
           0,
           0,
           0,
           0,
           0,
           0,
           0,
           0,
           0,
           0,
           0,
           0,
           0,
           0,
           0,
           0,
           0,
           0,
           0,
           0,
           0,
           0,
           0,
           0,
           0,
           0,
           0,
           0,
           0,
           0,
           0,
           0,
           0,
           0,
           0,
           0,
           0,
           0,
           0,
           0,
           0,
           0,
           0,
           1
          ]
         ],
         "texttemplate": "%{text}",
         "type": "heatmap",
         "x": [
          "id",
          "target",
          "ps_ind_01",
          "ps_ind_02_cat",
          "ps_ind_03",
          "ps_ind_04_cat",
          "ps_ind_05_cat",
          "ps_ind_06_bin",
          "ps_ind_07_bin",
          "ps_ind_08_bin",
          "ps_ind_09_bin",
          "ps_ind_10_bin",
          "ps_ind_11_bin",
          "ps_ind_12_bin",
          "ps_ind_13_bin",
          "ps_ind_14",
          "ps_ind_15",
          "ps_ind_16_bin",
          "ps_ind_17_bin",
          "ps_ind_18_bin",
          "ps_car_01_cat",
          "ps_car_02_cat",
          "ps_car_03_cat",
          "ps_car_04_cat",
          "ps_car_05_cat",
          "ps_car_06_cat",
          "ps_car_07_cat",
          "ps_car_08_cat",
          "ps_car_09_cat",
          "ps_car_10_cat",
          "ps_car_11_cat",
          "ps_car_11",
          "ps_calc_04",
          "ps_calc_05",
          "ps_calc_06",
          "ps_calc_07",
          "ps_calc_08",
          "ps_calc_09",
          "ps_calc_10",
          "ps_calc_11",
          "ps_calc_12",
          "ps_calc_13",
          "ps_calc_14",
          "ps_calc_15_bin",
          "ps_calc_16_bin",
          "ps_calc_17_bin",
          "ps_calc_18_bin",
          "ps_calc_19_bin",
          "ps_calc_20_bin"
         ],
         "y": [
          "id",
          "target",
          "ps_ind_01",
          "ps_ind_02_cat",
          "ps_ind_03",
          "ps_ind_04_cat",
          "ps_ind_05_cat",
          "ps_ind_06_bin",
          "ps_ind_07_bin",
          "ps_ind_08_bin",
          "ps_ind_09_bin",
          "ps_ind_10_bin",
          "ps_ind_11_bin",
          "ps_ind_12_bin",
          "ps_ind_13_bin",
          "ps_ind_14",
          "ps_ind_15",
          "ps_ind_16_bin",
          "ps_ind_17_bin",
          "ps_ind_18_bin",
          "ps_car_01_cat",
          "ps_car_02_cat",
          "ps_car_03_cat",
          "ps_car_04_cat",
          "ps_car_05_cat",
          "ps_car_06_cat",
          "ps_car_07_cat",
          "ps_car_08_cat",
          "ps_car_09_cat",
          "ps_car_10_cat",
          "ps_car_11_cat",
          "ps_car_11",
          "ps_calc_04",
          "ps_calc_05",
          "ps_calc_06",
          "ps_calc_07",
          "ps_calc_08",
          "ps_calc_09",
          "ps_calc_10",
          "ps_calc_11",
          "ps_calc_12",
          "ps_calc_13",
          "ps_calc_14",
          "ps_calc_15_bin",
          "ps_calc_16_bin",
          "ps_calc_17_bin",
          "ps_calc_18_bin",
          "ps_calc_19_bin",
          "ps_calc_20_bin"
         ],
         "z": [
          [
           1,
           -0.0001884755338288383,
           0.0008258854725724172,
           0.0016461276514639553,
           -0.0013074125556909262,
           0.00016792048870329664,
           2.1710319687916236e-05,
           -9.329673377344631e-05,
           0.0024732074670058657,
           -0.0004789319909379189,
           -0.0022079889976748847,
           -0.001261285057608431,
           -0.001209804426143133,
           -0.00017701120228206775,
           -0.00171782194514709,
           -0.001129352797085879,
           -0.0019349923253095893,
           -0.0005004384418481046,
           0.0013438936799833007,
           0.0008157280242293044,
           -0.0010523840432400244,
           -0.00040334494637156123,
           0.0003544609372827387,
           0.0023098896739933185,
           -0.000849736431956908,
           -0.001009689376092864,
           -0.002955581809407196,
           0.000747596138335548,
           0.0004940853380070141,
           -0.0009282837448050636,
           0.0020474413080605962,
           0.0026413932462155836,
           0.003638317961209957,
           -0.0005915908500661402,
           0.0009574769937881945,
           0.000788244791080896,
           0.0008356128476278185,
           0.000517634198857776,
           0.0009805335540469472,
           -0.0012488250195918634,
           -0.0010934546530964769,
           -0.00015701023640565527,
           0.0016094238248077987,
           -0.0012272973917304818,
           -0.0014120059005200407,
           -0.0012665829156959406,
           -0.0013870124895141488,
           0.00019422494950413398,
           -0.0012665168671921255
          ],
          [
           -0.0001884755338288383,
           1,
           0.018570258657506538,
           0.004533831368498164,
           0.008359590302657094,
           0.009360445255589961,
           0.029164946850886338,
           -0.034016869703788775,
           0.03421807451412261,
           0.013146978438726139,
           -0.008236815985582988,
           0.001814779696589811,
           0.0020281711723569617,
           0.007810308443393542,
           0.0024602908319340294,
           0.007442830964742973,
           -0.02150622168793432,
           -0.027778075788542755,
           0.03705260633585501,
           0.004555455715152846,
           0.016255693742637675,
           -0.03153359612457286,
           0.0324009706942751,
           0.03289987494012053,
           0.020754434132826762,
           0.01153665995572638,
           -0.03639522258780317,
           -0.02034193348598006,
           0.00532249490929187,
           0.0010382993212007291,
           0.006128798326757132,
           -0.0012133568962176685,
           3.272045510020569e-05,
           0.0007708801365326372,
           8.182225978076095e-05,
           -0.00010347690485278838,
           -0.0010058548384191365,
           0.0007189675843641514,
           0.0010608340444789091,
           0.00037143739489093653,
           -0.0011325853981362542,
           -0.0004464645318087176,
           0.0013622753431191599,
           -0.0004904242506719319,
           0.0006238280115020953,
           -0.00017012817365768857,
           0.0005524351996118702,
           -0.0017438319546571666,
           -0.001072228427539796
          ],
          [
           0.0008258854725724172,
           0.018570258657506538,
           1,
           -0.0017931329140775858,
           0.22340759382986836,
           0.06664546508353125,
           0.014822561201261051,
           -0.2774576841580808,
           0.005699693657956377,
           0.18858311700154065,
           0.16279998618735889,
           0.0018472289098374261,
           -0.01672658784345133,
           -0.02340598033751752,
           -0.008775500240628929,
           -0.02497119706382019,
           0.12213672531018312,
           0.03689566374827917,
           0.10125709413323761,
           -0.11222626697683723,
           -0.0561209602307356,
           -0.11698664679201748,
           0.043755960500296565,
           0.07904155054775971,
           0.21300928032912675,
           0.07019202187337273,
           -0.0006393452905868203,
           0.13811162890080814,
           -0.10258232980421053,
           0.010793696829651062,
           0.008187861301734243,
           0.00825152755479824,
           -0.0009430787753138506,
           -0.0011711899555747133,
           0.00014683213520088004,
           -0.0006583998180255268,
           0.0029928067889171016,
           -8.533923304090449e-05,
           -0.0013449818796920157,
           -0.0012629092646128898,
           0.0015206567146658393,
           0.00019895341092257077,
           -0.0008910685014910411,
           -0.0003967902124261874,
           -1.1545248111392002e-05,
           -0.0008675973201928202,
           -0.0015035875469012936,
           -0.00016221628124592083,
           -0.0014640083176233343
          ],
          [
           0.0016461276514639553,
           0.004533831368498164,
           -0.0017931329140775858,
           1,
           -0.0611891464957711,
           0.14710969879178074,
           -0.014859825528708296,
           -0.12565283345802727,
           0.016398444130573675,
           0.030944960292278275,
           0.11007582271762954,
           -0.0007443279033836949,
           0.0007716519259243577,
           -0.0046155107358399755,
           -0.001186730807908905,
           -0.0036493908922690076,
           -0.0038542040298691813,
           0.012682148590420267,
           -0.018727145555724942,
           -0.00037394015904443833,
           0.0021485024537498927,
           0.04523308396698348,
           -0.0025317202816092367,
           -0.07218977632989523,
           -0.008406520927741018,
           -0.017300912306375114,
           -0.011780550385044157,
           0.0015257604786327657,
           0.009434534021788734,
           0.011401456422615558,
           0.0149551958066065,
           0.01994883319025325,
           -0.0021110487327914477,
           -0.0015478301217311011,
           8.5486892302804e-05,
           -0.0001717325146889939,
           -0.0027117639544354463,
           0.00035567580972401897,
           -2.5425203495043307e-05,
           3.793867444664083e-05,
           -0.0008836458794260855,
           -0.0008928474834448329,
           -0.0005185257387862086,
           -0.00010916394352744455,
           0.0009195635201452114,
           0.0005472321892405302,
           0.0008240709263778082,
           0.0003668294896141763,
           -0.0020700765230598018
          ],
          [
           -0.0013074125556909262,
           0.008359590302657094,
           0.22340759382986836,
           -0.0611891464957711,
           1,
           -0.09585556869304387,
           0.053250054414459055,
           -0.04515789199467839,
           -0.06036790395731471,
           0.014036610712041096,
           0.11130640018521888,
           0.0068651231906423586,
           -0.003986479232333661,
           0.0016976891777327832,
           0.0039286265139032986,
           0.001989546060495524,
           0.17044861491667548,
           -0.01825125801526538,
           0.027691181225138053,
           0.0013157749639168682,
           -0.02851989122870297,
           -0.044906741487120636,
           0.09565776668522324,
           0.07298961054229083,
           0.14359654865840232,
           0.008021293226146338,
           0.05633693325166973,
           0.0036071551143762332,
           -0.013205469282503674,
           -0.00856095402163958,
           -0.02596590172880744,
           -0.05935778461153133,
           0.0007029223319983085,
           -0.001244839816125987,
           0.002361497957557464,
           0.0015325306198597174,
           0.001266664959910304,
           -0.0015441777405826881,
           0.0002302873383735821,
           -0.002715541881139927,
           -0.0023523333669990413,
           0.00013288787890949617,
           0.00020474960687077618,
           0.0001344327694191162,
           -0.0007442327813944085,
           0.00015773156327420203,
           -0.00021792732130746943,
           -0.0008816797556198123,
           -0.0037094085792765473
          ],
          [
           0.00016792048870329664,
           0.009360445255589961,
           0.06664546508353125,
           0.14710969879178074,
           -0.09585556869304387,
           1,
           0.013052691401692343,
           -0.2977366046477,
           0.3049493783334565,
           0.04497847332634308,
           -0.011441657815258351,
           0.0007887076973389002,
           0.0010183114528574848,
           -0.0012169376250814317,
           -0.0008934939930098886,
           -0.0006905936003553219,
           0.07707144391312327,
           0.017497056768121463,
           0.007830396023881588,
           -0.02579748587387641,
           0.029379371951095242,
           0.0031621098779648837,
           0.022744376399026083,
           -0.045361298018329506,
           0.06339932427116321,
           0.02532361532099993,
           0.06465523285480475,
           -0.00814754846801752,
           -0.041983012535977984,
           0.023010432833949015,
           -0.0006146254081094969,
           0.07348633332430107,
           0.0008255181087075637,
           0.00102779887307973,
           0.0026258399586143026,
           -0.00015073832344163947,
           -0.002775545029613311,
           0.00048656988775537416,
           0.00012727421795224848,
           -0.002000831238553817,
           -0.0008139493139821699,
           0.00028340525814097423,
           0.0015645496382111176,
           0.0027346762054245234,
           0.002295346203964963,
           0.0007734421027413759,
           0.000915879223072468,
           -0.0019656334704160343,
           0.001243938381928249
          ],
          [
           2.1710319687916236e-05,
           0.029164946850886338,
           0.014822561201261051,
           -0.014859825528708296,
           0.053250054414459055,
           0.013052691401692343,
           1,
           0.009618800838443476,
           -0.010382188667300007,
           0.00488074762359822,
           -0.005068731202141701,
           0.001742475414532641,
           -0.0006363666372238363,
           -0.0018312404405461142,
           0.0013128732605405663,
           -0.0010128313488101442,
           0.012326335746025272,
           0.004314899698054171,
           0.0071627770677622415,
           -0.00825231441491653,
           -0.03621285304102291,
           0.012878919847941922,
           -0.011398778782571816,
           -0.010873195216114831,
           -0.0065616085500076905,
           -0.0072299632053995835,
           0.05377652521320649,
           -0.002083953743338256,
           -0.008333774284921065,
           0.002168074446652442,
           -0.002249565476062128,
           0.0010755447570799223,
           0.0012916973382756942,
           -0.0006420444921112522,
           -0.00024941758434445974,
           -0.0019023900274815798,
           -0.00014490361613131238,
           -0.0008217959389452768,
           -0.001069872950916885,
           -0.0015247002980472155,
           0.0009753755080751554,
           0.0015491569671870185,
           0.002170835213002717,
           0.0015480474512491568,
           -0.0003682362393573739,
           0.00015309117899007504,
           3.16867841485481e-05,
           0.00027647817624187415,
           0.00027869054705160953
          ],
          [
           -9.329673377344631e-05,
           -0.034016869703788775,
           -0.2774576841580808,
           -0.12565283345802727,
           -0.04515789199467839,
           -0.2977366046477,
           0.009618800838443476,
           1,
           -0.47400904185590065,
           -0.35683833274578663,
           -0.3843451401407789,
           -0.008977535013244928,
           -0.005229382248971488,
           -0.017498505238443797,
           -0.008390064166738216,
           -0.018333861999931114,
           0.016406205154351226,
           0.028352083532137747,
           -0.037121073674995474,
           -0.011750963576176814,
           -0.07554574375145577,
           0.13638274599348735,
           -0.07572310218075866,
           -0.18701667626422971,
           -0.16489012332440903,
           -0.059887308797517635,
           0.038993680731001304,
           0.03831307031695164,
           0.09918393763824075,
           -0.04105681120507274,
           -0.03129622770644699,
           0.01961761811645961,
           -0.0004089715175719997,
           -0.0005006935696663864,
           -0.0014131826801772143,
           -0.0015526558607739192,
           -0.0011636516201258267,
           -0.0019551101160042526,
           -0.0011970978269563919,
           0.0008220026165316575,
           0.0013465275777943134,
           -0.001301118699859182,
           0.00030393290259253964,
           0.0020878603119079196,
           -0.00038145116468304047,
           -1.255559509124731e-06,
           -0.0007593038072495968,
           0.002790733141214443,
           0.00020310560100537877
          ],
          [
           0.0024732074670058657,
           0.03421807451412261,
           0.005699693657956377,
           0.016398444130573675,
           -0.06036790395731471,
           0.3049493783334565,
           -0.010382188667300007,
           -0.47400904185590065,
           1,
           -0.2604376422119483,
           -0.28051342276950764,
           0.01073965266284274,
           0.010118980387019562,
           0.03661915640731902,
           0.012124758822770549,
           0.035572641614943196,
           -0.1207286794068783,
           -0.07232059014992272,
           0.02077615194714268,
           0.07656187216203819,
           0.06206386799788504,
           -0.16260101236003363,
           0.09648343943349459,
           0.1997016120913101,
           0.09210731694598845,
           0.02101255069052145,
           -0.06470797501921201,
           -0.12382519653908652,
           -0.059229317322167185,
           0.030556162897126253,
           0.047940110791918664,
           0.06745692509835806,
           0.00047048055180615476,
           -0.00020263779193792312,
           0.0022574679719714586,
           -0.0007715341800744993,
           -0.0014167211446870249,
           0.003103402535596244,
           0.0027643720885982513,
           -0.0004476413449922477,
           -0.0010438535583305213,
           0.0005412369024749208,
           0.0016655249364763661,
           0.000574974650344997,
           0.0012197619159721727,
           -0.0005167363145836906,
           0.0001814801090777136,
           -0.0013611791678382681,
           -0.0009608000950925175
          ],
          [
           -0.0004789319909379189,
           0.013146978438726139,
           0.18858311700154065,
           0.030944960292278275,
           0.014036610712041096,
           0.04497847332634308,
           0.00488074762359822,
           -0.35683833274578663,
           -0.2604376422119483,
           1,
           -0.2111730647625729,
           0.006489106788122909,
           0.010041261161282752,
           0.012254073500153409,
           0.007898322664249516,
           0.015413123032177489,
           0.05277557417447597,
           0.00585490555536978,
           0.03603562289265077,
           -0.03327254465431105,
           0.0009741110543532934,
           -0.029988616804806738,
           0.0384624296317755,
           0.08495716267080045,
           0.06388874607199731,
           0.0633731246240447,
           -0.010976242373907898,
           0.0427922674881171,
           -0.010920062706482346,
           0.02532753797438492,
           0.041371476934295826,
           -0.08219336872997224,
           -0.0008862921614318208,
           0.0006032890364046533,
           0.001248981784611182,
           0.0015137952726527217,
           0.0008268945510473196,
           -0.001171371983028529,
           -0.0010929434068361506,
           -0.0006318117597186015,
           -0.0012414424693482787,
           -0.0004320285599226008,
           -0.0019591595357161817,
           -0.002782301006902695,
           -0.002047724572754881,
           -0.0005794594623613985,
           -6.765604151575381e-05,
           -0.0009190393767006686,
           0.0009953591808107966
          ],
          [
           -0.0022079889976748847,
           -0.008236815985582988,
           0.16279998618735889,
           0.11007582271762954,
           0.11130640018521888,
           -0.011441657815258351,
           -0.005068731202141701,
           -0.3843451401407789,
           -0.28051342276950764,
           -0.2111730647625729,
           1,
           -0.006972868230142465,
           -0.014372442368659335,
           -0.03085777558224147,
           -0.01061212790836212,
           -0.03164026527129087,
           0.06486960724122333,
           0.040109224304663585,
           -0.011023469836738856,
           -0.03963118000022888,
           0.024264102635430718,
           0.03995547974899175,
           -0.04994363372858589,
           -0.07038654070759681,
           0.04287613348604071,
           -0.00870884054297036,
           0.034202576735924584,
           0.050317329443875236,
           -0.04769976109596489,
           -0.00687141523914032,
           -0.053983464789054705,
           -0.0222238396339445,
           0.0008295720883777972,
           0.0002826974574493145,
           -0.0019519948882590731,
           0.001377811100217235,
           0.0022687777239878727,
           8.414159278315854e-05,
           -0.0005624466536854753,
           7.18183078842017e-05,
           0.0006636678133101185,
           0.0014390105937547816,
           -0.0003887243838992523,
           -0.0006211068335258212,
           0.0010588568857560093,
           0.0011348640561092095,
           0.0008151460825754969,
           -0.0011026523735666325,
           -0.00012315711435226232
          ],
          [
           -0.001261285057608431,
           0.001814779696589811,
           0.0018472289098374261,
           -0.0007443279033836949,
           0.0068651231906423586,
           0.0007887076973389002,
           0.001742475414532641,
           -0.008977535013244928,
           0.01073965266284274,
           0.006489106788122909,
           -0.006972868230142465,
           1,
           0.06483734787255138,
           0.09799846252846069,
           0.08141549712952234,
           0.26621523092448607,
           -0.02212232089072219,
           -0.024021375653731417,
           0.0053664016193870736,
           0.027264135678883677,
           0.007989028500674941,
           -0.015804418556358685,
           0.02483327179444574,
           0.016566215782234283,
           0.015251836567305199,
           0.004487183793875702,
           -0.017804258593691943,
           -0.0036596207024452384,
           0.008266440956512609,
           0.0007083813828402775,
           0.00590949165879686,
           0.0025262371890389795,
           3.100019801776669e-05,
           0.0013288695124036793,
           -0.002677298661139918,
           0.0012737060249414802,
           0.0014216349339402805,
           0.0028423829821193005,
           -0.0003671698201874054,
           -0.0023492443946824416,
           0.0013666102034255408,
           0.0019688755961176354,
           0.0002323981255301201,
           -0.0032329018832703707,
           0.001011523041551477,
           0.0003451145587064038,
           0.00023955239726456662,
           0.0015546541592544056,
           -0.0033898188648503517
          ],
          [
           -0.001209804426143133,
           0.0020281711723569617,
           -0.01672658784345133,
           0.0007716519259243577,
           -0.003986479232333661,
           0.0010183114528574848,
           -0.0006363666372238363,
           -0.005229382248971488,
           0.010118980387019562,
           0.010041261161282752,
           -0.014372442368659335,
           0.06483734787255138,
           1,
           0.25007638185970965,
           0.1794321903326253,
           0.5649029739333457,
           -0.06125127547334036,
           -0.054007422664359914,
           0.0035177531682558942,
           0.06901728994326506,
           0.004204892072166208,
           -0.002474353574915443,
           0.04610459759768676,
           0.008594505962550597,
           0.03078262375173464,
           0.0022573006998290743,
           -0.01629980109301919,
           -0.004473578534023403,
           0.021168527983197478,
           -0.001820746944512715,
           0.005671365912101771,
           0.001154208305592369,
           -0.0011960063936610865,
           -0.00011120385630559325,
           0.000910829501751563,
           -0.001787854588529308,
           0.000994638580193004,
           0.0006751295016578921,
           0.0010608594409770634,
           0.00018449154616455003,
           -0.0006120933976261167,
           0.0003040675893243336,
           -0.0007858590549898194,
           -0.0006590162500354596,
           0.0014178496831878237,
           0.0010641208942453436,
           -0.0011015992238865811,
           -0.0012407285242708988,
           0.00040941255000901474
          ],
          [
           -0.00017701120228206775,
           0.007810308443393542,
           -0.02340598033751752,
           -0.0046155107358399755,
           0.0016976891777327832,
           -0.0012169376250814317,
           -0.0018312404405461142,
           -0.017498505238443797,
           0.03661915640731902,
           0.012254073500153409,
           -0.03085777558224147,
           0.09799846252846069,
           0.25007638185970965,
           1,
           0.15172760153857986,
           0.8901272526545638,
           -0.11699521962411862,
           -0.0994413510647658,
           0.025180581169531212,
           0.10928667412377303,
           0.016351323808765996,
           -0.01722907241506039,
           0.12076679710050317,
           0.027940354431978023,
           0.07047807765090647,
           0.0044093318640146964,
           -0.034416226469985864,
           -0.013323354070164575,
           0.044120564246909987,
           -0.005085925851136929,
           0.011473568431545468,
           0.004440512322791723,
           -0.0010630051163157143,
           0.00018512789954191946,
           0.0005169369254961489,
           0.0017231519792362947,
           0.0037837821118346837,
           -0.0020161776675533703,
           0.001926751814743145,
           0.00012896012169149725,
           0.0008132382695526011,
           0.000558597200481922,
           -0.0005013388256769988,
           -0.00163240691791496,
           0.0017539182011456027,
           0.0013843957989970693,
           -0.0013589599814288775,
           -0.00177938228780793,
           0.0031663201946022525
          ],
          [
           -0.00171782194514709,
           0.0024602908319340294,
           -0.008775500240628929,
           -0.001186730807908905,
           0.0039286265139032986,
           -0.0008934939930098886,
           0.0013128732605405663,
           -0.008390064166738216,
           0.012124758822770549,
           0.007898322664249516,
           -0.01061212790836212,
           0.08141549712952234,
           0.1794321903326253,
           0.15172760153857986,
           1,
           0.4263998836255217,
           -0.04048585112779737,
           -0.04068044208739151,
           0.004136125664147598,
           0.05082310409176684,
           0.005814603173879321,
           -0.00844124927500158,
           0.03771827604226019,
           0.014655985827389816,
           0.02347110679423096,
           0.001605835656303071,
           -0.015614273025673402,
           -0.005009607474508769,
           0.014756941996862144,
           0.0002595796322984508,
           0.004531083396472349,
           0.0012340690299426087,
           0.0003492843651894134,
           -0.00041568351089011317,
           -0.0021626888021852174,
           0.0004136479843598625,
           0.0027903312033996275,
           -0.002330326502165299,
           0.0009485297239872672,
           -0.0001858392620094565,
           -0.0014181281398898914,
           -0.0021253852767389304,
           0.0008745250585350076,
           0.0004916403631589365,
           0.001569994301959919,
           -0.002917661601417797,
           -0.00011712544370351996,
           0.002079286759967087,
           -0.0009808134646700508
          ],
          [
           -0.001129352797085879,
           0.007442830964742973,
           -0.02497119706382019,
           -0.0036493908922690076,
           0.001989546060495524,
           -0.0006905936003553219,
           -0.0010128313488101442,
           -0.018333861999931114,
           0.035572641614943196,
           0.015413123032177489,
           -0.03164026527129087,
           0.26621523092448607,
           0.5649029739333457,
           0.8901272526545638,
           0.4263998836255217,
           1,
           -0.12154712140311676,
           -0.106239689861127,
           0.02203333701058792,
           0.12147762405541038,
           0.01636312986799589,
           -0.018287753550747684,
           0.119268663457619,
           0.029994631058182657,
           0.07131983388437585,
           0.005136795765281479,
           -0.03780543277647762,
           -0.0133045493000391,
           0.04508043877617706,
           -0.004272510572028674,
           0.012513326139616475,
           0.00441844970887797,
           -0.0011022975070719438,
           0.0002054168840000354,
           -0.0002416453387590602,
           0.0010228747040333251,
           0.004077353989613896,
           -0.0014427896242199573,
           0.001975748285363049,
           -0.00024326970061752177,
           0.00028409101359197356,
           0.0003068111500897935,
           -0.0003871413338074733,
           -0.0018207206855712864,
           0.002318386702039321,
           0.0007408167748215128,
           -0.001377184821966648,
           -0.001011803475128225,
           0.0017825538619420389
          ],
          [
           -0.0019349923253095893,
           -0.02150622168793432,
           0.12213672531018312,
           -0.0038542040298691813,
           0.17044861491667548,
           0.07707144391312327,
           0.012326335746025272,
           0.016406205154351226,
           -0.1207286794068783,
           0.05277557417447597,
           0.06486960724122333,
           -0.02212232089072219,
           -0.06125127547334036,
           -0.11699521962411862,
           -0.04048585112779737,
           -0.12154712140311676,
           1,
           0.3124495031022658,
           -0.021884130311831358,
           -0.4516894099742072,
           0.025690451286060213,
           0.008990106374833731,
           0.06539839780086634,
           -0.047147427101064614,
           0.05151699052704686,
           0.0008576242267399685,
           0.059703328431573596,
           0.016783815050164755,
           0.03787983280939091,
           0.016128999534946113,
           -0.01409474099488538,
           0.02299969506196376,
           0.001583612723436248,
           0.0008742837980309459,
           3.3494151583637076e-05,
           0.001721397044580403,
           -0.0013086573803491655,
           -0.0009849673818418103,
           -0.0012787059555369523,
           -0.0019515651504138,
           -0.0012626527588530732,
           -0.0009216867411599046,
           0.0013483433788114016,
           0.0007020649300867842,
           -0.0019153659561068192,
           0.0011762611405260772,
           -0.0013255253293403596,
           0.0017437917830255066,
           -0.0020395145220801184
          ],
          [
           -0.0005004384418481046,
           -0.027778075788542755,
           0.03689566374827917,
           0.012682148590420267,
           -0.01825125801526538,
           0.017497056768121463,
           0.004314899698054171,
           0.028352083532137747,
           -0.07232059014992272,
           0.00585490555536978,
           0.040109224304663585,
           -0.024021375653731417,
           -0.054007422664359914,
           -0.0994413510647658,
           -0.04068044208739151,
           -0.106239689861127,
           0.3124495031022658,
           1,
           -0.5180763597376605,
           -0.5942654327422763,
           0.00044932875105786605,
           0.030264159750243904,
           -0.04949269493946454,
           -0.04443245801607432,
           -0.0582488423914205,
           -0.016400415460856094,
           0.043830004289417024,
           0.030265908254304034,
           0.01587326196241011,
           0.006596901955516885,
           -0.009989048367143526,
           0.021089277139603083,
           -0.00015427566393725605,
           0.0013615649246193967,
           -0.0003549050683784082,
           0.0010701810792920852,
           -0.0019205651214934693,
           -0.000427383895078309,
           -0.0009309516956551639,
           -0.0005474330902515574,
           0.0004788567902195321,
           -0.001205708134771854,
           -0.00016701443375198309,
           0.0009289338594362775,
           -0.0004946092252123232,
           -0.0004323230260641795,
           9.269330910930976e-05,
           0.000302046273722002,
           0.0015192075603971586
          ],
          [
           0.0013438936799833007,
           0.03705260633585501,
           0.10125709413323761,
           -0.018727145555724942,
           0.027691181225138053,
           0.007830396023881588,
           0.0071627770677622415,
           -0.037121073674995474,
           0.02077615194714268,
           0.03603562289265077,
           -0.011023469836738856,
           0.0053664016193870736,
           0.0035177531682558942,
           0.025180581169531212,
           0.004136125664147598,
           0.02203333701058792,
           -0.021884130311831358,
           -0.5180763597376605,
           1,
           -0.15802098729292113,
           0.05887565361543223,
           -0.05625958463625057,
           0.13732818747640027,
           0.044550019804100456,
           0.06773302596234075,
           0.0340671326887404,
           -0.04366212443161365,
           -0.008200216193663021,
           0.07609946186510466,
           -0.008669005786247434,
           0.007732623493302305,
           0.008827122880141484,
           0.0006707357574948959,
           -0.002826707031906844,
           -0.0003381879933782809,
           -0.0007815553133850872,
           -0.0006022847454017228,
           0.0005913211470312653,
           -0.0006993075561928135,
           -0.001090513235976116,
           -0.0008502466566824623,
           0.0004287804389085925,
           0.0007460892730811557,
           -0.0015898973720920523,
           -0.0002110923316147279,
           -0.00024213748444256472,
           4.6684570862885536e-05,
           -0.000775522520941263,
           -0.001922700612824355
          ],
          [
           0.0008157280242293044,
           0.004555455715152846,
           -0.11222626697683723,
           -0.00037394015904443833,
           0.0013157749639168682,
           -0.02579748587387641,
           -0.00825231441491653,
           -0.011750963576176814,
           0.07656187216203819,
           -0.03327254465431105,
           -0.03963118000022888,
           0.027264135678883677,
           0.06901728994326506,
           0.10928667412377303,
           0.05082310409176684,
           0.12147762405541038,
           -0.4516894099742072,
           -0.5942654327422763,
           -0.15802098729292113,
           1,
           -0.045967576695943604,
           0.006388259993779021,
           -0.041079456852142704,
           0.018748038227366894,
           -0.0032120688606157377,
           -0.0072003954273630755,
           -0.017357635513052333,
           -0.027826551074893974,
           -0.04473347391746064,
           -0.003241940278548796,
           0.00460984454641675,
           -0.026135024521390403,
           -0.0009732616497496389,
           -0.00019562794460452248,
           0.0011246066567816577,
           -2.585004955422398e-05,
           0.0018345907179115233,
           0.00011597648018879151,
           0.0013640036829747867,
           0.0021105414505556606,
           0.001574362271832671,
           0.0019922297476804543,
           -0.001238750267001732,
           -0.00037860530152446453,
           -8.221784186824538e-05,
           6.434466221086806e-05,
           7.039774777350998e-05,
           -0.0007859433395340328,
           0.0007240485980728538
          ],
          [
           -0.0010523840432400244,
           0.016255693742637675,
           -0.0561209602307356,
           0.0021485024537498927,
           -0.02851989122870297,
           0.029379371951095242,
           -0.03621285304102291,
           -0.07554574375145577,
           0.06206386799788504,
           0.0009741110543532934,
           0.024264102635430718,
           0.007989028500674941,
           0.004204892072166208,
           0.016351323808765996,
           0.005814603173879321,
           0.01636312986799589,
           0.025690451286060213,
           0.00044932875105786605,
           0.05887565361543223,
           -0.045967576695943604,
           1,
           -0.1527326305202657,
           0.1380545889863303,
           0.06773239330239499,
           -0.14725757311134427,
           0.05332586747347316,
           0.0010712044261128996,
           -0.0595476841860337,
           0.27290021926541297,
           0.006355097797608364,
           0.010497666747185233,
           0.11092050571881658,
           0.0003954303917060789,
           -0.0012297197856098701,
           -0.0012509298116333415,
           -0.0006230035403697075,
           -0.001207073641473127,
           4.220234506756614e-05,
           0.0014431604443318436,
           -0.0004247629899175626,
           -0.0007933308500309793,
           0.0008740417878425348,
           6.95669943874705e-05,
           0.000965239453910187,
           -0.00106787958534592,
           0.00040245516164582224,
           0.0003641136670927111,
           0.0005198560815098648,
           -0.0005613985985714529
          ],
          [
           -0.00040334494637156123,
           -0.03153359612457286,
           -0.11698664679201748,
           0.04523308396698348,
           -0.044906741487120636,
           0.0031621098779648837,
           0.012878919847941922,
           0.13638274599348735,
           -0.16260101236003363,
           -0.029988616804806738,
           0.03995547974899175,
           -0.015804418556358685,
           -0.002474353574915443,
           -0.01722907241506039,
           -0.00844124927500158,
           -0.018287753550747684,
           0.008990106374833731,
           0.030264159750243904,
           -0.05625958463625057,
           0.006388259993779021,
           -0.1527326305202657,
           1,
           -0.11109462485657536,
           -0.2736723688861916,
           -0.09208322478163421,
           -0.25308889280600144,
           0.10363238078759575,
           0.036043668604660344,
           -0.012977575535680833,
           -0.019088186796559162,
           -0.0009649638104166795,
           -0.09014365639883624,
           0.00028670069159318645,
           0.00043965375966646003,
           -0.0018349663534806037,
           -4.280683979500545e-05,
           0.000685063371450162,
           -0.0005509059261274772,
           -0.0005988402310767636,
           -0.0008341968657931771,
           0.002052090604864352,
           0.0012427813649456161,
           -9.926418773619146e-05,
           -1.4807280235950638e-05,
           -0.002947527214096956,
           -0.0010775834899756254,
           -0.0011509779965209678,
           -0.001429640835509628,
           0.0009304624944871997
          ],
          [
           0.0003544609372827387,
           0.0324009706942751,
           0.043755960500296565,
           -0.0025317202816092367,
           0.09565776668522324,
           0.022744376399026083,
           -0.011398778782571816,
           -0.07572310218075866,
           0.09648343943349459,
           0.0384624296317755,
           -0.04994363372858589,
           0.02483327179444574,
           0.04610459759768676,
           0.12076679710050317,
           0.03771827604226019,
           0.119268663457619,
           0.06539839780086634,
           -0.04949269493946454,
           0.13732818747640027,
           -0.041079456852142704,
           0.1380545889863303,
           -0.11109462485657536,
           1,
           0.09719274174853969,
           0.4897894274078472,
           0.03305829220475694,
           -0.1483385551523895,
           -0.2486622980924781,
           0.27240715641353064,
           0.014220105244585703,
           0.015778200128538256,
           0.08254922005109025,
           -0.0004509803278143976,
           -0.00036932023868972626,
           0.0004301479486262783,
           0.003070667843488633,
           0.002117997853309545,
           0.0003282253752557546,
           0.0012104089806038803,
           -0.0026947000599002284,
           -0.0025958807152455044,
           0.0008592066483024758,
           0.0012823032623227378,
           -0.00048096220248447616,
           -0.0009000091122420327,
           -0.0021900877080210652,
           -0.001302243057578799,
           -0.00041450859584372013,
           0.001422454126777135
          ],
          [
           0.0023098896739933185,
           0.03289987494012053,
           0.07904155054775971,
           -0.07218977632989523,
           0.07298961054229083,
           -0.045361298018329506,
           -0.010873195216114831,
           -0.18701667626422971,
           0.1997016120913101,
           0.08495716267080045,
           -0.07038654070759681,
           0.016566215782234283,
           0.008594505962550597,
           0.027940354431978023,
           0.014655985827389816,
           0.029994631058182657,
           -0.047147427101064614,
           -0.04443245801607432,
           0.044550019804100456,
           0.018748038227366894,
           0.06773239330239499,
           -0.2736723688861916,
           0.09719274174853969,
           1,
           0.14100313376171192,
           0.19401461615439022,
           -0.18337425915248684,
           -0.05106572525835053,
           -0.03940529174757801,
           0.0007206109590392452,
           0.07044614846838124,
           -0.05732607898184618,
           0.000931483983657278,
           0.0015387904761009362,
           0.0008717001182050421,
           0.0002434918758918955,
           0.001215931309403625,
           -0.0003188249939387803,
           0.0014737778917998606,
           0.001198066784985587,
           0.001721310000901498,
           0.00042311633950088364,
           -0.002338827479904042,
           0.0013882598831327197,
           0.0005797271724971248,
           0.0006342039000327392,
           0.00012764466563053555,
           -0.00032009578404121797,
           -0.000530191633756738
          ],
          [
           -0.000849736431956908,
           0.020754434132826762,
           0.21300928032912675,
           -0.008406520927741018,
           0.14359654865840232,
           0.06339932427116321,
           -0.0065616085500076905,
           -0.16489012332440903,
           0.09210731694598845,
           0.06388874607199731,
           0.04287613348604071,
           0.015251836567305199,
           0.03078262375173464,
           0.07047807765090647,
           0.02347110679423096,
           0.07131983388437585,
           0.05151699052704686,
           -0.0582488423914205,
           0.06773302596234075,
           -0.0032120688606157377,
           -0.14725757311134427,
           -0.09208322478163421,
           0.4897894274078472,
           0.14100313376171192,
           1,
           0.06106827662386933,
           -0.08375675814605713,
           -0.039809019414298326,
           -0.32775053482688216,
           0.023489698076890917,
           0.03810541438758653,
           -0.07678547179357709,
           -0.0016589918561348087,
           0.0004514638239334563,
           0.00041283967270175934,
           0.0004412278133604214,
           0.0016640401043848336,
           4.603530801216249e-05,
           -0.001608248120946059,
           -0.001701700161218646,
           -0.0003588293096685416,
           0.0013216260013875036,
           0.0018638072930974405,
           -0.0014997038236239928,
           0.0013959473143630502,
           -0.0028145541534887767,
           -0.0008849150440565344,
           -0.0024179401571196766,
           0.00014994127387786243
          ],
          [
           -0.001009689376092864,
           0.01153665995572638,
           0.07019202187337273,
           -0.017300912306375114,
           0.008021293226146338,
           0.02532361532099993,
           -0.0072299632053995835,
           -0.059887308797517635,
           0.02101255069052145,
           0.0633731246240447,
           -0.00870884054297036,
           0.004487183793875702,
           0.0022573006998290743,
           0.0044093318640146964,
           0.001605835656303071,
           0.005136795765281479,
           0.0008576242267399685,
           -0.016400415460856094,
           0.0340671326887404,
           -0.0072003954273630755,
           0.05332586747347316,
           -0.25308889280600144,
           0.03305829220475694,
           0.19401461615439022,
           0.06106827662386933,
           1,
           -0.026116228354118132,
           -0.014611818480659568,
           0.003325569073913435,
           -0.0032214358762773627,
           0.02538467026236854,
           -0.030801632989563777,
           0.0008598200601896413,
           0.0015746128524538187,
           0.0011103477393886202,
           -4.896531776827118e-05,
           0.000492169558830971,
           0.002578900495330554,
           -0.0008241917715071728,
           0.0011949560411559281,
           0.0004671486827777723,
           -0.0020202515720043838,
           0.0008061524226690206,
           0.0006898033823400379,
           0.0012045255571496202,
           0.00013565004158635908,
           3.477554141347793e-05,
           -0.0023403993866281864,
           -0.0005226832895863518
          ],
          [
           -0.002955581809407196,
           -0.03639522258780317,
           -0.0006393452905868203,
           -0.011780550385044157,
           0.05633693325166973,
           0.06465523285480475,
           0.05377652521320649,
           0.038993680731001304,
           -0.06470797501921201,
           -0.010976242373907898,
           0.034202576735924584,
           -0.017804258593691943,
           -0.01629980109301919,
           -0.034416226469985864,
           -0.015614273025673402,
           -0.03780543277647762,
           0.059703328431573596,
           0.043830004289417024,
           -0.04366212443161365,
           -0.017357635513052333,
           0.0010712044261128996,
           0.10363238078759575,
           -0.1483385551523895,
           -0.18337425915248684,
           -0.08375675814605713,
           -0.026116228354118132,
           1,
           0.06452922604343282,
           -0.03960711477269267,
           0.004429101557941514,
           -0.0783272591362522,
           0.05573757109188192,
           0.0001431724699377972,
           -0.0017662455375500982,
           0.0013053744161650438,
           -9.291203883231091e-05,
           0.0005499792456161954,
           -0.0014661881547167357,
           -0.0012697210457045184,
           0.0005028118507514419,
           0.00013697915328565415,
           0.0014953290730697973,
           0.0002951428704466881,
           -0.0004381102787180159,
           -0.0012544219062167882,
           0.0005855222178469641,
           0.0003470624187798464,
           0.0017796446920497185,
           -0.0023689086360795487
          ],
          [
           0.000747596138335548,
           -0.02034193348598006,
           0.13811162890080814,
           0.0015257604786327657,
           0.0036071551143762332,
           -0.00814754846801752,
           -0.002083953743338256,
           0.03831307031695164,
           -0.12382519653908652,
           0.0427922674881171,
           0.050317329443875236,
           -0.0036596207024452384,
           -0.004473578534023403,
           -0.013323354070164575,
           -0.005009607474508769,
           -0.0133045493000391,
           0.016783815050164755,
           0.030265908254304034,
           -0.008200216193663021,
           -0.027826551074893974,
           -0.0595476841860337,
           0.036043668604660344,
           -0.2486622980924781,
           -0.05106572525835053,
           -0.039809019414298326,
           -0.014611818480659568,
           0.06452922604343282,
           1,
           -0.01629853642416545,
           -0.03125167998581104,
           0.03436492864954632,
           -0.03852390264179929,
           -0.0013407294190590615,
           -0.0005443907527122171,
           -0.0014563424458635251,
           -0.0014425071088963854,
           2.676247359479566e-05,
           -0.0005307547879908733,
           -0.0021192603004364613,
           0.0015842335640350962,
           0.0006383022193048849,
           0.0003935211621869532,
           -0.0011690267707114353,
           -0.0010101875324818068,
           0.0020955546330995263,
           0.0013782617362007416,
           -0.001000980123334852,
           0.00037910847774123016,
           0.00024794607556469814
          ],
          [
           0.0004940853380070141,
           0.00532249490929187,
           -0.10258232980421053,
           0.009434534021788734,
           -0.013205469282503674,
           -0.041983012535977984,
           -0.008333774284921065,
           0.09918393763824075,
           -0.059229317322167185,
           -0.010920062706482346,
           -0.04769976109596489,
           0.008266440956512609,
           0.021168527983197478,
           0.044120564246909987,
           0.014756941996862144,
           0.04508043877617706,
           0.03787983280939091,
           0.01587326196241011,
           0.07609946186510466,
           -0.04473347391746064,
           0.27290021926541297,
           -0.012977575535680833,
           0.27240715641353064,
           -0.03940529174757801,
           -0.32775053482688216,
           0.003325569073913435,
           -0.03960711477269267,
           -0.01629853642416545,
           1,
           -0.023541068642756204,
           -0.011188268526019795,
           0.11896944421500293,
           0.0010399053973847655,
           0.0007423801429440454,
           -0.0017702971365074654,
           0.0020812179822101546,
           -0.0016920322564636,
           -0.0012319557421361209,
           0.0012705153842238817,
           -0.0011916824704647374,
           -0.00046726625062282136,
           -0.0004903231499660512,
           -0.001091983997584522,
           0.0009521778464269957,
           -0.0010595306612710797,
           -0.0005462931019553119,
           0.0016412416111071424,
           0.0012730291759389485,
           0.0005456450862347396
          ],
          [
           -0.0009282837448050636,
           0.0010382993212007291,
           0.010793696829651062,
           0.011401456422615558,
           -0.00856095402163958,
           0.023010432833949015,
           0.002168074446652442,
           -0.04105681120507274,
           0.030556162897126253,
           0.02532753797438492,
           -0.00687141523914032,
           0.0007083813828402775,
           -0.001820746944512715,
           -0.005085925851136929,
           0.0002595796322984508,
           -0.004272510572028674,
           0.016128999534946113,
           0.006596901955516885,
           -0.008669005786247434,
           -0.003241940278548796,
           0.006355097797608364,
           -0.019088186796559162,
           0.014220105244585703,
           0.0007206109590392452,
           0.023489698076890917,
           -0.0032214358762773627,
           0.004429101557941514,
           -0.03125167998581104,
           -0.023541068642756204,
           1,
           0.0034926119778279116,
           0.013412995647663671,
           -0.002204188680172502,
           -0.00016428189498505816,
           -0.0016314199086927632,
           3.3458338828980185e-06,
           0.002907789216375728,
           -0.0014115273416177366,
           -0.0015616995757234328,
           0.0018166596896517586,
           0.002402711285415986,
           0.0029880880242695684,
           -0.0003593050636786715,
           -0.0008346704499100778,
           0.0010212393206565674,
           -0.0005117859571024138,
           0.00074160183441012,
           -0.0005855613681816019,
           0.000238389420519572
          ],
          [
           0.0020474413080605962,
           0.006128798326757132,
           0.008187861301734243,
           0.0149551958066065,
           -0.02596590172880744,
           -0.0006146254081094969,
           -0.002249565476062128,
           -0.03129622770644699,
           0.047940110791918664,
           0.041371476934295826,
           -0.053983464789054705,
           0.00590949165879686,
           0.005671365912101771,
           0.011473568431545468,
           0.004531083396472349,
           0.012513326139616475,
           -0.01409474099488538,
           -0.009989048367143526,
           0.007732623493302305,
           0.00460984454641675,
           0.010497666747185233,
           -0.0009649638104166795,
           0.015778200128538256,
           0.07044614846838124,
           0.03810541438758653,
           0.02538467026236854,
           -0.0783272591362522,
           0.03436492864954632,
           -0.011188268526019795,
           0.0034926119778279116,
           1,
           -0.04976970779843196,
           0.00021324227842176908,
           -0.00018470178610373558,
           -0.0010305527324214075,
           0.001653138320080761,
           -7.104884064442781e-05,
           0.0016651672130308954,
           0.0016610534717757884,
           1.1254065435811325e-05,
           -0.00035862222351402457,
           -0.0005780266596418095,
           0.0002478062054979972,
           -0.0011744468682769193,
           0.0020541819917924502,
           0.0029192141505096593,
           -0.00048289542983081114,
           -0.0003423887666784939,
           0.0015132572839368873
          ],
          [
           0.0026413932462155836,
           -0.0012133568962176685,
           0.00825152755479824,
           0.01994883319025325,
           -0.05935778461153133,
           0.07348633332430107,
           0.0010755447570799223,
           0.01961761811645961,
           0.06745692509835806,
           -0.08219336872997224,
           -0.0222238396339445,
           0.0025262371890389795,
           0.001154208305592369,
           0.004440512322791723,
           0.0012340690299426087,
           0.00441844970887797,
           0.02299969506196376,
           0.021089277139603083,
           0.008827122880141484,
           -0.026135024521390403,
           0.11092050571881658,
           -0.09014365639883624,
           0.08254922005109025,
           -0.05732607898184618,
           -0.07678547179357709,
           -0.030801632989563777,
           0.05573757109188192,
           -0.03852390264179929,
           0.11896944421500293,
           0.013412995647663671,
           -0.04976970779843196,
           1,
           0.00022496945278663324,
           0.002458872518486952,
           -0.00025111560741019126,
           -0.00033023183208716025,
           -0.0024582760480135277,
           -0.0005101365289598807,
           -0.0005672563408689077,
           -0.0012063305466672994,
           -0.0011809019951366604,
           0.0011334652327895218,
           0.0009449124419320964,
           -0.0007033351603276396,
           0.0005081330268082942,
           -9.260927347074012e-05,
           0.0009303397770717676,
           0.002231261537685798,
           0.001280038558302366
          ],
          [
           0.003638317961209957,
           3.272045510020569e-05,
           -0.0009430787753138506,
           -0.0021110487327914477,
           0.0007029223319983085,
           0.0008255181087075637,
           0.0012916973382756942,
           -0.0004089715175719997,
           0.00047048055180615476,
           -0.0008862921614318208,
           0.0008295720883777972,
           3.100019801776669e-05,
           -0.0011960063936610865,
           -0.0010630051163157143,
           0.0003492843651894134,
           -0.0011022975070719438,
           0.001583612723436248,
           -0.00015427566393725605,
           0.0006707357574948959,
           -0.0009732616497496389,
           0.0003954303917060789,
           0.00028670069159318645,
           -0.0004509803278143976,
           0.000931483983657278,
           -0.0016589918561348087,
           0.0008598200601896413,
           0.0001431724699377972,
           -0.0013407294190590615,
           0.0010399053973847655,
           -0.002204188680172502,
           0.00021324227842176908,
           0.00022496945278663324,
           1,
           0.0006326671086388854,
           -0.0018453210760898126,
           0.0014451241140302866,
           -0.0018465549286692455,
           -3.835483364151516e-05,
           5.8353251092471914e-08,
           0.00024456774542824485,
           0.0009784493310665647,
           -0.00021462815569388272,
           0.0011795606084716948,
           0.00017189271200256667,
           -0.0008738127601136816,
           0.0011856368490699323,
           0.0011092144691557538,
           0.0009016703557466272,
           0.0001461496973993162
          ],
          [
           -0.0005915908500661402,
           0.0007708801365326372,
           -0.0011711899555747133,
           -0.0015478301217311011,
           -0.001244839816125987,
           0.00102779887307973,
           -0.0006420444921112522,
           -0.0005006935696663864,
           -0.00020263779193792312,
           0.0006032890364046533,
           0.0002826974574493145,
           0.0013288695124036793,
           -0.00011120385630559325,
           0.00018512789954191946,
           -0.00041568351089011317,
           0.0002054168840000354,
           0.0008742837980309459,
           0.0013615649246193967,
           -0.002826707031906844,
           -0.00019562794460452248,
           -0.0012297197856098701,
           0.00043965375966646003,
           -0.00036932023868972626,
           0.0015387904761009362,
           0.0004514638239334563,
           0.0015746128524538187,
           -0.0017662455375500982,
           -0.0005443907527122171,
           0.0007423801429440454,
           -0.00016428189498505816,
           -0.00018470178610373558,
           0.002458872518486952,
           0.0006326671086388854,
           1,
           -0.0013940213742289164,
           -0.0022117543279125177,
           -0.001792142261691019,
           0.001153756013177232,
           -0.00023581508931643096,
           0.00038680272386482203,
           -0.00021170094528927312,
           0.0002703331399211816,
           -0.0009686463055696981,
           7.896468850628008e-05,
           -0.0009427509379795293,
           -0.0009852664395451232,
           -0.0004058525742929844,
           0.000265149884568008,
           0.0014943221390320998
          ],
          [
           0.0009574769937881945,
           8.182225978076095e-05,
           0.00014683213520088004,
           8.5486892302804e-05,
           0.002361497957557464,
           0.0026258399586143026,
           -0.00024941758434445974,
           -0.0014131826801772143,
           0.0022574679719714586,
           0.001248981784611182,
           -0.0019519948882590731,
           -0.002677298661139918,
           0.000910829501751563,
           0.0005169369254961489,
           -0.0021626888021852174,
           -0.0002416453387590602,
           3.3494151583637076e-05,
           -0.0003549050683784082,
           -0.0003381879933782809,
           0.0011246066567816577,
           -0.0012509298116333415,
           -0.0018349663534806037,
           0.0004301479486262783,
           0.0008717001182050421,
           0.00041283967270175934,
           0.0011103477393886202,
           0.0013053744161650438,
           -0.0014563424458635251,
           -0.0017702971365074654,
           -0.0016314199086927632,
           -0.0010305527324214075,
           -0.00025111560741019126,
           -0.0018453210760898126,
           -0.0013940213742289164,
           1,
           -7.531912940689192e-05,
           -0.0006033795317028929,
           0.0017095886432573076,
           -0.0015344104636122818,
           -0.0005749585705772379,
           0.0006068798883348669,
           0.0009738384019128621,
           -0.0008696868262333382,
           0.0006305110709911748,
           0.00013999232688368356,
           0.00032018233428546397,
           0.002004801230930195,
           0.001185020358559964,
           0.0008642753852533341
          ],
          [
           0.000788244791080896,
           -0.00010347690485278838,
           -0.0006583998180255268,
           -0.0001717325146889939,
           0.0015325306198597174,
           -0.00015073832344163947,
           -0.0019023900274815798,
           -0.0015526558607739192,
           -0.0007715341800744993,
           0.0015137952726527217,
           0.001377811100217235,
           0.0012737060249414802,
           -0.001787854588529308,
           0.0017231519792362947,
           0.0004136479843598625,
           0.0010228747040333251,
           0.001721397044580403,
           0.0010701810792920852,
           -0.0007815553133850872,
           -2.585004955422398e-05,
           -0.0006230035403697075,
           -4.280683979500545e-05,
           0.003070667843488633,
           0.0002434918758918955,
           0.0004412278133604214,
           -4.896531776827118e-05,
           -9.291203883231091e-05,
           -0.0014425071088963854,
           0.0020812179822101546,
           3.3458338828980185e-06,
           0.001653138320080761,
           -0.00033023183208716025,
           0.0014451241140302866,
           -0.0022117543279125177,
           -7.531912940689192e-05,
           1,
           -0.0020846240440286897,
           0.0007561854950545023,
           -0.0005302751847781051,
           -0.00010937354438558209,
           -0.0003886932499638394,
           -0.0005993891804417931,
           0.0019081420282568286,
           9.663145891527403e-05,
           -0.0014105868897964142,
           -0.00032686988563327795,
           -0.00031073244127748567,
           -0.0011828498563552418,
           0.0003942514216219668
          ],
          [
           0.0008356128476278185,
           -0.0010058548384191365,
           0.0029928067889171016,
           -0.0027117639544354463,
           0.001266664959910304,
           -0.002775545029613311,
           -0.00014490361613131238,
           -0.0011636516201258267,
           -0.0014167211446870249,
           0.0008268945510473196,
           0.0022687777239878727,
           0.0014216349339402805,
           0.000994638580193004,
           0.0037837821118346837,
           0.0027903312033996275,
           0.004077353989613896,
           -0.0013086573803491655,
           -0.0019205651214934693,
           -0.0006022847454017228,
           0.0018345907179115233,
           -0.001207073641473127,
           0.000685063371450162,
           0.002117997853309545,
           0.001215931309403625,
           0.0016640401043848336,
           0.000492169558830971,
           0.0005499792456161954,
           2.676247359479566e-05,
           -0.0016920322564636,
           0.002907789216375728,
           -7.104884064442781e-05,
           -0.0024582760480135277,
           -0.0018465549286692455,
           -0.001792142261691019,
           -0.0006033795317028929,
           -0.0020846240440286897,
           1,
           1.3082467919237963e-05,
           -0.0026656686262384816,
           0.0020156141257340957,
           0.00010930539163796495,
           -0.0003040002681170928,
           -0.0001705688624236338,
           -0.0002656538804022903,
           0.0021334585339101656,
           -0.0005416628791602583,
           0.00020163232378118514,
           0.0007846466422613742,
           -0.0007678417278635954
          ],
          [
           0.000517634198857776,
           0.0007189675843641514,
           -8.533923304090449e-05,
           0.00035567580972401897,
           -0.0015441777405826881,
           0.00048656988775537416,
           -0.0008217959389452768,
           -0.0019551101160042526,
           0.003103402535596244,
           -0.001171371983028529,
           8.414159278315854e-05,
           0.0028423829821193005,
           0.0006751295016578921,
           -0.0020161776675533703,
           -0.002330326502165299,
           -0.0014427896242199573,
           -0.0009849673818418103,
           -0.000427383895078309,
           0.0005913211470312653,
           0.00011597648018879151,
           4.220234506756614e-05,
           -0.0005509059261274772,
           0.0003282253752557546,
           -0.0003188249939387803,
           4.603530801216249e-05,
           0.002578900495330554,
           -0.0014661881547167357,
           -0.0005307547879908733,
           -0.0012319557421361209,
           -0.0014115273416177366,
           0.0016651672130308954,
           -0.0005101365289598807,
           -3.835483364151516e-05,
           0.001153756013177232,
           0.0017095886432573076,
           0.0007561854950545023,
           1.3082467919237963e-05,
           1,
           -0.0001819155784984445,
           -0.0008978648417160405,
           -0.001408726130425109,
           -0.0006296039665154672,
           -6.618237838925341e-05,
           0.0009232509440580105,
           -0.0012912698712921717,
           -0.0008141216438973755,
           -0.0010941080196175416,
           0.00044405455709719063,
           6.652856730239265e-05
          ],
          [
           0.0009805335540469472,
           0.0010608340444789091,
           -0.0013449818796920157,
           -2.5425203495043307e-05,
           0.0002302873383735821,
           0.00012727421795224848,
           -0.001069872950916885,
           -0.0011970978269563919,
           0.0027643720885982513,
           -0.0010929434068361506,
           -0.0005624466536854753,
           -0.0003671698201874054,
           0.0010608594409770634,
           0.001926751814743145,
           0.0009485297239872672,
           0.001975748285363049,
           -0.0012787059555369523,
           -0.0009309516956551639,
           -0.0006993075561928135,
           0.0013640036829747867,
           0.0014431604443318436,
           -0.0005988402310767636,
           0.0012104089806038803,
           0.0014737778917998606,
           -0.001608248120946059,
           -0.0008241917715071728,
           -0.0012697210457045184,
           -0.0021192603004364613,
           0.0012705153842238817,
           -0.0015616995757234328,
           0.0016610534717757884,
           -0.0005672563408689077,
           5.8353251092471914e-08,
           -0.00023581508931643096,
           -0.0015344104636122818,
           -0.0005302751847781051,
           -0.0026656686262384816,
           -0.0001819155784984445,
           1,
           0.0003942191139411465,
           0.0020861464734087485,
           0.0012790179252293867,
           0.0012524127188469527,
           -0.00032065192856743467,
           0.00042152585442363196,
           0.0003662380118529698,
           -0.001617566206840764,
           -0.0013024254093651026,
           -0.0003357342939010003
          ],
          [
           -0.0012488250195918634,
           0.00037143739489093653,
           -0.0012629092646128898,
           3.793867444664083e-05,
           -0.002715541881139927,
           -0.002000831238553817,
           -0.0015247002980472155,
           0.0008220026165316575,
           -0.0004476413449922477,
           -0.0006318117597186015,
           7.18183078842017e-05,
           -0.0023492443946824416,
           0.00018449154616455003,
           0.00012896012169149725,
           -0.0001858392620094565,
           -0.00024326970061752177,
           -0.0019515651504138,
           -0.0005474330902515574,
           -0.001090513235976116,
           0.0021105414505556606,
           -0.0004247629899175626,
           -0.0008341968657931771,
           -0.0026947000599002284,
           0.001198066784985587,
           -0.001701700161218646,
           0.0011949560411559281,
           0.0005028118507514419,
           0.0015842335640350962,
           -0.0011916824704647374,
           0.0018166596896517586,
           1.1254065435811325e-05,
           -0.0012063305466672994,
           0.00024456774542824485,
           0.00038680272386482203,
           -0.0005749585705772379,
           -0.00010937354438558209,
           0.0020156141257340957,
           -0.0008978648417160405,
           0.0003942191139411465,
           1,
           0.0010363096506184946,
           0.00370229350329649,
           0.00047960067993378506,
           0.0008337638553276434,
           0.0008795353242781072,
           -0.0012352831533956271,
           -0.0009601810727423006,
           -0.001376508876451207,
           -0.00016434196923967474
          ],
          [
           -0.0010934546530964769,
           -0.0011325853981362542,
           0.0015206567146658393,
           -0.0008836458794260855,
           -0.0023523333669990413,
           -0.0008139493139821699,
           0.0009753755080751554,
           0.0013465275777943134,
           -0.0010438535583305213,
           -0.0012414424693482787,
           0.0006636678133101185,
           0.0013666102034255408,
           -0.0006120933976261167,
           0.0008132382695526011,
           -0.0014181281398898914,
           0.00028409101359197356,
           -0.0012626527588530732,
           0.0004788567902195321,
           -0.0008502466566824623,
           0.001574362271832671,
           -0.0007933308500309793,
           0.002052090604864352,
           -0.0025958807152455044,
           0.001721310000901498,
           -0.0003588293096685416,
           0.0004671486827777723,
           0.00013697915328565415,
           0.0006383022193048849,
           -0.00046726625062282136,
           0.002402711285415986,
           -0.00035862222351402457,
           -0.0011809019951366604,
           0.0009784493310665647,
           -0.00021170094528927312,
           0.0006068798883348669,
           -0.0003886932499638394,
           0.00010930539163796495,
           -0.001408726130425109,
           0.0020861464734087485,
           0.0010363096506184946,
           1,
           -0.0003000642782013847,
           0.0009804412238659862,
           0.0015570118184771947,
           -0.0009128274758467506,
           0.003564590448077619,
           8.383414231002586e-05,
           0.0010213745943391122,
           -0.0005819389857347257
          ],
          [
           -0.00015701023640565527,
           -0.0004464645318087176,
           0.00019895341092257077,
           -0.0008928474834448329,
           0.00013288787890949617,
           0.00028340525814097423,
           0.0015491569671870185,
           -0.001301118699859182,
           0.0005412369024749208,
           -0.0004320285599226008,
           0.0014390105937547816,
           0.0019688755961176354,
           0.0003040675893243336,
           0.000558597200481922,
           -0.0021253852767389304,
           0.0003068111500897935,
           -0.0009216867411599046,
           -0.001205708134771854,
           0.0004287804389085925,
           0.0019922297476804543,
           0.0008740417878425348,
           0.0012427813649456161,
           0.0008592066483024758,
           0.00042311633950088364,
           0.0013216260013875036,
           -0.0020202515720043838,
           0.0014953290730697973,
           0.0003935211621869532,
           -0.0004903231499660512,
           0.0029880880242695684,
           -0.0005780266596418095,
           0.0011334652327895218,
           -0.00021462815569388272,
           0.0002703331399211816,
           0.0009738384019128621,
           -0.0005993891804417931,
           -0.0003040002681170928,
           -0.0006296039665154672,
           0.0012790179252293867,
           0.00370229350329649,
           -0.0003000642782013847,
           1,
           -0.002325399710375933,
           0.0007633285228823322,
           0.0026328685607141297,
           -0.0007822956678363692,
           0.0005639452300591437,
           0.0019451945132455144,
           -0.0016489428988119854
          ],
          [
           0.0016094238248077987,
           0.0013622753431191599,
           -0.0008910685014910411,
           -0.0005185257387862086,
           0.00020474960687077618,
           0.0015645496382111176,
           0.002170835213002717,
           0.00030393290259253964,
           0.0016655249364763661,
           -0.0019591595357161817,
           -0.0003887243838992523,
           0.0002323981255301201,
           -0.0007858590549898194,
           -0.0005013388256769988,
           0.0008745250585350076,
           -0.0003871413338074733,
           0.0013483433788114016,
           -0.00016701443375198309,
           0.0007460892730811557,
           -0.001238750267001732,
           6.95669943874705e-05,
           -9.926418773619146e-05,
           0.0012823032623227378,
           -0.002338827479904042,
           0.0018638072930974405,
           0.0008061524226690206,
           0.0002951428704466881,
           -0.0011690267707114353,
           -0.001091983997584522,
           -0.0003593050636786715,
           0.0002478062054979972,
           0.0009449124419320964,
           0.0011795606084716948,
           -0.0009686463055696981,
           -0.0008696868262333382,
           0.0019081420282568286,
           -0.0001705688624236338,
           -6.618237838925341e-05,
           0.0012524127188469527,
           0.00047960067993378506,
           0.0009804412238659862,
           -0.002325399710375933,
           1,
           0.0017133879820080532,
           0.00019854594292473938,
           -0.0012873431652010627,
           -0.0010625487660091116,
           -7.567114607784485e-05,
           -0.0004769508970122722
          ],
          [
           -0.0012272973917304818,
           -0.0004904242506719319,
           -0.0003967902124261874,
           -0.00010916394352744455,
           0.0001344327694191162,
           0.0027346762054245234,
           0.0015480474512491568,
           0.0020878603119079196,
           0.000574974650344997,
           -0.002782301006902695,
           -0.0006211068335258212,
           -0.0032329018832703707,
           -0.0006590162500354596,
           -0.00163240691791496,
           0.0004916403631589365,
           -0.0018207206855712864,
           0.0007020649300867842,
           0.0009289338594362775,
           -0.0015898973720920523,
           -0.00037860530152446453,
           0.000965239453910187,
           -1.4807280235950638e-05,
           -0.00048096220248447616,
           0.0013882598831327197,
           -0.0014997038236239928,
           0.0006898033823400379,
           -0.0004381102787180159,
           -0.0010101875324818068,
           0.0009521778464269957,
           -0.0008346704499100778,
           -0.0011744468682769193,
           -0.0007033351603276396,
           0.00017189271200256667,
           7.896468850628008e-05,
           0.0006305110709911748,
           9.663145891527403e-05,
           -0.0002656538804022903,
           0.0009232509440580105,
           -0.00032065192856743467,
           0.0008337638553276434,
           0.0015570118184771947,
           0.0007633285228823322,
           0.0017133879820080532,
           1,
           0.0003847799596326127,
           0.0010284195630865809,
           -0.0008488737176590112,
           0.0008350357428591764,
           0.0028691848832983215
          ],
          [
           -0.0014120059005200407,
           0.0006238280115020953,
           -1.1545248111392002e-05,
           0.0009195635201452114,
           -0.0007442327813944085,
           0.002295346203964963,
           -0.0003682362393573739,
           -0.00038145116468304047,
           0.0012197619159721727,
           -0.002047724572754881,
           0.0010588568857560093,
           0.001011523041551477,
           0.0014178496831878237,
           0.0017539182011456027,
           0.001569994301959919,
           0.002318386702039321,
           -0.0019153659561068192,
           -0.0004946092252123232,
           -0.0002110923316147279,
           -8.221784186824538e-05,
           -0.00106787958534592,
           -0.002947527214096956,
           -0.0009000091122420327,
           0.0005797271724971248,
           0.0013959473143630502,
           0.0012045255571496202,
           -0.0012544219062167882,
           0.0020955546330995263,
           -0.0010595306612710797,
           0.0010212393206565674,
           0.0020541819917924502,
           0.0005081330268082942,
           -0.0008738127601136816,
           -0.0009427509379795293,
           0.00013999232688368356,
           -0.0014105868897964142,
           0.0021334585339101656,
           -0.0012912698712921717,
           0.00042152585442363196,
           0.0008795353242781072,
           -0.0009128274758467506,
           0.0026328685607141297,
           0.00019854594292473938,
           0.0003847799596326127,
           1,
           -0.0016701318625782573,
           0.0007356946834426292,
           7.729719133329597e-05,
           -8.498697276466399e-05
          ],
          [
           -0.0012665829156959406,
           -0.00017012817365768857,
           -0.0008675973201928202,
           0.0005472321892405302,
           0.00015773156327420203,
           0.0007734421027413759,
           0.00015309117899007504,
           -1.255559509124731e-06,
           -0.0005167363145836906,
           -0.0005794594623613985,
           0.0011348640561092095,
           0.0003451145587064038,
           0.0010641208942453436,
           0.0013843957989970693,
           -0.002917661601417797,
           0.0007408167748215128,
           0.0011762611405260772,
           -0.0004323230260641795,
           -0.00024213748444256472,
           6.434466221086806e-05,
           0.00040245516164582224,
           -0.0010775834899756254,
           -0.0021900877080210652,
           0.0006342039000327392,
           -0.0028145541534887767,
           0.00013565004158635908,
           0.0005855222178469641,
           0.0013782617362007416,
           -0.0005462931019553119,
           -0.0005117859571024138,
           0.0029192141505096593,
           -9.260927347074012e-05,
           0.0011856368490699323,
           -0.0009852664395451232,
           0.00032018233428546397,
           -0.00032686988563327795,
           -0.0005416628791602583,
           -0.0008141216438973755,
           0.0003662380118529698,
           -0.0012352831533956271,
           0.003564590448077619,
           -0.0007822956678363692,
           -0.0012873431652010627,
           0.0010284195630865809,
           -0.0016701318625782573,
           1,
           -0.0008263242941725494,
           0.00045021931582085706,
           0.0009660833743344739
          ],
          [
           -0.0013870124895141488,
           0.0005524351996118702,
           -0.0015035875469012936,
           0.0008240709263778082,
           -0.00021792732130746943,
           0.000915879223072468,
           3.16867841485481e-05,
           -0.0007593038072495968,
           0.0001814801090777136,
           -6.765604151575381e-05,
           0.0008151460825754969,
           0.00023955239726456662,
           -0.0011015992238865811,
           -0.0013589599814288775,
           -0.00011712544370351996,
           -0.001377184821966648,
           -0.0013255253293403596,
           9.269330910930976e-05,
           4.6684570862885536e-05,
           7.039774777350998e-05,
           0.0003641136670927111,
           -0.0011509779965209678,
           -0.001302243057578799,
           0.00012764466563053555,
           -0.0008849150440565344,
           3.477554141347793e-05,
           0.0003470624187798464,
           -0.001000980123334852,
           0.0016412416111071424,
           0.00074160183441012,
           -0.00048289542983081114,
           0.0009303397770717676,
           0.0011092144691557538,
           -0.0004058525742929844,
           0.002004801230930195,
           -0.00031073244127748567,
           0.00020163232378118514,
           -0.0010941080196175416,
           -0.001617566206840764,
           -0.0009601810727423006,
           8.383414231002586e-05,
           0.0005639452300591437,
           -0.0010625487660091116,
           -0.0008488737176590112,
           0.0007356946834426292,
           -0.0008263242941725494,
           1,
           -0.00025699974900187533,
           0.0005221041491486943
          ],
          [
           0.00019422494950413398,
           -0.0017438319546571666,
           -0.00016221628124592083,
           0.0003668294896141763,
           -0.0008816797556198123,
           -0.0019656334704160343,
           0.00027647817624187415,
           0.002790733141214443,
           -0.0013611791678382681,
           -0.0009190393767006686,
           -0.0011026523735666325,
           0.0015546541592544056,
           -0.0012407285242708988,
           -0.00177938228780793,
           0.002079286759967087,
           -0.001011803475128225,
           0.0017437917830255066,
           0.000302046273722002,
           -0.000775522520941263,
           -0.0007859433395340328,
           0.0005198560815098648,
           -0.001429640835509628,
           -0.00041450859584372013,
           -0.00032009578404121797,
           -0.0024179401571196766,
           -0.0023403993866281864,
           0.0017796446920497185,
           0.00037910847774123016,
           0.0012730291759389485,
           -0.0005855613681816019,
           -0.0003423887666784939,
           0.002231261537685798,
           0.0009016703557466272,
           0.000265149884568008,
           0.001185020358559964,
           -0.0011828498563552418,
           0.0007846466422613742,
           0.00044405455709719063,
           -0.0013024254093651026,
           -0.001376508876451207,
           0.0010213745943391122,
           0.0019451945132455144,
           -7.567114607784485e-05,
           0.0008350357428591764,
           7.729719133329597e-05,
           0.00045021931582085706,
           -0.00025699974900187533,
           1,
           3.090079145178708e-05
          ],
          [
           -0.0012665168671921255,
           -0.001072228427539796,
           -0.0014640083176233343,
           -0.0020700765230598018,
           -0.0037094085792765473,
           0.001243938381928249,
           0.00027869054705160953,
           0.00020310560100537877,
           -0.0009608000950925175,
           0.0009953591808107966,
           -0.00012315711435226232,
           -0.0033898188648503517,
           0.00040941255000901474,
           0.0031663201946022525,
           -0.0009808134646700508,
           0.0017825538619420389,
           -0.0020395145220801184,
           0.0015192075603971586,
           -0.001922700612824355,
           0.0007240485980728538,
           -0.0005613985985714529,
           0.0009304624944871997,
           0.001422454126777135,
           -0.000530191633756738,
           0.00014994127387786243,
           -0.0005226832895863518,
           -0.0023689086360795487,
           0.00024794607556469814,
           0.0005456450862347396,
           0.000238389420519572,
           0.0015132572839368873,
           0.001280038558302366,
           0.0001461496973993162,
           0.0014943221390320998,
           0.0008642753852533341,
           0.0003942514216219668,
           -0.0007678417278635954,
           6.652856730239265e-05,
           -0.0003357342939010003,
           -0.00016434196923967474,
           -0.0005819389857347257,
           -0.0016489428988119854,
           -0.0004769508970122722,
           0.0028691848832983215,
           -8.498697276466399e-05,
           0.0009660833743344739,
           0.0005221041491486943,
           3.090079145178708e-05,
           1
          ]
         ]
        }
       ],
       "layout": {
        "height": 700,
        "template": {
         "data": {
          "bar": [
           {
            "error_x": {
             "color": "#2a3f5f"
            },
            "error_y": {
             "color": "#2a3f5f"
            },
            "marker": {
             "line": {
              "color": "#E5ECF6",
              "width": 0.5
             },
             "pattern": {
              "fillmode": "overlay",
              "size": 10,
              "solidity": 0.2
             }
            },
            "type": "bar"
           }
          ],
          "barpolar": [
           {
            "marker": {
             "line": {
              "color": "#E5ECF6",
              "width": 0.5
             },
             "pattern": {
              "fillmode": "overlay",
              "size": 10,
              "solidity": 0.2
             }
            },
            "type": "barpolar"
           }
          ],
          "carpet": [
           {
            "aaxis": {
             "endlinecolor": "#2a3f5f",
             "gridcolor": "white",
             "linecolor": "white",
             "minorgridcolor": "white",
             "startlinecolor": "#2a3f5f"
            },
            "baxis": {
             "endlinecolor": "#2a3f5f",
             "gridcolor": "white",
             "linecolor": "white",
             "minorgridcolor": "white",
             "startlinecolor": "#2a3f5f"
            },
            "type": "carpet"
           }
          ],
          "choropleth": [
           {
            "colorbar": {
             "outlinewidth": 0,
             "ticks": ""
            },
            "type": "choropleth"
           }
          ],
          "contour": [
           {
            "colorbar": {
             "outlinewidth": 0,
             "ticks": ""
            },
            "colorscale": [
             [
              0,
              "#0d0887"
             ],
             [
              0.1111111111111111,
              "#46039f"
             ],
             [
              0.2222222222222222,
              "#7201a8"
             ],
             [
              0.3333333333333333,
              "#9c179e"
             ],
             [
              0.4444444444444444,
              "#bd3786"
             ],
             [
              0.5555555555555556,
              "#d8576b"
             ],
             [
              0.6666666666666666,
              "#ed7953"
             ],
             [
              0.7777777777777778,
              "#fb9f3a"
             ],
             [
              0.8888888888888888,
              "#fdca26"
             ],
             [
              1,
              "#f0f921"
             ]
            ],
            "type": "contour"
           }
          ],
          "contourcarpet": [
           {
            "colorbar": {
             "outlinewidth": 0,
             "ticks": ""
            },
            "type": "contourcarpet"
           }
          ],
          "heatmap": [
           {
            "colorbar": {
             "outlinewidth": 0,
             "ticks": ""
            },
            "colorscale": [
             [
              0,
              "#0d0887"
             ],
             [
              0.1111111111111111,
              "#46039f"
             ],
             [
              0.2222222222222222,
              "#7201a8"
             ],
             [
              0.3333333333333333,
              "#9c179e"
             ],
             [
              0.4444444444444444,
              "#bd3786"
             ],
             [
              0.5555555555555556,
              "#d8576b"
             ],
             [
              0.6666666666666666,
              "#ed7953"
             ],
             [
              0.7777777777777778,
              "#fb9f3a"
             ],
             [
              0.8888888888888888,
              "#fdca26"
             ],
             [
              1,
              "#f0f921"
             ]
            ],
            "type": "heatmap"
           }
          ],
          "heatmapgl": [
           {
            "colorbar": {
             "outlinewidth": 0,
             "ticks": ""
            },
            "colorscale": [
             [
              0,
              "#0d0887"
             ],
             [
              0.1111111111111111,
              "#46039f"
             ],
             [
              0.2222222222222222,
              "#7201a8"
             ],
             [
              0.3333333333333333,
              "#9c179e"
             ],
             [
              0.4444444444444444,
              "#bd3786"
             ],
             [
              0.5555555555555556,
              "#d8576b"
             ],
             [
              0.6666666666666666,
              "#ed7953"
             ],
             [
              0.7777777777777778,
              "#fb9f3a"
             ],
             [
              0.8888888888888888,
              "#fdca26"
             ],
             [
              1,
              "#f0f921"
             ]
            ],
            "type": "heatmapgl"
           }
          ],
          "histogram": [
           {
            "marker": {
             "pattern": {
              "fillmode": "overlay",
              "size": 10,
              "solidity": 0.2
             }
            },
            "type": "histogram"
           }
          ],
          "histogram2d": [
           {
            "colorbar": {
             "outlinewidth": 0,
             "ticks": ""
            },
            "colorscale": [
             [
              0,
              "#0d0887"
             ],
             [
              0.1111111111111111,
              "#46039f"
             ],
             [
              0.2222222222222222,
              "#7201a8"
             ],
             [
              0.3333333333333333,
              "#9c179e"
             ],
             [
              0.4444444444444444,
              "#bd3786"
             ],
             [
              0.5555555555555556,
              "#d8576b"
             ],
             [
              0.6666666666666666,
              "#ed7953"
             ],
             [
              0.7777777777777778,
              "#fb9f3a"
             ],
             [
              0.8888888888888888,
              "#fdca26"
             ],
             [
              1,
              "#f0f921"
             ]
            ],
            "type": "histogram2d"
           }
          ],
          "histogram2dcontour": [
           {
            "colorbar": {
             "outlinewidth": 0,
             "ticks": ""
            },
            "colorscale": [
             [
              0,
              "#0d0887"
             ],
             [
              0.1111111111111111,
              "#46039f"
             ],
             [
              0.2222222222222222,
              "#7201a8"
             ],
             [
              0.3333333333333333,
              "#9c179e"
             ],
             [
              0.4444444444444444,
              "#bd3786"
             ],
             [
              0.5555555555555556,
              "#d8576b"
             ],
             [
              0.6666666666666666,
              "#ed7953"
             ],
             [
              0.7777777777777778,
              "#fb9f3a"
             ],
             [
              0.8888888888888888,
              "#fdca26"
             ],
             [
              1,
              "#f0f921"
             ]
            ],
            "type": "histogram2dcontour"
           }
          ],
          "mesh3d": [
           {
            "colorbar": {
             "outlinewidth": 0,
             "ticks": ""
            },
            "type": "mesh3d"
           }
          ],
          "parcoords": [
           {
            "line": {
             "colorbar": {
              "outlinewidth": 0,
              "ticks": ""
             }
            },
            "type": "parcoords"
           }
          ],
          "pie": [
           {
            "automargin": true,
            "type": "pie"
           }
          ],
          "scatter": [
           {
            "fillpattern": {
             "fillmode": "overlay",
             "size": 10,
             "solidity": 0.2
            },
            "type": "scatter"
           }
          ],
          "scatter3d": [
           {
            "line": {
             "colorbar": {
              "outlinewidth": 0,
              "ticks": ""
             }
            },
            "marker": {
             "colorbar": {
              "outlinewidth": 0,
              "ticks": ""
             }
            },
            "type": "scatter3d"
           }
          ],
          "scattercarpet": [
           {
            "marker": {
             "colorbar": {
              "outlinewidth": 0,
              "ticks": ""
             }
            },
            "type": "scattercarpet"
           }
          ],
          "scattergeo": [
           {
            "marker": {
             "colorbar": {
              "outlinewidth": 0,
              "ticks": ""
             }
            },
            "type": "scattergeo"
           }
          ],
          "scattergl": [
           {
            "marker": {
             "colorbar": {
              "outlinewidth": 0,
              "ticks": ""
             }
            },
            "type": "scattergl"
           }
          ],
          "scattermapbox": [
           {
            "marker": {
             "colorbar": {
              "outlinewidth": 0,
              "ticks": ""
             }
            },
            "type": "scattermapbox"
           }
          ],
          "scatterpolar": [
           {
            "marker": {
             "colorbar": {
              "outlinewidth": 0,
              "ticks": ""
             }
            },
            "type": "scatterpolar"
           }
          ],
          "scatterpolargl": [
           {
            "marker": {
             "colorbar": {
              "outlinewidth": 0,
              "ticks": ""
             }
            },
            "type": "scatterpolargl"
           }
          ],
          "scatterternary": [
           {
            "marker": {
             "colorbar": {
              "outlinewidth": 0,
              "ticks": ""
             }
            },
            "type": "scatterternary"
           }
          ],
          "surface": [
           {
            "colorbar": {
             "outlinewidth": 0,
             "ticks": ""
            },
            "colorscale": [
             [
              0,
              "#0d0887"
             ],
             [
              0.1111111111111111,
              "#46039f"
             ],
             [
              0.2222222222222222,
              "#7201a8"
             ],
             [
              0.3333333333333333,
              "#9c179e"
             ],
             [
              0.4444444444444444,
              "#bd3786"
             ],
             [
              0.5555555555555556,
              "#d8576b"
             ],
             [
              0.6666666666666666,
              "#ed7953"
             ],
             [
              0.7777777777777778,
              "#fb9f3a"
             ],
             [
              0.8888888888888888,
              "#fdca26"
             ],
             [
              1,
              "#f0f921"
             ]
            ],
            "type": "surface"
           }
          ],
          "table": [
           {
            "cells": {
             "fill": {
              "color": "#EBF0F8"
             },
             "line": {
              "color": "white"
             }
            },
            "header": {
             "fill": {
              "color": "#C8D4E3"
             },
             "line": {
              "color": "white"
             }
            },
            "type": "table"
           }
          ]
         },
         "layout": {
          "annotationdefaults": {
           "arrowcolor": "#2a3f5f",
           "arrowhead": 0,
           "arrowwidth": 1
          },
          "autotypenumbers": "strict",
          "coloraxis": {
           "colorbar": {
            "outlinewidth": 0,
            "ticks": ""
           }
          },
          "colorscale": {
           "diverging": [
            [
             0,
             "#8e0152"
            ],
            [
             0.1,
             "#c51b7d"
            ],
            [
             0.2,
             "#de77ae"
            ],
            [
             0.3,
             "#f1b6da"
            ],
            [
             0.4,
             "#fde0ef"
            ],
            [
             0.5,
             "#f7f7f7"
            ],
            [
             0.6,
             "#e6f5d0"
            ],
            [
             0.7,
             "#b8e186"
            ],
            [
             0.8,
             "#7fbc41"
            ],
            [
             0.9,
             "#4d9221"
            ],
            [
             1,
             "#276419"
            ]
           ],
           "sequential": [
            [
             0,
             "#0d0887"
            ],
            [
             0.1111111111111111,
             "#46039f"
            ],
            [
             0.2222222222222222,
             "#7201a8"
            ],
            [
             0.3333333333333333,
             "#9c179e"
            ],
            [
             0.4444444444444444,
             "#bd3786"
            ],
            [
             0.5555555555555556,
             "#d8576b"
            ],
            [
             0.6666666666666666,
             "#ed7953"
            ],
            [
             0.7777777777777778,
             "#fb9f3a"
            ],
            [
             0.8888888888888888,
             "#fdca26"
            ],
            [
             1,
             "#f0f921"
            ]
           ],
           "sequentialminus": [
            [
             0,
             "#0d0887"
            ],
            [
             0.1111111111111111,
             "#46039f"
            ],
            [
             0.2222222222222222,
             "#7201a8"
            ],
            [
             0.3333333333333333,
             "#9c179e"
            ],
            [
             0.4444444444444444,
             "#bd3786"
            ],
            [
             0.5555555555555556,
             "#d8576b"
            ],
            [
             0.6666666666666666,
             "#ed7953"
            ],
            [
             0.7777777777777778,
             "#fb9f3a"
            ],
            [
             0.8888888888888888,
             "#fdca26"
            ],
            [
             1,
             "#f0f921"
            ]
           ]
          },
          "colorway": [
           "#636efa",
           "#EF553B",
           "#00cc96",
           "#ab63fa",
           "#FFA15A",
           "#19d3f3",
           "#FF6692",
           "#B6E880",
           "#FF97FF",
           "#FECB52"
          ],
          "font": {
           "color": "#2a3f5f"
          },
          "geo": {
           "bgcolor": "white",
           "lakecolor": "white",
           "landcolor": "#E5ECF6",
           "showlakes": true,
           "showland": true,
           "subunitcolor": "white"
          },
          "hoverlabel": {
           "align": "left"
          },
          "hovermode": "closest",
          "mapbox": {
           "style": "light"
          },
          "paper_bgcolor": "white",
          "plot_bgcolor": "#E5ECF6",
          "polar": {
           "angularaxis": {
            "gridcolor": "white",
            "linecolor": "white",
            "ticks": ""
           },
           "bgcolor": "#E5ECF6",
           "radialaxis": {
            "gridcolor": "white",
            "linecolor": "white",
            "ticks": ""
           }
          },
          "scene": {
           "xaxis": {
            "backgroundcolor": "#E5ECF6",
            "gridcolor": "white",
            "gridwidth": 2,
            "linecolor": "white",
            "showbackground": true,
            "ticks": "",
            "zerolinecolor": "white"
           },
           "yaxis": {
            "backgroundcolor": "#E5ECF6",
            "gridcolor": "white",
            "gridwidth": 2,
            "linecolor": "white",
            "showbackground": true,
            "ticks": "",
            "zerolinecolor": "white"
           },
           "zaxis": {
            "backgroundcolor": "#E5ECF6",
            "gridcolor": "white",
            "gridwidth": 2,
            "linecolor": "white",
            "showbackground": true,
            "ticks": "",
            "zerolinecolor": "white"
           }
          },
          "shapedefaults": {
           "line": {
            "color": "#2a3f5f"
           }
          },
          "ternary": {
           "aaxis": {
            "gridcolor": "white",
            "linecolor": "white",
            "ticks": ""
           },
           "baxis": {
            "gridcolor": "white",
            "linecolor": "white",
            "ticks": ""
           },
           "bgcolor": "#E5ECF6",
           "caxis": {
            "gridcolor": "white",
            "linecolor": "white",
            "ticks": ""
           }
          },
          "title": {
           "x": 0.05
          },
          "xaxis": {
           "automargin": true,
           "gridcolor": "white",
           "linecolor": "white",
           "ticks": "",
           "title": {
            "standoff": 15
           },
           "zerolinecolor": "white",
           "zerolinewidth": 2
          },
          "yaxis": {
           "automargin": true,
           "gridcolor": "white",
           "linecolor": "white",
           "ticks": "",
           "title": {
            "standoff": 15
           },
           "zerolinecolor": "white",
           "zerolinewidth": 2
          }
         }
        },
        "title": {
         "text": "Pearson Correlation of Integer-type features"
        },
        "width": 900,
        "xaxis": {
         "nticks": 36,
         "ticks": ""
        },
        "yaxis": {
         "ticks": ""
        }
       }
      },
      "text/html": [
       "<div>                            <div id=\"772ee9f6-8204-461b-b5d9-c1962f21a09a\" class=\"plotly-graph-div\" style=\"height:700px; width:900px;\"></div>            <script type=\"text/javascript\">                require([\"plotly\"], function(Plotly) {                    window.PLOTLYENV=window.PLOTLYENV || {};                                    if (document.getElementById(\"772ee9f6-8204-461b-b5d9-c1962f21a09a\")) {                    Plotly.newPlot(                        \"772ee9f6-8204-461b-b5d9-c1962f21a09a\",                        [{\"colorscale\":[[0.0,\"#440154\"],[0.1111111111111111,\"#482878\"],[0.2222222222222222,\"#3e4989\"],[0.3333333333333333,\"#31688e\"],[0.4444444444444444,\"#26828e\"],[0.5555555555555556,\"#1f9e89\"],[0.6666666666666666,\"#35b779\"],[0.7777777777777778,\"#6ece58\"],[0.8888888888888888,\"#b5de2b\"],[1.0,\"#fde725\"]],\"hoverinfo\":\"text\",\"opacity\":1.0,\"reversescale\":false,\"text\":[[1.0,-0.0,0.0,0.0,-0.0,0.0,0.0,-0.0,0.0,-0.0,-0.0,-0.0,-0.0,-0.0,-0.0,-0.0,-0.0,-0.0,0.0,0.0,-0.0,-0.0,0.0,0.0,-0.0,-0.0,-0.0,0.0,0.0,-0.0,0.0,0.0,0.0,-0.0,0.0,0.0,0.0,0.0,0.0,-0.0,-0.0,-0.0,0.0,-0.0,-0.0,-0.0,-0.0,0.0,-0.0],[-0.0,1.0,0.02,0.0,0.01,0.01,0.03,-0.03,0.03,0.01,-0.01,0.0,0.0,0.01,0.0,0.01,-0.02,-0.03,0.04,0.0,0.02,-0.03,0.03,0.03,0.02,0.01,-0.04,-0.02,0.01,0.0,0.01,-0.0,0.0,0.0,0.0,-0.0,-0.0,0.0,0.0,0.0,-0.0,-0.0,0.0,-0.0,0.0,-0.0,0.0,-0.0,-0.0],[0.0,0.02,1.0,-0.0,0.22,0.07,0.01,-0.28,0.01,0.19,0.16,0.0,-0.02,-0.02,-0.01,-0.02,0.12,0.04,0.1,-0.11,-0.06,-0.12,0.04,0.08,0.21,0.07,-0.0,0.14,-0.1,0.01,0.01,0.01,-0.0,-0.0,0.0,-0.0,0.0,-0.0,-0.0,-0.0,0.0,0.0,-0.0,-0.0,-0.0,-0.0,-0.0,-0.0,-0.0],[0.0,0.0,-0.0,1.0,-0.06,0.15,-0.01,-0.13,0.02,0.03,0.11,-0.0,0.0,-0.0,-0.0,-0.0,-0.0,0.01,-0.02,-0.0,0.0,0.05,-0.0,-0.07,-0.01,-0.02,-0.01,0.0,0.01,0.01,0.01,0.02,-0.0,-0.0,0.0,-0.0,-0.0,0.0,-0.0,0.0,-0.0,-0.0,-0.0,-0.0,0.0,0.0,0.0,0.0,-0.0],[-0.0,0.01,0.22,-0.06,1.0,-0.1,0.05,-0.05,-0.06,0.01,0.11,0.01,-0.0,0.0,0.0,0.0,0.17,-0.02,0.03,0.0,-0.03,-0.04,0.1,0.07,0.14,0.01,0.06,0.0,-0.01,-0.01,-0.03,-0.06,0.0,-0.0,0.0,0.0,0.0,-0.0,0.0,-0.0,-0.0,0.0,0.0,0.0,-0.0,0.0,-0.0,-0.0,-0.0],[0.0,0.01,0.07,0.15,-0.1,1.0,0.01,-0.3,0.3,0.04,-0.01,0.0,0.0,-0.0,-0.0,-0.0,0.08,0.02,0.01,-0.03,0.03,0.0,0.02,-0.05,0.06,0.03,0.06,-0.01,-0.04,0.02,-0.0,0.07,0.0,0.0,0.0,-0.0,-0.0,0.0,0.0,-0.0,-0.0,0.0,0.0,0.0,0.0,0.0,0.0,-0.0,0.0],[0.0,0.03,0.01,-0.01,0.05,0.01,1.0,0.01,-0.01,0.0,-0.01,0.0,-0.0,-0.0,0.0,-0.0,0.01,0.0,0.01,-0.01,-0.04,0.01,-0.01,-0.01,-0.01,-0.01,0.05,-0.0,-0.01,0.0,-0.0,0.0,0.0,-0.0,-0.0,-0.0,-0.0,-0.0,-0.0,-0.0,0.0,0.0,0.0,0.0,-0.0,0.0,0.0,0.0,0.0],[-0.0,-0.03,-0.28,-0.13,-0.05,-0.3,0.01,1.0,-0.47,-0.36,-0.38,-0.01,-0.01,-0.02,-0.01,-0.02,0.02,0.03,-0.04,-0.01,-0.08,0.14,-0.08,-0.19,-0.16,-0.06,0.04,0.04,0.1,-0.04,-0.03,0.02,-0.0,-0.0,-0.0,-0.0,-0.0,-0.0,-0.0,0.0,0.0,-0.0,0.0,0.0,-0.0,-0.0,-0.0,0.0,0.0],[0.0,0.03,0.01,0.02,-0.06,0.3,-0.01,-0.47,1.0,-0.26,-0.28,0.01,0.01,0.04,0.01,0.04,-0.12,-0.07,0.02,0.08,0.06,-0.16,0.1,0.2,0.09,0.02,-0.06,-0.12,-0.06,0.03,0.05,0.07,0.0,-0.0,0.0,-0.0,-0.0,0.0,0.0,-0.0,-0.0,0.0,0.0,0.0,0.0,-0.0,0.0,-0.0,-0.0],[-0.0,0.01,0.19,0.03,0.01,0.04,0.0,-0.36,-0.26,1.0,-0.21,0.01,0.01,0.01,0.01,0.02,0.05,0.01,0.04,-0.03,0.0,-0.03,0.04,0.08,0.06,0.06,-0.01,0.04,-0.01,0.03,0.04,-0.08,-0.0,0.0,0.0,0.0,0.0,-0.0,-0.0,-0.0,-0.0,-0.0,-0.0,-0.0,-0.0,-0.0,-0.0,-0.0,0.0],[-0.0,-0.01,0.16,0.11,0.11,-0.01,-0.01,-0.38,-0.28,-0.21,1.0,-0.01,-0.01,-0.03,-0.01,-0.03,0.06,0.04,-0.01,-0.04,0.02,0.04,-0.05,-0.07,0.04,-0.01,0.03,0.05,-0.05,-0.01,-0.05,-0.02,0.0,0.0,-0.0,0.0,0.0,0.0,-0.0,0.0,0.0,0.0,-0.0,-0.0,0.0,0.0,0.0,-0.0,-0.0],[-0.0,0.0,0.0,-0.0,0.01,0.0,0.0,-0.01,0.01,0.01,-0.01,1.0,0.06,0.1,0.08,0.27,-0.02,-0.02,0.01,0.03,0.01,-0.02,0.02,0.02,0.02,0.0,-0.02,-0.0,0.01,0.0,0.01,0.0,0.0,0.0,-0.0,0.0,0.0,0.0,-0.0,-0.0,0.0,0.0,0.0,-0.0,0.0,0.0,0.0,0.0,-0.0],[-0.0,0.0,-0.02,0.0,-0.0,0.0,-0.0,-0.01,0.01,0.01,-0.01,0.06,1.0,0.25,0.18,0.56,-0.06,-0.05,0.0,0.07,0.0,-0.0,0.05,0.01,0.03,0.0,-0.02,-0.0,0.02,-0.0,0.01,0.0,-0.0,-0.0,0.0,-0.0,0.0,0.0,0.0,0.0,-0.0,0.0,-0.0,-0.0,0.0,0.0,-0.0,-0.0,0.0],[-0.0,0.01,-0.02,-0.0,0.0,-0.0,-0.0,-0.02,0.04,0.01,-0.03,0.1,0.25,1.0,0.15,0.89,-0.12,-0.1,0.03,0.11,0.02,-0.02,0.12,0.03,0.07,0.0,-0.03,-0.01,0.04,-0.01,0.01,0.0,-0.0,0.0,0.0,0.0,0.0,-0.0,0.0,0.0,0.0,0.0,-0.0,-0.0,0.0,0.0,-0.0,-0.0,0.0],[-0.0,0.0,-0.01,-0.0,0.0,-0.0,0.0,-0.01,0.01,0.01,-0.01,0.08,0.18,0.15,1.0,0.43,-0.04,-0.04,0.0,0.05,0.01,-0.01,0.04,0.01,0.02,0.0,-0.02,-0.01,0.01,0.0,0.0,0.0,0.0,-0.0,-0.0,0.0,0.0,-0.0,0.0,-0.0,-0.0,-0.0,0.0,0.0,0.0,-0.0,-0.0,0.0,-0.0],[-0.0,0.01,-0.02,-0.0,0.0,-0.0,-0.0,-0.02,0.04,0.02,-0.03,0.27,0.56,0.89,0.43,1.0,-0.12,-0.11,0.02,0.12,0.02,-0.02,0.12,0.03,0.07,0.01,-0.04,-0.01,0.05,-0.0,0.01,0.0,-0.0,0.0,-0.0,0.0,0.0,-0.0,0.0,-0.0,0.0,0.0,-0.0,-0.0,0.0,0.0,-0.0,-0.0,0.0],[-0.0,-0.02,0.12,-0.0,0.17,0.08,0.01,0.02,-0.12,0.05,0.06,-0.02,-0.06,-0.12,-0.04,-0.12,1.0,0.31,-0.02,-0.45,0.03,0.01,0.07,-0.05,0.05,0.0,0.06,0.02,0.04,0.02,-0.01,0.02,0.0,0.0,0.0,0.0,-0.0,-0.0,-0.0,-0.0,-0.0,-0.0,0.0,0.0,-0.0,0.0,-0.0,0.0,-0.0],[-0.0,-0.03,0.04,0.01,-0.02,0.02,0.0,0.03,-0.07,0.01,0.04,-0.02,-0.05,-0.1,-0.04,-0.11,0.31,1.0,-0.52,-0.59,0.0,0.03,-0.05,-0.04,-0.06,-0.02,0.04,0.03,0.02,0.01,-0.01,0.02,-0.0,0.0,-0.0,0.0,-0.0,-0.0,-0.0,-0.0,0.0,-0.0,-0.0,0.0,-0.0,-0.0,0.0,0.0,0.0],[0.0,0.04,0.1,-0.02,0.03,0.01,0.01,-0.04,0.02,0.04,-0.01,0.01,0.0,0.03,0.0,0.02,-0.02,-0.52,1.0,-0.16,0.06,-0.06,0.14,0.04,0.07,0.03,-0.04,-0.01,0.08,-0.01,0.01,0.01,0.0,-0.0,-0.0,-0.0,-0.0,0.0,-0.0,-0.0,-0.0,0.0,0.0,-0.0,-0.0,-0.0,0.0,-0.0,-0.0],[0.0,0.0,-0.11,-0.0,0.0,-0.03,-0.01,-0.01,0.08,-0.03,-0.04,0.03,0.07,0.11,0.05,0.12,-0.45,-0.59,-0.16,1.0,-0.05,0.01,-0.04,0.02,-0.0,-0.01,-0.02,-0.03,-0.04,-0.0,0.0,-0.03,-0.0,-0.0,0.0,-0.0,0.0,0.0,0.0,0.0,0.0,0.0,-0.0,-0.0,-0.0,0.0,0.0,-0.0,0.0],[-0.0,0.02,-0.06,0.0,-0.03,0.03,-0.04,-0.08,0.06,0.0,0.02,0.01,0.0,0.02,0.01,0.02,0.03,0.0,0.06,-0.05,1.0,-0.15,0.14,0.07,-0.15,0.05,0.0,-0.06,0.27,0.01,0.01,0.11,0.0,-0.0,-0.0,-0.0,-0.0,0.0,0.0,-0.0,-0.0,0.0,0.0,0.0,-0.0,0.0,0.0,0.0,-0.0],[-0.0,-0.03,-0.12,0.05,-0.04,0.0,0.01,0.14,-0.16,-0.03,0.04,-0.02,-0.0,-0.02,-0.01,-0.02,0.01,0.03,-0.06,0.01,-0.15,1.0,-0.11,-0.27,-0.09,-0.25,0.1,0.04,-0.01,-0.02,-0.0,-0.09,0.0,0.0,-0.0,-0.0,0.0,-0.0,-0.0,-0.0,0.0,0.0,-0.0,-0.0,-0.0,-0.0,-0.0,-0.0,0.0],[0.0,0.03,0.04,-0.0,0.1,0.02,-0.01,-0.08,0.1,0.04,-0.05,0.02,0.05,0.12,0.04,0.12,0.07,-0.05,0.14,-0.04,0.14,-0.11,1.0,0.1,0.49,0.03,-0.15,-0.25,0.27,0.01,0.02,0.08,-0.0,-0.0,0.0,0.0,0.0,0.0,0.0,-0.0,-0.0,0.0,0.0,-0.0,-0.0,-0.0,-0.0,-0.0,0.0],[0.0,0.03,0.08,-0.07,0.07,-0.05,-0.01,-0.19,0.2,0.08,-0.07,0.02,0.01,0.03,0.01,0.03,-0.05,-0.04,0.04,0.02,0.07,-0.27,0.1,1.0,0.14,0.19,-0.18,-0.05,-0.04,0.0,0.07,-0.06,0.0,0.0,0.0,0.0,0.0,-0.0,0.0,0.0,0.0,0.0,-0.0,0.0,0.0,0.0,0.0,-0.0,-0.0],[-0.0,0.02,0.21,-0.01,0.14,0.06,-0.01,-0.16,0.09,0.06,0.04,0.02,0.03,0.07,0.02,0.07,0.05,-0.06,0.07,-0.0,-0.15,-0.09,0.49,0.14,1.0,0.06,-0.08,-0.04,-0.33,0.02,0.04,-0.08,-0.0,0.0,0.0,0.0,0.0,0.0,-0.0,-0.0,-0.0,0.0,0.0,-0.0,0.0,-0.0,-0.0,-0.0,0.0],[-0.0,0.01,0.07,-0.02,0.01,0.03,-0.01,-0.06,0.02,0.06,-0.01,0.0,0.0,0.0,0.0,0.01,0.0,-0.02,0.03,-0.01,0.05,-0.25,0.03,0.19,0.06,1.0,-0.03,-0.01,0.0,-0.0,0.03,-0.03,0.0,0.0,0.0,-0.0,0.0,0.0,-0.0,0.0,0.0,-0.0,0.0,0.0,0.0,0.0,0.0,-0.0,-0.0],[-0.0,-0.04,-0.0,-0.01,0.06,0.06,0.05,0.04,-0.06,-0.01,0.03,-0.02,-0.02,-0.03,-0.02,-0.04,0.06,0.04,-0.04,-0.02,0.0,0.1,-0.15,-0.18,-0.08,-0.03,1.0,0.06,-0.04,0.0,-0.08,0.06,0.0,-0.0,0.0,-0.0,0.0,-0.0,-0.0,0.0,0.0,0.0,0.0,-0.0,-0.0,0.0,0.0,0.0,-0.0],[0.0,-0.02,0.14,0.0,0.0,-0.01,-0.0,0.04,-0.12,0.04,0.05,-0.0,-0.0,-0.01,-0.01,-0.01,0.02,0.03,-0.01,-0.03,-0.06,0.04,-0.25,-0.05,-0.04,-0.01,0.06,1.0,-0.02,-0.03,0.03,-0.04,-0.0,-0.0,-0.0,-0.0,0.0,-0.0,-0.0,0.0,0.0,0.0,-0.0,-0.0,0.0,0.0,-0.0,0.0,0.0],[0.0,0.01,-0.1,0.01,-0.01,-0.04,-0.01,0.1,-0.06,-0.01,-0.05,0.01,0.02,0.04,0.01,0.05,0.04,0.02,0.08,-0.04,0.27,-0.01,0.27,-0.04,-0.33,0.0,-0.04,-0.02,1.0,-0.02,-0.01,0.12,0.0,0.0,-0.0,0.0,-0.0,-0.0,0.0,-0.0,-0.0,-0.0,-0.0,0.0,-0.0,-0.0,0.0,0.0,0.0],[-0.0,0.0,0.01,0.01,-0.01,0.02,0.0,-0.04,0.03,0.03,-0.01,0.0,-0.0,-0.01,0.0,-0.0,0.02,0.01,-0.01,-0.0,0.01,-0.02,0.01,0.0,0.02,-0.0,0.0,-0.03,-0.02,1.0,0.0,0.01,-0.0,-0.0,-0.0,0.0,0.0,-0.0,-0.0,0.0,0.0,0.0,-0.0,-0.0,0.0,-0.0,0.0,-0.0,0.0],[0.0,0.01,0.01,0.01,-0.03,-0.0,-0.0,-0.03,0.05,0.04,-0.05,0.01,0.01,0.01,0.0,0.01,-0.01,-0.01,0.01,0.0,0.01,-0.0,0.02,0.07,0.04,0.03,-0.08,0.03,-0.01,0.0,1.0,-0.05,0.0,-0.0,-0.0,0.0,-0.0,0.0,0.0,0.0,-0.0,-0.0,0.0,-0.0,0.0,0.0,-0.0,-0.0,0.0],[0.0,-0.0,0.01,0.02,-0.06,0.07,0.0,0.02,0.07,-0.08,-0.02,0.0,0.0,0.0,0.0,0.0,0.02,0.02,0.01,-0.03,0.11,-0.09,0.08,-0.06,-0.08,-0.03,0.06,-0.04,0.12,0.01,-0.05,1.0,0.0,0.0,-0.0,-0.0,-0.0,-0.0,-0.0,-0.0,-0.0,0.0,0.0,-0.0,0.0,-0.0,0.0,0.0,0.0],[0.0,0.0,-0.0,-0.0,0.0,0.0,0.0,-0.0,0.0,-0.0,0.0,0.0,-0.0,-0.0,0.0,-0.0,0.0,-0.0,0.0,-0.0,0.0,0.0,-0.0,0.0,-0.0,0.0,0.0,-0.0,0.0,-0.0,0.0,0.0,1.0,0.0,-0.0,0.0,-0.0,-0.0,0.0,0.0,0.0,-0.0,0.0,0.0,-0.0,0.0,0.0,0.0,0.0],[-0.0,0.0,-0.0,-0.0,-0.0,0.0,-0.0,-0.0,-0.0,0.0,0.0,0.0,-0.0,0.0,-0.0,0.0,0.0,0.0,-0.0,-0.0,-0.0,0.0,-0.0,0.0,0.0,0.0,-0.0,-0.0,0.0,-0.0,-0.0,0.0,0.0,1.0,-0.0,-0.0,-0.0,0.0,-0.0,0.0,-0.0,0.0,-0.0,0.0,-0.0,-0.0,-0.0,0.0,0.0],[0.0,0.0,0.0,0.0,0.0,0.0,-0.0,-0.0,0.0,0.0,-0.0,-0.0,0.0,0.0,-0.0,-0.0,0.0,-0.0,-0.0,0.0,-0.0,-0.0,0.0,0.0,0.0,0.0,0.0,-0.0,-0.0,-0.0,-0.0,-0.0,-0.0,-0.0,1.0,-0.0,-0.0,0.0,-0.0,-0.0,0.0,0.0,-0.0,0.0,0.0,0.0,0.0,0.0,0.0],[0.0,-0.0,-0.0,-0.0,0.0,-0.0,-0.0,-0.0,-0.0,0.0,0.0,0.0,-0.0,0.0,0.0,0.0,0.0,0.0,-0.0,-0.0,-0.0,-0.0,0.0,0.0,0.0,-0.0,-0.0,-0.0,0.0,0.0,0.0,-0.0,0.0,-0.0,-0.0,1.0,-0.0,0.0,-0.0,-0.0,-0.0,-0.0,0.0,0.0,-0.0,-0.0,-0.0,-0.0,0.0],[0.0,-0.0,0.0,-0.0,0.0,-0.0,-0.0,-0.0,-0.0,0.0,0.0,0.0,0.0,0.0,0.0,0.0,-0.0,-0.0,-0.0,0.0,-0.0,0.0,0.0,0.0,0.0,0.0,0.0,0.0,-0.0,0.0,-0.0,-0.0,-0.0,-0.0,-0.0,-0.0,1.0,0.0,-0.0,0.0,0.0,-0.0,-0.0,-0.0,0.0,-0.0,0.0,0.0,-0.0],[0.0,0.0,-0.0,0.0,-0.0,0.0,-0.0,-0.0,0.0,-0.0,0.0,0.0,0.0,-0.0,-0.0,-0.0,-0.0,-0.0,0.0,0.0,0.0,-0.0,0.0,-0.0,0.0,0.0,-0.0,-0.0,-0.0,-0.0,0.0,-0.0,-0.0,0.0,0.0,0.0,0.0,1.0,-0.0,-0.0,-0.0,-0.0,-0.0,0.0,-0.0,-0.0,-0.0,0.0,0.0],[0.0,0.0,-0.0,-0.0,0.0,0.0,-0.0,-0.0,0.0,-0.0,-0.0,-0.0,0.0,0.0,0.0,0.0,-0.0,-0.0,-0.0,0.0,0.0,-0.0,0.0,0.0,-0.0,-0.0,-0.0,-0.0,0.0,-0.0,0.0,-0.0,0.0,-0.0,-0.0,-0.0,-0.0,-0.0,1.0,0.0,0.0,0.0,0.0,-0.0,0.0,0.0,-0.0,-0.0,-0.0],[-0.0,0.0,-0.0,0.0,-0.0,-0.0,-0.0,0.0,-0.0,-0.0,0.0,-0.0,0.0,0.0,-0.0,-0.0,-0.0,-0.0,-0.0,0.0,-0.0,-0.0,-0.0,0.0,-0.0,0.0,0.0,0.0,-0.0,0.0,0.0,-0.0,0.0,0.0,-0.0,-0.0,0.0,-0.0,0.0,1.0,0.0,0.0,0.0,0.0,0.0,-0.0,-0.0,-0.0,-0.0],[-0.0,-0.0,0.0,-0.0,-0.0,-0.0,0.0,0.0,-0.0,-0.0,0.0,0.0,-0.0,0.0,-0.0,0.0,-0.0,0.0,-0.0,0.0,-0.0,0.0,-0.0,0.0,-0.0,0.0,0.0,0.0,-0.0,0.0,-0.0,-0.0,0.0,-0.0,0.0,-0.0,0.0,-0.0,0.0,0.0,1.0,-0.0,0.0,0.0,-0.0,0.0,0.0,0.0,-0.0],[-0.0,-0.0,0.0,-0.0,0.0,0.0,0.0,-0.0,0.0,-0.0,0.0,0.0,0.0,0.0,-0.0,0.0,-0.0,-0.0,0.0,0.0,0.0,0.0,0.0,0.0,0.0,-0.0,0.0,0.0,-0.0,0.0,-0.0,0.0,-0.0,0.0,0.0,-0.0,-0.0,-0.0,0.0,0.0,-0.0,1.0,-0.0,0.0,0.0,-0.0,0.0,0.0,-0.0],[0.0,0.0,-0.0,-0.0,0.0,0.0,0.0,0.0,0.0,-0.0,-0.0,0.0,-0.0,-0.0,0.0,-0.0,0.0,-0.0,0.0,-0.0,0.0,-0.0,0.0,-0.0,0.0,0.0,0.0,-0.0,-0.0,-0.0,0.0,0.0,0.0,-0.0,-0.0,0.0,-0.0,-0.0,0.0,0.0,0.0,-0.0,1.0,0.0,0.0,-0.0,-0.0,-0.0,-0.0],[-0.0,-0.0,-0.0,-0.0,0.0,0.0,0.0,0.0,0.0,-0.0,-0.0,-0.0,-0.0,-0.0,0.0,-0.0,0.0,0.0,-0.0,-0.0,0.0,-0.0,-0.0,0.0,-0.0,0.0,-0.0,-0.0,0.0,-0.0,-0.0,-0.0,0.0,0.0,0.0,0.0,-0.0,0.0,-0.0,0.0,0.0,0.0,0.0,1.0,0.0,0.0,-0.0,0.0,0.0],[-0.0,0.0,-0.0,0.0,-0.0,0.0,-0.0,-0.0,0.0,-0.0,0.0,0.0,0.0,0.0,0.0,0.0,-0.0,-0.0,-0.0,-0.0,-0.0,-0.0,-0.0,0.0,0.0,0.0,-0.0,0.0,-0.0,0.0,0.0,0.0,-0.0,-0.0,0.0,-0.0,0.0,-0.0,0.0,0.0,-0.0,0.0,0.0,0.0,1.0,-0.0,0.0,0.0,-0.0],[-0.0,-0.0,-0.0,0.0,0.0,0.0,0.0,-0.0,-0.0,-0.0,0.0,0.0,0.0,0.0,-0.0,0.0,0.0,-0.0,-0.0,0.0,0.0,-0.0,-0.0,0.0,-0.0,0.0,0.0,0.0,-0.0,-0.0,0.0,-0.0,0.0,-0.0,0.0,-0.0,-0.0,-0.0,0.0,-0.0,0.0,-0.0,-0.0,0.0,-0.0,1.0,-0.0,0.0,0.0],[-0.0,0.0,-0.0,0.0,-0.0,0.0,0.0,-0.0,0.0,-0.0,0.0,0.0,-0.0,-0.0,-0.0,-0.0,-0.0,0.0,0.0,0.0,0.0,-0.0,-0.0,0.0,-0.0,0.0,0.0,-0.0,0.0,0.0,-0.0,0.0,0.0,-0.0,0.0,-0.0,0.0,-0.0,-0.0,-0.0,0.0,0.0,-0.0,-0.0,0.0,-0.0,1.0,-0.0,0.0],[0.0,-0.0,-0.0,0.0,-0.0,-0.0,0.0,0.0,-0.0,-0.0,-0.0,0.0,-0.0,-0.0,0.0,-0.0,0.0,0.0,-0.0,-0.0,0.0,-0.0,-0.0,-0.0,-0.0,-0.0,0.0,0.0,0.0,-0.0,-0.0,0.0,0.0,0.0,0.0,-0.0,0.0,0.0,-0.0,-0.0,0.0,0.0,-0.0,0.0,0.0,0.0,-0.0,1.0,0.0],[-0.0,-0.0,-0.0,-0.0,-0.0,0.0,0.0,0.0,-0.0,0.0,-0.0,-0.0,0.0,0.0,-0.0,0.0,-0.0,0.0,-0.0,0.0,-0.0,0.0,0.0,-0.0,0.0,-0.0,-0.0,0.0,0.0,0.0,0.0,0.0,0.0,0.0,0.0,0.0,-0.0,0.0,-0.0,-0.0,-0.0,-0.0,-0.0,0.0,-0.0,0.0,0.0,0.0,1.0]],\"texttemplate\":\"%{text}\",\"x\":[\"id\",\"target\",\"ps_ind_01\",\"ps_ind_02_cat\",\"ps_ind_03\",\"ps_ind_04_cat\",\"ps_ind_05_cat\",\"ps_ind_06_bin\",\"ps_ind_07_bin\",\"ps_ind_08_bin\",\"ps_ind_09_bin\",\"ps_ind_10_bin\",\"ps_ind_11_bin\",\"ps_ind_12_bin\",\"ps_ind_13_bin\",\"ps_ind_14\",\"ps_ind_15\",\"ps_ind_16_bin\",\"ps_ind_17_bin\",\"ps_ind_18_bin\",\"ps_car_01_cat\",\"ps_car_02_cat\",\"ps_car_03_cat\",\"ps_car_04_cat\",\"ps_car_05_cat\",\"ps_car_06_cat\",\"ps_car_07_cat\",\"ps_car_08_cat\",\"ps_car_09_cat\",\"ps_car_10_cat\",\"ps_car_11_cat\",\"ps_car_11\",\"ps_calc_04\",\"ps_calc_05\",\"ps_calc_06\",\"ps_calc_07\",\"ps_calc_08\",\"ps_calc_09\",\"ps_calc_10\",\"ps_calc_11\",\"ps_calc_12\",\"ps_calc_13\",\"ps_calc_14\",\"ps_calc_15_bin\",\"ps_calc_16_bin\",\"ps_calc_17_bin\",\"ps_calc_18_bin\",\"ps_calc_19_bin\",\"ps_calc_20_bin\"],\"y\":[\"id\",\"target\",\"ps_ind_01\",\"ps_ind_02_cat\",\"ps_ind_03\",\"ps_ind_04_cat\",\"ps_ind_05_cat\",\"ps_ind_06_bin\",\"ps_ind_07_bin\",\"ps_ind_08_bin\",\"ps_ind_09_bin\",\"ps_ind_10_bin\",\"ps_ind_11_bin\",\"ps_ind_12_bin\",\"ps_ind_13_bin\",\"ps_ind_14\",\"ps_ind_15\",\"ps_ind_16_bin\",\"ps_ind_17_bin\",\"ps_ind_18_bin\",\"ps_car_01_cat\",\"ps_car_02_cat\",\"ps_car_03_cat\",\"ps_car_04_cat\",\"ps_car_05_cat\",\"ps_car_06_cat\",\"ps_car_07_cat\",\"ps_car_08_cat\",\"ps_car_09_cat\",\"ps_car_10_cat\",\"ps_car_11_cat\",\"ps_car_11\",\"ps_calc_04\",\"ps_calc_05\",\"ps_calc_06\",\"ps_calc_07\",\"ps_calc_08\",\"ps_calc_09\",\"ps_calc_10\",\"ps_calc_11\",\"ps_calc_12\",\"ps_calc_13\",\"ps_calc_14\",\"ps_calc_15_bin\",\"ps_calc_16_bin\",\"ps_calc_17_bin\",\"ps_calc_18_bin\",\"ps_calc_19_bin\",\"ps_calc_20_bin\"],\"z\":[[1.0,-0.0001884755338288383,0.0008258854725724172,0.0016461276514639553,-0.0013074125556909262,0.00016792048870329664,2.1710319687916236e-05,-9.329673377344631e-05,0.0024732074670058657,-0.0004789319909379189,-0.0022079889976748847,-0.001261285057608431,-0.001209804426143133,-0.00017701120228206775,-0.00171782194514709,-0.001129352797085879,-0.0019349923253095893,-0.0005004384418481046,0.0013438936799833007,0.0008157280242293044,-0.0010523840432400244,-0.00040334494637156123,0.0003544609372827387,0.0023098896739933185,-0.000849736431956908,-0.001009689376092864,-0.002955581809407196,0.000747596138335548,0.0004940853380070141,-0.0009282837448050636,0.0020474413080605962,0.0026413932462155836,0.003638317961209957,-0.0005915908500661402,0.0009574769937881945,0.000788244791080896,0.0008356128476278185,0.000517634198857776,0.0009805335540469472,-0.0012488250195918634,-0.0010934546530964769,-0.00015701023640565527,0.0016094238248077987,-0.0012272973917304818,-0.0014120059005200407,-0.0012665829156959406,-0.0013870124895141488,0.00019422494950413398,-0.0012665168671921255],[-0.0001884755338288383,1.0,0.018570258657506538,0.004533831368498164,0.008359590302657094,0.009360445255589961,0.029164946850886338,-0.034016869703788775,0.03421807451412261,0.013146978438726139,-0.008236815985582988,0.001814779696589811,0.0020281711723569617,0.007810308443393542,0.0024602908319340294,0.007442830964742973,-0.02150622168793432,-0.027778075788542755,0.03705260633585501,0.004555455715152846,0.016255693742637675,-0.03153359612457286,0.0324009706942751,0.03289987494012053,0.020754434132826762,0.01153665995572638,-0.03639522258780317,-0.02034193348598006,0.00532249490929187,0.0010382993212007291,0.006128798326757132,-0.0012133568962176685,3.272045510020569e-05,0.0007708801365326372,8.182225978076095e-05,-0.00010347690485278838,-0.0010058548384191365,0.0007189675843641514,0.0010608340444789091,0.00037143739489093653,-0.0011325853981362542,-0.0004464645318087176,0.0013622753431191599,-0.0004904242506719319,0.0006238280115020953,-0.00017012817365768857,0.0005524351996118702,-0.0017438319546571666,-0.001072228427539796],[0.0008258854725724172,0.018570258657506538,1.0,-0.0017931329140775858,0.22340759382986836,0.06664546508353125,0.014822561201261051,-0.2774576841580808,0.005699693657956377,0.18858311700154065,0.16279998618735889,0.0018472289098374261,-0.01672658784345133,-0.02340598033751752,-0.008775500240628929,-0.02497119706382019,0.12213672531018312,0.03689566374827917,0.10125709413323761,-0.11222626697683723,-0.0561209602307356,-0.11698664679201748,0.043755960500296565,0.07904155054775971,0.21300928032912675,0.07019202187337273,-0.0006393452905868203,0.13811162890080814,-0.10258232980421053,0.010793696829651062,0.008187861301734243,0.00825152755479824,-0.0009430787753138506,-0.0011711899555747133,0.00014683213520088004,-0.0006583998180255268,0.0029928067889171016,-8.533923304090449e-05,-0.0013449818796920157,-0.0012629092646128898,0.0015206567146658393,0.00019895341092257077,-0.0008910685014910411,-0.0003967902124261874,-1.1545248111392002e-05,-0.0008675973201928202,-0.0015035875469012936,-0.00016221628124592083,-0.0014640083176233343],[0.0016461276514639553,0.004533831368498164,-0.0017931329140775858,1.0,-0.0611891464957711,0.14710969879178074,-0.014859825528708296,-0.12565283345802727,0.016398444130573675,0.030944960292278275,0.11007582271762954,-0.0007443279033836949,0.0007716519259243577,-0.0046155107358399755,-0.001186730807908905,-0.0036493908922690076,-0.0038542040298691813,0.012682148590420267,-0.018727145555724942,-0.00037394015904443833,0.0021485024537498927,0.04523308396698348,-0.0025317202816092367,-0.07218977632989523,-0.008406520927741018,-0.017300912306375114,-0.011780550385044157,0.0015257604786327657,0.009434534021788734,0.011401456422615558,0.0149551958066065,0.01994883319025325,-0.0021110487327914477,-0.0015478301217311011,8.5486892302804e-05,-0.0001717325146889939,-0.0027117639544354463,0.00035567580972401897,-2.5425203495043307e-05,3.793867444664083e-05,-0.0008836458794260855,-0.0008928474834448329,-0.0005185257387862086,-0.00010916394352744455,0.0009195635201452114,0.0005472321892405302,0.0008240709263778082,0.0003668294896141763,-0.0020700765230598018],[-0.0013074125556909262,0.008359590302657094,0.22340759382986836,-0.0611891464957711,1.0,-0.09585556869304387,0.053250054414459055,-0.04515789199467839,-0.06036790395731471,0.014036610712041096,0.11130640018521888,0.0068651231906423586,-0.003986479232333661,0.0016976891777327832,0.0039286265139032986,0.001989546060495524,0.17044861491667548,-0.01825125801526538,0.027691181225138053,0.0013157749639168682,-0.02851989122870297,-0.044906741487120636,0.09565776668522324,0.07298961054229083,0.14359654865840232,0.008021293226146338,0.05633693325166973,0.0036071551143762332,-0.013205469282503674,-0.00856095402163958,-0.02596590172880744,-0.05935778461153133,0.0007029223319983085,-0.001244839816125987,0.002361497957557464,0.0015325306198597174,0.001266664959910304,-0.0015441777405826881,0.0002302873383735821,-0.002715541881139927,-0.0023523333669990413,0.00013288787890949617,0.00020474960687077618,0.0001344327694191162,-0.0007442327813944085,0.00015773156327420203,-0.00021792732130746943,-0.0008816797556198123,-0.0037094085792765473],[0.00016792048870329664,0.009360445255589961,0.06664546508353125,0.14710969879178074,-0.09585556869304387,1.0,0.013052691401692343,-0.2977366046477,0.3049493783334565,0.04497847332634308,-0.011441657815258351,0.0007887076973389002,0.0010183114528574848,-0.0012169376250814317,-0.0008934939930098886,-0.0006905936003553219,0.07707144391312327,0.017497056768121463,0.007830396023881588,-0.02579748587387641,0.029379371951095242,0.0031621098779648837,0.022744376399026083,-0.045361298018329506,0.06339932427116321,0.02532361532099993,0.06465523285480475,-0.00814754846801752,-0.041983012535977984,0.023010432833949015,-0.0006146254081094969,0.07348633332430107,0.0008255181087075637,0.00102779887307973,0.0026258399586143026,-0.00015073832344163947,-0.002775545029613311,0.00048656988775537416,0.00012727421795224848,-0.002000831238553817,-0.0008139493139821699,0.00028340525814097423,0.0015645496382111176,0.0027346762054245234,0.002295346203964963,0.0007734421027413759,0.000915879223072468,-0.0019656334704160343,0.001243938381928249],[2.1710319687916236e-05,0.029164946850886338,0.014822561201261051,-0.014859825528708296,0.053250054414459055,0.013052691401692343,1.0,0.009618800838443476,-0.010382188667300007,0.00488074762359822,-0.005068731202141701,0.001742475414532641,-0.0006363666372238363,-0.0018312404405461142,0.0013128732605405663,-0.0010128313488101442,0.012326335746025272,0.004314899698054171,0.0071627770677622415,-0.00825231441491653,-0.03621285304102291,0.012878919847941922,-0.011398778782571816,-0.010873195216114831,-0.0065616085500076905,-0.0072299632053995835,0.05377652521320649,-0.002083953743338256,-0.008333774284921065,0.002168074446652442,-0.002249565476062128,0.0010755447570799223,0.0012916973382756942,-0.0006420444921112522,-0.00024941758434445974,-0.0019023900274815798,-0.00014490361613131238,-0.0008217959389452768,-0.001069872950916885,-0.0015247002980472155,0.0009753755080751554,0.0015491569671870185,0.002170835213002717,0.0015480474512491568,-0.0003682362393573739,0.00015309117899007504,3.16867841485481e-05,0.00027647817624187415,0.00027869054705160953],[-9.329673377344631e-05,-0.034016869703788775,-0.2774576841580808,-0.12565283345802727,-0.04515789199467839,-0.2977366046477,0.009618800838443476,1.0,-0.47400904185590065,-0.35683833274578663,-0.3843451401407789,-0.008977535013244928,-0.005229382248971488,-0.017498505238443797,-0.008390064166738216,-0.018333861999931114,0.016406205154351226,0.028352083532137747,-0.037121073674995474,-0.011750963576176814,-0.07554574375145577,0.13638274599348735,-0.07572310218075866,-0.18701667626422971,-0.16489012332440903,-0.059887308797517635,0.038993680731001304,0.03831307031695164,0.09918393763824075,-0.04105681120507274,-0.03129622770644699,0.01961761811645961,-0.0004089715175719997,-0.0005006935696663864,-0.0014131826801772143,-0.0015526558607739192,-0.0011636516201258267,-0.0019551101160042526,-0.0011970978269563919,0.0008220026165316575,0.0013465275777943134,-0.001301118699859182,0.00030393290259253964,0.0020878603119079196,-0.00038145116468304047,-1.255559509124731e-06,-0.0007593038072495968,0.002790733141214443,0.00020310560100537877],[0.0024732074670058657,0.03421807451412261,0.005699693657956377,0.016398444130573675,-0.06036790395731471,0.3049493783334565,-0.010382188667300007,-0.47400904185590065,1.0,-0.2604376422119483,-0.28051342276950764,0.01073965266284274,0.010118980387019562,0.03661915640731902,0.012124758822770549,0.035572641614943196,-0.1207286794068783,-0.07232059014992272,0.02077615194714268,0.07656187216203819,0.06206386799788504,-0.16260101236003363,0.09648343943349459,0.1997016120913101,0.09210731694598845,0.02101255069052145,-0.06470797501921201,-0.12382519653908652,-0.059229317322167185,0.030556162897126253,0.047940110791918664,0.06745692509835806,0.00047048055180615476,-0.00020263779193792312,0.0022574679719714586,-0.0007715341800744993,-0.0014167211446870249,0.003103402535596244,0.0027643720885982513,-0.0004476413449922477,-0.0010438535583305213,0.0005412369024749208,0.0016655249364763661,0.000574974650344997,0.0012197619159721727,-0.0005167363145836906,0.0001814801090777136,-0.0013611791678382681,-0.0009608000950925175],[-0.0004789319909379189,0.013146978438726139,0.18858311700154065,0.030944960292278275,0.014036610712041096,0.04497847332634308,0.00488074762359822,-0.35683833274578663,-0.2604376422119483,1.0,-0.2111730647625729,0.006489106788122909,0.010041261161282752,0.012254073500153409,0.007898322664249516,0.015413123032177489,0.05277557417447597,0.00585490555536978,0.03603562289265077,-0.03327254465431105,0.0009741110543532934,-0.029988616804806738,0.0384624296317755,0.08495716267080045,0.06388874607199731,0.0633731246240447,-0.010976242373907898,0.0427922674881171,-0.010920062706482346,0.02532753797438492,0.041371476934295826,-0.08219336872997224,-0.0008862921614318208,0.0006032890364046533,0.001248981784611182,0.0015137952726527217,0.0008268945510473196,-0.001171371983028529,-0.0010929434068361506,-0.0006318117597186015,-0.0012414424693482787,-0.0004320285599226008,-0.0019591595357161817,-0.002782301006902695,-0.002047724572754881,-0.0005794594623613985,-6.765604151575381e-05,-0.0009190393767006686,0.0009953591808107966],[-0.0022079889976748847,-0.008236815985582988,0.16279998618735889,0.11007582271762954,0.11130640018521888,-0.011441657815258351,-0.005068731202141701,-0.3843451401407789,-0.28051342276950764,-0.2111730647625729,1.0,-0.006972868230142465,-0.014372442368659335,-0.03085777558224147,-0.01061212790836212,-0.03164026527129087,0.06486960724122333,0.040109224304663585,-0.011023469836738856,-0.03963118000022888,0.024264102635430718,0.03995547974899175,-0.04994363372858589,-0.07038654070759681,0.04287613348604071,-0.00870884054297036,0.034202576735924584,0.050317329443875236,-0.04769976109596489,-0.00687141523914032,-0.053983464789054705,-0.0222238396339445,0.0008295720883777972,0.0002826974574493145,-0.0019519948882590731,0.001377811100217235,0.0022687777239878727,8.414159278315854e-05,-0.0005624466536854753,7.18183078842017e-05,0.0006636678133101185,0.0014390105937547816,-0.0003887243838992523,-0.0006211068335258212,0.0010588568857560093,0.0011348640561092095,0.0008151460825754969,-0.0011026523735666325,-0.00012315711435226232],[-0.001261285057608431,0.001814779696589811,0.0018472289098374261,-0.0007443279033836949,0.0068651231906423586,0.0007887076973389002,0.001742475414532641,-0.008977535013244928,0.01073965266284274,0.006489106788122909,-0.006972868230142465,1.0,0.06483734787255138,0.09799846252846069,0.08141549712952234,0.26621523092448607,-0.02212232089072219,-0.024021375653731417,0.0053664016193870736,0.027264135678883677,0.007989028500674941,-0.015804418556358685,0.02483327179444574,0.016566215782234283,0.015251836567305199,0.004487183793875702,-0.017804258593691943,-0.0036596207024452384,0.008266440956512609,0.0007083813828402775,0.00590949165879686,0.0025262371890389795,3.100019801776669e-05,0.0013288695124036793,-0.002677298661139918,0.0012737060249414802,0.0014216349339402805,0.0028423829821193005,-0.0003671698201874054,-0.0023492443946824416,0.0013666102034255408,0.0019688755961176354,0.0002323981255301201,-0.0032329018832703707,0.001011523041551477,0.0003451145587064038,0.00023955239726456662,0.0015546541592544056,-0.0033898188648503517],[-0.001209804426143133,0.0020281711723569617,-0.01672658784345133,0.0007716519259243577,-0.003986479232333661,0.0010183114528574848,-0.0006363666372238363,-0.005229382248971488,0.010118980387019562,0.010041261161282752,-0.014372442368659335,0.06483734787255138,1.0,0.25007638185970965,0.1794321903326253,0.5649029739333457,-0.06125127547334036,-0.054007422664359914,0.0035177531682558942,0.06901728994326506,0.004204892072166208,-0.002474353574915443,0.04610459759768676,0.008594505962550597,0.03078262375173464,0.0022573006998290743,-0.01629980109301919,-0.004473578534023403,0.021168527983197478,-0.001820746944512715,0.005671365912101771,0.001154208305592369,-0.0011960063936610865,-0.00011120385630559325,0.000910829501751563,-0.001787854588529308,0.000994638580193004,0.0006751295016578921,0.0010608594409770634,0.00018449154616455003,-0.0006120933976261167,0.0003040675893243336,-0.0007858590549898194,-0.0006590162500354596,0.0014178496831878237,0.0010641208942453436,-0.0011015992238865811,-0.0012407285242708988,0.00040941255000901474],[-0.00017701120228206775,0.007810308443393542,-0.02340598033751752,-0.0046155107358399755,0.0016976891777327832,-0.0012169376250814317,-0.0018312404405461142,-0.017498505238443797,0.03661915640731902,0.012254073500153409,-0.03085777558224147,0.09799846252846069,0.25007638185970965,1.0,0.15172760153857986,0.8901272526545638,-0.11699521962411862,-0.0994413510647658,0.025180581169531212,0.10928667412377303,0.016351323808765996,-0.01722907241506039,0.12076679710050317,0.027940354431978023,0.07047807765090647,0.0044093318640146964,-0.034416226469985864,-0.013323354070164575,0.044120564246909987,-0.005085925851136929,0.011473568431545468,0.004440512322791723,-0.0010630051163157143,0.00018512789954191946,0.0005169369254961489,0.0017231519792362947,0.0037837821118346837,-0.0020161776675533703,0.001926751814743145,0.00012896012169149725,0.0008132382695526011,0.000558597200481922,-0.0005013388256769988,-0.00163240691791496,0.0017539182011456027,0.0013843957989970693,-0.0013589599814288775,-0.00177938228780793,0.0031663201946022525],[-0.00171782194514709,0.0024602908319340294,-0.008775500240628929,-0.001186730807908905,0.0039286265139032986,-0.0008934939930098886,0.0013128732605405663,-0.008390064166738216,0.012124758822770549,0.007898322664249516,-0.01061212790836212,0.08141549712952234,0.1794321903326253,0.15172760153857986,1.0,0.4263998836255217,-0.04048585112779737,-0.04068044208739151,0.004136125664147598,0.05082310409176684,0.005814603173879321,-0.00844124927500158,0.03771827604226019,0.014655985827389816,0.02347110679423096,0.001605835656303071,-0.015614273025673402,-0.005009607474508769,0.014756941996862144,0.0002595796322984508,0.004531083396472349,0.0012340690299426087,0.0003492843651894134,-0.00041568351089011317,-0.0021626888021852174,0.0004136479843598625,0.0027903312033996275,-0.002330326502165299,0.0009485297239872672,-0.0001858392620094565,-0.0014181281398898914,-0.0021253852767389304,0.0008745250585350076,0.0004916403631589365,0.001569994301959919,-0.002917661601417797,-0.00011712544370351996,0.002079286759967087,-0.0009808134646700508],[-0.001129352797085879,0.007442830964742973,-0.02497119706382019,-0.0036493908922690076,0.001989546060495524,-0.0006905936003553219,-0.0010128313488101442,-0.018333861999931114,0.035572641614943196,0.015413123032177489,-0.03164026527129087,0.26621523092448607,0.5649029739333457,0.8901272526545638,0.4263998836255217,1.0,-0.12154712140311676,-0.106239689861127,0.02203333701058792,0.12147762405541038,0.01636312986799589,-0.018287753550747684,0.119268663457619,0.029994631058182657,0.07131983388437585,0.005136795765281479,-0.03780543277647762,-0.0133045493000391,0.04508043877617706,-0.004272510572028674,0.012513326139616475,0.00441844970887797,-0.0011022975070719438,0.0002054168840000354,-0.0002416453387590602,0.0010228747040333251,0.004077353989613896,-0.0014427896242199573,0.001975748285363049,-0.00024326970061752177,0.00028409101359197356,0.0003068111500897935,-0.0003871413338074733,-0.0018207206855712864,0.002318386702039321,0.0007408167748215128,-0.001377184821966648,-0.001011803475128225,0.0017825538619420389],[-0.0019349923253095893,-0.02150622168793432,0.12213672531018312,-0.0038542040298691813,0.17044861491667548,0.07707144391312327,0.012326335746025272,0.016406205154351226,-0.1207286794068783,0.05277557417447597,0.06486960724122333,-0.02212232089072219,-0.06125127547334036,-0.11699521962411862,-0.04048585112779737,-0.12154712140311676,1.0,0.3124495031022658,-0.021884130311831358,-0.4516894099742072,0.025690451286060213,0.008990106374833731,0.06539839780086634,-0.047147427101064614,0.05151699052704686,0.0008576242267399685,0.059703328431573596,0.016783815050164755,0.03787983280939091,0.016128999534946113,-0.01409474099488538,0.02299969506196376,0.001583612723436248,0.0008742837980309459,3.3494151583637076e-05,0.001721397044580403,-0.0013086573803491655,-0.0009849673818418103,-0.0012787059555369523,-0.0019515651504138,-0.0012626527588530732,-0.0009216867411599046,0.0013483433788114016,0.0007020649300867842,-0.0019153659561068192,0.0011762611405260772,-0.0013255253293403596,0.0017437917830255066,-0.0020395145220801184],[-0.0005004384418481046,-0.027778075788542755,0.03689566374827917,0.012682148590420267,-0.01825125801526538,0.017497056768121463,0.004314899698054171,0.028352083532137747,-0.07232059014992272,0.00585490555536978,0.040109224304663585,-0.024021375653731417,-0.054007422664359914,-0.0994413510647658,-0.04068044208739151,-0.106239689861127,0.3124495031022658,1.0,-0.5180763597376605,-0.5942654327422763,0.00044932875105786605,0.030264159750243904,-0.04949269493946454,-0.04443245801607432,-0.0582488423914205,-0.016400415460856094,0.043830004289417024,0.030265908254304034,0.01587326196241011,0.006596901955516885,-0.009989048367143526,0.021089277139603083,-0.00015427566393725605,0.0013615649246193967,-0.0003549050683784082,0.0010701810792920852,-0.0019205651214934693,-0.000427383895078309,-0.0009309516956551639,-0.0005474330902515574,0.0004788567902195321,-0.001205708134771854,-0.00016701443375198309,0.0009289338594362775,-0.0004946092252123232,-0.0004323230260641795,9.269330910930976e-05,0.000302046273722002,0.0015192075603971586],[0.0013438936799833007,0.03705260633585501,0.10125709413323761,-0.018727145555724942,0.027691181225138053,0.007830396023881588,0.0071627770677622415,-0.037121073674995474,0.02077615194714268,0.03603562289265077,-0.011023469836738856,0.0053664016193870736,0.0035177531682558942,0.025180581169531212,0.004136125664147598,0.02203333701058792,-0.021884130311831358,-0.5180763597376605,1.0,-0.15802098729292113,0.05887565361543223,-0.05625958463625057,0.13732818747640027,0.044550019804100456,0.06773302596234075,0.0340671326887404,-0.04366212443161365,-0.008200216193663021,0.07609946186510466,-0.008669005786247434,0.007732623493302305,0.008827122880141484,0.0006707357574948959,-0.002826707031906844,-0.0003381879933782809,-0.0007815553133850872,-0.0006022847454017228,0.0005913211470312653,-0.0006993075561928135,-0.001090513235976116,-0.0008502466566824623,0.0004287804389085925,0.0007460892730811557,-0.0015898973720920523,-0.0002110923316147279,-0.00024213748444256472,4.6684570862885536e-05,-0.000775522520941263,-0.001922700612824355],[0.0008157280242293044,0.004555455715152846,-0.11222626697683723,-0.00037394015904443833,0.0013157749639168682,-0.02579748587387641,-0.00825231441491653,-0.011750963576176814,0.07656187216203819,-0.03327254465431105,-0.03963118000022888,0.027264135678883677,0.06901728994326506,0.10928667412377303,0.05082310409176684,0.12147762405541038,-0.4516894099742072,-0.5942654327422763,-0.15802098729292113,1.0,-0.045967576695943604,0.006388259993779021,-0.041079456852142704,0.018748038227366894,-0.0032120688606157377,-0.0072003954273630755,-0.017357635513052333,-0.027826551074893974,-0.04473347391746064,-0.003241940278548796,0.00460984454641675,-0.026135024521390403,-0.0009732616497496389,-0.00019562794460452248,0.0011246066567816577,-2.585004955422398e-05,0.0018345907179115233,0.00011597648018879151,0.0013640036829747867,0.0021105414505556606,0.001574362271832671,0.0019922297476804543,-0.001238750267001732,-0.00037860530152446453,-8.221784186824538e-05,6.434466221086806e-05,7.039774777350998e-05,-0.0007859433395340328,0.0007240485980728538],[-0.0010523840432400244,0.016255693742637675,-0.0561209602307356,0.0021485024537498927,-0.02851989122870297,0.029379371951095242,-0.03621285304102291,-0.07554574375145577,0.06206386799788504,0.0009741110543532934,0.024264102635430718,0.007989028500674941,0.004204892072166208,0.016351323808765996,0.005814603173879321,0.01636312986799589,0.025690451286060213,0.00044932875105786605,0.05887565361543223,-0.045967576695943604,1.0,-0.1527326305202657,0.1380545889863303,0.06773239330239499,-0.14725757311134427,0.05332586747347316,0.0010712044261128996,-0.0595476841860337,0.27290021926541297,0.006355097797608364,0.010497666747185233,0.11092050571881658,0.0003954303917060789,-0.0012297197856098701,-0.0012509298116333415,-0.0006230035403697075,-0.001207073641473127,4.220234506756614e-05,0.0014431604443318436,-0.0004247629899175626,-0.0007933308500309793,0.0008740417878425348,6.95669943874705e-05,0.000965239453910187,-0.00106787958534592,0.00040245516164582224,0.0003641136670927111,0.0005198560815098648,-0.0005613985985714529],[-0.00040334494637156123,-0.03153359612457286,-0.11698664679201748,0.04523308396698348,-0.044906741487120636,0.0031621098779648837,0.012878919847941922,0.13638274599348735,-0.16260101236003363,-0.029988616804806738,0.03995547974899175,-0.015804418556358685,-0.002474353574915443,-0.01722907241506039,-0.00844124927500158,-0.018287753550747684,0.008990106374833731,0.030264159750243904,-0.05625958463625057,0.006388259993779021,-0.1527326305202657,1.0,-0.11109462485657536,-0.2736723688861916,-0.09208322478163421,-0.25308889280600144,0.10363238078759575,0.036043668604660344,-0.012977575535680833,-0.019088186796559162,-0.0009649638104166795,-0.09014365639883624,0.00028670069159318645,0.00043965375966646003,-0.0018349663534806037,-4.280683979500545e-05,0.000685063371450162,-0.0005509059261274772,-0.0005988402310767636,-0.0008341968657931771,0.002052090604864352,0.0012427813649456161,-9.926418773619146e-05,-1.4807280235950638e-05,-0.002947527214096956,-0.0010775834899756254,-0.0011509779965209678,-0.001429640835509628,0.0009304624944871997],[0.0003544609372827387,0.0324009706942751,0.043755960500296565,-0.0025317202816092367,0.09565776668522324,0.022744376399026083,-0.011398778782571816,-0.07572310218075866,0.09648343943349459,0.0384624296317755,-0.04994363372858589,0.02483327179444574,0.04610459759768676,0.12076679710050317,0.03771827604226019,0.119268663457619,0.06539839780086634,-0.04949269493946454,0.13732818747640027,-0.041079456852142704,0.1380545889863303,-0.11109462485657536,1.0,0.09719274174853969,0.4897894274078472,0.03305829220475694,-0.1483385551523895,-0.2486622980924781,0.27240715641353064,0.014220105244585703,0.015778200128538256,0.08254922005109025,-0.0004509803278143976,-0.00036932023868972626,0.0004301479486262783,0.003070667843488633,0.002117997853309545,0.0003282253752557546,0.0012104089806038803,-0.0026947000599002284,-0.0025958807152455044,0.0008592066483024758,0.0012823032623227378,-0.00048096220248447616,-0.0009000091122420327,-0.0021900877080210652,-0.001302243057578799,-0.00041450859584372013,0.001422454126777135],[0.0023098896739933185,0.03289987494012053,0.07904155054775971,-0.07218977632989523,0.07298961054229083,-0.045361298018329506,-0.010873195216114831,-0.18701667626422971,0.1997016120913101,0.08495716267080045,-0.07038654070759681,0.016566215782234283,0.008594505962550597,0.027940354431978023,0.014655985827389816,0.029994631058182657,-0.047147427101064614,-0.04443245801607432,0.044550019804100456,0.018748038227366894,0.06773239330239499,-0.2736723688861916,0.09719274174853969,1.0,0.14100313376171192,0.19401461615439022,-0.18337425915248684,-0.05106572525835053,-0.03940529174757801,0.0007206109590392452,0.07044614846838124,-0.05732607898184618,0.000931483983657278,0.0015387904761009362,0.0008717001182050421,0.0002434918758918955,0.001215931309403625,-0.0003188249939387803,0.0014737778917998606,0.001198066784985587,0.001721310000901498,0.00042311633950088364,-0.002338827479904042,0.0013882598831327197,0.0005797271724971248,0.0006342039000327392,0.00012764466563053555,-0.00032009578404121797,-0.000530191633756738],[-0.000849736431956908,0.020754434132826762,0.21300928032912675,-0.008406520927741018,0.14359654865840232,0.06339932427116321,-0.0065616085500076905,-0.16489012332440903,0.09210731694598845,0.06388874607199731,0.04287613348604071,0.015251836567305199,0.03078262375173464,0.07047807765090647,0.02347110679423096,0.07131983388437585,0.05151699052704686,-0.0582488423914205,0.06773302596234075,-0.0032120688606157377,-0.14725757311134427,-0.09208322478163421,0.4897894274078472,0.14100313376171192,1.0,0.06106827662386933,-0.08375675814605713,-0.039809019414298326,-0.32775053482688216,0.023489698076890917,0.03810541438758653,-0.07678547179357709,-0.0016589918561348087,0.0004514638239334563,0.00041283967270175934,0.0004412278133604214,0.0016640401043848336,4.603530801216249e-05,-0.001608248120946059,-0.001701700161218646,-0.0003588293096685416,0.0013216260013875036,0.0018638072930974405,-0.0014997038236239928,0.0013959473143630502,-0.0028145541534887767,-0.0008849150440565344,-0.0024179401571196766,0.00014994127387786243],[-0.001009689376092864,0.01153665995572638,0.07019202187337273,-0.017300912306375114,0.008021293226146338,0.02532361532099993,-0.0072299632053995835,-0.059887308797517635,0.02101255069052145,0.0633731246240447,-0.00870884054297036,0.004487183793875702,0.0022573006998290743,0.0044093318640146964,0.001605835656303071,0.005136795765281479,0.0008576242267399685,-0.016400415460856094,0.0340671326887404,-0.0072003954273630755,0.05332586747347316,-0.25308889280600144,0.03305829220475694,0.19401461615439022,0.06106827662386933,1.0,-0.026116228354118132,-0.014611818480659568,0.003325569073913435,-0.0032214358762773627,0.02538467026236854,-0.030801632989563777,0.0008598200601896413,0.0015746128524538187,0.0011103477393886202,-4.896531776827118e-05,0.000492169558830971,0.002578900495330554,-0.0008241917715071728,0.0011949560411559281,0.0004671486827777723,-0.0020202515720043838,0.0008061524226690206,0.0006898033823400379,0.0012045255571496202,0.00013565004158635908,3.477554141347793e-05,-0.0023403993866281864,-0.0005226832895863518],[-0.002955581809407196,-0.03639522258780317,-0.0006393452905868203,-0.011780550385044157,0.05633693325166973,0.06465523285480475,0.05377652521320649,0.038993680731001304,-0.06470797501921201,-0.010976242373907898,0.034202576735924584,-0.017804258593691943,-0.01629980109301919,-0.034416226469985864,-0.015614273025673402,-0.03780543277647762,0.059703328431573596,0.043830004289417024,-0.04366212443161365,-0.017357635513052333,0.0010712044261128996,0.10363238078759575,-0.1483385551523895,-0.18337425915248684,-0.08375675814605713,-0.026116228354118132,1.0,0.06452922604343282,-0.03960711477269267,0.004429101557941514,-0.0783272591362522,0.05573757109188192,0.0001431724699377972,-0.0017662455375500982,0.0013053744161650438,-9.291203883231091e-05,0.0005499792456161954,-0.0014661881547167357,-0.0012697210457045184,0.0005028118507514419,0.00013697915328565415,0.0014953290730697973,0.0002951428704466881,-0.0004381102787180159,-0.0012544219062167882,0.0005855222178469641,0.0003470624187798464,0.0017796446920497185,-0.0023689086360795487],[0.000747596138335548,-0.02034193348598006,0.13811162890080814,0.0015257604786327657,0.0036071551143762332,-0.00814754846801752,-0.002083953743338256,0.03831307031695164,-0.12382519653908652,0.0427922674881171,0.050317329443875236,-0.0036596207024452384,-0.004473578534023403,-0.013323354070164575,-0.005009607474508769,-0.0133045493000391,0.016783815050164755,0.030265908254304034,-0.008200216193663021,-0.027826551074893974,-0.0595476841860337,0.036043668604660344,-0.2486622980924781,-0.05106572525835053,-0.039809019414298326,-0.014611818480659568,0.06452922604343282,1.0,-0.01629853642416545,-0.03125167998581104,0.03436492864954632,-0.03852390264179929,-0.0013407294190590615,-0.0005443907527122171,-0.0014563424458635251,-0.0014425071088963854,2.676247359479566e-05,-0.0005307547879908733,-0.0021192603004364613,0.0015842335640350962,0.0006383022193048849,0.0003935211621869532,-0.0011690267707114353,-0.0010101875324818068,0.0020955546330995263,0.0013782617362007416,-0.001000980123334852,0.00037910847774123016,0.00024794607556469814],[0.0004940853380070141,0.00532249490929187,-0.10258232980421053,0.009434534021788734,-0.013205469282503674,-0.041983012535977984,-0.008333774284921065,0.09918393763824075,-0.059229317322167185,-0.010920062706482346,-0.04769976109596489,0.008266440956512609,0.021168527983197478,0.044120564246909987,0.014756941996862144,0.04508043877617706,0.03787983280939091,0.01587326196241011,0.07609946186510466,-0.04473347391746064,0.27290021926541297,-0.012977575535680833,0.27240715641353064,-0.03940529174757801,-0.32775053482688216,0.003325569073913435,-0.03960711477269267,-0.01629853642416545,1.0,-0.023541068642756204,-0.011188268526019795,0.11896944421500293,0.0010399053973847655,0.0007423801429440454,-0.0017702971365074654,0.0020812179822101546,-0.0016920322564636,-0.0012319557421361209,0.0012705153842238817,-0.0011916824704647374,-0.00046726625062282136,-0.0004903231499660512,-0.001091983997584522,0.0009521778464269957,-0.0010595306612710797,-0.0005462931019553119,0.0016412416111071424,0.0012730291759389485,0.0005456450862347396],[-0.0009282837448050636,0.0010382993212007291,0.010793696829651062,0.011401456422615558,-0.00856095402163958,0.023010432833949015,0.002168074446652442,-0.04105681120507274,0.030556162897126253,0.02532753797438492,-0.00687141523914032,0.0007083813828402775,-0.001820746944512715,-0.005085925851136929,0.0002595796322984508,-0.004272510572028674,0.016128999534946113,0.006596901955516885,-0.008669005786247434,-0.003241940278548796,0.006355097797608364,-0.019088186796559162,0.014220105244585703,0.0007206109590392452,0.023489698076890917,-0.0032214358762773627,0.004429101557941514,-0.03125167998581104,-0.023541068642756204,1.0,0.0034926119778279116,0.013412995647663671,-0.002204188680172502,-0.00016428189498505816,-0.0016314199086927632,3.3458338828980185e-06,0.002907789216375728,-0.0014115273416177366,-0.0015616995757234328,0.0018166596896517586,0.002402711285415986,0.0029880880242695684,-0.0003593050636786715,-0.0008346704499100778,0.0010212393206565674,-0.0005117859571024138,0.00074160183441012,-0.0005855613681816019,0.000238389420519572],[0.0020474413080605962,0.006128798326757132,0.008187861301734243,0.0149551958066065,-0.02596590172880744,-0.0006146254081094969,-0.002249565476062128,-0.03129622770644699,0.047940110791918664,0.041371476934295826,-0.053983464789054705,0.00590949165879686,0.005671365912101771,0.011473568431545468,0.004531083396472349,0.012513326139616475,-0.01409474099488538,-0.009989048367143526,0.007732623493302305,0.00460984454641675,0.010497666747185233,-0.0009649638104166795,0.015778200128538256,0.07044614846838124,0.03810541438758653,0.02538467026236854,-0.0783272591362522,0.03436492864954632,-0.011188268526019795,0.0034926119778279116,1.0,-0.04976970779843196,0.00021324227842176908,-0.00018470178610373558,-0.0010305527324214075,0.001653138320080761,-7.104884064442781e-05,0.0016651672130308954,0.0016610534717757884,1.1254065435811325e-05,-0.00035862222351402457,-0.0005780266596418095,0.0002478062054979972,-0.0011744468682769193,0.0020541819917924502,0.0029192141505096593,-0.00048289542983081114,-0.0003423887666784939,0.0015132572839368873],[0.0026413932462155836,-0.0012133568962176685,0.00825152755479824,0.01994883319025325,-0.05935778461153133,0.07348633332430107,0.0010755447570799223,0.01961761811645961,0.06745692509835806,-0.08219336872997224,-0.0222238396339445,0.0025262371890389795,0.001154208305592369,0.004440512322791723,0.0012340690299426087,0.00441844970887797,0.02299969506196376,0.021089277139603083,0.008827122880141484,-0.026135024521390403,0.11092050571881658,-0.09014365639883624,0.08254922005109025,-0.05732607898184618,-0.07678547179357709,-0.030801632989563777,0.05573757109188192,-0.03852390264179929,0.11896944421500293,0.013412995647663671,-0.04976970779843196,1.0,0.00022496945278663324,0.002458872518486952,-0.00025111560741019126,-0.00033023183208716025,-0.0024582760480135277,-0.0005101365289598807,-0.0005672563408689077,-0.0012063305466672994,-0.0011809019951366604,0.0011334652327895218,0.0009449124419320964,-0.0007033351603276396,0.0005081330268082942,-9.260927347074012e-05,0.0009303397770717676,0.002231261537685798,0.001280038558302366],[0.003638317961209957,3.272045510020569e-05,-0.0009430787753138506,-0.0021110487327914477,0.0007029223319983085,0.0008255181087075637,0.0012916973382756942,-0.0004089715175719997,0.00047048055180615476,-0.0008862921614318208,0.0008295720883777972,3.100019801776669e-05,-0.0011960063936610865,-0.0010630051163157143,0.0003492843651894134,-0.0011022975070719438,0.001583612723436248,-0.00015427566393725605,0.0006707357574948959,-0.0009732616497496389,0.0003954303917060789,0.00028670069159318645,-0.0004509803278143976,0.000931483983657278,-0.0016589918561348087,0.0008598200601896413,0.0001431724699377972,-0.0013407294190590615,0.0010399053973847655,-0.002204188680172502,0.00021324227842176908,0.00022496945278663324,1.0,0.0006326671086388854,-0.0018453210760898126,0.0014451241140302866,-0.0018465549286692455,-3.835483364151516e-05,5.8353251092471914e-08,0.00024456774542824485,0.0009784493310665647,-0.00021462815569388272,0.0011795606084716948,0.00017189271200256667,-0.0008738127601136816,0.0011856368490699323,0.0011092144691557538,0.0009016703557466272,0.0001461496973993162],[-0.0005915908500661402,0.0007708801365326372,-0.0011711899555747133,-0.0015478301217311011,-0.001244839816125987,0.00102779887307973,-0.0006420444921112522,-0.0005006935696663864,-0.00020263779193792312,0.0006032890364046533,0.0002826974574493145,0.0013288695124036793,-0.00011120385630559325,0.00018512789954191946,-0.00041568351089011317,0.0002054168840000354,0.0008742837980309459,0.0013615649246193967,-0.002826707031906844,-0.00019562794460452248,-0.0012297197856098701,0.00043965375966646003,-0.00036932023868972626,0.0015387904761009362,0.0004514638239334563,0.0015746128524538187,-0.0017662455375500982,-0.0005443907527122171,0.0007423801429440454,-0.00016428189498505816,-0.00018470178610373558,0.002458872518486952,0.0006326671086388854,1.0,-0.0013940213742289164,-0.0022117543279125177,-0.001792142261691019,0.001153756013177232,-0.00023581508931643096,0.00038680272386482203,-0.00021170094528927312,0.0002703331399211816,-0.0009686463055696981,7.896468850628008e-05,-0.0009427509379795293,-0.0009852664395451232,-0.0004058525742929844,0.000265149884568008,0.0014943221390320998],[0.0009574769937881945,8.182225978076095e-05,0.00014683213520088004,8.5486892302804e-05,0.002361497957557464,0.0026258399586143026,-0.00024941758434445974,-0.0014131826801772143,0.0022574679719714586,0.001248981784611182,-0.0019519948882590731,-0.002677298661139918,0.000910829501751563,0.0005169369254961489,-0.0021626888021852174,-0.0002416453387590602,3.3494151583637076e-05,-0.0003549050683784082,-0.0003381879933782809,0.0011246066567816577,-0.0012509298116333415,-0.0018349663534806037,0.0004301479486262783,0.0008717001182050421,0.00041283967270175934,0.0011103477393886202,0.0013053744161650438,-0.0014563424458635251,-0.0017702971365074654,-0.0016314199086927632,-0.0010305527324214075,-0.00025111560741019126,-0.0018453210760898126,-0.0013940213742289164,1.0,-7.531912940689192e-05,-0.0006033795317028929,0.0017095886432573076,-0.0015344104636122818,-0.0005749585705772379,0.0006068798883348669,0.0009738384019128621,-0.0008696868262333382,0.0006305110709911748,0.00013999232688368356,0.00032018233428546397,0.002004801230930195,0.001185020358559964,0.0008642753852533341],[0.000788244791080896,-0.00010347690485278838,-0.0006583998180255268,-0.0001717325146889939,0.0015325306198597174,-0.00015073832344163947,-0.0019023900274815798,-0.0015526558607739192,-0.0007715341800744993,0.0015137952726527217,0.001377811100217235,0.0012737060249414802,-0.001787854588529308,0.0017231519792362947,0.0004136479843598625,0.0010228747040333251,0.001721397044580403,0.0010701810792920852,-0.0007815553133850872,-2.585004955422398e-05,-0.0006230035403697075,-4.280683979500545e-05,0.003070667843488633,0.0002434918758918955,0.0004412278133604214,-4.896531776827118e-05,-9.291203883231091e-05,-0.0014425071088963854,0.0020812179822101546,3.3458338828980185e-06,0.001653138320080761,-0.00033023183208716025,0.0014451241140302866,-0.0022117543279125177,-7.531912940689192e-05,1.0,-0.0020846240440286897,0.0007561854950545023,-0.0005302751847781051,-0.00010937354438558209,-0.0003886932499638394,-0.0005993891804417931,0.0019081420282568286,9.663145891527403e-05,-0.0014105868897964142,-0.00032686988563327795,-0.00031073244127748567,-0.0011828498563552418,0.0003942514216219668],[0.0008356128476278185,-0.0010058548384191365,0.0029928067889171016,-0.0027117639544354463,0.001266664959910304,-0.002775545029613311,-0.00014490361613131238,-0.0011636516201258267,-0.0014167211446870249,0.0008268945510473196,0.0022687777239878727,0.0014216349339402805,0.000994638580193004,0.0037837821118346837,0.0027903312033996275,0.004077353989613896,-0.0013086573803491655,-0.0019205651214934693,-0.0006022847454017228,0.0018345907179115233,-0.001207073641473127,0.000685063371450162,0.002117997853309545,0.001215931309403625,0.0016640401043848336,0.000492169558830971,0.0005499792456161954,2.676247359479566e-05,-0.0016920322564636,0.002907789216375728,-7.104884064442781e-05,-0.0024582760480135277,-0.0018465549286692455,-0.001792142261691019,-0.0006033795317028929,-0.0020846240440286897,1.0,1.3082467919237963e-05,-0.0026656686262384816,0.0020156141257340957,0.00010930539163796495,-0.0003040002681170928,-0.0001705688624236338,-0.0002656538804022903,0.0021334585339101656,-0.0005416628791602583,0.00020163232378118514,0.0007846466422613742,-0.0007678417278635954],[0.000517634198857776,0.0007189675843641514,-8.533923304090449e-05,0.00035567580972401897,-0.0015441777405826881,0.00048656988775537416,-0.0008217959389452768,-0.0019551101160042526,0.003103402535596244,-0.001171371983028529,8.414159278315854e-05,0.0028423829821193005,0.0006751295016578921,-0.0020161776675533703,-0.002330326502165299,-0.0014427896242199573,-0.0009849673818418103,-0.000427383895078309,0.0005913211470312653,0.00011597648018879151,4.220234506756614e-05,-0.0005509059261274772,0.0003282253752557546,-0.0003188249939387803,4.603530801216249e-05,0.002578900495330554,-0.0014661881547167357,-0.0005307547879908733,-0.0012319557421361209,-0.0014115273416177366,0.0016651672130308954,-0.0005101365289598807,-3.835483364151516e-05,0.001153756013177232,0.0017095886432573076,0.0007561854950545023,1.3082467919237963e-05,1.0,-0.0001819155784984445,-0.0008978648417160405,-0.001408726130425109,-0.0006296039665154672,-6.618237838925341e-05,0.0009232509440580105,-0.0012912698712921717,-0.0008141216438973755,-0.0010941080196175416,0.00044405455709719063,6.652856730239265e-05],[0.0009805335540469472,0.0010608340444789091,-0.0013449818796920157,-2.5425203495043307e-05,0.0002302873383735821,0.00012727421795224848,-0.001069872950916885,-0.0011970978269563919,0.0027643720885982513,-0.0010929434068361506,-0.0005624466536854753,-0.0003671698201874054,0.0010608594409770634,0.001926751814743145,0.0009485297239872672,0.001975748285363049,-0.0012787059555369523,-0.0009309516956551639,-0.0006993075561928135,0.0013640036829747867,0.0014431604443318436,-0.0005988402310767636,0.0012104089806038803,0.0014737778917998606,-0.001608248120946059,-0.0008241917715071728,-0.0012697210457045184,-0.0021192603004364613,0.0012705153842238817,-0.0015616995757234328,0.0016610534717757884,-0.0005672563408689077,5.8353251092471914e-08,-0.00023581508931643096,-0.0015344104636122818,-0.0005302751847781051,-0.0026656686262384816,-0.0001819155784984445,1.0,0.0003942191139411465,0.0020861464734087485,0.0012790179252293867,0.0012524127188469527,-0.00032065192856743467,0.00042152585442363196,0.0003662380118529698,-0.001617566206840764,-0.0013024254093651026,-0.0003357342939010003],[-0.0012488250195918634,0.00037143739489093653,-0.0012629092646128898,3.793867444664083e-05,-0.002715541881139927,-0.002000831238553817,-0.0015247002980472155,0.0008220026165316575,-0.0004476413449922477,-0.0006318117597186015,7.18183078842017e-05,-0.0023492443946824416,0.00018449154616455003,0.00012896012169149725,-0.0001858392620094565,-0.00024326970061752177,-0.0019515651504138,-0.0005474330902515574,-0.001090513235976116,0.0021105414505556606,-0.0004247629899175626,-0.0008341968657931771,-0.0026947000599002284,0.001198066784985587,-0.001701700161218646,0.0011949560411559281,0.0005028118507514419,0.0015842335640350962,-0.0011916824704647374,0.0018166596896517586,1.1254065435811325e-05,-0.0012063305466672994,0.00024456774542824485,0.00038680272386482203,-0.0005749585705772379,-0.00010937354438558209,0.0020156141257340957,-0.0008978648417160405,0.0003942191139411465,1.0,0.0010363096506184946,0.00370229350329649,0.00047960067993378506,0.0008337638553276434,0.0008795353242781072,-0.0012352831533956271,-0.0009601810727423006,-0.001376508876451207,-0.00016434196923967474],[-0.0010934546530964769,-0.0011325853981362542,0.0015206567146658393,-0.0008836458794260855,-0.0023523333669990413,-0.0008139493139821699,0.0009753755080751554,0.0013465275777943134,-0.0010438535583305213,-0.0012414424693482787,0.0006636678133101185,0.0013666102034255408,-0.0006120933976261167,0.0008132382695526011,-0.0014181281398898914,0.00028409101359197356,-0.0012626527588530732,0.0004788567902195321,-0.0008502466566824623,0.001574362271832671,-0.0007933308500309793,0.002052090604864352,-0.0025958807152455044,0.001721310000901498,-0.0003588293096685416,0.0004671486827777723,0.00013697915328565415,0.0006383022193048849,-0.00046726625062282136,0.002402711285415986,-0.00035862222351402457,-0.0011809019951366604,0.0009784493310665647,-0.00021170094528927312,0.0006068798883348669,-0.0003886932499638394,0.00010930539163796495,-0.001408726130425109,0.0020861464734087485,0.0010363096506184946,1.0,-0.0003000642782013847,0.0009804412238659862,0.0015570118184771947,-0.0009128274758467506,0.003564590448077619,8.383414231002586e-05,0.0010213745943391122,-0.0005819389857347257],[-0.00015701023640565527,-0.0004464645318087176,0.00019895341092257077,-0.0008928474834448329,0.00013288787890949617,0.00028340525814097423,0.0015491569671870185,-0.001301118699859182,0.0005412369024749208,-0.0004320285599226008,0.0014390105937547816,0.0019688755961176354,0.0003040675893243336,0.000558597200481922,-0.0021253852767389304,0.0003068111500897935,-0.0009216867411599046,-0.001205708134771854,0.0004287804389085925,0.0019922297476804543,0.0008740417878425348,0.0012427813649456161,0.0008592066483024758,0.00042311633950088364,0.0013216260013875036,-0.0020202515720043838,0.0014953290730697973,0.0003935211621869532,-0.0004903231499660512,0.0029880880242695684,-0.0005780266596418095,0.0011334652327895218,-0.00021462815569388272,0.0002703331399211816,0.0009738384019128621,-0.0005993891804417931,-0.0003040002681170928,-0.0006296039665154672,0.0012790179252293867,0.00370229350329649,-0.0003000642782013847,1.0,-0.002325399710375933,0.0007633285228823322,0.0026328685607141297,-0.0007822956678363692,0.0005639452300591437,0.0019451945132455144,-0.0016489428988119854],[0.0016094238248077987,0.0013622753431191599,-0.0008910685014910411,-0.0005185257387862086,0.00020474960687077618,0.0015645496382111176,0.002170835213002717,0.00030393290259253964,0.0016655249364763661,-0.0019591595357161817,-0.0003887243838992523,0.0002323981255301201,-0.0007858590549898194,-0.0005013388256769988,0.0008745250585350076,-0.0003871413338074733,0.0013483433788114016,-0.00016701443375198309,0.0007460892730811557,-0.001238750267001732,6.95669943874705e-05,-9.926418773619146e-05,0.0012823032623227378,-0.002338827479904042,0.0018638072930974405,0.0008061524226690206,0.0002951428704466881,-0.0011690267707114353,-0.001091983997584522,-0.0003593050636786715,0.0002478062054979972,0.0009449124419320964,0.0011795606084716948,-0.0009686463055696981,-0.0008696868262333382,0.0019081420282568286,-0.0001705688624236338,-6.618237838925341e-05,0.0012524127188469527,0.00047960067993378506,0.0009804412238659862,-0.002325399710375933,1.0,0.0017133879820080532,0.00019854594292473938,-0.0012873431652010627,-0.0010625487660091116,-7.567114607784485e-05,-0.0004769508970122722],[-0.0012272973917304818,-0.0004904242506719319,-0.0003967902124261874,-0.00010916394352744455,0.0001344327694191162,0.0027346762054245234,0.0015480474512491568,0.0020878603119079196,0.000574974650344997,-0.002782301006902695,-0.0006211068335258212,-0.0032329018832703707,-0.0006590162500354596,-0.00163240691791496,0.0004916403631589365,-0.0018207206855712864,0.0007020649300867842,0.0009289338594362775,-0.0015898973720920523,-0.00037860530152446453,0.000965239453910187,-1.4807280235950638e-05,-0.00048096220248447616,0.0013882598831327197,-0.0014997038236239928,0.0006898033823400379,-0.0004381102787180159,-0.0010101875324818068,0.0009521778464269957,-0.0008346704499100778,-0.0011744468682769193,-0.0007033351603276396,0.00017189271200256667,7.896468850628008e-05,0.0006305110709911748,9.663145891527403e-05,-0.0002656538804022903,0.0009232509440580105,-0.00032065192856743467,0.0008337638553276434,0.0015570118184771947,0.0007633285228823322,0.0017133879820080532,1.0,0.0003847799596326127,0.0010284195630865809,-0.0008488737176590112,0.0008350357428591764,0.0028691848832983215],[-0.0014120059005200407,0.0006238280115020953,-1.1545248111392002e-05,0.0009195635201452114,-0.0007442327813944085,0.002295346203964963,-0.0003682362393573739,-0.00038145116468304047,0.0012197619159721727,-0.002047724572754881,0.0010588568857560093,0.001011523041551477,0.0014178496831878237,0.0017539182011456027,0.001569994301959919,0.002318386702039321,-0.0019153659561068192,-0.0004946092252123232,-0.0002110923316147279,-8.221784186824538e-05,-0.00106787958534592,-0.002947527214096956,-0.0009000091122420327,0.0005797271724971248,0.0013959473143630502,0.0012045255571496202,-0.0012544219062167882,0.0020955546330995263,-0.0010595306612710797,0.0010212393206565674,0.0020541819917924502,0.0005081330268082942,-0.0008738127601136816,-0.0009427509379795293,0.00013999232688368356,-0.0014105868897964142,0.0021334585339101656,-0.0012912698712921717,0.00042152585442363196,0.0008795353242781072,-0.0009128274758467506,0.0026328685607141297,0.00019854594292473938,0.0003847799596326127,1.0,-0.0016701318625782573,0.0007356946834426292,7.729719133329597e-05,-8.498697276466399e-05],[-0.0012665829156959406,-0.00017012817365768857,-0.0008675973201928202,0.0005472321892405302,0.00015773156327420203,0.0007734421027413759,0.00015309117899007504,-1.255559509124731e-06,-0.0005167363145836906,-0.0005794594623613985,0.0011348640561092095,0.0003451145587064038,0.0010641208942453436,0.0013843957989970693,-0.002917661601417797,0.0007408167748215128,0.0011762611405260772,-0.0004323230260641795,-0.00024213748444256472,6.434466221086806e-05,0.00040245516164582224,-0.0010775834899756254,-0.0021900877080210652,0.0006342039000327392,-0.0028145541534887767,0.00013565004158635908,0.0005855222178469641,0.0013782617362007416,-0.0005462931019553119,-0.0005117859571024138,0.0029192141505096593,-9.260927347074012e-05,0.0011856368490699323,-0.0009852664395451232,0.00032018233428546397,-0.00032686988563327795,-0.0005416628791602583,-0.0008141216438973755,0.0003662380118529698,-0.0012352831533956271,0.003564590448077619,-0.0007822956678363692,-0.0012873431652010627,0.0010284195630865809,-0.0016701318625782573,1.0,-0.0008263242941725494,0.00045021931582085706,0.0009660833743344739],[-0.0013870124895141488,0.0005524351996118702,-0.0015035875469012936,0.0008240709263778082,-0.00021792732130746943,0.000915879223072468,3.16867841485481e-05,-0.0007593038072495968,0.0001814801090777136,-6.765604151575381e-05,0.0008151460825754969,0.00023955239726456662,-0.0011015992238865811,-0.0013589599814288775,-0.00011712544370351996,-0.001377184821966648,-0.0013255253293403596,9.269330910930976e-05,4.6684570862885536e-05,7.039774777350998e-05,0.0003641136670927111,-0.0011509779965209678,-0.001302243057578799,0.00012764466563053555,-0.0008849150440565344,3.477554141347793e-05,0.0003470624187798464,-0.001000980123334852,0.0016412416111071424,0.00074160183441012,-0.00048289542983081114,0.0009303397770717676,0.0011092144691557538,-0.0004058525742929844,0.002004801230930195,-0.00031073244127748567,0.00020163232378118514,-0.0010941080196175416,-0.001617566206840764,-0.0009601810727423006,8.383414231002586e-05,0.0005639452300591437,-0.0010625487660091116,-0.0008488737176590112,0.0007356946834426292,-0.0008263242941725494,1.0,-0.00025699974900187533,0.0005221041491486943],[0.00019422494950413398,-0.0017438319546571666,-0.00016221628124592083,0.0003668294896141763,-0.0008816797556198123,-0.0019656334704160343,0.00027647817624187415,0.002790733141214443,-0.0013611791678382681,-0.0009190393767006686,-0.0011026523735666325,0.0015546541592544056,-0.0012407285242708988,-0.00177938228780793,0.002079286759967087,-0.001011803475128225,0.0017437917830255066,0.000302046273722002,-0.000775522520941263,-0.0007859433395340328,0.0005198560815098648,-0.001429640835509628,-0.00041450859584372013,-0.00032009578404121797,-0.0024179401571196766,-0.0023403993866281864,0.0017796446920497185,0.00037910847774123016,0.0012730291759389485,-0.0005855613681816019,-0.0003423887666784939,0.002231261537685798,0.0009016703557466272,0.000265149884568008,0.001185020358559964,-0.0011828498563552418,0.0007846466422613742,0.00044405455709719063,-0.0013024254093651026,-0.001376508876451207,0.0010213745943391122,0.0019451945132455144,-7.567114607784485e-05,0.0008350357428591764,7.729719133329597e-05,0.00045021931582085706,-0.00025699974900187533,1.0,3.090079145178708e-05],[-0.0012665168671921255,-0.001072228427539796,-0.0014640083176233343,-0.0020700765230598018,-0.0037094085792765473,0.001243938381928249,0.00027869054705160953,0.00020310560100537877,-0.0009608000950925175,0.0009953591808107966,-0.00012315711435226232,-0.0033898188648503517,0.00040941255000901474,0.0031663201946022525,-0.0009808134646700508,0.0017825538619420389,-0.0020395145220801184,0.0015192075603971586,-0.001922700612824355,0.0007240485980728538,-0.0005613985985714529,0.0009304624944871997,0.001422454126777135,-0.000530191633756738,0.00014994127387786243,-0.0005226832895863518,-0.0023689086360795487,0.00024794607556469814,0.0005456450862347396,0.000238389420519572,0.0015132572839368873,0.001280038558302366,0.0001461496973993162,0.0014943221390320998,0.0008642753852533341,0.0003942514216219668,-0.0007678417278635954,6.652856730239265e-05,-0.0003357342939010003,-0.00016434196923967474,-0.0005819389857347257,-0.0016489428988119854,-0.0004769508970122722,0.0028691848832983215,-8.498697276466399e-05,0.0009660833743344739,0.0005221041491486943,3.090079145178708e-05,1.0]],\"type\":\"heatmap\"}],                        {\"height\":700,\"title\":{\"text\":\"Pearson Correlation of Integer-type features\"},\"width\":900,\"xaxis\":{\"nticks\":36,\"ticks\":\"\"},\"yaxis\":{\"ticks\":\"\"},\"template\":{\"data\":{\"histogram2dcontour\":[{\"type\":\"histogram2dcontour\",\"colorbar\":{\"outlinewidth\":0,\"ticks\":\"\"},\"colorscale\":[[0.0,\"#0d0887\"],[0.1111111111111111,\"#46039f\"],[0.2222222222222222,\"#7201a8\"],[0.3333333333333333,\"#9c179e\"],[0.4444444444444444,\"#bd3786\"],[0.5555555555555556,\"#d8576b\"],[0.6666666666666666,\"#ed7953\"],[0.7777777777777778,\"#fb9f3a\"],[0.8888888888888888,\"#fdca26\"],[1.0,\"#f0f921\"]]}],\"choropleth\":[{\"type\":\"choropleth\",\"colorbar\":{\"outlinewidth\":0,\"ticks\":\"\"}}],\"histogram2d\":[{\"type\":\"histogram2d\",\"colorbar\":{\"outlinewidth\":0,\"ticks\":\"\"},\"colorscale\":[[0.0,\"#0d0887\"],[0.1111111111111111,\"#46039f\"],[0.2222222222222222,\"#7201a8\"],[0.3333333333333333,\"#9c179e\"],[0.4444444444444444,\"#bd3786\"],[0.5555555555555556,\"#d8576b\"],[0.6666666666666666,\"#ed7953\"],[0.7777777777777778,\"#fb9f3a\"],[0.8888888888888888,\"#fdca26\"],[1.0,\"#f0f921\"]]}],\"heatmap\":[{\"type\":\"heatmap\",\"colorbar\":{\"outlinewidth\":0,\"ticks\":\"\"},\"colorscale\":[[0.0,\"#0d0887\"],[0.1111111111111111,\"#46039f\"],[0.2222222222222222,\"#7201a8\"],[0.3333333333333333,\"#9c179e\"],[0.4444444444444444,\"#bd3786\"],[0.5555555555555556,\"#d8576b\"],[0.6666666666666666,\"#ed7953\"],[0.7777777777777778,\"#fb9f3a\"],[0.8888888888888888,\"#fdca26\"],[1.0,\"#f0f921\"]]}],\"heatmapgl\":[{\"type\":\"heatmapgl\",\"colorbar\":{\"outlinewidth\":0,\"ticks\":\"\"},\"colorscale\":[[0.0,\"#0d0887\"],[0.1111111111111111,\"#46039f\"],[0.2222222222222222,\"#7201a8\"],[0.3333333333333333,\"#9c179e\"],[0.4444444444444444,\"#bd3786\"],[0.5555555555555556,\"#d8576b\"],[0.6666666666666666,\"#ed7953\"],[0.7777777777777778,\"#fb9f3a\"],[0.8888888888888888,\"#fdca26\"],[1.0,\"#f0f921\"]]}],\"contourcarpet\":[{\"type\":\"contourcarpet\",\"colorbar\":{\"outlinewidth\":0,\"ticks\":\"\"}}],\"contour\":[{\"type\":\"contour\",\"colorbar\":{\"outlinewidth\":0,\"ticks\":\"\"},\"colorscale\":[[0.0,\"#0d0887\"],[0.1111111111111111,\"#46039f\"],[0.2222222222222222,\"#7201a8\"],[0.3333333333333333,\"#9c179e\"],[0.4444444444444444,\"#bd3786\"],[0.5555555555555556,\"#d8576b\"],[0.6666666666666666,\"#ed7953\"],[0.7777777777777778,\"#fb9f3a\"],[0.8888888888888888,\"#fdca26\"],[1.0,\"#f0f921\"]]}],\"surface\":[{\"type\":\"surface\",\"colorbar\":{\"outlinewidth\":0,\"ticks\":\"\"},\"colorscale\":[[0.0,\"#0d0887\"],[0.1111111111111111,\"#46039f\"],[0.2222222222222222,\"#7201a8\"],[0.3333333333333333,\"#9c179e\"],[0.4444444444444444,\"#bd3786\"],[0.5555555555555556,\"#d8576b\"],[0.6666666666666666,\"#ed7953\"],[0.7777777777777778,\"#fb9f3a\"],[0.8888888888888888,\"#fdca26\"],[1.0,\"#f0f921\"]]}],\"mesh3d\":[{\"type\":\"mesh3d\",\"colorbar\":{\"outlinewidth\":0,\"ticks\":\"\"}}],\"scatter\":[{\"fillpattern\":{\"fillmode\":\"overlay\",\"size\":10,\"solidity\":0.2},\"type\":\"scatter\"}],\"parcoords\":[{\"type\":\"parcoords\",\"line\":{\"colorbar\":{\"outlinewidth\":0,\"ticks\":\"\"}}}],\"scatterpolargl\":[{\"type\":\"scatterpolargl\",\"marker\":{\"colorbar\":{\"outlinewidth\":0,\"ticks\":\"\"}}}],\"bar\":[{\"error_x\":{\"color\":\"#2a3f5f\"},\"error_y\":{\"color\":\"#2a3f5f\"},\"marker\":{\"line\":{\"color\":\"#E5ECF6\",\"width\":0.5},\"pattern\":{\"fillmode\":\"overlay\",\"size\":10,\"solidity\":0.2}},\"type\":\"bar\"}],\"scattergeo\":[{\"type\":\"scattergeo\",\"marker\":{\"colorbar\":{\"outlinewidth\":0,\"ticks\":\"\"}}}],\"scatterpolar\":[{\"type\":\"scatterpolar\",\"marker\":{\"colorbar\":{\"outlinewidth\":0,\"ticks\":\"\"}}}],\"histogram\":[{\"marker\":{\"pattern\":{\"fillmode\":\"overlay\",\"size\":10,\"solidity\":0.2}},\"type\":\"histogram\"}],\"scattergl\":[{\"type\":\"scattergl\",\"marker\":{\"colorbar\":{\"outlinewidth\":0,\"ticks\":\"\"}}}],\"scatter3d\":[{\"type\":\"scatter3d\",\"line\":{\"colorbar\":{\"outlinewidth\":0,\"ticks\":\"\"}},\"marker\":{\"colorbar\":{\"outlinewidth\":0,\"ticks\":\"\"}}}],\"scattermapbox\":[{\"type\":\"scattermapbox\",\"marker\":{\"colorbar\":{\"outlinewidth\":0,\"ticks\":\"\"}}}],\"scatterternary\":[{\"type\":\"scatterternary\",\"marker\":{\"colorbar\":{\"outlinewidth\":0,\"ticks\":\"\"}}}],\"scattercarpet\":[{\"type\":\"scattercarpet\",\"marker\":{\"colorbar\":{\"outlinewidth\":0,\"ticks\":\"\"}}}],\"carpet\":[{\"aaxis\":{\"endlinecolor\":\"#2a3f5f\",\"gridcolor\":\"white\",\"linecolor\":\"white\",\"minorgridcolor\":\"white\",\"startlinecolor\":\"#2a3f5f\"},\"baxis\":{\"endlinecolor\":\"#2a3f5f\",\"gridcolor\":\"white\",\"linecolor\":\"white\",\"minorgridcolor\":\"white\",\"startlinecolor\":\"#2a3f5f\"},\"type\":\"carpet\"}],\"table\":[{\"cells\":{\"fill\":{\"color\":\"#EBF0F8\"},\"line\":{\"color\":\"white\"}},\"header\":{\"fill\":{\"color\":\"#C8D4E3\"},\"line\":{\"color\":\"white\"}},\"type\":\"table\"}],\"barpolar\":[{\"marker\":{\"line\":{\"color\":\"#E5ECF6\",\"width\":0.5},\"pattern\":{\"fillmode\":\"overlay\",\"size\":10,\"solidity\":0.2}},\"type\":\"barpolar\"}],\"pie\":[{\"automargin\":true,\"type\":\"pie\"}]},\"layout\":{\"autotypenumbers\":\"strict\",\"colorway\":[\"#636efa\",\"#EF553B\",\"#00cc96\",\"#ab63fa\",\"#FFA15A\",\"#19d3f3\",\"#FF6692\",\"#B6E880\",\"#FF97FF\",\"#FECB52\"],\"font\":{\"color\":\"#2a3f5f\"},\"hovermode\":\"closest\",\"hoverlabel\":{\"align\":\"left\"},\"paper_bgcolor\":\"white\",\"plot_bgcolor\":\"#E5ECF6\",\"polar\":{\"bgcolor\":\"#E5ECF6\",\"angularaxis\":{\"gridcolor\":\"white\",\"linecolor\":\"white\",\"ticks\":\"\"},\"radialaxis\":{\"gridcolor\":\"white\",\"linecolor\":\"white\",\"ticks\":\"\"}},\"ternary\":{\"bgcolor\":\"#E5ECF6\",\"aaxis\":{\"gridcolor\":\"white\",\"linecolor\":\"white\",\"ticks\":\"\"},\"baxis\":{\"gridcolor\":\"white\",\"linecolor\":\"white\",\"ticks\":\"\"},\"caxis\":{\"gridcolor\":\"white\",\"linecolor\":\"white\",\"ticks\":\"\"}},\"coloraxis\":{\"colorbar\":{\"outlinewidth\":0,\"ticks\":\"\"}},\"colorscale\":{\"sequential\":[[0.0,\"#0d0887\"],[0.1111111111111111,\"#46039f\"],[0.2222222222222222,\"#7201a8\"],[0.3333333333333333,\"#9c179e\"],[0.4444444444444444,\"#bd3786\"],[0.5555555555555556,\"#d8576b\"],[0.6666666666666666,\"#ed7953\"],[0.7777777777777778,\"#fb9f3a\"],[0.8888888888888888,\"#fdca26\"],[1.0,\"#f0f921\"]],\"sequentialminus\":[[0.0,\"#0d0887\"],[0.1111111111111111,\"#46039f\"],[0.2222222222222222,\"#7201a8\"],[0.3333333333333333,\"#9c179e\"],[0.4444444444444444,\"#bd3786\"],[0.5555555555555556,\"#d8576b\"],[0.6666666666666666,\"#ed7953\"],[0.7777777777777778,\"#fb9f3a\"],[0.8888888888888888,\"#fdca26\"],[1.0,\"#f0f921\"]],\"diverging\":[[0,\"#8e0152\"],[0.1,\"#c51b7d\"],[0.2,\"#de77ae\"],[0.3,\"#f1b6da\"],[0.4,\"#fde0ef\"],[0.5,\"#f7f7f7\"],[0.6,\"#e6f5d0\"],[0.7,\"#b8e186\"],[0.8,\"#7fbc41\"],[0.9,\"#4d9221\"],[1,\"#276419\"]]},\"xaxis\":{\"gridcolor\":\"white\",\"linecolor\":\"white\",\"ticks\":\"\",\"title\":{\"standoff\":15},\"zerolinecolor\":\"white\",\"automargin\":true,\"zerolinewidth\":2},\"yaxis\":{\"gridcolor\":\"white\",\"linecolor\":\"white\",\"ticks\":\"\",\"title\":{\"standoff\":15},\"zerolinecolor\":\"white\",\"automargin\":true,\"zerolinewidth\":2},\"scene\":{\"xaxis\":{\"backgroundcolor\":\"#E5ECF6\",\"gridcolor\":\"white\",\"linecolor\":\"white\",\"showbackground\":true,\"ticks\":\"\",\"zerolinecolor\":\"white\",\"gridwidth\":2},\"yaxis\":{\"backgroundcolor\":\"#E5ECF6\",\"gridcolor\":\"white\",\"linecolor\":\"white\",\"showbackground\":true,\"ticks\":\"\",\"zerolinecolor\":\"white\",\"gridwidth\":2},\"zaxis\":{\"backgroundcolor\":\"#E5ECF6\",\"gridcolor\":\"white\",\"linecolor\":\"white\",\"showbackground\":true,\"ticks\":\"\",\"zerolinecolor\":\"white\",\"gridwidth\":2}},\"shapedefaults\":{\"line\":{\"color\":\"#2a3f5f\"}},\"annotationdefaults\":{\"arrowcolor\":\"#2a3f5f\",\"arrowhead\":0,\"arrowwidth\":1},\"geo\":{\"bgcolor\":\"white\",\"landcolor\":\"#E5ECF6\",\"subunitcolor\":\"white\",\"showland\":true,\"showlakes\":true,\"lakecolor\":\"white\"},\"title\":{\"x\":0.05},\"mapbox\":{\"style\":\"light\"}}}},                        {\"responsive\": true}                    ).then(function(){\n",
       "                            \n",
       "var gd = document.getElementById('772ee9f6-8204-461b-b5d9-c1962f21a09a');\n",
       "var x = new MutationObserver(function (mutations, observer) {{\n",
       "        var display = window.getComputedStyle(gd).display;\n",
       "        if (!display || display === 'none') {{\n",
       "            console.log([gd, 'removed!']);\n",
       "            Plotly.purge(gd);\n",
       "            observer.disconnect();\n",
       "        }}\n",
       "}});\n",
       "\n",
       "// Listen for the removal of the full notebook cells\n",
       "var notebookContainer = gd.closest('#notebook-container');\n",
       "if (notebookContainer) {{\n",
       "    x.observe(notebookContainer, {childList: true});\n",
       "}}\n",
       "\n",
       "// Listen for the clearing of the current output cell\n",
       "var outputEl = gd.closest('.output');\n",
       "if (outputEl) {{\n",
       "    x.observe(outputEl, {childList: true});\n",
       "}}\n",
       "\n",
       "                        })                };                });            </script>        </div>"
      ]
     },
     "metadata": {},
     "output_type": "display_data"
    }
   ],
   "source": [
    "data = [\n",
    "    go.Heatmap(\n",
    "        z= train_int.corr().values,\n",
    "        x=train_int.columns.values,\n",
    "        y=train_int.columns.values,\n",
    "        colorscale='Viridis',\n",
    "        reversescale = False,\n",
    "        text = np.round(train_int.corr().values, decimals=2),\n",
    "        texttemplate=\"%{text}\",\n",
    "        hoverinfo=\"text\",\n",
    "        opacity = 1.0 )\n",
    "]\n",
    "\n",
    "layout = go.Layout(\n",
    "    title='Pearson Correlation of Integer-type features',\n",
    "    xaxis = dict(ticks='', nticks=36),\n",
    "    yaxis = dict(ticks='' ),\n",
    "    width = 900, height = 700)\n",
    "\n",
    "fig = go.Figure(data=data, layout=layout)\n",
    "fig.show()"
   ]
  },
  {
   "cell_type": "markdown",
   "id": "e3d1e580",
   "metadata": {},
   "source": [
    "## Mutual information plot\n",
    "\n",
    "-> inspect the mutual information between the target variable and the corresponding feature it is calculated against"
   ]
  },
  {
   "cell_type": "code",
   "execution_count": 16,
   "id": "8fb94b43",
   "metadata": {},
   "outputs": [
    {
     "name": "stdout",
     "output_type": "stream",
     "text": [
      "[0.02599971 0.00767074 0.00617141 0.01855302 0.00158483 0.00338192\n",
      " 0.01668813 0.0134428  0.01334669 0.01348572]\n"
     ]
    }
   ],
   "source": [
    "mf = mutual_info_classif(train_float.values,train.target.values,n_neighbors=3, random_state=17 )\n",
    "print(mf)"
   ]
  },
  {
   "cell_type": "markdown",
   "id": "337e9833",
   "metadata": {},
   "source": [
    "## Binary Features Inspection"
   ]
  },
  {
   "cell_type": "code",
   "execution_count": 17,
   "id": "7da51bf4",
   "metadata": {},
   "outputs": [],
   "source": [
    "bin_col = [col for col in train.columns if '_bin' in col]\n",
    "zero_list = []\n",
    "one_list = []\n",
    "for col in bin_col:\n",
    "    zero_list.append((train[col]==0).sum())\n",
    "    one_list.append((train[col]==1).sum())"
   ]
  },
  {
   "cell_type": "code",
   "execution_count": 18,
   "id": "a7906b85",
   "metadata": {},
   "outputs": [
    {
     "data": {
      "application/vnd.plotly.v1+json": {
       "config": {
        "linkText": "Export to plot.ly",
        "plotlyServerURL": "https://plot.ly",
        "showLink": false
       },
       "data": [
        {
         "name": "Zero count",
         "type": "bar",
         "x": [
          "ps_ind_06_bin",
          "ps_ind_07_bin",
          "ps_ind_08_bin",
          "ps_ind_09_bin",
          "ps_ind_10_bin",
          "ps_ind_11_bin",
          "ps_ind_12_bin",
          "ps_ind_13_bin",
          "ps_ind_16_bin",
          "ps_ind_17_bin",
          "ps_ind_18_bin",
          "ps_calc_15_bin",
          "ps_calc_16_bin",
          "ps_calc_17_bin",
          "ps_calc_18_bin",
          "ps_calc_19_bin",
          "ps_calc_20_bin"
         ],
         "y": [
          360852,
          442223,
          497644,
          484917,
          594990,
          594205,
          589594,
          594648,
          201882,
          523143,
          503879,
          522342,
          221514,
          265356,
          424278,
          387469,
          503955
         ]
        },
        {
         "name": "One count",
         "type": "bar",
         "x": [
          "ps_ind_06_bin",
          "ps_ind_07_bin",
          "ps_ind_08_bin",
          "ps_ind_09_bin",
          "ps_ind_10_bin",
          "ps_ind_11_bin",
          "ps_ind_12_bin",
          "ps_ind_13_bin",
          "ps_ind_16_bin",
          "ps_ind_17_bin",
          "ps_ind_18_bin",
          "ps_calc_15_bin",
          "ps_calc_16_bin",
          "ps_calc_17_bin",
          "ps_calc_18_bin",
          "ps_calc_19_bin",
          "ps_calc_20_bin"
         ],
         "y": [
          234360,
          152989,
          97568,
          110295,
          222,
          1007,
          5618,
          564,
          393330,
          72069,
          91333,
          72870,
          373698,
          329856,
          170934,
          207743,
          91257
         ]
        }
       ],
       "layout": {
        "barmode": "stack",
        "template": {
         "data": {
          "bar": [
           {
            "error_x": {
             "color": "#2a3f5f"
            },
            "error_y": {
             "color": "#2a3f5f"
            },
            "marker": {
             "line": {
              "color": "#E5ECF6",
              "width": 0.5
             },
             "pattern": {
              "fillmode": "overlay",
              "size": 10,
              "solidity": 0.2
             }
            },
            "type": "bar"
           }
          ],
          "barpolar": [
           {
            "marker": {
             "line": {
              "color": "#E5ECF6",
              "width": 0.5
             },
             "pattern": {
              "fillmode": "overlay",
              "size": 10,
              "solidity": 0.2
             }
            },
            "type": "barpolar"
           }
          ],
          "carpet": [
           {
            "aaxis": {
             "endlinecolor": "#2a3f5f",
             "gridcolor": "white",
             "linecolor": "white",
             "minorgridcolor": "white",
             "startlinecolor": "#2a3f5f"
            },
            "baxis": {
             "endlinecolor": "#2a3f5f",
             "gridcolor": "white",
             "linecolor": "white",
             "minorgridcolor": "white",
             "startlinecolor": "#2a3f5f"
            },
            "type": "carpet"
           }
          ],
          "choropleth": [
           {
            "colorbar": {
             "outlinewidth": 0,
             "ticks": ""
            },
            "type": "choropleth"
           }
          ],
          "contour": [
           {
            "colorbar": {
             "outlinewidth": 0,
             "ticks": ""
            },
            "colorscale": [
             [
              0,
              "#0d0887"
             ],
             [
              0.1111111111111111,
              "#46039f"
             ],
             [
              0.2222222222222222,
              "#7201a8"
             ],
             [
              0.3333333333333333,
              "#9c179e"
             ],
             [
              0.4444444444444444,
              "#bd3786"
             ],
             [
              0.5555555555555556,
              "#d8576b"
             ],
             [
              0.6666666666666666,
              "#ed7953"
             ],
             [
              0.7777777777777778,
              "#fb9f3a"
             ],
             [
              0.8888888888888888,
              "#fdca26"
             ],
             [
              1,
              "#f0f921"
             ]
            ],
            "type": "contour"
           }
          ],
          "contourcarpet": [
           {
            "colorbar": {
             "outlinewidth": 0,
             "ticks": ""
            },
            "type": "contourcarpet"
           }
          ],
          "heatmap": [
           {
            "colorbar": {
             "outlinewidth": 0,
             "ticks": ""
            },
            "colorscale": [
             [
              0,
              "#0d0887"
             ],
             [
              0.1111111111111111,
              "#46039f"
             ],
             [
              0.2222222222222222,
              "#7201a8"
             ],
             [
              0.3333333333333333,
              "#9c179e"
             ],
             [
              0.4444444444444444,
              "#bd3786"
             ],
             [
              0.5555555555555556,
              "#d8576b"
             ],
             [
              0.6666666666666666,
              "#ed7953"
             ],
             [
              0.7777777777777778,
              "#fb9f3a"
             ],
             [
              0.8888888888888888,
              "#fdca26"
             ],
             [
              1,
              "#f0f921"
             ]
            ],
            "type": "heatmap"
           }
          ],
          "heatmapgl": [
           {
            "colorbar": {
             "outlinewidth": 0,
             "ticks": ""
            },
            "colorscale": [
             [
              0,
              "#0d0887"
             ],
             [
              0.1111111111111111,
              "#46039f"
             ],
             [
              0.2222222222222222,
              "#7201a8"
             ],
             [
              0.3333333333333333,
              "#9c179e"
             ],
             [
              0.4444444444444444,
              "#bd3786"
             ],
             [
              0.5555555555555556,
              "#d8576b"
             ],
             [
              0.6666666666666666,
              "#ed7953"
             ],
             [
              0.7777777777777778,
              "#fb9f3a"
             ],
             [
              0.8888888888888888,
              "#fdca26"
             ],
             [
              1,
              "#f0f921"
             ]
            ],
            "type": "heatmapgl"
           }
          ],
          "histogram": [
           {
            "marker": {
             "pattern": {
              "fillmode": "overlay",
              "size": 10,
              "solidity": 0.2
             }
            },
            "type": "histogram"
           }
          ],
          "histogram2d": [
           {
            "colorbar": {
             "outlinewidth": 0,
             "ticks": ""
            },
            "colorscale": [
             [
              0,
              "#0d0887"
             ],
             [
              0.1111111111111111,
              "#46039f"
             ],
             [
              0.2222222222222222,
              "#7201a8"
             ],
             [
              0.3333333333333333,
              "#9c179e"
             ],
             [
              0.4444444444444444,
              "#bd3786"
             ],
             [
              0.5555555555555556,
              "#d8576b"
             ],
             [
              0.6666666666666666,
              "#ed7953"
             ],
             [
              0.7777777777777778,
              "#fb9f3a"
             ],
             [
              0.8888888888888888,
              "#fdca26"
             ],
             [
              1,
              "#f0f921"
             ]
            ],
            "type": "histogram2d"
           }
          ],
          "histogram2dcontour": [
           {
            "colorbar": {
             "outlinewidth": 0,
             "ticks": ""
            },
            "colorscale": [
             [
              0,
              "#0d0887"
             ],
             [
              0.1111111111111111,
              "#46039f"
             ],
             [
              0.2222222222222222,
              "#7201a8"
             ],
             [
              0.3333333333333333,
              "#9c179e"
             ],
             [
              0.4444444444444444,
              "#bd3786"
             ],
             [
              0.5555555555555556,
              "#d8576b"
             ],
             [
              0.6666666666666666,
              "#ed7953"
             ],
             [
              0.7777777777777778,
              "#fb9f3a"
             ],
             [
              0.8888888888888888,
              "#fdca26"
             ],
             [
              1,
              "#f0f921"
             ]
            ],
            "type": "histogram2dcontour"
           }
          ],
          "mesh3d": [
           {
            "colorbar": {
             "outlinewidth": 0,
             "ticks": ""
            },
            "type": "mesh3d"
           }
          ],
          "parcoords": [
           {
            "line": {
             "colorbar": {
              "outlinewidth": 0,
              "ticks": ""
             }
            },
            "type": "parcoords"
           }
          ],
          "pie": [
           {
            "automargin": true,
            "type": "pie"
           }
          ],
          "scatter": [
           {
            "fillpattern": {
             "fillmode": "overlay",
             "size": 10,
             "solidity": 0.2
            },
            "type": "scatter"
           }
          ],
          "scatter3d": [
           {
            "line": {
             "colorbar": {
              "outlinewidth": 0,
              "ticks": ""
             }
            },
            "marker": {
             "colorbar": {
              "outlinewidth": 0,
              "ticks": ""
             }
            },
            "type": "scatter3d"
           }
          ],
          "scattercarpet": [
           {
            "marker": {
             "colorbar": {
              "outlinewidth": 0,
              "ticks": ""
             }
            },
            "type": "scattercarpet"
           }
          ],
          "scattergeo": [
           {
            "marker": {
             "colorbar": {
              "outlinewidth": 0,
              "ticks": ""
             }
            },
            "type": "scattergeo"
           }
          ],
          "scattergl": [
           {
            "marker": {
             "colorbar": {
              "outlinewidth": 0,
              "ticks": ""
             }
            },
            "type": "scattergl"
           }
          ],
          "scattermapbox": [
           {
            "marker": {
             "colorbar": {
              "outlinewidth": 0,
              "ticks": ""
             }
            },
            "type": "scattermapbox"
           }
          ],
          "scatterpolar": [
           {
            "marker": {
             "colorbar": {
              "outlinewidth": 0,
              "ticks": ""
             }
            },
            "type": "scatterpolar"
           }
          ],
          "scatterpolargl": [
           {
            "marker": {
             "colorbar": {
              "outlinewidth": 0,
              "ticks": ""
             }
            },
            "type": "scatterpolargl"
           }
          ],
          "scatterternary": [
           {
            "marker": {
             "colorbar": {
              "outlinewidth": 0,
              "ticks": ""
             }
            },
            "type": "scatterternary"
           }
          ],
          "surface": [
           {
            "colorbar": {
             "outlinewidth": 0,
             "ticks": ""
            },
            "colorscale": [
             [
              0,
              "#0d0887"
             ],
             [
              0.1111111111111111,
              "#46039f"
             ],
             [
              0.2222222222222222,
              "#7201a8"
             ],
             [
              0.3333333333333333,
              "#9c179e"
             ],
             [
              0.4444444444444444,
              "#bd3786"
             ],
             [
              0.5555555555555556,
              "#d8576b"
             ],
             [
              0.6666666666666666,
              "#ed7953"
             ],
             [
              0.7777777777777778,
              "#fb9f3a"
             ],
             [
              0.8888888888888888,
              "#fdca26"
             ],
             [
              1,
              "#f0f921"
             ]
            ],
            "type": "surface"
           }
          ],
          "table": [
           {
            "cells": {
             "fill": {
              "color": "#EBF0F8"
             },
             "line": {
              "color": "white"
             }
            },
            "header": {
             "fill": {
              "color": "#C8D4E3"
             },
             "line": {
              "color": "white"
             }
            },
            "type": "table"
           }
          ]
         },
         "layout": {
          "annotationdefaults": {
           "arrowcolor": "#2a3f5f",
           "arrowhead": 0,
           "arrowwidth": 1
          },
          "autotypenumbers": "strict",
          "coloraxis": {
           "colorbar": {
            "outlinewidth": 0,
            "ticks": ""
           }
          },
          "colorscale": {
           "diverging": [
            [
             0,
             "#8e0152"
            ],
            [
             0.1,
             "#c51b7d"
            ],
            [
             0.2,
             "#de77ae"
            ],
            [
             0.3,
             "#f1b6da"
            ],
            [
             0.4,
             "#fde0ef"
            ],
            [
             0.5,
             "#f7f7f7"
            ],
            [
             0.6,
             "#e6f5d0"
            ],
            [
             0.7,
             "#b8e186"
            ],
            [
             0.8,
             "#7fbc41"
            ],
            [
             0.9,
             "#4d9221"
            ],
            [
             1,
             "#276419"
            ]
           ],
           "sequential": [
            [
             0,
             "#0d0887"
            ],
            [
             0.1111111111111111,
             "#46039f"
            ],
            [
             0.2222222222222222,
             "#7201a8"
            ],
            [
             0.3333333333333333,
             "#9c179e"
            ],
            [
             0.4444444444444444,
             "#bd3786"
            ],
            [
             0.5555555555555556,
             "#d8576b"
            ],
            [
             0.6666666666666666,
             "#ed7953"
            ],
            [
             0.7777777777777778,
             "#fb9f3a"
            ],
            [
             0.8888888888888888,
             "#fdca26"
            ],
            [
             1,
             "#f0f921"
            ]
           ],
           "sequentialminus": [
            [
             0,
             "#0d0887"
            ],
            [
             0.1111111111111111,
             "#46039f"
            ],
            [
             0.2222222222222222,
             "#7201a8"
            ],
            [
             0.3333333333333333,
             "#9c179e"
            ],
            [
             0.4444444444444444,
             "#bd3786"
            ],
            [
             0.5555555555555556,
             "#d8576b"
            ],
            [
             0.6666666666666666,
             "#ed7953"
            ],
            [
             0.7777777777777778,
             "#fb9f3a"
            ],
            [
             0.8888888888888888,
             "#fdca26"
            ],
            [
             1,
             "#f0f921"
            ]
           ]
          },
          "colorway": [
           "#636efa",
           "#EF553B",
           "#00cc96",
           "#ab63fa",
           "#FFA15A",
           "#19d3f3",
           "#FF6692",
           "#B6E880",
           "#FF97FF",
           "#FECB52"
          ],
          "font": {
           "color": "#2a3f5f"
          },
          "geo": {
           "bgcolor": "white",
           "lakecolor": "white",
           "landcolor": "#E5ECF6",
           "showlakes": true,
           "showland": true,
           "subunitcolor": "white"
          },
          "hoverlabel": {
           "align": "left"
          },
          "hovermode": "closest",
          "mapbox": {
           "style": "light"
          },
          "paper_bgcolor": "white",
          "plot_bgcolor": "#E5ECF6",
          "polar": {
           "angularaxis": {
            "gridcolor": "white",
            "linecolor": "white",
            "ticks": ""
           },
           "bgcolor": "#E5ECF6",
           "radialaxis": {
            "gridcolor": "white",
            "linecolor": "white",
            "ticks": ""
           }
          },
          "scene": {
           "xaxis": {
            "backgroundcolor": "#E5ECF6",
            "gridcolor": "white",
            "gridwidth": 2,
            "linecolor": "white",
            "showbackground": true,
            "ticks": "",
            "zerolinecolor": "white"
           },
           "yaxis": {
            "backgroundcolor": "#E5ECF6",
            "gridcolor": "white",
            "gridwidth": 2,
            "linecolor": "white",
            "showbackground": true,
            "ticks": "",
            "zerolinecolor": "white"
           },
           "zaxis": {
            "backgroundcolor": "#E5ECF6",
            "gridcolor": "white",
            "gridwidth": 2,
            "linecolor": "white",
            "showbackground": true,
            "ticks": "",
            "zerolinecolor": "white"
           }
          },
          "shapedefaults": {
           "line": {
            "color": "#2a3f5f"
           }
          },
          "ternary": {
           "aaxis": {
            "gridcolor": "white",
            "linecolor": "white",
            "ticks": ""
           },
           "baxis": {
            "gridcolor": "white",
            "linecolor": "white",
            "ticks": ""
           },
           "bgcolor": "#E5ECF6",
           "caxis": {
            "gridcolor": "white",
            "linecolor": "white",
            "ticks": ""
           }
          },
          "title": {
           "x": 0.05
          },
          "xaxis": {
           "automargin": true,
           "gridcolor": "white",
           "linecolor": "white",
           "ticks": "",
           "title": {
            "standoff": 15
           },
           "zerolinecolor": "white",
           "zerolinewidth": 2
          },
          "yaxis": {
           "automargin": true,
           "gridcolor": "white",
           "linecolor": "white",
           "ticks": "",
           "title": {
            "standoff": 15
           },
           "zerolinecolor": "white",
           "zerolinewidth": 2
          }
         }
        },
        "title": {
         "text": "Count of 1 and 0 in binary variables"
        }
       }
      },
      "text/html": [
       "<div>                            <div id=\"9e0e5517-6eb7-4e66-9cb2-985f891c30b9\" class=\"plotly-graph-div\" style=\"height:525px; width:100%;\"></div>            <script type=\"text/javascript\">                require([\"plotly\"], function(Plotly) {                    window.PLOTLYENV=window.PLOTLYENV || {};                                    if (document.getElementById(\"9e0e5517-6eb7-4e66-9cb2-985f891c30b9\")) {                    Plotly.newPlot(                        \"9e0e5517-6eb7-4e66-9cb2-985f891c30b9\",                        [{\"name\":\"Zero count\",\"x\":[\"ps_ind_06_bin\",\"ps_ind_07_bin\",\"ps_ind_08_bin\",\"ps_ind_09_bin\",\"ps_ind_10_bin\",\"ps_ind_11_bin\",\"ps_ind_12_bin\",\"ps_ind_13_bin\",\"ps_ind_16_bin\",\"ps_ind_17_bin\",\"ps_ind_18_bin\",\"ps_calc_15_bin\",\"ps_calc_16_bin\",\"ps_calc_17_bin\",\"ps_calc_18_bin\",\"ps_calc_19_bin\",\"ps_calc_20_bin\"],\"y\":[360852,442223,497644,484917,594990,594205,589594,594648,201882,523143,503879,522342,221514,265356,424278,387469,503955],\"type\":\"bar\"},{\"name\":\"One count\",\"x\":[\"ps_ind_06_bin\",\"ps_ind_07_bin\",\"ps_ind_08_bin\",\"ps_ind_09_bin\",\"ps_ind_10_bin\",\"ps_ind_11_bin\",\"ps_ind_12_bin\",\"ps_ind_13_bin\",\"ps_ind_16_bin\",\"ps_ind_17_bin\",\"ps_ind_18_bin\",\"ps_calc_15_bin\",\"ps_calc_16_bin\",\"ps_calc_17_bin\",\"ps_calc_18_bin\",\"ps_calc_19_bin\",\"ps_calc_20_bin\"],\"y\":[234360,152989,97568,110295,222,1007,5618,564,393330,72069,91333,72870,373698,329856,170934,207743,91257],\"type\":\"bar\"}],                        {\"barmode\":\"stack\",\"template\":{\"data\":{\"barpolar\":[{\"marker\":{\"line\":{\"color\":\"#E5ECF6\",\"width\":0.5},\"pattern\":{\"fillmode\":\"overlay\",\"size\":10,\"solidity\":0.2}},\"type\":\"barpolar\"}],\"bar\":[{\"error_x\":{\"color\":\"#2a3f5f\"},\"error_y\":{\"color\":\"#2a3f5f\"},\"marker\":{\"line\":{\"color\":\"#E5ECF6\",\"width\":0.5},\"pattern\":{\"fillmode\":\"overlay\",\"size\":10,\"solidity\":0.2}},\"type\":\"bar\"}],\"carpet\":[{\"aaxis\":{\"endlinecolor\":\"#2a3f5f\",\"gridcolor\":\"white\",\"linecolor\":\"white\",\"minorgridcolor\":\"white\",\"startlinecolor\":\"#2a3f5f\"},\"baxis\":{\"endlinecolor\":\"#2a3f5f\",\"gridcolor\":\"white\",\"linecolor\":\"white\",\"minorgridcolor\":\"white\",\"startlinecolor\":\"#2a3f5f\"},\"type\":\"carpet\"}],\"choropleth\":[{\"colorbar\":{\"outlinewidth\":0,\"ticks\":\"\"},\"type\":\"choropleth\"}],\"contourcarpet\":[{\"colorbar\":{\"outlinewidth\":0,\"ticks\":\"\"},\"type\":\"contourcarpet\"}],\"contour\":[{\"colorbar\":{\"outlinewidth\":0,\"ticks\":\"\"},\"colorscale\":[[0.0,\"#0d0887\"],[0.1111111111111111,\"#46039f\"],[0.2222222222222222,\"#7201a8\"],[0.3333333333333333,\"#9c179e\"],[0.4444444444444444,\"#bd3786\"],[0.5555555555555556,\"#d8576b\"],[0.6666666666666666,\"#ed7953\"],[0.7777777777777778,\"#fb9f3a\"],[0.8888888888888888,\"#fdca26\"],[1.0,\"#f0f921\"]],\"type\":\"contour\"}],\"heatmapgl\":[{\"colorbar\":{\"outlinewidth\":0,\"ticks\":\"\"},\"colorscale\":[[0.0,\"#0d0887\"],[0.1111111111111111,\"#46039f\"],[0.2222222222222222,\"#7201a8\"],[0.3333333333333333,\"#9c179e\"],[0.4444444444444444,\"#bd3786\"],[0.5555555555555556,\"#d8576b\"],[0.6666666666666666,\"#ed7953\"],[0.7777777777777778,\"#fb9f3a\"],[0.8888888888888888,\"#fdca26\"],[1.0,\"#f0f921\"]],\"type\":\"heatmapgl\"}],\"heatmap\":[{\"colorbar\":{\"outlinewidth\":0,\"ticks\":\"\"},\"colorscale\":[[0.0,\"#0d0887\"],[0.1111111111111111,\"#46039f\"],[0.2222222222222222,\"#7201a8\"],[0.3333333333333333,\"#9c179e\"],[0.4444444444444444,\"#bd3786\"],[0.5555555555555556,\"#d8576b\"],[0.6666666666666666,\"#ed7953\"],[0.7777777777777778,\"#fb9f3a\"],[0.8888888888888888,\"#fdca26\"],[1.0,\"#f0f921\"]],\"type\":\"heatmap\"}],\"histogram2dcontour\":[{\"colorbar\":{\"outlinewidth\":0,\"ticks\":\"\"},\"colorscale\":[[0.0,\"#0d0887\"],[0.1111111111111111,\"#46039f\"],[0.2222222222222222,\"#7201a8\"],[0.3333333333333333,\"#9c179e\"],[0.4444444444444444,\"#bd3786\"],[0.5555555555555556,\"#d8576b\"],[0.6666666666666666,\"#ed7953\"],[0.7777777777777778,\"#fb9f3a\"],[0.8888888888888888,\"#fdca26\"],[1.0,\"#f0f921\"]],\"type\":\"histogram2dcontour\"}],\"histogram2d\":[{\"colorbar\":{\"outlinewidth\":0,\"ticks\":\"\"},\"colorscale\":[[0.0,\"#0d0887\"],[0.1111111111111111,\"#46039f\"],[0.2222222222222222,\"#7201a8\"],[0.3333333333333333,\"#9c179e\"],[0.4444444444444444,\"#bd3786\"],[0.5555555555555556,\"#d8576b\"],[0.6666666666666666,\"#ed7953\"],[0.7777777777777778,\"#fb9f3a\"],[0.8888888888888888,\"#fdca26\"],[1.0,\"#f0f921\"]],\"type\":\"histogram2d\"}],\"histogram\":[{\"marker\":{\"pattern\":{\"fillmode\":\"overlay\",\"size\":10,\"solidity\":0.2}},\"type\":\"histogram\"}],\"mesh3d\":[{\"colorbar\":{\"outlinewidth\":0,\"ticks\":\"\"},\"type\":\"mesh3d\"}],\"parcoords\":[{\"line\":{\"colorbar\":{\"outlinewidth\":0,\"ticks\":\"\"}},\"type\":\"parcoords\"}],\"pie\":[{\"automargin\":true,\"type\":\"pie\"}],\"scatter3d\":[{\"line\":{\"colorbar\":{\"outlinewidth\":0,\"ticks\":\"\"}},\"marker\":{\"colorbar\":{\"outlinewidth\":0,\"ticks\":\"\"}},\"type\":\"scatter3d\"}],\"scattercarpet\":[{\"marker\":{\"colorbar\":{\"outlinewidth\":0,\"ticks\":\"\"}},\"type\":\"scattercarpet\"}],\"scattergeo\":[{\"marker\":{\"colorbar\":{\"outlinewidth\":0,\"ticks\":\"\"}},\"type\":\"scattergeo\"}],\"scattergl\":[{\"marker\":{\"colorbar\":{\"outlinewidth\":0,\"ticks\":\"\"}},\"type\":\"scattergl\"}],\"scattermapbox\":[{\"marker\":{\"colorbar\":{\"outlinewidth\":0,\"ticks\":\"\"}},\"type\":\"scattermapbox\"}],\"scatterpolargl\":[{\"marker\":{\"colorbar\":{\"outlinewidth\":0,\"ticks\":\"\"}},\"type\":\"scatterpolargl\"}],\"scatterpolar\":[{\"marker\":{\"colorbar\":{\"outlinewidth\":0,\"ticks\":\"\"}},\"type\":\"scatterpolar\"}],\"scatter\":[{\"fillpattern\":{\"fillmode\":\"overlay\",\"size\":10,\"solidity\":0.2},\"type\":\"scatter\"}],\"scatterternary\":[{\"marker\":{\"colorbar\":{\"outlinewidth\":0,\"ticks\":\"\"}},\"type\":\"scatterternary\"}],\"surface\":[{\"colorbar\":{\"outlinewidth\":0,\"ticks\":\"\"},\"colorscale\":[[0.0,\"#0d0887\"],[0.1111111111111111,\"#46039f\"],[0.2222222222222222,\"#7201a8\"],[0.3333333333333333,\"#9c179e\"],[0.4444444444444444,\"#bd3786\"],[0.5555555555555556,\"#d8576b\"],[0.6666666666666666,\"#ed7953\"],[0.7777777777777778,\"#fb9f3a\"],[0.8888888888888888,\"#fdca26\"],[1.0,\"#f0f921\"]],\"type\":\"surface\"}],\"table\":[{\"cells\":{\"fill\":{\"color\":\"#EBF0F8\"},\"line\":{\"color\":\"white\"}},\"header\":{\"fill\":{\"color\":\"#C8D4E3\"},\"line\":{\"color\":\"white\"}},\"type\":\"table\"}]},\"layout\":{\"annotationdefaults\":{\"arrowcolor\":\"#2a3f5f\",\"arrowhead\":0,\"arrowwidth\":1},\"autotypenumbers\":\"strict\",\"coloraxis\":{\"colorbar\":{\"outlinewidth\":0,\"ticks\":\"\"}},\"colorscale\":{\"diverging\":[[0,\"#8e0152\"],[0.1,\"#c51b7d\"],[0.2,\"#de77ae\"],[0.3,\"#f1b6da\"],[0.4,\"#fde0ef\"],[0.5,\"#f7f7f7\"],[0.6,\"#e6f5d0\"],[0.7,\"#b8e186\"],[0.8,\"#7fbc41\"],[0.9,\"#4d9221\"],[1,\"#276419\"]],\"sequential\":[[0.0,\"#0d0887\"],[0.1111111111111111,\"#46039f\"],[0.2222222222222222,\"#7201a8\"],[0.3333333333333333,\"#9c179e\"],[0.4444444444444444,\"#bd3786\"],[0.5555555555555556,\"#d8576b\"],[0.6666666666666666,\"#ed7953\"],[0.7777777777777778,\"#fb9f3a\"],[0.8888888888888888,\"#fdca26\"],[1.0,\"#f0f921\"]],\"sequentialminus\":[[0.0,\"#0d0887\"],[0.1111111111111111,\"#46039f\"],[0.2222222222222222,\"#7201a8\"],[0.3333333333333333,\"#9c179e\"],[0.4444444444444444,\"#bd3786\"],[0.5555555555555556,\"#d8576b\"],[0.6666666666666666,\"#ed7953\"],[0.7777777777777778,\"#fb9f3a\"],[0.8888888888888888,\"#fdca26\"],[1.0,\"#f0f921\"]]},\"colorway\":[\"#636efa\",\"#EF553B\",\"#00cc96\",\"#ab63fa\",\"#FFA15A\",\"#19d3f3\",\"#FF6692\",\"#B6E880\",\"#FF97FF\",\"#FECB52\"],\"font\":{\"color\":\"#2a3f5f\"},\"geo\":{\"bgcolor\":\"white\",\"lakecolor\":\"white\",\"landcolor\":\"#E5ECF6\",\"showlakes\":true,\"showland\":true,\"subunitcolor\":\"white\"},\"hoverlabel\":{\"align\":\"left\"},\"hovermode\":\"closest\",\"mapbox\":{\"style\":\"light\"},\"paper_bgcolor\":\"white\",\"plot_bgcolor\":\"#E5ECF6\",\"polar\":{\"angularaxis\":{\"gridcolor\":\"white\",\"linecolor\":\"white\",\"ticks\":\"\"},\"bgcolor\":\"#E5ECF6\",\"radialaxis\":{\"gridcolor\":\"white\",\"linecolor\":\"white\",\"ticks\":\"\"}},\"scene\":{\"xaxis\":{\"backgroundcolor\":\"#E5ECF6\",\"gridcolor\":\"white\",\"gridwidth\":2,\"linecolor\":\"white\",\"showbackground\":true,\"ticks\":\"\",\"zerolinecolor\":\"white\"},\"yaxis\":{\"backgroundcolor\":\"#E5ECF6\",\"gridcolor\":\"white\",\"gridwidth\":2,\"linecolor\":\"white\",\"showbackground\":true,\"ticks\":\"\",\"zerolinecolor\":\"white\"},\"zaxis\":{\"backgroundcolor\":\"#E5ECF6\",\"gridcolor\":\"white\",\"gridwidth\":2,\"linecolor\":\"white\",\"showbackground\":true,\"ticks\":\"\",\"zerolinecolor\":\"white\"}},\"shapedefaults\":{\"line\":{\"color\":\"#2a3f5f\"}},\"ternary\":{\"aaxis\":{\"gridcolor\":\"white\",\"linecolor\":\"white\",\"ticks\":\"\"},\"baxis\":{\"gridcolor\":\"white\",\"linecolor\":\"white\",\"ticks\":\"\"},\"bgcolor\":\"#E5ECF6\",\"caxis\":{\"gridcolor\":\"white\",\"linecolor\":\"white\",\"ticks\":\"\"}},\"title\":{\"x\":0.05},\"xaxis\":{\"automargin\":true,\"gridcolor\":\"white\",\"linecolor\":\"white\",\"ticks\":\"\",\"title\":{\"standoff\":15},\"zerolinecolor\":\"white\",\"zerolinewidth\":2},\"yaxis\":{\"automargin\":true,\"gridcolor\":\"white\",\"linecolor\":\"white\",\"ticks\":\"\",\"title\":{\"standoff\":15},\"zerolinecolor\":\"white\",\"zerolinewidth\":2}}},\"title\":{\"text\":\"Count of 1 and 0 in binary variables\"}},                        {\"responsive\": true}                    ).then(function(){\n",
       "                            \n",
       "var gd = document.getElementById('9e0e5517-6eb7-4e66-9cb2-985f891c30b9');\n",
       "var x = new MutationObserver(function (mutations, observer) {{\n",
       "        var display = window.getComputedStyle(gd).display;\n",
       "        if (!display || display === 'none') {{\n",
       "            console.log([gd, 'removed!']);\n",
       "            Plotly.purge(gd);\n",
       "            observer.disconnect();\n",
       "        }}\n",
       "}});\n",
       "\n",
       "// Listen for the removal of the full notebook cells\n",
       "var notebookContainer = gd.closest('#notebook-container');\n",
       "if (notebookContainer) {{\n",
       "    x.observe(notebookContainer, {childList: true});\n",
       "}}\n",
       "\n",
       "// Listen for the clearing of the current output cell\n",
       "var outputEl = gd.closest('.output');\n",
       "if (outputEl) {{\n",
       "    x.observe(outputEl, {childList: true});\n",
       "}}\n",
       "\n",
       "                        })                };                });            </script>        </div>"
      ]
     },
     "metadata": {},
     "output_type": "display_data"
    }
   ],
   "source": [
    "trace1 = go.Bar(\n",
    "    x=bin_col,\n",
    "    y=zero_list ,\n",
    "    name='Zero count'\n",
    ")\n",
    "trace2 = go.Bar(\n",
    "    x=bin_col,\n",
    "    y=one_list,\n",
    "    name='One count'\n",
    ")\n",
    "\n",
    "data = [trace1, trace2]\n",
    "layout = go.Layout(\n",
    "    barmode='stack',\n",
    "    title='Count of 1 and 0 in binary variables'\n",
    ")\n",
    "\n",
    "fig = go.Figure(data=data, layout=layout)\n",
    "py.iplot(fig, filename='stacked-bar')"
   ]
  },
  {
   "cell_type": "markdown",
   "id": "8557e1c1",
   "metadata": {},
   "source": [
    "## Categorical and Ordinal Feature Inspection\n",
    "\n",
    "\n",
    "### Feature Importance via Random Forest"
   ]
  },
  {
   "cell_type": "code",
   "execution_count": 19,
   "id": "5eb4fffe",
   "metadata": {},
   "outputs": [
    {
     "name": "stdout",
     "output_type": "stream",
     "text": [
      "----- Training Done -----\n"
     ]
    }
   ],
   "source": [
    "from sklearn.ensemble import RandomForestClassifier\n",
    "rf = RandomForestClassifier(n_estimators=150, max_depth=8, min_samples_leaf=4, max_features=0.2, n_jobs=-1, random_state=0)\n",
    "rf.fit(train.drop(['id', 'target'],axis=1), train.target)\n",
    "features = train.drop(['id', 'target'],axis=1).columns.values\n",
    "print(\"----- Training Done -----\")"
   ]
  },
  {
   "cell_type": "code",
   "execution_count": 20,
   "id": "f7d6163d",
   "metadata": {},
   "outputs": [
    {
     "data": {
      "application/vnd.plotly.v1+json": {
       "config": {
        "linkText": "Export to plot.ly",
        "plotlyServerURL": "https://plot.ly",
        "showLink": false
       },
       "data": [
        {
         "marker": {
          "color": [
           0.016797684635400774,
           0.010997936674247427,
           0.036179725080108006,
           0.01946791017277479,
           0.07865809407998907,
           0.01986707342941135,
           0.02205730279901298,
           0.0042353717607272485,
           0.0035931003540923697,
           0.0003743181308508274,
           0.0006583508525200745,
           0.0013468714834950206,
           0.0006631273358967292,
           0.0023962348295256657,
           0.025532107045064905,
           0.013837866921533746,
           0.057205392445337254,
           0.0021574323171416245,
           0.016510618696480316,
           0.0381737342261376,
           0.07156340584182243,
           0.025578979474432727,
           0.009404374430447874,
           0.02141836010318874,
           0.028034340010866785,
           0.0061407206042120325,
           0.01358179129743767,
           0.03165356760450299,
           0.0033925750636594133,
           0.009218371023551643,
           0.001989572452739745,
           0.01689900574544257,
           0.0061312867358127125,
           0.02663453276978197,
           0.12967465154330526,
           0.02772346592500322,
           0.018543036221320797,
           0.012011261324073803,
           0.012172320892055893,
           0.011580935664014965,
           0.008186464719497107,
           0.010690413082285249,
           0.008637553111960648,
           0.011621391134567631,
           0.010164653090256257,
           0.009712014853463218,
           0.018991410965959965,
           0.015995502951653272,
           0.010005805524377399,
           0.011767264390378075,
           0.017132774279991367,
           0.0018913506321937771,
           0.0022645345820265514,
           0.0024696848120079736,
           0.002495051485913316,
           0.0026302475376519096,
           0.0012870748483952556
          ],
          "colorscale": [
           [
            0,
            "rgb(12,51,131)"
           ],
           [
            0.25,
            "rgb(10,136,186)"
           ],
           [
            0.5,
            "rgb(242,211,56)"
           ],
           [
            0.75,
            "rgb(242,143,56)"
           ],
           [
            1,
            "rgb(217,30,30)"
           ]
          ],
          "showscale": true,
          "size": 13,
          "sizemode": "diameter",
          "sizeref": 1
         },
         "mode": "markers",
         "text": [
          "ps_ind_01",
          "ps_ind_02_cat",
          "ps_ind_03",
          "ps_ind_04_cat",
          "ps_ind_05_cat",
          "ps_ind_06_bin",
          "ps_ind_07_bin",
          "ps_ind_08_bin",
          "ps_ind_09_bin",
          "ps_ind_10_bin",
          "ps_ind_11_bin",
          "ps_ind_12_bin",
          "ps_ind_13_bin",
          "ps_ind_14",
          "ps_ind_15",
          "ps_ind_16_bin",
          "ps_ind_17_bin",
          "ps_ind_18_bin",
          "ps_reg_01",
          "ps_reg_02",
          "ps_reg_03",
          "ps_car_01_cat",
          "ps_car_02_cat",
          "ps_car_03_cat",
          "ps_car_04_cat",
          "ps_car_05_cat",
          "ps_car_06_cat",
          "ps_car_07_cat",
          "ps_car_08_cat",
          "ps_car_09_cat",
          "ps_car_10_cat",
          "ps_car_11_cat",
          "ps_car_11",
          "ps_car_12",
          "ps_car_13",
          "ps_car_14",
          "ps_car_15",
          "ps_calc_01",
          "ps_calc_02",
          "ps_calc_03",
          "ps_calc_04",
          "ps_calc_05",
          "ps_calc_06",
          "ps_calc_07",
          "ps_calc_08",
          "ps_calc_09",
          "ps_calc_10",
          "ps_calc_11",
          "ps_calc_12",
          "ps_calc_13",
          "ps_calc_14",
          "ps_calc_15_bin",
          "ps_calc_16_bin",
          "ps_calc_17_bin",
          "ps_calc_18_bin",
          "ps_calc_19_bin",
          "ps_calc_20_bin"
         ],
         "type": "scatter",
         "x": [
          "ps_ind_01",
          "ps_ind_02_cat",
          "ps_ind_03",
          "ps_ind_04_cat",
          "ps_ind_05_cat",
          "ps_ind_06_bin",
          "ps_ind_07_bin",
          "ps_ind_08_bin",
          "ps_ind_09_bin",
          "ps_ind_10_bin",
          "ps_ind_11_bin",
          "ps_ind_12_bin",
          "ps_ind_13_bin",
          "ps_ind_14",
          "ps_ind_15",
          "ps_ind_16_bin",
          "ps_ind_17_bin",
          "ps_ind_18_bin",
          "ps_reg_01",
          "ps_reg_02",
          "ps_reg_03",
          "ps_car_01_cat",
          "ps_car_02_cat",
          "ps_car_03_cat",
          "ps_car_04_cat",
          "ps_car_05_cat",
          "ps_car_06_cat",
          "ps_car_07_cat",
          "ps_car_08_cat",
          "ps_car_09_cat",
          "ps_car_10_cat",
          "ps_car_11_cat",
          "ps_car_11",
          "ps_car_12",
          "ps_car_13",
          "ps_car_14",
          "ps_car_15",
          "ps_calc_01",
          "ps_calc_02",
          "ps_calc_03",
          "ps_calc_04",
          "ps_calc_05",
          "ps_calc_06",
          "ps_calc_07",
          "ps_calc_08",
          "ps_calc_09",
          "ps_calc_10",
          "ps_calc_11",
          "ps_calc_12",
          "ps_calc_13",
          "ps_calc_14",
          "ps_calc_15_bin",
          "ps_calc_16_bin",
          "ps_calc_17_bin",
          "ps_calc_18_bin",
          "ps_calc_19_bin",
          "ps_calc_20_bin"
         ],
         "y": [
          0.016797684635400774,
          0.010997936674247427,
          0.036179725080108006,
          0.01946791017277479,
          0.07865809407998907,
          0.01986707342941135,
          0.02205730279901298,
          0.0042353717607272485,
          0.0035931003540923697,
          0.0003743181308508274,
          0.0006583508525200745,
          0.0013468714834950206,
          0.0006631273358967292,
          0.0023962348295256657,
          0.025532107045064905,
          0.013837866921533746,
          0.057205392445337254,
          0.0021574323171416245,
          0.016510618696480316,
          0.0381737342261376,
          0.07156340584182243,
          0.025578979474432727,
          0.009404374430447874,
          0.02141836010318874,
          0.028034340010866785,
          0.0061407206042120325,
          0.01358179129743767,
          0.03165356760450299,
          0.0033925750636594133,
          0.009218371023551643,
          0.001989572452739745,
          0.01689900574544257,
          0.0061312867358127125,
          0.02663453276978197,
          0.12967465154330526,
          0.02772346592500322,
          0.018543036221320797,
          0.012011261324073803,
          0.012172320892055893,
          0.011580935664014965,
          0.008186464719497107,
          0.010690413082285249,
          0.008637553111960648,
          0.011621391134567631,
          0.010164653090256257,
          0.009712014853463218,
          0.018991410965959965,
          0.015995502951653272,
          0.010005805524377399,
          0.011767264390378075,
          0.017132774279991367,
          0.0018913506321937771,
          0.0022645345820265514,
          0.0024696848120079736,
          0.002495051485913316,
          0.0026302475376519096,
          0.0012870748483952556
         ]
        }
       ],
       "layout": {
        "autosize": true,
        "hovermode": "closest",
        "showlegend": false,
        "template": {
         "data": {
          "bar": [
           {
            "error_x": {
             "color": "#2a3f5f"
            },
            "error_y": {
             "color": "#2a3f5f"
            },
            "marker": {
             "line": {
              "color": "#E5ECF6",
              "width": 0.5
             },
             "pattern": {
              "fillmode": "overlay",
              "size": 10,
              "solidity": 0.2
             }
            },
            "type": "bar"
           }
          ],
          "barpolar": [
           {
            "marker": {
             "line": {
              "color": "#E5ECF6",
              "width": 0.5
             },
             "pattern": {
              "fillmode": "overlay",
              "size": 10,
              "solidity": 0.2
             }
            },
            "type": "barpolar"
           }
          ],
          "carpet": [
           {
            "aaxis": {
             "endlinecolor": "#2a3f5f",
             "gridcolor": "white",
             "linecolor": "white",
             "minorgridcolor": "white",
             "startlinecolor": "#2a3f5f"
            },
            "baxis": {
             "endlinecolor": "#2a3f5f",
             "gridcolor": "white",
             "linecolor": "white",
             "minorgridcolor": "white",
             "startlinecolor": "#2a3f5f"
            },
            "type": "carpet"
           }
          ],
          "choropleth": [
           {
            "colorbar": {
             "outlinewidth": 0,
             "ticks": ""
            },
            "type": "choropleth"
           }
          ],
          "contour": [
           {
            "colorbar": {
             "outlinewidth": 0,
             "ticks": ""
            },
            "colorscale": [
             [
              0,
              "#0d0887"
             ],
             [
              0.1111111111111111,
              "#46039f"
             ],
             [
              0.2222222222222222,
              "#7201a8"
             ],
             [
              0.3333333333333333,
              "#9c179e"
             ],
             [
              0.4444444444444444,
              "#bd3786"
             ],
             [
              0.5555555555555556,
              "#d8576b"
             ],
             [
              0.6666666666666666,
              "#ed7953"
             ],
             [
              0.7777777777777778,
              "#fb9f3a"
             ],
             [
              0.8888888888888888,
              "#fdca26"
             ],
             [
              1,
              "#f0f921"
             ]
            ],
            "type": "contour"
           }
          ],
          "contourcarpet": [
           {
            "colorbar": {
             "outlinewidth": 0,
             "ticks": ""
            },
            "type": "contourcarpet"
           }
          ],
          "heatmap": [
           {
            "colorbar": {
             "outlinewidth": 0,
             "ticks": ""
            },
            "colorscale": [
             [
              0,
              "#0d0887"
             ],
             [
              0.1111111111111111,
              "#46039f"
             ],
             [
              0.2222222222222222,
              "#7201a8"
             ],
             [
              0.3333333333333333,
              "#9c179e"
             ],
             [
              0.4444444444444444,
              "#bd3786"
             ],
             [
              0.5555555555555556,
              "#d8576b"
             ],
             [
              0.6666666666666666,
              "#ed7953"
             ],
             [
              0.7777777777777778,
              "#fb9f3a"
             ],
             [
              0.8888888888888888,
              "#fdca26"
             ],
             [
              1,
              "#f0f921"
             ]
            ],
            "type": "heatmap"
           }
          ],
          "heatmapgl": [
           {
            "colorbar": {
             "outlinewidth": 0,
             "ticks": ""
            },
            "colorscale": [
             [
              0,
              "#0d0887"
             ],
             [
              0.1111111111111111,
              "#46039f"
             ],
             [
              0.2222222222222222,
              "#7201a8"
             ],
             [
              0.3333333333333333,
              "#9c179e"
             ],
             [
              0.4444444444444444,
              "#bd3786"
             ],
             [
              0.5555555555555556,
              "#d8576b"
             ],
             [
              0.6666666666666666,
              "#ed7953"
             ],
             [
              0.7777777777777778,
              "#fb9f3a"
             ],
             [
              0.8888888888888888,
              "#fdca26"
             ],
             [
              1,
              "#f0f921"
             ]
            ],
            "type": "heatmapgl"
           }
          ],
          "histogram": [
           {
            "marker": {
             "pattern": {
              "fillmode": "overlay",
              "size": 10,
              "solidity": 0.2
             }
            },
            "type": "histogram"
           }
          ],
          "histogram2d": [
           {
            "colorbar": {
             "outlinewidth": 0,
             "ticks": ""
            },
            "colorscale": [
             [
              0,
              "#0d0887"
             ],
             [
              0.1111111111111111,
              "#46039f"
             ],
             [
              0.2222222222222222,
              "#7201a8"
             ],
             [
              0.3333333333333333,
              "#9c179e"
             ],
             [
              0.4444444444444444,
              "#bd3786"
             ],
             [
              0.5555555555555556,
              "#d8576b"
             ],
             [
              0.6666666666666666,
              "#ed7953"
             ],
             [
              0.7777777777777778,
              "#fb9f3a"
             ],
             [
              0.8888888888888888,
              "#fdca26"
             ],
             [
              1,
              "#f0f921"
             ]
            ],
            "type": "histogram2d"
           }
          ],
          "histogram2dcontour": [
           {
            "colorbar": {
             "outlinewidth": 0,
             "ticks": ""
            },
            "colorscale": [
             [
              0,
              "#0d0887"
             ],
             [
              0.1111111111111111,
              "#46039f"
             ],
             [
              0.2222222222222222,
              "#7201a8"
             ],
             [
              0.3333333333333333,
              "#9c179e"
             ],
             [
              0.4444444444444444,
              "#bd3786"
             ],
             [
              0.5555555555555556,
              "#d8576b"
             ],
             [
              0.6666666666666666,
              "#ed7953"
             ],
             [
              0.7777777777777778,
              "#fb9f3a"
             ],
             [
              0.8888888888888888,
              "#fdca26"
             ],
             [
              1,
              "#f0f921"
             ]
            ],
            "type": "histogram2dcontour"
           }
          ],
          "mesh3d": [
           {
            "colorbar": {
             "outlinewidth": 0,
             "ticks": ""
            },
            "type": "mesh3d"
           }
          ],
          "parcoords": [
           {
            "line": {
             "colorbar": {
              "outlinewidth": 0,
              "ticks": ""
             }
            },
            "type": "parcoords"
           }
          ],
          "pie": [
           {
            "automargin": true,
            "type": "pie"
           }
          ],
          "scatter": [
           {
            "fillpattern": {
             "fillmode": "overlay",
             "size": 10,
             "solidity": 0.2
            },
            "type": "scatter"
           }
          ],
          "scatter3d": [
           {
            "line": {
             "colorbar": {
              "outlinewidth": 0,
              "ticks": ""
             }
            },
            "marker": {
             "colorbar": {
              "outlinewidth": 0,
              "ticks": ""
             }
            },
            "type": "scatter3d"
           }
          ],
          "scattercarpet": [
           {
            "marker": {
             "colorbar": {
              "outlinewidth": 0,
              "ticks": ""
             }
            },
            "type": "scattercarpet"
           }
          ],
          "scattergeo": [
           {
            "marker": {
             "colorbar": {
              "outlinewidth": 0,
              "ticks": ""
             }
            },
            "type": "scattergeo"
           }
          ],
          "scattergl": [
           {
            "marker": {
             "colorbar": {
              "outlinewidth": 0,
              "ticks": ""
             }
            },
            "type": "scattergl"
           }
          ],
          "scattermapbox": [
           {
            "marker": {
             "colorbar": {
              "outlinewidth": 0,
              "ticks": ""
             }
            },
            "type": "scattermapbox"
           }
          ],
          "scatterpolar": [
           {
            "marker": {
             "colorbar": {
              "outlinewidth": 0,
              "ticks": ""
             }
            },
            "type": "scatterpolar"
           }
          ],
          "scatterpolargl": [
           {
            "marker": {
             "colorbar": {
              "outlinewidth": 0,
              "ticks": ""
             }
            },
            "type": "scatterpolargl"
           }
          ],
          "scatterternary": [
           {
            "marker": {
             "colorbar": {
              "outlinewidth": 0,
              "ticks": ""
             }
            },
            "type": "scatterternary"
           }
          ],
          "surface": [
           {
            "colorbar": {
             "outlinewidth": 0,
             "ticks": ""
            },
            "colorscale": [
             [
              0,
              "#0d0887"
             ],
             [
              0.1111111111111111,
              "#46039f"
             ],
             [
              0.2222222222222222,
              "#7201a8"
             ],
             [
              0.3333333333333333,
              "#9c179e"
             ],
             [
              0.4444444444444444,
              "#bd3786"
             ],
             [
              0.5555555555555556,
              "#d8576b"
             ],
             [
              0.6666666666666666,
              "#ed7953"
             ],
             [
              0.7777777777777778,
              "#fb9f3a"
             ],
             [
              0.8888888888888888,
              "#fdca26"
             ],
             [
              1,
              "#f0f921"
             ]
            ],
            "type": "surface"
           }
          ],
          "table": [
           {
            "cells": {
             "fill": {
              "color": "#EBF0F8"
             },
             "line": {
              "color": "white"
             }
            },
            "header": {
             "fill": {
              "color": "#C8D4E3"
             },
             "line": {
              "color": "white"
             }
            },
            "type": "table"
           }
          ]
         },
         "layout": {
          "annotationdefaults": {
           "arrowcolor": "#2a3f5f",
           "arrowhead": 0,
           "arrowwidth": 1
          },
          "autotypenumbers": "strict",
          "coloraxis": {
           "colorbar": {
            "outlinewidth": 0,
            "ticks": ""
           }
          },
          "colorscale": {
           "diverging": [
            [
             0,
             "#8e0152"
            ],
            [
             0.1,
             "#c51b7d"
            ],
            [
             0.2,
             "#de77ae"
            ],
            [
             0.3,
             "#f1b6da"
            ],
            [
             0.4,
             "#fde0ef"
            ],
            [
             0.5,
             "#f7f7f7"
            ],
            [
             0.6,
             "#e6f5d0"
            ],
            [
             0.7,
             "#b8e186"
            ],
            [
             0.8,
             "#7fbc41"
            ],
            [
             0.9,
             "#4d9221"
            ],
            [
             1,
             "#276419"
            ]
           ],
           "sequential": [
            [
             0,
             "#0d0887"
            ],
            [
             0.1111111111111111,
             "#46039f"
            ],
            [
             0.2222222222222222,
             "#7201a8"
            ],
            [
             0.3333333333333333,
             "#9c179e"
            ],
            [
             0.4444444444444444,
             "#bd3786"
            ],
            [
             0.5555555555555556,
             "#d8576b"
            ],
            [
             0.6666666666666666,
             "#ed7953"
            ],
            [
             0.7777777777777778,
             "#fb9f3a"
            ],
            [
             0.8888888888888888,
             "#fdca26"
            ],
            [
             1,
             "#f0f921"
            ]
           ],
           "sequentialminus": [
            [
             0,
             "#0d0887"
            ],
            [
             0.1111111111111111,
             "#46039f"
            ],
            [
             0.2222222222222222,
             "#7201a8"
            ],
            [
             0.3333333333333333,
             "#9c179e"
            ],
            [
             0.4444444444444444,
             "#bd3786"
            ],
            [
             0.5555555555555556,
             "#d8576b"
            ],
            [
             0.6666666666666666,
             "#ed7953"
            ],
            [
             0.7777777777777778,
             "#fb9f3a"
            ],
            [
             0.8888888888888888,
             "#fdca26"
            ],
            [
             1,
             "#f0f921"
            ]
           ]
          },
          "colorway": [
           "#636efa",
           "#EF553B",
           "#00cc96",
           "#ab63fa",
           "#FFA15A",
           "#19d3f3",
           "#FF6692",
           "#B6E880",
           "#FF97FF",
           "#FECB52"
          ],
          "font": {
           "color": "#2a3f5f"
          },
          "geo": {
           "bgcolor": "white",
           "lakecolor": "white",
           "landcolor": "#E5ECF6",
           "showlakes": true,
           "showland": true,
           "subunitcolor": "white"
          },
          "hoverlabel": {
           "align": "left"
          },
          "hovermode": "closest",
          "mapbox": {
           "style": "light"
          },
          "paper_bgcolor": "white",
          "plot_bgcolor": "#E5ECF6",
          "polar": {
           "angularaxis": {
            "gridcolor": "white",
            "linecolor": "white",
            "ticks": ""
           },
           "bgcolor": "#E5ECF6",
           "radialaxis": {
            "gridcolor": "white",
            "linecolor": "white",
            "ticks": ""
           }
          },
          "scene": {
           "xaxis": {
            "backgroundcolor": "#E5ECF6",
            "gridcolor": "white",
            "gridwidth": 2,
            "linecolor": "white",
            "showbackground": true,
            "ticks": "",
            "zerolinecolor": "white"
           },
           "yaxis": {
            "backgroundcolor": "#E5ECF6",
            "gridcolor": "white",
            "gridwidth": 2,
            "linecolor": "white",
            "showbackground": true,
            "ticks": "",
            "zerolinecolor": "white"
           },
           "zaxis": {
            "backgroundcolor": "#E5ECF6",
            "gridcolor": "white",
            "gridwidth": 2,
            "linecolor": "white",
            "showbackground": true,
            "ticks": "",
            "zerolinecolor": "white"
           }
          },
          "shapedefaults": {
           "line": {
            "color": "#2a3f5f"
           }
          },
          "ternary": {
           "aaxis": {
            "gridcolor": "white",
            "linecolor": "white",
            "ticks": ""
           },
           "baxis": {
            "gridcolor": "white",
            "linecolor": "white",
            "ticks": ""
           },
           "bgcolor": "#E5ECF6",
           "caxis": {
            "gridcolor": "white",
            "linecolor": "white",
            "ticks": ""
           }
          },
          "title": {
           "x": 0.05
          },
          "xaxis": {
           "automargin": true,
           "gridcolor": "white",
           "linecolor": "white",
           "ticks": "",
           "title": {
            "standoff": 15
           },
           "zerolinecolor": "white",
           "zerolinewidth": 2
          },
          "yaxis": {
           "automargin": true,
           "gridcolor": "white",
           "linecolor": "white",
           "ticks": "",
           "title": {
            "standoff": 15
           },
           "zerolinecolor": "white",
           "zerolinewidth": 2
          }
         }
        },
        "title": {
         "text": "Random Forest Feature Importance"
        },
        "xaxis": {
         "showgrid": false,
         "showline": false,
         "ticklen": 5,
         "zeroline": false
        },
        "yaxis": {
         "gridwidth": 2,
         "showgrid": false,
         "ticklen": 5,
         "title": {
          "text": "Feature Importance"
         },
         "zeroline": false
        }
       }
      },
      "text/html": [
       "<div>                            <div id=\"be251c60-6320-44bf-b3dc-75b38dee1526\" class=\"plotly-graph-div\" style=\"height:525px; width:100%;\"></div>            <script type=\"text/javascript\">                require([\"plotly\"], function(Plotly) {                    window.PLOTLYENV=window.PLOTLYENV || {};                                    if (document.getElementById(\"be251c60-6320-44bf-b3dc-75b38dee1526\")) {                    Plotly.newPlot(                        \"be251c60-6320-44bf-b3dc-75b38dee1526\",                        [{\"marker\":{\"color\":[0.016797684635400774,0.010997936674247427,0.036179725080108006,0.01946791017277479,0.07865809407998907,0.01986707342941135,0.02205730279901298,0.0042353717607272485,0.0035931003540923697,0.0003743181308508274,0.0006583508525200745,0.0013468714834950206,0.0006631273358967292,0.0023962348295256657,0.025532107045064905,0.013837866921533746,0.057205392445337254,0.0021574323171416245,0.016510618696480316,0.0381737342261376,0.07156340584182243,0.025578979474432727,0.009404374430447874,0.02141836010318874,0.028034340010866785,0.0061407206042120325,0.01358179129743767,0.03165356760450299,0.0033925750636594133,0.009218371023551643,0.001989572452739745,0.01689900574544257,0.0061312867358127125,0.02663453276978197,0.12967465154330526,0.02772346592500322,0.018543036221320797,0.012011261324073803,0.012172320892055893,0.011580935664014965,0.008186464719497107,0.010690413082285249,0.008637553111960648,0.011621391134567631,0.010164653090256257,0.009712014853463218,0.018991410965959965,0.015995502951653272,0.010005805524377399,0.011767264390378075,0.017132774279991367,0.0018913506321937771,0.0022645345820265514,0.0024696848120079736,0.002495051485913316,0.0026302475376519096,0.0012870748483952556],\"colorscale\":[[0.0,\"rgb(12,51,131)\"],[0.25,\"rgb(10,136,186)\"],[0.5,\"rgb(242,211,56)\"],[0.75,\"rgb(242,143,56)\"],[1.0,\"rgb(217,30,30)\"]],\"showscale\":true,\"size\":13,\"sizemode\":\"diameter\",\"sizeref\":1},\"mode\":\"markers\",\"text\":[\"ps_ind_01\",\"ps_ind_02_cat\",\"ps_ind_03\",\"ps_ind_04_cat\",\"ps_ind_05_cat\",\"ps_ind_06_bin\",\"ps_ind_07_bin\",\"ps_ind_08_bin\",\"ps_ind_09_bin\",\"ps_ind_10_bin\",\"ps_ind_11_bin\",\"ps_ind_12_bin\",\"ps_ind_13_bin\",\"ps_ind_14\",\"ps_ind_15\",\"ps_ind_16_bin\",\"ps_ind_17_bin\",\"ps_ind_18_bin\",\"ps_reg_01\",\"ps_reg_02\",\"ps_reg_03\",\"ps_car_01_cat\",\"ps_car_02_cat\",\"ps_car_03_cat\",\"ps_car_04_cat\",\"ps_car_05_cat\",\"ps_car_06_cat\",\"ps_car_07_cat\",\"ps_car_08_cat\",\"ps_car_09_cat\",\"ps_car_10_cat\",\"ps_car_11_cat\",\"ps_car_11\",\"ps_car_12\",\"ps_car_13\",\"ps_car_14\",\"ps_car_15\",\"ps_calc_01\",\"ps_calc_02\",\"ps_calc_03\",\"ps_calc_04\",\"ps_calc_05\",\"ps_calc_06\",\"ps_calc_07\",\"ps_calc_08\",\"ps_calc_09\",\"ps_calc_10\",\"ps_calc_11\",\"ps_calc_12\",\"ps_calc_13\",\"ps_calc_14\",\"ps_calc_15_bin\",\"ps_calc_16_bin\",\"ps_calc_17_bin\",\"ps_calc_18_bin\",\"ps_calc_19_bin\",\"ps_calc_20_bin\"],\"x\":[\"ps_ind_01\",\"ps_ind_02_cat\",\"ps_ind_03\",\"ps_ind_04_cat\",\"ps_ind_05_cat\",\"ps_ind_06_bin\",\"ps_ind_07_bin\",\"ps_ind_08_bin\",\"ps_ind_09_bin\",\"ps_ind_10_bin\",\"ps_ind_11_bin\",\"ps_ind_12_bin\",\"ps_ind_13_bin\",\"ps_ind_14\",\"ps_ind_15\",\"ps_ind_16_bin\",\"ps_ind_17_bin\",\"ps_ind_18_bin\",\"ps_reg_01\",\"ps_reg_02\",\"ps_reg_03\",\"ps_car_01_cat\",\"ps_car_02_cat\",\"ps_car_03_cat\",\"ps_car_04_cat\",\"ps_car_05_cat\",\"ps_car_06_cat\",\"ps_car_07_cat\",\"ps_car_08_cat\",\"ps_car_09_cat\",\"ps_car_10_cat\",\"ps_car_11_cat\",\"ps_car_11\",\"ps_car_12\",\"ps_car_13\",\"ps_car_14\",\"ps_car_15\",\"ps_calc_01\",\"ps_calc_02\",\"ps_calc_03\",\"ps_calc_04\",\"ps_calc_05\",\"ps_calc_06\",\"ps_calc_07\",\"ps_calc_08\",\"ps_calc_09\",\"ps_calc_10\",\"ps_calc_11\",\"ps_calc_12\",\"ps_calc_13\",\"ps_calc_14\",\"ps_calc_15_bin\",\"ps_calc_16_bin\",\"ps_calc_17_bin\",\"ps_calc_18_bin\",\"ps_calc_19_bin\",\"ps_calc_20_bin\"],\"y\":[0.016797684635400774,0.010997936674247427,0.036179725080108006,0.01946791017277479,0.07865809407998907,0.01986707342941135,0.02205730279901298,0.0042353717607272485,0.0035931003540923697,0.0003743181308508274,0.0006583508525200745,0.0013468714834950206,0.0006631273358967292,0.0023962348295256657,0.025532107045064905,0.013837866921533746,0.057205392445337254,0.0021574323171416245,0.016510618696480316,0.0381737342261376,0.07156340584182243,0.025578979474432727,0.009404374430447874,0.02141836010318874,0.028034340010866785,0.0061407206042120325,0.01358179129743767,0.03165356760450299,0.0033925750636594133,0.009218371023551643,0.001989572452739745,0.01689900574544257,0.0061312867358127125,0.02663453276978197,0.12967465154330526,0.02772346592500322,0.018543036221320797,0.012011261324073803,0.012172320892055893,0.011580935664014965,0.008186464719497107,0.010690413082285249,0.008637553111960648,0.011621391134567631,0.010164653090256257,0.009712014853463218,0.018991410965959965,0.015995502951653272,0.010005805524377399,0.011767264390378075,0.017132774279991367,0.0018913506321937771,0.0022645345820265514,0.0024696848120079736,0.002495051485913316,0.0026302475376519096,0.0012870748483952556],\"type\":\"scatter\"}],                        {\"autosize\":true,\"hovermode\":\"closest\",\"showlegend\":false,\"template\":{\"data\":{\"barpolar\":[{\"marker\":{\"line\":{\"color\":\"#E5ECF6\",\"width\":0.5},\"pattern\":{\"fillmode\":\"overlay\",\"size\":10,\"solidity\":0.2}},\"type\":\"barpolar\"}],\"bar\":[{\"error_x\":{\"color\":\"#2a3f5f\"},\"error_y\":{\"color\":\"#2a3f5f\"},\"marker\":{\"line\":{\"color\":\"#E5ECF6\",\"width\":0.5},\"pattern\":{\"fillmode\":\"overlay\",\"size\":10,\"solidity\":0.2}},\"type\":\"bar\"}],\"carpet\":[{\"aaxis\":{\"endlinecolor\":\"#2a3f5f\",\"gridcolor\":\"white\",\"linecolor\":\"white\",\"minorgridcolor\":\"white\",\"startlinecolor\":\"#2a3f5f\"},\"baxis\":{\"endlinecolor\":\"#2a3f5f\",\"gridcolor\":\"white\",\"linecolor\":\"white\",\"minorgridcolor\":\"white\",\"startlinecolor\":\"#2a3f5f\"},\"type\":\"carpet\"}],\"choropleth\":[{\"colorbar\":{\"outlinewidth\":0,\"ticks\":\"\"},\"type\":\"choropleth\"}],\"contourcarpet\":[{\"colorbar\":{\"outlinewidth\":0,\"ticks\":\"\"},\"type\":\"contourcarpet\"}],\"contour\":[{\"colorbar\":{\"outlinewidth\":0,\"ticks\":\"\"},\"colorscale\":[[0.0,\"#0d0887\"],[0.1111111111111111,\"#46039f\"],[0.2222222222222222,\"#7201a8\"],[0.3333333333333333,\"#9c179e\"],[0.4444444444444444,\"#bd3786\"],[0.5555555555555556,\"#d8576b\"],[0.6666666666666666,\"#ed7953\"],[0.7777777777777778,\"#fb9f3a\"],[0.8888888888888888,\"#fdca26\"],[1.0,\"#f0f921\"]],\"type\":\"contour\"}],\"heatmapgl\":[{\"colorbar\":{\"outlinewidth\":0,\"ticks\":\"\"},\"colorscale\":[[0.0,\"#0d0887\"],[0.1111111111111111,\"#46039f\"],[0.2222222222222222,\"#7201a8\"],[0.3333333333333333,\"#9c179e\"],[0.4444444444444444,\"#bd3786\"],[0.5555555555555556,\"#d8576b\"],[0.6666666666666666,\"#ed7953\"],[0.7777777777777778,\"#fb9f3a\"],[0.8888888888888888,\"#fdca26\"],[1.0,\"#f0f921\"]],\"type\":\"heatmapgl\"}],\"heatmap\":[{\"colorbar\":{\"outlinewidth\":0,\"ticks\":\"\"},\"colorscale\":[[0.0,\"#0d0887\"],[0.1111111111111111,\"#46039f\"],[0.2222222222222222,\"#7201a8\"],[0.3333333333333333,\"#9c179e\"],[0.4444444444444444,\"#bd3786\"],[0.5555555555555556,\"#d8576b\"],[0.6666666666666666,\"#ed7953\"],[0.7777777777777778,\"#fb9f3a\"],[0.8888888888888888,\"#fdca26\"],[1.0,\"#f0f921\"]],\"type\":\"heatmap\"}],\"histogram2dcontour\":[{\"colorbar\":{\"outlinewidth\":0,\"ticks\":\"\"},\"colorscale\":[[0.0,\"#0d0887\"],[0.1111111111111111,\"#46039f\"],[0.2222222222222222,\"#7201a8\"],[0.3333333333333333,\"#9c179e\"],[0.4444444444444444,\"#bd3786\"],[0.5555555555555556,\"#d8576b\"],[0.6666666666666666,\"#ed7953\"],[0.7777777777777778,\"#fb9f3a\"],[0.8888888888888888,\"#fdca26\"],[1.0,\"#f0f921\"]],\"type\":\"histogram2dcontour\"}],\"histogram2d\":[{\"colorbar\":{\"outlinewidth\":0,\"ticks\":\"\"},\"colorscale\":[[0.0,\"#0d0887\"],[0.1111111111111111,\"#46039f\"],[0.2222222222222222,\"#7201a8\"],[0.3333333333333333,\"#9c179e\"],[0.4444444444444444,\"#bd3786\"],[0.5555555555555556,\"#d8576b\"],[0.6666666666666666,\"#ed7953\"],[0.7777777777777778,\"#fb9f3a\"],[0.8888888888888888,\"#fdca26\"],[1.0,\"#f0f921\"]],\"type\":\"histogram2d\"}],\"histogram\":[{\"marker\":{\"pattern\":{\"fillmode\":\"overlay\",\"size\":10,\"solidity\":0.2}},\"type\":\"histogram\"}],\"mesh3d\":[{\"colorbar\":{\"outlinewidth\":0,\"ticks\":\"\"},\"type\":\"mesh3d\"}],\"parcoords\":[{\"line\":{\"colorbar\":{\"outlinewidth\":0,\"ticks\":\"\"}},\"type\":\"parcoords\"}],\"pie\":[{\"automargin\":true,\"type\":\"pie\"}],\"scatter3d\":[{\"line\":{\"colorbar\":{\"outlinewidth\":0,\"ticks\":\"\"}},\"marker\":{\"colorbar\":{\"outlinewidth\":0,\"ticks\":\"\"}},\"type\":\"scatter3d\"}],\"scattercarpet\":[{\"marker\":{\"colorbar\":{\"outlinewidth\":0,\"ticks\":\"\"}},\"type\":\"scattercarpet\"}],\"scattergeo\":[{\"marker\":{\"colorbar\":{\"outlinewidth\":0,\"ticks\":\"\"}},\"type\":\"scattergeo\"}],\"scattergl\":[{\"marker\":{\"colorbar\":{\"outlinewidth\":0,\"ticks\":\"\"}},\"type\":\"scattergl\"}],\"scattermapbox\":[{\"marker\":{\"colorbar\":{\"outlinewidth\":0,\"ticks\":\"\"}},\"type\":\"scattermapbox\"}],\"scatterpolargl\":[{\"marker\":{\"colorbar\":{\"outlinewidth\":0,\"ticks\":\"\"}},\"type\":\"scatterpolargl\"}],\"scatterpolar\":[{\"marker\":{\"colorbar\":{\"outlinewidth\":0,\"ticks\":\"\"}},\"type\":\"scatterpolar\"}],\"scatter\":[{\"fillpattern\":{\"fillmode\":\"overlay\",\"size\":10,\"solidity\":0.2},\"type\":\"scatter\"}],\"scatterternary\":[{\"marker\":{\"colorbar\":{\"outlinewidth\":0,\"ticks\":\"\"}},\"type\":\"scatterternary\"}],\"surface\":[{\"colorbar\":{\"outlinewidth\":0,\"ticks\":\"\"},\"colorscale\":[[0.0,\"#0d0887\"],[0.1111111111111111,\"#46039f\"],[0.2222222222222222,\"#7201a8\"],[0.3333333333333333,\"#9c179e\"],[0.4444444444444444,\"#bd3786\"],[0.5555555555555556,\"#d8576b\"],[0.6666666666666666,\"#ed7953\"],[0.7777777777777778,\"#fb9f3a\"],[0.8888888888888888,\"#fdca26\"],[1.0,\"#f0f921\"]],\"type\":\"surface\"}],\"table\":[{\"cells\":{\"fill\":{\"color\":\"#EBF0F8\"},\"line\":{\"color\":\"white\"}},\"header\":{\"fill\":{\"color\":\"#C8D4E3\"},\"line\":{\"color\":\"white\"}},\"type\":\"table\"}]},\"layout\":{\"annotationdefaults\":{\"arrowcolor\":\"#2a3f5f\",\"arrowhead\":0,\"arrowwidth\":1},\"autotypenumbers\":\"strict\",\"coloraxis\":{\"colorbar\":{\"outlinewidth\":0,\"ticks\":\"\"}},\"colorscale\":{\"diverging\":[[0,\"#8e0152\"],[0.1,\"#c51b7d\"],[0.2,\"#de77ae\"],[0.3,\"#f1b6da\"],[0.4,\"#fde0ef\"],[0.5,\"#f7f7f7\"],[0.6,\"#e6f5d0\"],[0.7,\"#b8e186\"],[0.8,\"#7fbc41\"],[0.9,\"#4d9221\"],[1,\"#276419\"]],\"sequential\":[[0.0,\"#0d0887\"],[0.1111111111111111,\"#46039f\"],[0.2222222222222222,\"#7201a8\"],[0.3333333333333333,\"#9c179e\"],[0.4444444444444444,\"#bd3786\"],[0.5555555555555556,\"#d8576b\"],[0.6666666666666666,\"#ed7953\"],[0.7777777777777778,\"#fb9f3a\"],[0.8888888888888888,\"#fdca26\"],[1.0,\"#f0f921\"]],\"sequentialminus\":[[0.0,\"#0d0887\"],[0.1111111111111111,\"#46039f\"],[0.2222222222222222,\"#7201a8\"],[0.3333333333333333,\"#9c179e\"],[0.4444444444444444,\"#bd3786\"],[0.5555555555555556,\"#d8576b\"],[0.6666666666666666,\"#ed7953\"],[0.7777777777777778,\"#fb9f3a\"],[0.8888888888888888,\"#fdca26\"],[1.0,\"#f0f921\"]]},\"colorway\":[\"#636efa\",\"#EF553B\",\"#00cc96\",\"#ab63fa\",\"#FFA15A\",\"#19d3f3\",\"#FF6692\",\"#B6E880\",\"#FF97FF\",\"#FECB52\"],\"font\":{\"color\":\"#2a3f5f\"},\"geo\":{\"bgcolor\":\"white\",\"lakecolor\":\"white\",\"landcolor\":\"#E5ECF6\",\"showlakes\":true,\"showland\":true,\"subunitcolor\":\"white\"},\"hoverlabel\":{\"align\":\"left\"},\"hovermode\":\"closest\",\"mapbox\":{\"style\":\"light\"},\"paper_bgcolor\":\"white\",\"plot_bgcolor\":\"#E5ECF6\",\"polar\":{\"angularaxis\":{\"gridcolor\":\"white\",\"linecolor\":\"white\",\"ticks\":\"\"},\"bgcolor\":\"#E5ECF6\",\"radialaxis\":{\"gridcolor\":\"white\",\"linecolor\":\"white\",\"ticks\":\"\"}},\"scene\":{\"xaxis\":{\"backgroundcolor\":\"#E5ECF6\",\"gridcolor\":\"white\",\"gridwidth\":2,\"linecolor\":\"white\",\"showbackground\":true,\"ticks\":\"\",\"zerolinecolor\":\"white\"},\"yaxis\":{\"backgroundcolor\":\"#E5ECF6\",\"gridcolor\":\"white\",\"gridwidth\":2,\"linecolor\":\"white\",\"showbackground\":true,\"ticks\":\"\",\"zerolinecolor\":\"white\"},\"zaxis\":{\"backgroundcolor\":\"#E5ECF6\",\"gridcolor\":\"white\",\"gridwidth\":2,\"linecolor\":\"white\",\"showbackground\":true,\"ticks\":\"\",\"zerolinecolor\":\"white\"}},\"shapedefaults\":{\"line\":{\"color\":\"#2a3f5f\"}},\"ternary\":{\"aaxis\":{\"gridcolor\":\"white\",\"linecolor\":\"white\",\"ticks\":\"\"},\"baxis\":{\"gridcolor\":\"white\",\"linecolor\":\"white\",\"ticks\":\"\"},\"bgcolor\":\"#E5ECF6\",\"caxis\":{\"gridcolor\":\"white\",\"linecolor\":\"white\",\"ticks\":\"\"}},\"title\":{\"x\":0.05},\"xaxis\":{\"automargin\":true,\"gridcolor\":\"white\",\"linecolor\":\"white\",\"ticks\":\"\",\"title\":{\"standoff\":15},\"zerolinecolor\":\"white\",\"zerolinewidth\":2},\"yaxis\":{\"automargin\":true,\"gridcolor\":\"white\",\"linecolor\":\"white\",\"ticks\":\"\",\"title\":{\"standoff\":15},\"zerolinecolor\":\"white\",\"zerolinewidth\":2}}},\"title\":{\"text\":\"Random Forest Feature Importance\"},\"xaxis\":{\"showgrid\":false,\"showline\":false,\"ticklen\":5,\"zeroline\":false},\"yaxis\":{\"gridwidth\":2,\"showgrid\":false,\"ticklen\":5,\"title\":{\"text\":\"Feature Importance\"},\"zeroline\":false}},                        {\"responsive\": true}                    ).then(function(){\n",
       "                            \n",
       "var gd = document.getElementById('be251c60-6320-44bf-b3dc-75b38dee1526');\n",
       "var x = new MutationObserver(function (mutations, observer) {{\n",
       "        var display = window.getComputedStyle(gd).display;\n",
       "        if (!display || display === 'none') {{\n",
       "            console.log([gd, 'removed!']);\n",
       "            Plotly.purge(gd);\n",
       "            observer.disconnect();\n",
       "        }}\n",
       "}});\n",
       "\n",
       "// Listen for the removal of the full notebook cells\n",
       "var notebookContainer = gd.closest('#notebook-container');\n",
       "if (notebookContainer) {{\n",
       "    x.observe(notebookContainer, {childList: true});\n",
       "}}\n",
       "\n",
       "// Listen for the clearing of the current output cell\n",
       "var outputEl = gd.closest('.output');\n",
       "if (outputEl) {{\n",
       "    x.observe(outputEl, {childList: true});\n",
       "}}\n",
       "\n",
       "                        })                };                });            </script>        </div>"
      ]
     },
     "metadata": {},
     "output_type": "display_data"
    }
   ],
   "source": [
    "# Scatter plot \n",
    "trace = go.Scatter(\n",
    "    y = rf.feature_importances_,\n",
    "    x = features,\n",
    "    mode='markers',\n",
    "    marker=dict(\n",
    "        sizemode = 'diameter',\n",
    "        sizeref = 1,\n",
    "        size = 13,\n",
    "        #size= rf.feature_importances_,\n",
    "        #color = np.random.randn(500), #set color equal to a variable\n",
    "        color = rf.feature_importances_,\n",
    "        colorscale='Portland',\n",
    "        showscale=True\n",
    "    ),\n",
    "    text = features\n",
    ")\n",
    "data = [trace]\n",
    "\n",
    "layout= go.Layout(\n",
    "    autosize= True,\n",
    "    title= 'Random Forest Feature Importance',\n",
    "    hovermode= 'closest',\n",
    "     xaxis= dict(\n",
    "         ticklen= 5,\n",
    "         showgrid=False,\n",
    "        zeroline=False,\n",
    "        showline=False\n",
    "     ),\n",
    "    yaxis=dict(\n",
    "        title= 'Feature Importance',\n",
    "        showgrid=False,\n",
    "        zeroline=False,\n",
    "        ticklen= 5,\n",
    "        gridwidth= 2\n",
    "    ),\n",
    "    showlegend= False\n",
    ")\n",
    "fig = go.Figure(data=data, layout=layout)\n",
    "py.iplot(fig,filename='scatter2010')"
   ]
  },
  {
   "cell_type": "code",
   "execution_count": 21,
   "id": "c66e9f50",
   "metadata": {
    "scrolled": false
   },
   "outputs": [
    {
     "data": {
      "application/vnd.plotly.v1+json": {
       "config": {
        "linkText": "Export to plot.ly",
        "plotlyServerURL": "https://plot.ly",
        "showLink": false
       },
       "data": [
        {
         "marker": {
          "color": [
           0.0003743181308508274,
           0.0006583508525200745,
           0.0006631273358967292,
           0.0012870748483952556,
           0.0013468714834950206,
           0.0018913506321937771,
           0.001989572452739745,
           0.0021574323171416245,
           0.0022645345820265514,
           0.0023962348295256657,
           0.0024696848120079736,
           0.002495051485913316,
           0.0026302475376519096,
           0.0033925750636594133,
           0.0035931003540923697,
           0.0042353717607272485,
           0.0061312867358127125,
           0.0061407206042120325,
           0.008186464719497107,
           0.008637553111960648,
           0.009218371023551643,
           0.009404374430447874,
           0.009712014853463218,
           0.010005805524377399,
           0.010164653090256257,
           0.010690413082285249,
           0.010997936674247427,
           0.011580935664014965,
           0.011621391134567631,
           0.011767264390378075,
           0.012011261324073803,
           0.012172320892055893,
           0.01358179129743767,
           0.013837866921533746,
           0.015995502951653272,
           0.016510618696480316,
           0.016797684635400774,
           0.01689900574544257,
           0.017132774279991367,
           0.018543036221320797,
           0.018991410965959965,
           0.01946791017277479,
           0.01986707342941135,
           0.02141836010318874,
           0.02205730279901298,
           0.025532107045064905,
           0.025578979474432727,
           0.02663453276978197,
           0.02772346592500322,
           0.028034340010866785,
           0.03165356760450299,
           0.036179725080108006,
           0.0381737342261376,
           0.057205392445337254,
           0.07156340584182243,
           0.07865809407998907,
           0.12967465154330526
          ],
          "colorscale": [
           [
            0,
            "#440154"
           ],
           [
            0.1111111111111111,
            "#482878"
           ],
           [
            0.2222222222222222,
            "#3e4989"
           ],
           [
            0.3333333333333333,
            "#31688e"
           ],
           [
            0.4444444444444444,
            "#26828e"
           ],
           [
            0.5555555555555556,
            "#1f9e89"
           ],
           [
            0.6666666666666666,
            "#35b779"
           ],
           [
            0.7777777777777778,
            "#6ece58"
           ],
           [
            0.8888888888888888,
            "#b5de2b"
           ],
           [
            1,
            "#fde725"
           ]
          ],
          "reversescale": true
         },
         "name": "Random Forest Feature importance",
         "orientation": "h",
         "type": "bar",
         "x": [
          0.0003743181308508274,
          0.0006583508525200745,
          0.0006631273358967292,
          0.0012870748483952556,
          0.0013468714834950206,
          0.0018913506321937771,
          0.001989572452739745,
          0.0021574323171416245,
          0.0022645345820265514,
          0.0023962348295256657,
          0.0024696848120079736,
          0.002495051485913316,
          0.0026302475376519096,
          0.0033925750636594133,
          0.0035931003540923697,
          0.0042353717607272485,
          0.0061312867358127125,
          0.0061407206042120325,
          0.008186464719497107,
          0.008637553111960648,
          0.009218371023551643,
          0.009404374430447874,
          0.009712014853463218,
          0.010005805524377399,
          0.010164653090256257,
          0.010690413082285249,
          0.010997936674247427,
          0.011580935664014965,
          0.011621391134567631,
          0.011767264390378075,
          0.012011261324073803,
          0.012172320892055893,
          0.01358179129743767,
          0.013837866921533746,
          0.015995502951653272,
          0.016510618696480316,
          0.016797684635400774,
          0.01689900574544257,
          0.017132774279991367,
          0.018543036221320797,
          0.018991410965959965,
          0.01946791017277479,
          0.01986707342941135,
          0.02141836010318874,
          0.02205730279901298,
          0.025532107045064905,
          0.025578979474432727,
          0.02663453276978197,
          0.02772346592500322,
          0.028034340010866785,
          0.03165356760450299,
          0.036179725080108006,
          0.0381737342261376,
          0.057205392445337254,
          0.07156340584182243,
          0.07865809407998907,
          0.12967465154330526
         ],
         "y": [
          "ps_ind_10_bin",
          "ps_ind_11_bin",
          "ps_ind_13_bin",
          "ps_calc_20_bin",
          "ps_ind_12_bin",
          "ps_calc_15_bin",
          "ps_car_10_cat",
          "ps_ind_18_bin",
          "ps_calc_16_bin",
          "ps_ind_14",
          "ps_calc_17_bin",
          "ps_calc_18_bin",
          "ps_calc_19_bin",
          "ps_car_08_cat",
          "ps_ind_09_bin",
          "ps_ind_08_bin",
          "ps_car_11",
          "ps_car_05_cat",
          "ps_calc_04",
          "ps_calc_06",
          "ps_car_09_cat",
          "ps_car_02_cat",
          "ps_calc_09",
          "ps_calc_12",
          "ps_calc_08",
          "ps_calc_05",
          "ps_ind_02_cat",
          "ps_calc_03",
          "ps_calc_07",
          "ps_calc_13",
          "ps_calc_01",
          "ps_calc_02",
          "ps_car_06_cat",
          "ps_ind_16_bin",
          "ps_calc_11",
          "ps_reg_01",
          "ps_ind_01",
          "ps_car_11_cat",
          "ps_calc_14",
          "ps_car_15",
          "ps_calc_10",
          "ps_ind_04_cat",
          "ps_ind_06_bin",
          "ps_car_03_cat",
          "ps_ind_07_bin",
          "ps_ind_15",
          "ps_car_01_cat",
          "ps_car_12",
          "ps_car_14",
          "ps_car_04_cat",
          "ps_car_07_cat",
          "ps_ind_03",
          "ps_reg_02",
          "ps_ind_17_bin",
          "ps_reg_03",
          "ps_ind_05_cat",
          "ps_car_13"
         ]
        }
       ],
       "layout": {
        "height": 2000,
        "template": {
         "data": {
          "bar": [
           {
            "error_x": {
             "color": "#2a3f5f"
            },
            "error_y": {
             "color": "#2a3f5f"
            },
            "marker": {
             "line": {
              "color": "#E5ECF6",
              "width": 0.5
             },
             "pattern": {
              "fillmode": "overlay",
              "size": 10,
              "solidity": 0.2
             }
            },
            "type": "bar"
           }
          ],
          "barpolar": [
           {
            "marker": {
             "line": {
              "color": "#E5ECF6",
              "width": 0.5
             },
             "pattern": {
              "fillmode": "overlay",
              "size": 10,
              "solidity": 0.2
             }
            },
            "type": "barpolar"
           }
          ],
          "carpet": [
           {
            "aaxis": {
             "endlinecolor": "#2a3f5f",
             "gridcolor": "white",
             "linecolor": "white",
             "minorgridcolor": "white",
             "startlinecolor": "#2a3f5f"
            },
            "baxis": {
             "endlinecolor": "#2a3f5f",
             "gridcolor": "white",
             "linecolor": "white",
             "minorgridcolor": "white",
             "startlinecolor": "#2a3f5f"
            },
            "type": "carpet"
           }
          ],
          "choropleth": [
           {
            "colorbar": {
             "outlinewidth": 0,
             "ticks": ""
            },
            "type": "choropleth"
           }
          ],
          "contour": [
           {
            "colorbar": {
             "outlinewidth": 0,
             "ticks": ""
            },
            "colorscale": [
             [
              0,
              "#0d0887"
             ],
             [
              0.1111111111111111,
              "#46039f"
             ],
             [
              0.2222222222222222,
              "#7201a8"
             ],
             [
              0.3333333333333333,
              "#9c179e"
             ],
             [
              0.4444444444444444,
              "#bd3786"
             ],
             [
              0.5555555555555556,
              "#d8576b"
             ],
             [
              0.6666666666666666,
              "#ed7953"
             ],
             [
              0.7777777777777778,
              "#fb9f3a"
             ],
             [
              0.8888888888888888,
              "#fdca26"
             ],
             [
              1,
              "#f0f921"
             ]
            ],
            "type": "contour"
           }
          ],
          "contourcarpet": [
           {
            "colorbar": {
             "outlinewidth": 0,
             "ticks": ""
            },
            "type": "contourcarpet"
           }
          ],
          "heatmap": [
           {
            "colorbar": {
             "outlinewidth": 0,
             "ticks": ""
            },
            "colorscale": [
             [
              0,
              "#0d0887"
             ],
             [
              0.1111111111111111,
              "#46039f"
             ],
             [
              0.2222222222222222,
              "#7201a8"
             ],
             [
              0.3333333333333333,
              "#9c179e"
             ],
             [
              0.4444444444444444,
              "#bd3786"
             ],
             [
              0.5555555555555556,
              "#d8576b"
             ],
             [
              0.6666666666666666,
              "#ed7953"
             ],
             [
              0.7777777777777778,
              "#fb9f3a"
             ],
             [
              0.8888888888888888,
              "#fdca26"
             ],
             [
              1,
              "#f0f921"
             ]
            ],
            "type": "heatmap"
           }
          ],
          "heatmapgl": [
           {
            "colorbar": {
             "outlinewidth": 0,
             "ticks": ""
            },
            "colorscale": [
             [
              0,
              "#0d0887"
             ],
             [
              0.1111111111111111,
              "#46039f"
             ],
             [
              0.2222222222222222,
              "#7201a8"
             ],
             [
              0.3333333333333333,
              "#9c179e"
             ],
             [
              0.4444444444444444,
              "#bd3786"
             ],
             [
              0.5555555555555556,
              "#d8576b"
             ],
             [
              0.6666666666666666,
              "#ed7953"
             ],
             [
              0.7777777777777778,
              "#fb9f3a"
             ],
             [
              0.8888888888888888,
              "#fdca26"
             ],
             [
              1,
              "#f0f921"
             ]
            ],
            "type": "heatmapgl"
           }
          ],
          "histogram": [
           {
            "marker": {
             "pattern": {
              "fillmode": "overlay",
              "size": 10,
              "solidity": 0.2
             }
            },
            "type": "histogram"
           }
          ],
          "histogram2d": [
           {
            "colorbar": {
             "outlinewidth": 0,
             "ticks": ""
            },
            "colorscale": [
             [
              0,
              "#0d0887"
             ],
             [
              0.1111111111111111,
              "#46039f"
             ],
             [
              0.2222222222222222,
              "#7201a8"
             ],
             [
              0.3333333333333333,
              "#9c179e"
             ],
             [
              0.4444444444444444,
              "#bd3786"
             ],
             [
              0.5555555555555556,
              "#d8576b"
             ],
             [
              0.6666666666666666,
              "#ed7953"
             ],
             [
              0.7777777777777778,
              "#fb9f3a"
             ],
             [
              0.8888888888888888,
              "#fdca26"
             ],
             [
              1,
              "#f0f921"
             ]
            ],
            "type": "histogram2d"
           }
          ],
          "histogram2dcontour": [
           {
            "colorbar": {
             "outlinewidth": 0,
             "ticks": ""
            },
            "colorscale": [
             [
              0,
              "#0d0887"
             ],
             [
              0.1111111111111111,
              "#46039f"
             ],
             [
              0.2222222222222222,
              "#7201a8"
             ],
             [
              0.3333333333333333,
              "#9c179e"
             ],
             [
              0.4444444444444444,
              "#bd3786"
             ],
             [
              0.5555555555555556,
              "#d8576b"
             ],
             [
              0.6666666666666666,
              "#ed7953"
             ],
             [
              0.7777777777777778,
              "#fb9f3a"
             ],
             [
              0.8888888888888888,
              "#fdca26"
             ],
             [
              1,
              "#f0f921"
             ]
            ],
            "type": "histogram2dcontour"
           }
          ],
          "mesh3d": [
           {
            "colorbar": {
             "outlinewidth": 0,
             "ticks": ""
            },
            "type": "mesh3d"
           }
          ],
          "parcoords": [
           {
            "line": {
             "colorbar": {
              "outlinewidth": 0,
              "ticks": ""
             }
            },
            "type": "parcoords"
           }
          ],
          "pie": [
           {
            "automargin": true,
            "type": "pie"
           }
          ],
          "scatter": [
           {
            "fillpattern": {
             "fillmode": "overlay",
             "size": 10,
             "solidity": 0.2
            },
            "type": "scatter"
           }
          ],
          "scatter3d": [
           {
            "line": {
             "colorbar": {
              "outlinewidth": 0,
              "ticks": ""
             }
            },
            "marker": {
             "colorbar": {
              "outlinewidth": 0,
              "ticks": ""
             }
            },
            "type": "scatter3d"
           }
          ],
          "scattercarpet": [
           {
            "marker": {
             "colorbar": {
              "outlinewidth": 0,
              "ticks": ""
             }
            },
            "type": "scattercarpet"
           }
          ],
          "scattergeo": [
           {
            "marker": {
             "colorbar": {
              "outlinewidth": 0,
              "ticks": ""
             }
            },
            "type": "scattergeo"
           }
          ],
          "scattergl": [
           {
            "marker": {
             "colorbar": {
              "outlinewidth": 0,
              "ticks": ""
             }
            },
            "type": "scattergl"
           }
          ],
          "scattermapbox": [
           {
            "marker": {
             "colorbar": {
              "outlinewidth": 0,
              "ticks": ""
             }
            },
            "type": "scattermapbox"
           }
          ],
          "scatterpolar": [
           {
            "marker": {
             "colorbar": {
              "outlinewidth": 0,
              "ticks": ""
             }
            },
            "type": "scatterpolar"
           }
          ],
          "scatterpolargl": [
           {
            "marker": {
             "colorbar": {
              "outlinewidth": 0,
              "ticks": ""
             }
            },
            "type": "scatterpolargl"
           }
          ],
          "scatterternary": [
           {
            "marker": {
             "colorbar": {
              "outlinewidth": 0,
              "ticks": ""
             }
            },
            "type": "scatterternary"
           }
          ],
          "surface": [
           {
            "colorbar": {
             "outlinewidth": 0,
             "ticks": ""
            },
            "colorscale": [
             [
              0,
              "#0d0887"
             ],
             [
              0.1111111111111111,
              "#46039f"
             ],
             [
              0.2222222222222222,
              "#7201a8"
             ],
             [
              0.3333333333333333,
              "#9c179e"
             ],
             [
              0.4444444444444444,
              "#bd3786"
             ],
             [
              0.5555555555555556,
              "#d8576b"
             ],
             [
              0.6666666666666666,
              "#ed7953"
             ],
             [
              0.7777777777777778,
              "#fb9f3a"
             ],
             [
              0.8888888888888888,
              "#fdca26"
             ],
             [
              1,
              "#f0f921"
             ]
            ],
            "type": "surface"
           }
          ],
          "table": [
           {
            "cells": {
             "fill": {
              "color": "#EBF0F8"
             },
             "line": {
              "color": "white"
             }
            },
            "header": {
             "fill": {
              "color": "#C8D4E3"
             },
             "line": {
              "color": "white"
             }
            },
            "type": "table"
           }
          ]
         },
         "layout": {
          "annotationdefaults": {
           "arrowcolor": "#2a3f5f",
           "arrowhead": 0,
           "arrowwidth": 1
          },
          "autotypenumbers": "strict",
          "coloraxis": {
           "colorbar": {
            "outlinewidth": 0,
            "ticks": ""
           }
          },
          "colorscale": {
           "diverging": [
            [
             0,
             "#8e0152"
            ],
            [
             0.1,
             "#c51b7d"
            ],
            [
             0.2,
             "#de77ae"
            ],
            [
             0.3,
             "#f1b6da"
            ],
            [
             0.4,
             "#fde0ef"
            ],
            [
             0.5,
             "#f7f7f7"
            ],
            [
             0.6,
             "#e6f5d0"
            ],
            [
             0.7,
             "#b8e186"
            ],
            [
             0.8,
             "#7fbc41"
            ],
            [
             0.9,
             "#4d9221"
            ],
            [
             1,
             "#276419"
            ]
           ],
           "sequential": [
            [
             0,
             "#0d0887"
            ],
            [
             0.1111111111111111,
             "#46039f"
            ],
            [
             0.2222222222222222,
             "#7201a8"
            ],
            [
             0.3333333333333333,
             "#9c179e"
            ],
            [
             0.4444444444444444,
             "#bd3786"
            ],
            [
             0.5555555555555556,
             "#d8576b"
            ],
            [
             0.6666666666666666,
             "#ed7953"
            ],
            [
             0.7777777777777778,
             "#fb9f3a"
            ],
            [
             0.8888888888888888,
             "#fdca26"
            ],
            [
             1,
             "#f0f921"
            ]
           ],
           "sequentialminus": [
            [
             0,
             "#0d0887"
            ],
            [
             0.1111111111111111,
             "#46039f"
            ],
            [
             0.2222222222222222,
             "#7201a8"
            ],
            [
             0.3333333333333333,
             "#9c179e"
            ],
            [
             0.4444444444444444,
             "#bd3786"
            ],
            [
             0.5555555555555556,
             "#d8576b"
            ],
            [
             0.6666666666666666,
             "#ed7953"
            ],
            [
             0.7777777777777778,
             "#fb9f3a"
            ],
            [
             0.8888888888888888,
             "#fdca26"
            ],
            [
             1,
             "#f0f921"
            ]
           ]
          },
          "colorway": [
           "#636efa",
           "#EF553B",
           "#00cc96",
           "#ab63fa",
           "#FFA15A",
           "#19d3f3",
           "#FF6692",
           "#B6E880",
           "#FF97FF",
           "#FECB52"
          ],
          "font": {
           "color": "#2a3f5f"
          },
          "geo": {
           "bgcolor": "white",
           "lakecolor": "white",
           "landcolor": "#E5ECF6",
           "showlakes": true,
           "showland": true,
           "subunitcolor": "white"
          },
          "hoverlabel": {
           "align": "left"
          },
          "hovermode": "closest",
          "mapbox": {
           "style": "light"
          },
          "paper_bgcolor": "white",
          "plot_bgcolor": "#E5ECF6",
          "polar": {
           "angularaxis": {
            "gridcolor": "white",
            "linecolor": "white",
            "ticks": ""
           },
           "bgcolor": "#E5ECF6",
           "radialaxis": {
            "gridcolor": "white",
            "linecolor": "white",
            "ticks": ""
           }
          },
          "scene": {
           "xaxis": {
            "backgroundcolor": "#E5ECF6",
            "gridcolor": "white",
            "gridwidth": 2,
            "linecolor": "white",
            "showbackground": true,
            "ticks": "",
            "zerolinecolor": "white"
           },
           "yaxis": {
            "backgroundcolor": "#E5ECF6",
            "gridcolor": "white",
            "gridwidth": 2,
            "linecolor": "white",
            "showbackground": true,
            "ticks": "",
            "zerolinecolor": "white"
           },
           "zaxis": {
            "backgroundcolor": "#E5ECF6",
            "gridcolor": "white",
            "gridwidth": 2,
            "linecolor": "white",
            "showbackground": true,
            "ticks": "",
            "zerolinecolor": "white"
           }
          },
          "shapedefaults": {
           "line": {
            "color": "#2a3f5f"
           }
          },
          "ternary": {
           "aaxis": {
            "gridcolor": "white",
            "linecolor": "white",
            "ticks": ""
           },
           "baxis": {
            "gridcolor": "white",
            "linecolor": "white",
            "ticks": ""
           },
           "bgcolor": "#E5ECF6",
           "caxis": {
            "gridcolor": "white",
            "linecolor": "white",
            "ticks": ""
           }
          },
          "title": {
           "x": 0.05
          },
          "xaxis": {
           "automargin": true,
           "gridcolor": "white",
           "linecolor": "white",
           "ticks": "",
           "title": {
            "standoff": 15
           },
           "zerolinecolor": "white",
           "zerolinewidth": 2
          },
          "yaxis": {
           "automargin": true,
           "gridcolor": "white",
           "linecolor": "white",
           "ticks": "",
           "title": {
            "standoff": 15
           },
           "zerolinecolor": "white",
           "zerolinewidth": 2
          }
         }
        },
        "title": {
         "text": "Barplot of Feature importances"
        },
        "width": 900,
        "yaxis": {
         "showgrid": false,
         "showline": false,
         "showticklabels": true
        }
       }
      },
      "text/html": [
       "<div>                            <div id=\"d731cd0a-bd21-4912-969d-cf289b14a51e\" class=\"plotly-graph-div\" style=\"height:2000px; width:900px;\"></div>            <script type=\"text/javascript\">                require([\"plotly\"], function(Plotly) {                    window.PLOTLYENV=window.PLOTLYENV || {};                                    if (document.getElementById(\"d731cd0a-bd21-4912-969d-cf289b14a51e\")) {                    Plotly.newPlot(                        \"d731cd0a-bd21-4912-969d-cf289b14a51e\",                        [{\"marker\":{\"color\":[0.0003743181308508274,0.0006583508525200745,0.0006631273358967292,0.0012870748483952556,0.0013468714834950206,0.0018913506321937771,0.001989572452739745,0.0021574323171416245,0.0022645345820265514,0.0023962348295256657,0.0024696848120079736,0.002495051485913316,0.0026302475376519096,0.0033925750636594133,0.0035931003540923697,0.0042353717607272485,0.0061312867358127125,0.0061407206042120325,0.008186464719497107,0.008637553111960648,0.009218371023551643,0.009404374430447874,0.009712014853463218,0.010005805524377399,0.010164653090256257,0.010690413082285249,0.010997936674247427,0.011580935664014965,0.011621391134567631,0.011767264390378075,0.012011261324073803,0.012172320892055893,0.01358179129743767,0.013837866921533746,0.015995502951653272,0.016510618696480316,0.016797684635400774,0.01689900574544257,0.017132774279991367,0.018543036221320797,0.018991410965959965,0.01946791017277479,0.01986707342941135,0.02141836010318874,0.02205730279901298,0.025532107045064905,0.025578979474432727,0.02663453276978197,0.02772346592500322,0.028034340010866785,0.03165356760450299,0.036179725080108006,0.0381737342261376,0.057205392445337254,0.07156340584182243,0.07865809407998907,0.12967465154330526],\"colorscale\":[[0.0,\"#440154\"],[0.1111111111111111,\"#482878\"],[0.2222222222222222,\"#3e4989\"],[0.3333333333333333,\"#31688e\"],[0.4444444444444444,\"#26828e\"],[0.5555555555555556,\"#1f9e89\"],[0.6666666666666666,\"#35b779\"],[0.7777777777777778,\"#6ece58\"],[0.8888888888888888,\"#b5de2b\"],[1.0,\"#fde725\"]],\"reversescale\":true},\"name\":\"Random Forest Feature importance\",\"orientation\":\"h\",\"x\":[0.0003743181308508274,0.0006583508525200745,0.0006631273358967292,0.0012870748483952556,0.0013468714834950206,0.0018913506321937771,0.001989572452739745,0.0021574323171416245,0.0022645345820265514,0.0023962348295256657,0.0024696848120079736,0.002495051485913316,0.0026302475376519096,0.0033925750636594133,0.0035931003540923697,0.0042353717607272485,0.0061312867358127125,0.0061407206042120325,0.008186464719497107,0.008637553111960648,0.009218371023551643,0.009404374430447874,0.009712014853463218,0.010005805524377399,0.010164653090256257,0.010690413082285249,0.010997936674247427,0.011580935664014965,0.011621391134567631,0.011767264390378075,0.012011261324073803,0.012172320892055893,0.01358179129743767,0.013837866921533746,0.015995502951653272,0.016510618696480316,0.016797684635400774,0.01689900574544257,0.017132774279991367,0.018543036221320797,0.018991410965959965,0.01946791017277479,0.01986707342941135,0.02141836010318874,0.02205730279901298,0.025532107045064905,0.025578979474432727,0.02663453276978197,0.02772346592500322,0.028034340010866785,0.03165356760450299,0.036179725080108006,0.0381737342261376,0.057205392445337254,0.07156340584182243,0.07865809407998907,0.12967465154330526],\"y\":[\"ps_ind_10_bin\",\"ps_ind_11_bin\",\"ps_ind_13_bin\",\"ps_calc_20_bin\",\"ps_ind_12_bin\",\"ps_calc_15_bin\",\"ps_car_10_cat\",\"ps_ind_18_bin\",\"ps_calc_16_bin\",\"ps_ind_14\",\"ps_calc_17_bin\",\"ps_calc_18_bin\",\"ps_calc_19_bin\",\"ps_car_08_cat\",\"ps_ind_09_bin\",\"ps_ind_08_bin\",\"ps_car_11\",\"ps_car_05_cat\",\"ps_calc_04\",\"ps_calc_06\",\"ps_car_09_cat\",\"ps_car_02_cat\",\"ps_calc_09\",\"ps_calc_12\",\"ps_calc_08\",\"ps_calc_05\",\"ps_ind_02_cat\",\"ps_calc_03\",\"ps_calc_07\",\"ps_calc_13\",\"ps_calc_01\",\"ps_calc_02\",\"ps_car_06_cat\",\"ps_ind_16_bin\",\"ps_calc_11\",\"ps_reg_01\",\"ps_ind_01\",\"ps_car_11_cat\",\"ps_calc_14\",\"ps_car_15\",\"ps_calc_10\",\"ps_ind_04_cat\",\"ps_ind_06_bin\",\"ps_car_03_cat\",\"ps_ind_07_bin\",\"ps_ind_15\",\"ps_car_01_cat\",\"ps_car_12\",\"ps_car_14\",\"ps_car_04_cat\",\"ps_car_07_cat\",\"ps_ind_03\",\"ps_reg_02\",\"ps_ind_17_bin\",\"ps_reg_03\",\"ps_ind_05_cat\",\"ps_car_13\"],\"type\":\"bar\"}],                        {\"height\":2000,\"template\":{\"data\":{\"barpolar\":[{\"marker\":{\"line\":{\"color\":\"#E5ECF6\",\"width\":0.5},\"pattern\":{\"fillmode\":\"overlay\",\"size\":10,\"solidity\":0.2}},\"type\":\"barpolar\"}],\"bar\":[{\"error_x\":{\"color\":\"#2a3f5f\"},\"error_y\":{\"color\":\"#2a3f5f\"},\"marker\":{\"line\":{\"color\":\"#E5ECF6\",\"width\":0.5},\"pattern\":{\"fillmode\":\"overlay\",\"size\":10,\"solidity\":0.2}},\"type\":\"bar\"}],\"carpet\":[{\"aaxis\":{\"endlinecolor\":\"#2a3f5f\",\"gridcolor\":\"white\",\"linecolor\":\"white\",\"minorgridcolor\":\"white\",\"startlinecolor\":\"#2a3f5f\"},\"baxis\":{\"endlinecolor\":\"#2a3f5f\",\"gridcolor\":\"white\",\"linecolor\":\"white\",\"minorgridcolor\":\"white\",\"startlinecolor\":\"#2a3f5f\"},\"type\":\"carpet\"}],\"choropleth\":[{\"colorbar\":{\"outlinewidth\":0,\"ticks\":\"\"},\"type\":\"choropleth\"}],\"contourcarpet\":[{\"colorbar\":{\"outlinewidth\":0,\"ticks\":\"\"},\"type\":\"contourcarpet\"}],\"contour\":[{\"colorbar\":{\"outlinewidth\":0,\"ticks\":\"\"},\"colorscale\":[[0.0,\"#0d0887\"],[0.1111111111111111,\"#46039f\"],[0.2222222222222222,\"#7201a8\"],[0.3333333333333333,\"#9c179e\"],[0.4444444444444444,\"#bd3786\"],[0.5555555555555556,\"#d8576b\"],[0.6666666666666666,\"#ed7953\"],[0.7777777777777778,\"#fb9f3a\"],[0.8888888888888888,\"#fdca26\"],[1.0,\"#f0f921\"]],\"type\":\"contour\"}],\"heatmapgl\":[{\"colorbar\":{\"outlinewidth\":0,\"ticks\":\"\"},\"colorscale\":[[0.0,\"#0d0887\"],[0.1111111111111111,\"#46039f\"],[0.2222222222222222,\"#7201a8\"],[0.3333333333333333,\"#9c179e\"],[0.4444444444444444,\"#bd3786\"],[0.5555555555555556,\"#d8576b\"],[0.6666666666666666,\"#ed7953\"],[0.7777777777777778,\"#fb9f3a\"],[0.8888888888888888,\"#fdca26\"],[1.0,\"#f0f921\"]],\"type\":\"heatmapgl\"}],\"heatmap\":[{\"colorbar\":{\"outlinewidth\":0,\"ticks\":\"\"},\"colorscale\":[[0.0,\"#0d0887\"],[0.1111111111111111,\"#46039f\"],[0.2222222222222222,\"#7201a8\"],[0.3333333333333333,\"#9c179e\"],[0.4444444444444444,\"#bd3786\"],[0.5555555555555556,\"#d8576b\"],[0.6666666666666666,\"#ed7953\"],[0.7777777777777778,\"#fb9f3a\"],[0.8888888888888888,\"#fdca26\"],[1.0,\"#f0f921\"]],\"type\":\"heatmap\"}],\"histogram2dcontour\":[{\"colorbar\":{\"outlinewidth\":0,\"ticks\":\"\"},\"colorscale\":[[0.0,\"#0d0887\"],[0.1111111111111111,\"#46039f\"],[0.2222222222222222,\"#7201a8\"],[0.3333333333333333,\"#9c179e\"],[0.4444444444444444,\"#bd3786\"],[0.5555555555555556,\"#d8576b\"],[0.6666666666666666,\"#ed7953\"],[0.7777777777777778,\"#fb9f3a\"],[0.8888888888888888,\"#fdca26\"],[1.0,\"#f0f921\"]],\"type\":\"histogram2dcontour\"}],\"histogram2d\":[{\"colorbar\":{\"outlinewidth\":0,\"ticks\":\"\"},\"colorscale\":[[0.0,\"#0d0887\"],[0.1111111111111111,\"#46039f\"],[0.2222222222222222,\"#7201a8\"],[0.3333333333333333,\"#9c179e\"],[0.4444444444444444,\"#bd3786\"],[0.5555555555555556,\"#d8576b\"],[0.6666666666666666,\"#ed7953\"],[0.7777777777777778,\"#fb9f3a\"],[0.8888888888888888,\"#fdca26\"],[1.0,\"#f0f921\"]],\"type\":\"histogram2d\"}],\"histogram\":[{\"marker\":{\"pattern\":{\"fillmode\":\"overlay\",\"size\":10,\"solidity\":0.2}},\"type\":\"histogram\"}],\"mesh3d\":[{\"colorbar\":{\"outlinewidth\":0,\"ticks\":\"\"},\"type\":\"mesh3d\"}],\"parcoords\":[{\"line\":{\"colorbar\":{\"outlinewidth\":0,\"ticks\":\"\"}},\"type\":\"parcoords\"}],\"pie\":[{\"automargin\":true,\"type\":\"pie\"}],\"scatter3d\":[{\"line\":{\"colorbar\":{\"outlinewidth\":0,\"ticks\":\"\"}},\"marker\":{\"colorbar\":{\"outlinewidth\":0,\"ticks\":\"\"}},\"type\":\"scatter3d\"}],\"scattercarpet\":[{\"marker\":{\"colorbar\":{\"outlinewidth\":0,\"ticks\":\"\"}},\"type\":\"scattercarpet\"}],\"scattergeo\":[{\"marker\":{\"colorbar\":{\"outlinewidth\":0,\"ticks\":\"\"}},\"type\":\"scattergeo\"}],\"scattergl\":[{\"marker\":{\"colorbar\":{\"outlinewidth\":0,\"ticks\":\"\"}},\"type\":\"scattergl\"}],\"scattermapbox\":[{\"marker\":{\"colorbar\":{\"outlinewidth\":0,\"ticks\":\"\"}},\"type\":\"scattermapbox\"}],\"scatterpolargl\":[{\"marker\":{\"colorbar\":{\"outlinewidth\":0,\"ticks\":\"\"}},\"type\":\"scatterpolargl\"}],\"scatterpolar\":[{\"marker\":{\"colorbar\":{\"outlinewidth\":0,\"ticks\":\"\"}},\"type\":\"scatterpolar\"}],\"scatter\":[{\"fillpattern\":{\"fillmode\":\"overlay\",\"size\":10,\"solidity\":0.2},\"type\":\"scatter\"}],\"scatterternary\":[{\"marker\":{\"colorbar\":{\"outlinewidth\":0,\"ticks\":\"\"}},\"type\":\"scatterternary\"}],\"surface\":[{\"colorbar\":{\"outlinewidth\":0,\"ticks\":\"\"},\"colorscale\":[[0.0,\"#0d0887\"],[0.1111111111111111,\"#46039f\"],[0.2222222222222222,\"#7201a8\"],[0.3333333333333333,\"#9c179e\"],[0.4444444444444444,\"#bd3786\"],[0.5555555555555556,\"#d8576b\"],[0.6666666666666666,\"#ed7953\"],[0.7777777777777778,\"#fb9f3a\"],[0.8888888888888888,\"#fdca26\"],[1.0,\"#f0f921\"]],\"type\":\"surface\"}],\"table\":[{\"cells\":{\"fill\":{\"color\":\"#EBF0F8\"},\"line\":{\"color\":\"white\"}},\"header\":{\"fill\":{\"color\":\"#C8D4E3\"},\"line\":{\"color\":\"white\"}},\"type\":\"table\"}]},\"layout\":{\"annotationdefaults\":{\"arrowcolor\":\"#2a3f5f\",\"arrowhead\":0,\"arrowwidth\":1},\"autotypenumbers\":\"strict\",\"coloraxis\":{\"colorbar\":{\"outlinewidth\":0,\"ticks\":\"\"}},\"colorscale\":{\"diverging\":[[0,\"#8e0152\"],[0.1,\"#c51b7d\"],[0.2,\"#de77ae\"],[0.3,\"#f1b6da\"],[0.4,\"#fde0ef\"],[0.5,\"#f7f7f7\"],[0.6,\"#e6f5d0\"],[0.7,\"#b8e186\"],[0.8,\"#7fbc41\"],[0.9,\"#4d9221\"],[1,\"#276419\"]],\"sequential\":[[0.0,\"#0d0887\"],[0.1111111111111111,\"#46039f\"],[0.2222222222222222,\"#7201a8\"],[0.3333333333333333,\"#9c179e\"],[0.4444444444444444,\"#bd3786\"],[0.5555555555555556,\"#d8576b\"],[0.6666666666666666,\"#ed7953\"],[0.7777777777777778,\"#fb9f3a\"],[0.8888888888888888,\"#fdca26\"],[1.0,\"#f0f921\"]],\"sequentialminus\":[[0.0,\"#0d0887\"],[0.1111111111111111,\"#46039f\"],[0.2222222222222222,\"#7201a8\"],[0.3333333333333333,\"#9c179e\"],[0.4444444444444444,\"#bd3786\"],[0.5555555555555556,\"#d8576b\"],[0.6666666666666666,\"#ed7953\"],[0.7777777777777778,\"#fb9f3a\"],[0.8888888888888888,\"#fdca26\"],[1.0,\"#f0f921\"]]},\"colorway\":[\"#636efa\",\"#EF553B\",\"#00cc96\",\"#ab63fa\",\"#FFA15A\",\"#19d3f3\",\"#FF6692\",\"#B6E880\",\"#FF97FF\",\"#FECB52\"],\"font\":{\"color\":\"#2a3f5f\"},\"geo\":{\"bgcolor\":\"white\",\"lakecolor\":\"white\",\"landcolor\":\"#E5ECF6\",\"showlakes\":true,\"showland\":true,\"subunitcolor\":\"white\"},\"hoverlabel\":{\"align\":\"left\"},\"hovermode\":\"closest\",\"mapbox\":{\"style\":\"light\"},\"paper_bgcolor\":\"white\",\"plot_bgcolor\":\"#E5ECF6\",\"polar\":{\"angularaxis\":{\"gridcolor\":\"white\",\"linecolor\":\"white\",\"ticks\":\"\"},\"bgcolor\":\"#E5ECF6\",\"radialaxis\":{\"gridcolor\":\"white\",\"linecolor\":\"white\",\"ticks\":\"\"}},\"scene\":{\"xaxis\":{\"backgroundcolor\":\"#E5ECF6\",\"gridcolor\":\"white\",\"gridwidth\":2,\"linecolor\":\"white\",\"showbackground\":true,\"ticks\":\"\",\"zerolinecolor\":\"white\"},\"yaxis\":{\"backgroundcolor\":\"#E5ECF6\",\"gridcolor\":\"white\",\"gridwidth\":2,\"linecolor\":\"white\",\"showbackground\":true,\"ticks\":\"\",\"zerolinecolor\":\"white\"},\"zaxis\":{\"backgroundcolor\":\"#E5ECF6\",\"gridcolor\":\"white\",\"gridwidth\":2,\"linecolor\":\"white\",\"showbackground\":true,\"ticks\":\"\",\"zerolinecolor\":\"white\"}},\"shapedefaults\":{\"line\":{\"color\":\"#2a3f5f\"}},\"ternary\":{\"aaxis\":{\"gridcolor\":\"white\",\"linecolor\":\"white\",\"ticks\":\"\"},\"baxis\":{\"gridcolor\":\"white\",\"linecolor\":\"white\",\"ticks\":\"\"},\"bgcolor\":\"#E5ECF6\",\"caxis\":{\"gridcolor\":\"white\",\"linecolor\":\"white\",\"ticks\":\"\"}},\"title\":{\"x\":0.05},\"xaxis\":{\"automargin\":true,\"gridcolor\":\"white\",\"linecolor\":\"white\",\"ticks\":\"\",\"title\":{\"standoff\":15},\"zerolinecolor\":\"white\",\"zerolinewidth\":2},\"yaxis\":{\"automargin\":true,\"gridcolor\":\"white\",\"linecolor\":\"white\",\"ticks\":\"\",\"title\":{\"standoff\":15},\"zerolinecolor\":\"white\",\"zerolinewidth\":2}}},\"title\":{\"text\":\"Barplot of Feature importances\"},\"width\":900,\"yaxis\":{\"showgrid\":false,\"showline\":false,\"showticklabels\":true}},                        {\"responsive\": true}                    ).then(function(){\n",
       "                            \n",
       "var gd = document.getElementById('d731cd0a-bd21-4912-969d-cf289b14a51e');\n",
       "var x = new MutationObserver(function (mutations, observer) {{\n",
       "        var display = window.getComputedStyle(gd).display;\n",
       "        if (!display || display === 'none') {{\n",
       "            console.log([gd, 'removed!']);\n",
       "            Plotly.purge(gd);\n",
       "            observer.disconnect();\n",
       "        }}\n",
       "}});\n",
       "\n",
       "// Listen for the removal of the full notebook cells\n",
       "var notebookContainer = gd.closest('#notebook-container');\n",
       "if (notebookContainer) {{\n",
       "    x.observe(notebookContainer, {childList: true});\n",
       "}}\n",
       "\n",
       "// Listen for the clearing of the current output cell\n",
       "var outputEl = gd.closest('.output');\n",
       "if (outputEl) {{\n",
       "    x.observe(outputEl, {childList: true});\n",
       "}}\n",
       "\n",
       "                        })                };                });            </script>        </div>"
      ]
     },
     "metadata": {},
     "output_type": "display_data"
    }
   ],
   "source": [
    "x, y = (list(x) for x in zip(*sorted(zip(rf.feature_importances_, features), \n",
    "                                                            reverse = False)))\n",
    "trace2 = go.Bar(\n",
    "    x=x ,\n",
    "    y=y,\n",
    "    marker=dict(\n",
    "        color=x,\n",
    "        colorscale = 'Viridis',\n",
    "        reversescale = True\n",
    "    ),\n",
    "    name='Random Forest Feature importance',\n",
    "    orientation='h',\n",
    ")\n",
    "\n",
    "layout = dict(\n",
    "    title='Barplot of Feature importances',\n",
    "     width = 900, height = 2000,\n",
    "    yaxis=dict(\n",
    "        showgrid=False,\n",
    "        showline=False,\n",
    "        showticklabels=True,\n",
    "#         domain=[0, 0.85],\n",
    "    ))\n",
    "\n",
    "fig1 = go.Figure(data=[trace2])\n",
    "fig1['layout'].update(layout)\n",
    "py.iplot(fig1, filename='plots')"
   ]
  },
  {
   "cell_type": "code",
   "execution_count": 22,
   "id": "f5578118",
   "metadata": {},
   "outputs": [
    {
     "data": {
      "image/png": "[encoded data removed]",
      "text/plain": [
       "<IPython.core.display.Image object>"
      ]
     },
     "execution_count": 22,
     "metadata": {},
     "output_type": "execute_result"
    }
   ],
   "source": [
    "# Decision tree visualization\n",
    "\n",
    "from sklearn import tree\n",
    "from IPython.display import Image as PImage\n",
    "from subprocess import check_call\n",
    "from PIL import Image, ImageDraw, ImageFont\n",
    "import re\n",
    "\n",
    "decision_tree = tree.DecisionTreeClassifier(max_depth = 3)\n",
    "decision_tree.fit(train.drop(['id', 'target'],axis=1), train.target)\n",
    "\n",
    "# Export our trained model as a .dot file\n",
    "with open(\"tree1.dot\", 'w') as f:\n",
    "     f = tree.export_graphviz(decision_tree,\n",
    "                              out_file=f,\n",
    "                              max_depth = 4,\n",
    "                              impurity = False,\n",
    "                              feature_names = train.drop(['id', 'target'],axis=1).columns.values,\n",
    "                              class_names = ['No', 'Yes'],\n",
    "                              rounded = True,\n",
    "                              filled= True )\n",
    "        \n",
    "#Convert .dot to .png to allow display in web notebook\n",
    "check_call(['dot','-Tpng','tree1.dot','-o','tree1.png'])\n",
    "\n",
    "# Annotating chart with PIL\n",
    "img = Image.open(\"tree1.png\")\n",
    "draw = ImageDraw.Draw(img)\n",
    "img.save('sample-out.png')\n",
    "PImage(\"sample-out.png\",)"
   ]
  },
  {
   "cell_type": "markdown",
   "id": "198e99c0",
   "metadata": {},
   "source": [
    "## Feature Importance via Gradient Boosting Model"
   ]
  },
  {
   "cell_type": "code",
   "execution_count": 23,
   "id": "d914b26c",
   "metadata": {},
   "outputs": [
    {
     "name": "stdout",
     "output_type": "stream",
     "text": [
      "----- Training Done -----\n"
     ]
    }
   ],
   "source": [
    "from sklearn.ensemble import GradientBoostingClassifier\n",
    "gb = GradientBoostingClassifier(n_estimators=100, max_depth=3, min_samples_leaf=4, max_features=0.2, random_state=0)\n",
    "gb.fit(train.drop(['id', 'target'],axis=1), train.target)\n",
    "features = train.drop(['id', 'target'],axis=1).columns.values\n",
    "print(\"----- Training Done -----\")"
   ]
  },
  {
   "cell_type": "code",
   "execution_count": 24,
   "id": "678a44fb",
   "metadata": {},
   "outputs": [
    {
     "data": {
      "application/vnd.plotly.v1+json": {
       "config": {
        "linkText": "Export to plot.ly",
        "plotlyServerURL": "https://plot.ly",
        "showLink": false
       },
       "data": [
        {
         "marker": {
          "color": [
           0.018942799189970955,
           0.01149263088990036,
           0.08412006019644244,
           0.028183264407555263,
           0.10950125606195099,
           0.030900863764462636,
           0.04377810614289607,
           0.009773282285043598,
           0.0037264924582162432,
           0,
           0.0003235177277045489,
           0.0004158197093672128,
           0,
           0.0019647053728023152,
           0.03467434439007504,
           0.014794297800161123,
           0.09752492931016607,
           0.0014496142448763142,
           0.01543754116748563,
           0.024372416487005284,
           0.08109077353453951,
           0.026540310992013864,
           0.008584258166764266,
           0.04030089230958734,
           0.04179531303640348,
           0.0008965365535275902,
           0.006565322421680692,
           0.06202171413603533,
           0.001270823436778823,
           0.004174057835055185,
           0,
           0.004576751074028133,
           0.005278045277058135,
           0.012609145090832337,
           0.13478741361671628,
           0.009483929671759822,
           0.015374201560426012,
           0.00028604840118043247,
           0.00044605935176172766,
           0.0007148195496434932,
           0.0001653761151126856,
           0.0017603955775375118,
           0.0017492380387401905,
           0.0015385042872263317,
           0.0007187894334273088,
           0.00016165347845581427,
           0.0007278950114923029,
           0.0011498608494837658,
           0.0014995491166218556,
           0.0006197188695039054,
           0.00019130097873263984,
           0.00016203483185362635,
           0.00035235773060158154,
           0,
           0.0007963520664256195,
           0.0002346159929103915,
           0
          ],
          "colorscale": [
           [
            0,
            "rgb(12,51,131)"
           ],
           [
            0.25,
            "rgb(10,136,186)"
           ],
           [
            0.5,
            "rgb(242,211,56)"
           ],
           [
            0.75,
            "rgb(242,143,56)"
           ],
           [
            1,
            "rgb(217,30,30)"
           ]
          ],
          "showscale": true,
          "size": 13,
          "sizemode": "diameter",
          "sizeref": 1
         },
         "mode": "markers",
         "text": [
          "ps_ind_01",
          "ps_ind_02_cat",
          "ps_ind_03",
          "ps_ind_04_cat",
          "ps_ind_05_cat",
          "ps_ind_06_bin",
          "ps_ind_07_bin",
          "ps_ind_08_bin",
          "ps_ind_09_bin",
          "ps_ind_10_bin",
          "ps_ind_11_bin",
          "ps_ind_12_bin",
          "ps_ind_13_bin",
          "ps_ind_14",
          "ps_ind_15",
          "ps_ind_16_bin",
          "ps_ind_17_bin",
          "ps_ind_18_bin",
          "ps_reg_01",
          "ps_reg_02",
          "ps_reg_03",
          "ps_car_01_cat",
          "ps_car_02_cat",
          "ps_car_03_cat",
          "ps_car_04_cat",
          "ps_car_05_cat",
          "ps_car_06_cat",
          "ps_car_07_cat",
          "ps_car_08_cat",
          "ps_car_09_cat",
          "ps_car_10_cat",
          "ps_car_11_cat",
          "ps_car_11",
          "ps_car_12",
          "ps_car_13",
          "ps_car_14",
          "ps_car_15",
          "ps_calc_01",
          "ps_calc_02",
          "ps_calc_03",
          "ps_calc_04",
          "ps_calc_05",
          "ps_calc_06",
          "ps_calc_07",
          "ps_calc_08",
          "ps_calc_09",
          "ps_calc_10",
          "ps_calc_11",
          "ps_calc_12",
          "ps_calc_13",
          "ps_calc_14",
          "ps_calc_15_bin",
          "ps_calc_16_bin",
          "ps_calc_17_bin",
          "ps_calc_18_bin",
          "ps_calc_19_bin",
          "ps_calc_20_bin"
         ],
         "type": "scatter",
         "x": [
          "ps_ind_01",
          "ps_ind_02_cat",
          "ps_ind_03",
          "ps_ind_04_cat",
          "ps_ind_05_cat",
          "ps_ind_06_bin",
          "ps_ind_07_bin",
          "ps_ind_08_bin",
          "ps_ind_09_bin",
          "ps_ind_10_bin",
          "ps_ind_11_bin",
          "ps_ind_12_bin",
          "ps_ind_13_bin",
          "ps_ind_14",
          "ps_ind_15",
          "ps_ind_16_bin",
          "ps_ind_17_bin",
          "ps_ind_18_bin",
          "ps_reg_01",
          "ps_reg_02",
          "ps_reg_03",
          "ps_car_01_cat",
          "ps_car_02_cat",
          "ps_car_03_cat",
          "ps_car_04_cat",
          "ps_car_05_cat",
          "ps_car_06_cat",
          "ps_car_07_cat",
          "ps_car_08_cat",
          "ps_car_09_cat",
          "ps_car_10_cat",
          "ps_car_11_cat",
          "ps_car_11",
          "ps_car_12",
          "ps_car_13",
          "ps_car_14",
          "ps_car_15",
          "ps_calc_01",
          "ps_calc_02",
          "ps_calc_03",
          "ps_calc_04",
          "ps_calc_05",
          "ps_calc_06",
          "ps_calc_07",
          "ps_calc_08",
          "ps_calc_09",
          "ps_calc_10",
          "ps_calc_11",
          "ps_calc_12",
          "ps_calc_13",
          "ps_calc_14",
          "ps_calc_15_bin",
          "ps_calc_16_bin",
          "ps_calc_17_bin",
          "ps_calc_18_bin",
          "ps_calc_19_bin",
          "ps_calc_20_bin"
         ],
         "y": [
          0.018942799189970955,
          0.01149263088990036,
          0.08412006019644244,
          0.028183264407555263,
          0.10950125606195099,
          0.030900863764462636,
          0.04377810614289607,
          0.009773282285043598,
          0.0037264924582162432,
          0,
          0.0003235177277045489,
          0.0004158197093672128,
          0,
          0.0019647053728023152,
          0.03467434439007504,
          0.014794297800161123,
          0.09752492931016607,
          0.0014496142448763142,
          0.01543754116748563,
          0.024372416487005284,
          0.08109077353453951,
          0.026540310992013864,
          0.008584258166764266,
          0.04030089230958734,
          0.04179531303640348,
          0.0008965365535275902,
          0.006565322421680692,
          0.06202171413603533,
          0.001270823436778823,
          0.004174057835055185,
          0,
          0.004576751074028133,
          0.005278045277058135,
          0.012609145090832337,
          0.13478741361671628,
          0.009483929671759822,
          0.015374201560426012,
          0.00028604840118043247,
          0.00044605935176172766,
          0.0007148195496434932,
          0.0001653761151126856,
          0.0017603955775375118,
          0.0017492380387401905,
          0.0015385042872263317,
          0.0007187894334273088,
          0.00016165347845581427,
          0.0007278950114923029,
          0.0011498608494837658,
          0.0014995491166218556,
          0.0006197188695039054,
          0.00019130097873263984,
          0.00016203483185362635,
          0.00035235773060158154,
          0,
          0.0007963520664256195,
          0.0002346159929103915,
          0
         ]
        }
       ],
       "layout": {
        "autosize": true,
        "hovermode": "closest",
        "showlegend": false,
        "template": {
         "data": {
          "bar": [
           {
            "error_x": {
             "color": "#2a3f5f"
            },
            "error_y": {
             "color": "#2a3f5f"
            },
            "marker": {
             "line": {
              "color": "#E5ECF6",
              "width": 0.5
             },
             "pattern": {
              "fillmode": "overlay",
              "size": 10,
              "solidity": 0.2
             }
            },
            "type": "bar"
           }
          ],
          "barpolar": [
           {
            "marker": {
             "line": {
              "color": "#E5ECF6",
              "width": 0.5
             },
             "pattern": {
              "fillmode": "overlay",
              "size": 10,
              "solidity": 0.2
             }
            },
            "type": "barpolar"
           }
          ],
          "carpet": [
           {
            "aaxis": {
             "endlinecolor": "#2a3f5f",
             "gridcolor": "white",
             "linecolor": "white",
             "minorgridcolor": "white",
             "startlinecolor": "#2a3f5f"
            },
            "baxis": {
             "endlinecolor": "#2a3f5f",
             "gridcolor": "white",
             "linecolor": "white",
             "minorgridcolor": "white",
             "startlinecolor": "#2a3f5f"
            },
            "type": "carpet"
           }
          ],
          "choropleth": [
           {
            "colorbar": {
             "outlinewidth": 0,
             "ticks": ""
            },
            "type": "choropleth"
           }
          ],
          "contour": [
           {
            "colorbar": {
             "outlinewidth": 0,
             "ticks": ""
            },
            "colorscale": [
             [
              0,
              "#0d0887"
             ],
             [
              0.1111111111111111,
              "#46039f"
             ],
             [
              0.2222222222222222,
              "#7201a8"
             ],
             [
              0.3333333333333333,
              "#9c179e"
             ],
             [
              0.4444444444444444,
              "#bd3786"
             ],
             [
              0.5555555555555556,
              "#d8576b"
             ],
             [
              0.6666666666666666,
              "#ed7953"
             ],
             [
              0.7777777777777778,
              "#fb9f3a"
             ],
             [
              0.8888888888888888,
              "#fdca26"
             ],
             [
              1,
              "#f0f921"
             ]
            ],
            "type": "contour"
           }
          ],
          "contourcarpet": [
           {
            "colorbar": {
             "outlinewidth": 0,
             "ticks": ""
            },
            "type": "contourcarpet"
           }
          ],
          "heatmap": [
           {
            "colorbar": {
             "outlinewidth": 0,
             "ticks": ""
            },
            "colorscale": [
             [
              0,
              "#0d0887"
             ],
             [
              0.1111111111111111,
              "#46039f"
             ],
             [
              0.2222222222222222,
              "#7201a8"
             ],
             [
              0.3333333333333333,
              "#9c179e"
             ],
             [
              0.4444444444444444,
              "#bd3786"
             ],
             [
              0.5555555555555556,
              "#d8576b"
             ],
             [
              0.6666666666666666,
              "#ed7953"
             ],
             [
              0.7777777777777778,
              "#fb9f3a"
             ],
             [
              0.8888888888888888,
              "#fdca26"
             ],
             [
              1,
              "#f0f921"
             ]
            ],
            "type": "heatmap"
           }
          ],
          "heatmapgl": [
           {
            "colorbar": {
             "outlinewidth": 0,
             "ticks": ""
            },
            "colorscale": [
             [
              0,
              "#0d0887"
             ],
             [
              0.1111111111111111,
              "#46039f"
             ],
             [
              0.2222222222222222,
              "#7201a8"
             ],
             [
              0.3333333333333333,
              "#9c179e"
             ],
             [
              0.4444444444444444,
              "#bd3786"
             ],
             [
              0.5555555555555556,
              "#d8576b"
             ],
             [
              0.6666666666666666,
              "#ed7953"
             ],
             [
              0.7777777777777778,
              "#fb9f3a"
             ],
             [
              0.8888888888888888,
              "#fdca26"
             ],
             [
              1,
              "#f0f921"
             ]
            ],
            "type": "heatmapgl"
           }
          ],
          "histogram": [
           {
            "marker": {
             "pattern": {
              "fillmode": "overlay",
              "size": 10,
              "solidity": 0.2
             }
            },
            "type": "histogram"
           }
          ],
          "histogram2d": [
           {
            "colorbar": {
             "outlinewidth": 0,
             "ticks": ""
            },
            "colorscale": [
             [
              0,
              "#0d0887"
             ],
             [
              0.1111111111111111,
              "#46039f"
             ],
             [
              0.2222222222222222,
              "#7201a8"
             ],
             [
              0.3333333333333333,
              "#9c179e"
             ],
             [
              0.4444444444444444,
              "#bd3786"
             ],
             [
              0.5555555555555556,
              "#d8576b"
             ],
             [
              0.6666666666666666,
              "#ed7953"
             ],
             [
              0.7777777777777778,
              "#fb9f3a"
             ],
             [
              0.8888888888888888,
              "#fdca26"
             ],
             [
              1,
              "#f0f921"
             ]
            ],
            "type": "histogram2d"
           }
          ],
          "histogram2dcontour": [
           {
            "colorbar": {
             "outlinewidth": 0,
             "ticks": ""
            },
            "colorscale": [
             [
              0,
              "#0d0887"
             ],
             [
              0.1111111111111111,
              "#46039f"
             ],
             [
              0.2222222222222222,
              "#7201a8"
             ],
             [
              0.3333333333333333,
              "#9c179e"
             ],
             [
              0.4444444444444444,
              "#bd3786"
             ],
             [
              0.5555555555555556,
              "#d8576b"
             ],
             [
              0.6666666666666666,
              "#ed7953"
             ],
             [
              0.7777777777777778,
              "#fb9f3a"
             ],
             [
              0.8888888888888888,
              "#fdca26"
             ],
             [
              1,
              "#f0f921"
             ]
            ],
            "type": "histogram2dcontour"
           }
          ],
          "mesh3d": [
           {
            "colorbar": {
             "outlinewidth": 0,
             "ticks": ""
            },
            "type": "mesh3d"
           }
          ],
          "parcoords": [
           {
            "line": {
             "colorbar": {
              "outlinewidth": 0,
              "ticks": ""
             }
            },
            "type": "parcoords"
           }
          ],
          "pie": [
           {
            "automargin": true,
            "type": "pie"
           }
          ],
          "scatter": [
           {
            "fillpattern": {
             "fillmode": "overlay",
             "size": 10,
             "solidity": 0.2
            },
            "type": "scatter"
           }
          ],
          "scatter3d": [
           {
            "line": {
             "colorbar": {
              "outlinewidth": 0,
              "ticks": ""
             }
            },
            "marker": {
             "colorbar": {
              "outlinewidth": 0,
              "ticks": ""
             }
            },
            "type": "scatter3d"
           }
          ],
          "scattercarpet": [
           {
            "marker": {
             "colorbar": {
              "outlinewidth": 0,
              "ticks": ""
             }
            },
            "type": "scattercarpet"
           }
          ],
          "scattergeo": [
           {
            "marker": {
             "colorbar": {
              "outlinewidth": 0,
              "ticks": ""
             }
            },
            "type": "scattergeo"
           }
          ],
          "scattergl": [
           {
            "marker": {
             "colorbar": {
              "outlinewidth": 0,
              "ticks": ""
             }
            },
            "type": "scattergl"
           }
          ],
          "scattermapbox": [
           {
            "marker": {
             "colorbar": {
              "outlinewidth": 0,
              "ticks": ""
             }
            },
            "type": "scattermapbox"
           }
          ],
          "scatterpolar": [
           {
            "marker": {
             "colorbar": {
              "outlinewidth": 0,
              "ticks": ""
             }
            },
            "type": "scatterpolar"
           }
          ],
          "scatterpolargl": [
           {
            "marker": {
             "colorbar": {
              "outlinewidth": 0,
              "ticks": ""
             }
            },
            "type": "scatterpolargl"
           }
          ],
          "scatterternary": [
           {
            "marker": {
             "colorbar": {
              "outlinewidth": 0,
              "ticks": ""
             }
            },
            "type": "scatterternary"
           }
          ],
          "surface": [
           {
            "colorbar": {
             "outlinewidth": 0,
             "ticks": ""
            },
            "colorscale": [
             [
              0,
              "#0d0887"
             ],
             [
              0.1111111111111111,
              "#46039f"
             ],
             [
              0.2222222222222222,
              "#7201a8"
             ],
             [
              0.3333333333333333,
              "#9c179e"
             ],
             [
              0.4444444444444444,
              "#bd3786"
             ],
             [
              0.5555555555555556,
              "#d8576b"
             ],
             [
              0.6666666666666666,
              "#ed7953"
             ],
             [
              0.7777777777777778,
              "#fb9f3a"
             ],
             [
              0.8888888888888888,
              "#fdca26"
             ],
             [
              1,
              "#f0f921"
             ]
            ],
            "type": "surface"
           }
          ],
          "table": [
           {
            "cells": {
             "fill": {
              "color": "#EBF0F8"
             },
             "line": {
              "color": "white"
             }
            },
            "header": {
             "fill": {
              "color": "#C8D4E3"
             },
             "line": {
              "color": "white"
             }
            },
            "type": "table"
           }
          ]
         },
         "layout": {
          "annotationdefaults": {
           "arrowcolor": "#2a3f5f",
           "arrowhead": 0,
           "arrowwidth": 1
          },
          "autotypenumbers": "strict",
          "coloraxis": {
           "colorbar": {
            "outlinewidth": 0,
            "ticks": ""
           }
          },
          "colorscale": {
           "diverging": [
            [
             0,
             "#8e0152"
            ],
            [
             0.1,
             "#c51b7d"
            ],
            [
             0.2,
             "#de77ae"
            ],
            [
             0.3,
             "#f1b6da"
            ],
            [
             0.4,
             "#fde0ef"
            ],
            [
             0.5,
             "#f7f7f7"
            ],
            [
             0.6,
             "#e6f5d0"
            ],
            [
             0.7,
             "#b8e186"
            ],
            [
             0.8,
             "#7fbc41"
            ],
            [
             0.9,
             "#4d9221"
            ],
            [
             1,
             "#276419"
            ]
           ],
           "sequential": [
            [
             0,
             "#0d0887"
            ],
            [
             0.1111111111111111,
             "#46039f"
            ],
            [
             0.2222222222222222,
             "#7201a8"
            ],
            [
             0.3333333333333333,
             "#9c179e"
            ],
            [
             0.4444444444444444,
             "#bd3786"
            ],
            [
             0.5555555555555556,
             "#d8576b"
            ],
            [
             0.6666666666666666,
             "#ed7953"
            ],
            [
             0.7777777777777778,
             "#fb9f3a"
            ],
            [
             0.8888888888888888,
             "#fdca26"
            ],
            [
             1,
             "#f0f921"
            ]
           ],
           "sequentialminus": [
            [
             0,
             "#0d0887"
            ],
            [
             0.1111111111111111,
             "#46039f"
            ],
            [
             0.2222222222222222,
             "#7201a8"
            ],
            [
             0.3333333333333333,
             "#9c179e"
            ],
            [
             0.4444444444444444,
             "#bd3786"
            ],
            [
             0.5555555555555556,
             "#d8576b"
            ],
            [
             0.6666666666666666,
             "#ed7953"
            ],
            [
             0.7777777777777778,
             "#fb9f3a"
            ],
            [
             0.8888888888888888,
             "#fdca26"
            ],
            [
             1,
             "#f0f921"
            ]
           ]
          },
          "colorway": [
           "#636efa",
           "#EF553B",
           "#00cc96",
           "#ab63fa",
           "#FFA15A",
           "#19d3f3",
           "#FF6692",
           "#B6E880",
           "#FF97FF",
           "#FECB52"
          ],
          "font": {
           "color": "#2a3f5f"
          },
          "geo": {
           "bgcolor": "white",
           "lakecolor": "white",
           "landcolor": "#E5ECF6",
           "showlakes": true,
           "showland": true,
           "subunitcolor": "white"
          },
          "hoverlabel": {
           "align": "left"
          },
          "hovermode": "closest",
          "mapbox": {
           "style": "light"
          },
          "paper_bgcolor": "white",
          "plot_bgcolor": "#E5ECF6",
          "polar": {
           "angularaxis": {
            "gridcolor": "white",
            "linecolor": "white",
            "ticks": ""
           },
           "bgcolor": "#E5ECF6",
           "radialaxis": {
            "gridcolor": "white",
            "linecolor": "white",
            "ticks": ""
           }
          },
          "scene": {
           "xaxis": {
            "backgroundcolor": "#E5ECF6",
            "gridcolor": "white",
            "gridwidth": 2,
            "linecolor": "white",
            "showbackground": true,
            "ticks": "",
            "zerolinecolor": "white"
           },
           "yaxis": {
            "backgroundcolor": "#E5ECF6",
            "gridcolor": "white",
            "gridwidth": 2,
            "linecolor": "white",
            "showbackground": true,
            "ticks": "",
            "zerolinecolor": "white"
           },
           "zaxis": {
            "backgroundcolor": "#E5ECF6",
            "gridcolor": "white",
            "gridwidth": 2,
            "linecolor": "white",
            "showbackground": true,
            "ticks": "",
            "zerolinecolor": "white"
           }
          },
          "shapedefaults": {
           "line": {
            "color": "#2a3f5f"
           }
          },
          "ternary": {
           "aaxis": {
            "gridcolor": "white",
            "linecolor": "white",
            "ticks": ""
           },
           "baxis": {
            "gridcolor": "white",
            "linecolor": "white",
            "ticks": ""
           },
           "bgcolor": "#E5ECF6",
           "caxis": {
            "gridcolor": "white",
            "linecolor": "white",
            "ticks": ""
           }
          },
          "title": {
           "x": 0.05
          },
          "xaxis": {
           "automargin": true,
           "gridcolor": "white",
           "linecolor": "white",
           "ticks": "",
           "title": {
            "standoff": 15
           },
           "zerolinecolor": "white",
           "zerolinewidth": 2
          },
          "yaxis": {
           "automargin": true,
           "gridcolor": "white",
           "linecolor": "white",
           "ticks": "",
           "title": {
            "standoff": 15
           },
           "zerolinecolor": "white",
           "zerolinewidth": 2
          }
         }
        },
        "title": {
         "text": "Gradient Boosting Machine Feature Importance"
        },
        "xaxis": {
         "showgrid": false,
         "showline": false,
         "ticklen": 5,
         "zeroline": false
        },
        "yaxis": {
         "gridwidth": 2,
         "showgrid": false,
         "ticklen": 5,
         "title": {
          "text": "Feature Importance"
         },
         "zeroline": false
        }
       }
      },
      "text/html": [
       "<div>                            <div id=\"918b464d-a518-4bd3-89dd-4fa293a8a06c\" class=\"plotly-graph-div\" style=\"height:525px; width:100%;\"></div>            <script type=\"text/javascript\">                require([\"plotly\"], function(Plotly) {                    window.PLOTLYENV=window.PLOTLYENV || {};                                    if (document.getElementById(\"918b464d-a518-4bd3-89dd-4fa293a8a06c\")) {                    Plotly.newPlot(                        \"918b464d-a518-4bd3-89dd-4fa293a8a06c\",                        [{\"marker\":{\"color\":[0.018942799189970955,0.01149263088990036,0.08412006019644244,0.028183264407555263,0.10950125606195099,0.030900863764462636,0.04377810614289607,0.009773282285043598,0.0037264924582162432,0.0,0.0003235177277045489,0.0004158197093672128,0.0,0.0019647053728023152,0.03467434439007504,0.014794297800161123,0.09752492931016607,0.0014496142448763142,0.01543754116748563,0.024372416487005284,0.08109077353453951,0.026540310992013864,0.008584258166764266,0.04030089230958734,0.04179531303640348,0.0008965365535275902,0.006565322421680692,0.06202171413603533,0.001270823436778823,0.004174057835055185,0.0,0.004576751074028133,0.005278045277058135,0.012609145090832337,0.13478741361671628,0.009483929671759822,0.015374201560426012,0.00028604840118043247,0.00044605935176172766,0.0007148195496434932,0.0001653761151126856,0.0017603955775375118,0.0017492380387401905,0.0015385042872263317,0.0007187894334273088,0.00016165347845581427,0.0007278950114923029,0.0011498608494837658,0.0014995491166218556,0.0006197188695039054,0.00019130097873263984,0.00016203483185362635,0.00035235773060158154,0.0,0.0007963520664256195,0.0002346159929103915,0.0],\"colorscale\":[[0.0,\"rgb(12,51,131)\"],[0.25,\"rgb(10,136,186)\"],[0.5,\"rgb(242,211,56)\"],[0.75,\"rgb(242,143,56)\"],[1.0,\"rgb(217,30,30)\"]],\"showscale\":true,\"size\":13,\"sizemode\":\"diameter\",\"sizeref\":1},\"mode\":\"markers\",\"text\":[\"ps_ind_01\",\"ps_ind_02_cat\",\"ps_ind_03\",\"ps_ind_04_cat\",\"ps_ind_05_cat\",\"ps_ind_06_bin\",\"ps_ind_07_bin\",\"ps_ind_08_bin\",\"ps_ind_09_bin\",\"ps_ind_10_bin\",\"ps_ind_11_bin\",\"ps_ind_12_bin\",\"ps_ind_13_bin\",\"ps_ind_14\",\"ps_ind_15\",\"ps_ind_16_bin\",\"ps_ind_17_bin\",\"ps_ind_18_bin\",\"ps_reg_01\",\"ps_reg_02\",\"ps_reg_03\",\"ps_car_01_cat\",\"ps_car_02_cat\",\"ps_car_03_cat\",\"ps_car_04_cat\",\"ps_car_05_cat\",\"ps_car_06_cat\",\"ps_car_07_cat\",\"ps_car_08_cat\",\"ps_car_09_cat\",\"ps_car_10_cat\",\"ps_car_11_cat\",\"ps_car_11\",\"ps_car_12\",\"ps_car_13\",\"ps_car_14\",\"ps_car_15\",\"ps_calc_01\",\"ps_calc_02\",\"ps_calc_03\",\"ps_calc_04\",\"ps_calc_05\",\"ps_calc_06\",\"ps_calc_07\",\"ps_calc_08\",\"ps_calc_09\",\"ps_calc_10\",\"ps_calc_11\",\"ps_calc_12\",\"ps_calc_13\",\"ps_calc_14\",\"ps_calc_15_bin\",\"ps_calc_16_bin\",\"ps_calc_17_bin\",\"ps_calc_18_bin\",\"ps_calc_19_bin\",\"ps_calc_20_bin\"],\"x\":[\"ps_ind_01\",\"ps_ind_02_cat\",\"ps_ind_03\",\"ps_ind_04_cat\",\"ps_ind_05_cat\",\"ps_ind_06_bin\",\"ps_ind_07_bin\",\"ps_ind_08_bin\",\"ps_ind_09_bin\",\"ps_ind_10_bin\",\"ps_ind_11_bin\",\"ps_ind_12_bin\",\"ps_ind_13_bin\",\"ps_ind_14\",\"ps_ind_15\",\"ps_ind_16_bin\",\"ps_ind_17_bin\",\"ps_ind_18_bin\",\"ps_reg_01\",\"ps_reg_02\",\"ps_reg_03\",\"ps_car_01_cat\",\"ps_car_02_cat\",\"ps_car_03_cat\",\"ps_car_04_cat\",\"ps_car_05_cat\",\"ps_car_06_cat\",\"ps_car_07_cat\",\"ps_car_08_cat\",\"ps_car_09_cat\",\"ps_car_10_cat\",\"ps_car_11_cat\",\"ps_car_11\",\"ps_car_12\",\"ps_car_13\",\"ps_car_14\",\"ps_car_15\",\"ps_calc_01\",\"ps_calc_02\",\"ps_calc_03\",\"ps_calc_04\",\"ps_calc_05\",\"ps_calc_06\",\"ps_calc_07\",\"ps_calc_08\",\"ps_calc_09\",\"ps_calc_10\",\"ps_calc_11\",\"ps_calc_12\",\"ps_calc_13\",\"ps_calc_14\",\"ps_calc_15_bin\",\"ps_calc_16_bin\",\"ps_calc_17_bin\",\"ps_calc_18_bin\",\"ps_calc_19_bin\",\"ps_calc_20_bin\"],\"y\":[0.018942799189970955,0.01149263088990036,0.08412006019644244,0.028183264407555263,0.10950125606195099,0.030900863764462636,0.04377810614289607,0.009773282285043598,0.0037264924582162432,0.0,0.0003235177277045489,0.0004158197093672128,0.0,0.0019647053728023152,0.03467434439007504,0.014794297800161123,0.09752492931016607,0.0014496142448763142,0.01543754116748563,0.024372416487005284,0.08109077353453951,0.026540310992013864,0.008584258166764266,0.04030089230958734,0.04179531303640348,0.0008965365535275902,0.006565322421680692,0.06202171413603533,0.001270823436778823,0.004174057835055185,0.0,0.004576751074028133,0.005278045277058135,0.012609145090832337,0.13478741361671628,0.009483929671759822,0.015374201560426012,0.00028604840118043247,0.00044605935176172766,0.0007148195496434932,0.0001653761151126856,0.0017603955775375118,0.0017492380387401905,0.0015385042872263317,0.0007187894334273088,0.00016165347845581427,0.0007278950114923029,0.0011498608494837658,0.0014995491166218556,0.0006197188695039054,0.00019130097873263984,0.00016203483185362635,0.00035235773060158154,0.0,0.0007963520664256195,0.0002346159929103915,0.0],\"type\":\"scatter\"}],                        {\"autosize\":true,\"hovermode\":\"closest\",\"showlegend\":false,\"template\":{\"data\":{\"barpolar\":[{\"marker\":{\"line\":{\"color\":\"#E5ECF6\",\"width\":0.5},\"pattern\":{\"fillmode\":\"overlay\",\"size\":10,\"solidity\":0.2}},\"type\":\"barpolar\"}],\"bar\":[{\"error_x\":{\"color\":\"#2a3f5f\"},\"error_y\":{\"color\":\"#2a3f5f\"},\"marker\":{\"line\":{\"color\":\"#E5ECF6\",\"width\":0.5},\"pattern\":{\"fillmode\":\"overlay\",\"size\":10,\"solidity\":0.2}},\"type\":\"bar\"}],\"carpet\":[{\"aaxis\":{\"endlinecolor\":\"#2a3f5f\",\"gridcolor\":\"white\",\"linecolor\":\"white\",\"minorgridcolor\":\"white\",\"startlinecolor\":\"#2a3f5f\"},\"baxis\":{\"endlinecolor\":\"#2a3f5f\",\"gridcolor\":\"white\",\"linecolor\":\"white\",\"minorgridcolor\":\"white\",\"startlinecolor\":\"#2a3f5f\"},\"type\":\"carpet\"}],\"choropleth\":[{\"colorbar\":{\"outlinewidth\":0,\"ticks\":\"\"},\"type\":\"choropleth\"}],\"contourcarpet\":[{\"colorbar\":{\"outlinewidth\":0,\"ticks\":\"\"},\"type\":\"contourcarpet\"}],\"contour\":[{\"colorbar\":{\"outlinewidth\":0,\"ticks\":\"\"},\"colorscale\":[[0.0,\"#0d0887\"],[0.1111111111111111,\"#46039f\"],[0.2222222222222222,\"#7201a8\"],[0.3333333333333333,\"#9c179e\"],[0.4444444444444444,\"#bd3786\"],[0.5555555555555556,\"#d8576b\"],[0.6666666666666666,\"#ed7953\"],[0.7777777777777778,\"#fb9f3a\"],[0.8888888888888888,\"#fdca26\"],[1.0,\"#f0f921\"]],\"type\":\"contour\"}],\"heatmapgl\":[{\"colorbar\":{\"outlinewidth\":0,\"ticks\":\"\"},\"colorscale\":[[0.0,\"#0d0887\"],[0.1111111111111111,\"#46039f\"],[0.2222222222222222,\"#7201a8\"],[0.3333333333333333,\"#9c179e\"],[0.4444444444444444,\"#bd3786\"],[0.5555555555555556,\"#d8576b\"],[0.6666666666666666,\"#ed7953\"],[0.7777777777777778,\"#fb9f3a\"],[0.8888888888888888,\"#fdca26\"],[1.0,\"#f0f921\"]],\"type\":\"heatmapgl\"}],\"heatmap\":[{\"colorbar\":{\"outlinewidth\":0,\"ticks\":\"\"},\"colorscale\":[[0.0,\"#0d0887\"],[0.1111111111111111,\"#46039f\"],[0.2222222222222222,\"#7201a8\"],[0.3333333333333333,\"#9c179e\"],[0.4444444444444444,\"#bd3786\"],[0.5555555555555556,\"#d8576b\"],[0.6666666666666666,\"#ed7953\"],[0.7777777777777778,\"#fb9f3a\"],[0.8888888888888888,\"#fdca26\"],[1.0,\"#f0f921\"]],\"type\":\"heatmap\"}],\"histogram2dcontour\":[{\"colorbar\":{\"outlinewidth\":0,\"ticks\":\"\"},\"colorscale\":[[0.0,\"#0d0887\"],[0.1111111111111111,\"#46039f\"],[0.2222222222222222,\"#7201a8\"],[0.3333333333333333,\"#9c179e\"],[0.4444444444444444,\"#bd3786\"],[0.5555555555555556,\"#d8576b\"],[0.6666666666666666,\"#ed7953\"],[0.7777777777777778,\"#fb9f3a\"],[0.8888888888888888,\"#fdca26\"],[1.0,\"#f0f921\"]],\"type\":\"histogram2dcontour\"}],\"histogram2d\":[{\"colorbar\":{\"outlinewidth\":0,\"ticks\":\"\"},\"colorscale\":[[0.0,\"#0d0887\"],[0.1111111111111111,\"#46039f\"],[0.2222222222222222,\"#7201a8\"],[0.3333333333333333,\"#9c179e\"],[0.4444444444444444,\"#bd3786\"],[0.5555555555555556,\"#d8576b\"],[0.6666666666666666,\"#ed7953\"],[0.7777777777777778,\"#fb9f3a\"],[0.8888888888888888,\"#fdca26\"],[1.0,\"#f0f921\"]],\"type\":\"histogram2d\"}],\"histogram\":[{\"marker\":{\"pattern\":{\"fillmode\":\"overlay\",\"size\":10,\"solidity\":0.2}},\"type\":\"histogram\"}],\"mesh3d\":[{\"colorbar\":{\"outlinewidth\":0,\"ticks\":\"\"},\"type\":\"mesh3d\"}],\"parcoords\":[{\"line\":{\"colorbar\":{\"outlinewidth\":0,\"ticks\":\"\"}},\"type\":\"parcoords\"}],\"pie\":[{\"automargin\":true,\"type\":\"pie\"}],\"scatter3d\":[{\"line\":{\"colorbar\":{\"outlinewidth\":0,\"ticks\":\"\"}},\"marker\":{\"colorbar\":{\"outlinewidth\":0,\"ticks\":\"\"}},\"type\":\"scatter3d\"}],\"scattercarpet\":[{\"marker\":{\"colorbar\":{\"outlinewidth\":0,\"ticks\":\"\"}},\"type\":\"scattercarpet\"}],\"scattergeo\":[{\"marker\":{\"colorbar\":{\"outlinewidth\":0,\"ticks\":\"\"}},\"type\":\"scattergeo\"}],\"scattergl\":[{\"marker\":{\"colorbar\":{\"outlinewidth\":0,\"ticks\":\"\"}},\"type\":\"scattergl\"}],\"scattermapbox\":[{\"marker\":{\"colorbar\":{\"outlinewidth\":0,\"ticks\":\"\"}},\"type\":\"scattermapbox\"}],\"scatterpolargl\":[{\"marker\":{\"colorbar\":{\"outlinewidth\":0,\"ticks\":\"\"}},\"type\":\"scatterpolargl\"}],\"scatterpolar\":[{\"marker\":{\"colorbar\":{\"outlinewidth\":0,\"ticks\":\"\"}},\"type\":\"scatterpolar\"}],\"scatter\":[{\"fillpattern\":{\"fillmode\":\"overlay\",\"size\":10,\"solidity\":0.2},\"type\":\"scatter\"}],\"scatterternary\":[{\"marker\":{\"colorbar\":{\"outlinewidth\":0,\"ticks\":\"\"}},\"type\":\"scatterternary\"}],\"surface\":[{\"colorbar\":{\"outlinewidth\":0,\"ticks\":\"\"},\"colorscale\":[[0.0,\"#0d0887\"],[0.1111111111111111,\"#46039f\"],[0.2222222222222222,\"#7201a8\"],[0.3333333333333333,\"#9c179e\"],[0.4444444444444444,\"#bd3786\"],[0.5555555555555556,\"#d8576b\"],[0.6666666666666666,\"#ed7953\"],[0.7777777777777778,\"#fb9f3a\"],[0.8888888888888888,\"#fdca26\"],[1.0,\"#f0f921\"]],\"type\":\"surface\"}],\"table\":[{\"cells\":{\"fill\":{\"color\":\"#EBF0F8\"},\"line\":{\"color\":\"white\"}},\"header\":{\"fill\":{\"color\":\"#C8D4E3\"},\"line\":{\"color\":\"white\"}},\"type\":\"table\"}]},\"layout\":{\"annotationdefaults\":{\"arrowcolor\":\"#2a3f5f\",\"arrowhead\":0,\"arrowwidth\":1},\"autotypenumbers\":\"strict\",\"coloraxis\":{\"colorbar\":{\"outlinewidth\":0,\"ticks\":\"\"}},\"colorscale\":{\"diverging\":[[0,\"#8e0152\"],[0.1,\"#c51b7d\"],[0.2,\"#de77ae\"],[0.3,\"#f1b6da\"],[0.4,\"#fde0ef\"],[0.5,\"#f7f7f7\"],[0.6,\"#e6f5d0\"],[0.7,\"#b8e186\"],[0.8,\"#7fbc41\"],[0.9,\"#4d9221\"],[1,\"#276419\"]],\"sequential\":[[0.0,\"#0d0887\"],[0.1111111111111111,\"#46039f\"],[0.2222222222222222,\"#7201a8\"],[0.3333333333333333,\"#9c179e\"],[0.4444444444444444,\"#bd3786\"],[0.5555555555555556,\"#d8576b\"],[0.6666666666666666,\"#ed7953\"],[0.7777777777777778,\"#fb9f3a\"],[0.8888888888888888,\"#fdca26\"],[1.0,\"#f0f921\"]],\"sequentialminus\":[[0.0,\"#0d0887\"],[0.1111111111111111,\"#46039f\"],[0.2222222222222222,\"#7201a8\"],[0.3333333333333333,\"#9c179e\"],[0.4444444444444444,\"#bd3786\"],[0.5555555555555556,\"#d8576b\"],[0.6666666666666666,\"#ed7953\"],[0.7777777777777778,\"#fb9f3a\"],[0.8888888888888888,\"#fdca26\"],[1.0,\"#f0f921\"]]},\"colorway\":[\"#636efa\",\"#EF553B\",\"#00cc96\",\"#ab63fa\",\"#FFA15A\",\"#19d3f3\",\"#FF6692\",\"#B6E880\",\"#FF97FF\",\"#FECB52\"],\"font\":{\"color\":\"#2a3f5f\"},\"geo\":{\"bgcolor\":\"white\",\"lakecolor\":\"white\",\"landcolor\":\"#E5ECF6\",\"showlakes\":true,\"showland\":true,\"subunitcolor\":\"white\"},\"hoverlabel\":{\"align\":\"left\"},\"hovermode\":\"closest\",\"mapbox\":{\"style\":\"light\"},\"paper_bgcolor\":\"white\",\"plot_bgcolor\":\"#E5ECF6\",\"polar\":{\"angularaxis\":{\"gridcolor\":\"white\",\"linecolor\":\"white\",\"ticks\":\"\"},\"bgcolor\":\"#E5ECF6\",\"radialaxis\":{\"gridcolor\":\"white\",\"linecolor\":\"white\",\"ticks\":\"\"}},\"scene\":{\"xaxis\":{\"backgroundcolor\":\"#E5ECF6\",\"gridcolor\":\"white\",\"gridwidth\":2,\"linecolor\":\"white\",\"showbackground\":true,\"ticks\":\"\",\"zerolinecolor\":\"white\"},\"yaxis\":{\"backgroundcolor\":\"#E5ECF6\",\"gridcolor\":\"white\",\"gridwidth\":2,\"linecolor\":\"white\",\"showbackground\":true,\"ticks\":\"\",\"zerolinecolor\":\"white\"},\"zaxis\":{\"backgroundcolor\":\"#E5ECF6\",\"gridcolor\":\"white\",\"gridwidth\":2,\"linecolor\":\"white\",\"showbackground\":true,\"ticks\":\"\",\"zerolinecolor\":\"white\"}},\"shapedefaults\":{\"line\":{\"color\":\"#2a3f5f\"}},\"ternary\":{\"aaxis\":{\"gridcolor\":\"white\",\"linecolor\":\"white\",\"ticks\":\"\"},\"baxis\":{\"gridcolor\":\"white\",\"linecolor\":\"white\",\"ticks\":\"\"},\"bgcolor\":\"#E5ECF6\",\"caxis\":{\"gridcolor\":\"white\",\"linecolor\":\"white\",\"ticks\":\"\"}},\"title\":{\"x\":0.05},\"xaxis\":{\"automargin\":true,\"gridcolor\":\"white\",\"linecolor\":\"white\",\"ticks\":\"\",\"title\":{\"standoff\":15},\"zerolinecolor\":\"white\",\"zerolinewidth\":2},\"yaxis\":{\"automargin\":true,\"gridcolor\":\"white\",\"linecolor\":\"white\",\"ticks\":\"\",\"title\":{\"standoff\":15},\"zerolinecolor\":\"white\",\"zerolinewidth\":2}}},\"title\":{\"text\":\"Gradient Boosting Machine Feature Importance\"},\"xaxis\":{\"showgrid\":false,\"showline\":false,\"ticklen\":5,\"zeroline\":false},\"yaxis\":{\"gridwidth\":2,\"showgrid\":false,\"ticklen\":5,\"title\":{\"text\":\"Feature Importance\"},\"zeroline\":false}},                        {\"responsive\": true}                    ).then(function(){\n",
       "                            \n",
       "var gd = document.getElementById('918b464d-a518-4bd3-89dd-4fa293a8a06c');\n",
       "var x = new MutationObserver(function (mutations, observer) {{\n",
       "        var display = window.getComputedStyle(gd).display;\n",
       "        if (!display || display === 'none') {{\n",
       "            console.log([gd, 'removed!']);\n",
       "            Plotly.purge(gd);\n",
       "            observer.disconnect();\n",
       "        }}\n",
       "}});\n",
       "\n",
       "// Listen for the removal of the full notebook cells\n",
       "var notebookContainer = gd.closest('#notebook-container');\n",
       "if (notebookContainer) {{\n",
       "    x.observe(notebookContainer, {childList: true});\n",
       "}}\n",
       "\n",
       "// Listen for the clearing of the current output cell\n",
       "var outputEl = gd.closest('.output');\n",
       "if (outputEl) {{\n",
       "    x.observe(outputEl, {childList: true});\n",
       "}}\n",
       "\n",
       "                        })                };                });            </script>        </div>"
      ]
     },
     "metadata": {},
     "output_type": "display_data"
    }
   ],
   "source": [
    "# Scatter plot \n",
    "trace = go.Scatter(\n",
    "    y = gb.feature_importances_,\n",
    "    x = features,\n",
    "    mode='markers',\n",
    "    marker=dict(\n",
    "        sizemode = 'diameter',\n",
    "        sizeref = 1,\n",
    "        size = 13,\n",
    "        #size= rf.feature_importances_,\n",
    "        #color = np.random.randn(500), #set color equal to a variable\n",
    "        color = gb.feature_importances_,\n",
    "        colorscale='Portland',\n",
    "        showscale=True\n",
    "    ),\n",
    "    text = features\n",
    ")\n",
    "data = [trace]\n",
    "\n",
    "layout= go.Layout(\n",
    "    autosize= True,\n",
    "    title= 'Gradient Boosting Machine Feature Importance',\n",
    "    hovermode= 'closest',\n",
    "     xaxis= dict(\n",
    "         ticklen= 5,\n",
    "         showgrid=False,\n",
    "        zeroline=False,\n",
    "        showline=False\n",
    "     ),\n",
    "    yaxis=dict(\n",
    "        title= 'Feature Importance',\n",
    "        showgrid=False,\n",
    "        zeroline=False,\n",
    "        ticklen= 5,\n",
    "        gridwidth= 2\n",
    "    ),\n",
    "    showlegend= False\n",
    ")\n",
    "fig = go.Figure(data=data, layout=layout)\n",
    "py.iplot(fig,filename='scatter2010')"
   ]
  },
  {
   "cell_type": "code",
   "execution_count": 25,
   "id": "0cdbda90",
   "metadata": {
    "scrolled": false
   },
   "outputs": [
    {
     "data": {
      "application/vnd.plotly.v1+json": {
       "config": {
        "linkText": "Export to plot.ly",
        "plotlyServerURL": "https://plot.ly",
        "showLink": false
       },
       "data": [
        {
         "marker": {
          "color": [
           0,
           0,
           0,
           0,
           0,
           0.00016165347845581427,
           0.00016203483185362635,
           0.0001653761151126856,
           0.00019130097873263984,
           0.0002346159929103915,
           0.00028604840118043247,
           0.0003235177277045489,
           0.00035235773060158154,
           0.0004158197093672128,
           0.00044605935176172766,
           0.0006197188695039054,
           0.0007148195496434932,
           0.0007187894334273088,
           0.0007278950114923029,
           0.0007963520664256195,
           0.0008965365535275902,
           0.0011498608494837658,
           0.001270823436778823,
           0.0014496142448763142,
           0.0014995491166218556,
           0.0015385042872263317,
           0.0017492380387401905,
           0.0017603955775375118,
           0.0019647053728023152,
           0.0037264924582162432,
           0.004174057835055185,
           0.004576751074028133,
           0.005278045277058135,
           0.006565322421680692,
           0.008584258166764266,
           0.009483929671759822,
           0.009773282285043598,
           0.01149263088990036,
           0.012609145090832337,
           0.014794297800161123,
           0.015374201560426012,
           0.01543754116748563,
           0.018942799189970955,
           0.024372416487005284,
           0.026540310992013864,
           0.028183264407555263,
           0.030900863764462636,
           0.03467434439007504,
           0.04030089230958734,
           0.04179531303640348,
           0.04377810614289607,
           0.06202171413603533,
           0.08109077353453951,
           0.08412006019644244,
           0.09752492931016607,
           0.10950125606195099,
           0.13478741361671628
          ],
          "colorscale": [
           [
            0,
            "#440154"
           ],
           [
            0.1111111111111111,
            "#482878"
           ],
           [
            0.2222222222222222,
            "#3e4989"
           ],
           [
            0.3333333333333333,
            "#31688e"
           ],
           [
            0.4444444444444444,
            "#26828e"
           ],
           [
            0.5555555555555556,
            "#1f9e89"
           ],
           [
            0.6666666666666666,
            "#35b779"
           ],
           [
            0.7777777777777778,
            "#6ece58"
           ],
           [
            0.8888888888888888,
            "#b5de2b"
           ],
           [
            1,
            "#fde725"
           ]
          ],
          "reversescale": true
         },
         "name": "Gradient Boosting Classifer Feature importance",
         "orientation": "h",
         "type": "bar",
         "x": [
          0,
          0,
          0,
          0,
          0,
          0.00016165347845581427,
          0.00016203483185362635,
          0.0001653761151126856,
          0.00019130097873263984,
          0.0002346159929103915,
          0.00028604840118043247,
          0.0003235177277045489,
          0.00035235773060158154,
          0.0004158197093672128,
          0.00044605935176172766,
          0.0006197188695039054,
          0.0007148195496434932,
          0.0007187894334273088,
          0.0007278950114923029,
          0.0007963520664256195,
          0.0008965365535275902,
          0.0011498608494837658,
          0.001270823436778823,
          0.0014496142448763142,
          0.0014995491166218556,
          0.0015385042872263317,
          0.0017492380387401905,
          0.0017603955775375118,
          0.0019647053728023152,
          0.0037264924582162432,
          0.004174057835055185,
          0.004576751074028133,
          0.005278045277058135,
          0.006565322421680692,
          0.008584258166764266,
          0.009483929671759822,
          0.009773282285043598,
          0.01149263088990036,
          0.012609145090832337,
          0.014794297800161123,
          0.015374201560426012,
          0.01543754116748563,
          0.018942799189970955,
          0.024372416487005284,
          0.026540310992013864,
          0.028183264407555263,
          0.030900863764462636,
          0.03467434439007504,
          0.04030089230958734,
          0.04179531303640348,
          0.04377810614289607,
          0.06202171413603533,
          0.08109077353453951,
          0.08412006019644244,
          0.09752492931016607,
          0.10950125606195099,
          0.13478741361671628
         ],
         "y": [
          "ps_calc_17_bin",
          "ps_calc_20_bin",
          "ps_car_10_cat",
          "ps_ind_10_bin",
          "ps_ind_13_bin",
          "ps_calc_09",
          "ps_calc_15_bin",
          "ps_calc_04",
          "ps_calc_14",
          "ps_calc_19_bin",
          "ps_calc_01",
          "ps_ind_11_bin",
          "ps_calc_16_bin",
          "ps_ind_12_bin",
          "ps_calc_02",
          "ps_calc_13",
          "ps_calc_03",
          "ps_calc_08",
          "ps_calc_10",
          "ps_calc_18_bin",
          "ps_car_05_cat",
          "ps_calc_11",
          "ps_car_08_cat",
          "ps_ind_18_bin",
          "ps_calc_12",
          "ps_calc_07",
          "ps_calc_06",
          "ps_calc_05",
          "ps_ind_14",
          "ps_ind_09_bin",
          "ps_car_09_cat",
          "ps_car_11_cat",
          "ps_car_11",
          "ps_car_06_cat",
          "ps_car_02_cat",
          "ps_car_14",
          "ps_ind_08_bin",
          "ps_ind_02_cat",
          "ps_car_12",
          "ps_ind_16_bin",
          "ps_car_15",
          "ps_reg_01",
          "ps_ind_01",
          "ps_reg_02",
          "ps_car_01_cat",
          "ps_ind_04_cat",
          "ps_ind_06_bin",
          "ps_ind_15",
          "ps_car_03_cat",
          "ps_car_04_cat",
          "ps_ind_07_bin",
          "ps_car_07_cat",
          "ps_reg_03",
          "ps_ind_03",
          "ps_ind_17_bin",
          "ps_ind_05_cat",
          "ps_car_13"
         ]
        }
       ],
       "layout": {
        "height": 2000,
        "template": {
         "data": {
          "bar": [
           {
            "error_x": {
             "color": "#2a3f5f"
            },
            "error_y": {
             "color": "#2a3f5f"
            },
            "marker": {
             "line": {
              "color": "#E5ECF6",
              "width": 0.5
             },
             "pattern": {
              "fillmode": "overlay",
              "size": 10,
              "solidity": 0.2
             }
            },
            "type": "bar"
           }
          ],
          "barpolar": [
           {
            "marker": {
             "line": {
              "color": "#E5ECF6",
              "width": 0.5
             },
             "pattern": {
              "fillmode": "overlay",
              "size": 10,
              "solidity": 0.2
             }
            },
            "type": "barpolar"
           }
          ],
          "carpet": [
           {
            "aaxis": {
             "endlinecolor": "#2a3f5f",
             "gridcolor": "white",
             "linecolor": "white",
             "minorgridcolor": "white",
             "startlinecolor": "#2a3f5f"
            },
            "baxis": {
             "endlinecolor": "#2a3f5f",
             "gridcolor": "white",
             "linecolor": "white",
             "minorgridcolor": "white",
             "startlinecolor": "#2a3f5f"
            },
            "type": "carpet"
           }
          ],
          "choropleth": [
           {
            "colorbar": {
             "outlinewidth": 0,
             "ticks": ""
            },
            "type": "choropleth"
           }
          ],
          "contour": [
           {
            "colorbar": {
             "outlinewidth": 0,
             "ticks": ""
            },
            "colorscale": [
             [
              0,
              "#0d0887"
             ],
             [
              0.1111111111111111,
              "#46039f"
             ],
             [
              0.2222222222222222,
              "#7201a8"
             ],
             [
              0.3333333333333333,
              "#9c179e"
             ],
             [
              0.4444444444444444,
              "#bd3786"
             ],
             [
              0.5555555555555556,
              "#d8576b"
             ],
             [
              0.6666666666666666,
              "#ed7953"
             ],
             [
              0.7777777777777778,
              "#fb9f3a"
             ],
             [
              0.8888888888888888,
              "#fdca26"
             ],
             [
              1,
              "#f0f921"
             ]
            ],
            "type": "contour"
           }
          ],
          "contourcarpet": [
           {
            "colorbar": {
             "outlinewidth": 0,
             "ticks": ""
            },
            "type": "contourcarpet"
           }
          ],
          "heatmap": [
           {
            "colorbar": {
             "outlinewidth": 0,
             "ticks": ""
            },
            "colorscale": [
             [
              0,
              "#0d0887"
             ],
             [
              0.1111111111111111,
              "#46039f"
             ],
             [
              0.2222222222222222,
              "#7201a8"
             ],
             [
              0.3333333333333333,
              "#9c179e"
             ],
             [
              0.4444444444444444,
              "#bd3786"
             ],
             [
              0.5555555555555556,
              "#d8576b"
             ],
             [
              0.6666666666666666,
              "#ed7953"
             ],
             [
              0.7777777777777778,
              "#fb9f3a"
             ],
             [
              0.8888888888888888,
              "#fdca26"
             ],
             [
              1,
              "#f0f921"
             ]
            ],
            "type": "heatmap"
           }
          ],
          "heatmapgl": [
           {
            "colorbar": {
             "outlinewidth": 0,
             "ticks": ""
            },
            "colorscale": [
             [
              0,
              "#0d0887"
             ],
             [
              0.1111111111111111,
              "#46039f"
             ],
             [
              0.2222222222222222,
              "#7201a8"
             ],
             [
              0.3333333333333333,
              "#9c179e"
             ],
             [
              0.4444444444444444,
              "#bd3786"
             ],
             [
              0.5555555555555556,
              "#d8576b"
             ],
             [
              0.6666666666666666,
              "#ed7953"
             ],
             [
              0.7777777777777778,
              "#fb9f3a"
             ],
             [
              0.8888888888888888,
              "#fdca26"
             ],
             [
              1,
              "#f0f921"
             ]
            ],
            "type": "heatmapgl"
           }
          ],
          "histogram": [
           {
            "marker": {
             "pattern": {
              "fillmode": "overlay",
              "size": 10,
              "solidity": 0.2
             }
            },
            "type": "histogram"
           }
          ],
          "histogram2d": [
           {
            "colorbar": {
             "outlinewidth": 0,
             "ticks": ""
            },
            "colorscale": [
             [
              0,
              "#0d0887"
             ],
             [
              0.1111111111111111,
              "#46039f"
             ],
             [
              0.2222222222222222,
              "#7201a8"
             ],
             [
              0.3333333333333333,
              "#9c179e"
             ],
             [
              0.4444444444444444,
              "#bd3786"
             ],
             [
              0.5555555555555556,
              "#d8576b"
             ],
             [
              0.6666666666666666,
              "#ed7953"
             ],
             [
              0.7777777777777778,
              "#fb9f3a"
             ],
             [
              0.8888888888888888,
              "#fdca26"
             ],
             [
              1,
              "#f0f921"
             ]
            ],
            "type": "histogram2d"
           }
          ],
          "histogram2dcontour": [
           {
            "colorbar": {
             "outlinewidth": 0,
             "ticks": ""
            },
            "colorscale": [
             [
              0,
              "#0d0887"
             ],
             [
              0.1111111111111111,
              "#46039f"
             ],
             [
              0.2222222222222222,
              "#7201a8"
             ],
             [
              0.3333333333333333,
              "#9c179e"
             ],
             [
              0.4444444444444444,
              "#bd3786"
             ],
             [
              0.5555555555555556,
              "#d8576b"
             ],
             [
              0.6666666666666666,
              "#ed7953"
             ],
             [
              0.7777777777777778,
              "#fb9f3a"
             ],
             [
              0.8888888888888888,
              "#fdca26"
             ],
             [
              1,
              "#f0f921"
             ]
            ],
            "type": "histogram2dcontour"
           }
          ],
          "mesh3d": [
           {
            "colorbar": {
             "outlinewidth": 0,
             "ticks": ""
            },
            "type": "mesh3d"
           }
          ],
          "parcoords": [
           {
            "line": {
             "colorbar": {
              "outlinewidth": 0,
              "ticks": ""
             }
            },
            "type": "parcoords"
           }
          ],
          "pie": [
           {
            "automargin": true,
            "type": "pie"
           }
          ],
          "scatter": [
           {
            "fillpattern": {
             "fillmode": "overlay",
             "size": 10,
             "solidity": 0.2
            },
            "type": "scatter"
           }
          ],
          "scatter3d": [
           {
            "line": {
             "colorbar": {
              "outlinewidth": 0,
              "ticks": ""
             }
            },
            "marker": {
             "colorbar": {
              "outlinewidth": 0,
              "ticks": ""
             }
            },
            "type": "scatter3d"
           }
          ],
          "scattercarpet": [
           {
            "marker": {
             "colorbar": {
              "outlinewidth": 0,
              "ticks": ""
             }
            },
            "type": "scattercarpet"
           }
          ],
          "scattergeo": [
           {
            "marker": {
             "colorbar": {
              "outlinewidth": 0,
              "ticks": ""
             }
            },
            "type": "scattergeo"
           }
          ],
          "scattergl": [
           {
            "marker": {
             "colorbar": {
              "outlinewidth": 0,
              "ticks": ""
             }
            },
            "type": "scattergl"
           }
          ],
          "scattermapbox": [
           {
            "marker": {
             "colorbar": {
              "outlinewidth": 0,
              "ticks": ""
             }
            },
            "type": "scattermapbox"
           }
          ],
          "scatterpolar": [
           {
            "marker": {
             "colorbar": {
              "outlinewidth": 0,
              "ticks": ""
             }
            },
            "type": "scatterpolar"
           }
          ],
          "scatterpolargl": [
           {
            "marker": {
             "colorbar": {
              "outlinewidth": 0,
              "ticks": ""
             }
            },
            "type": "scatterpolargl"
           }
          ],
          "scatterternary": [
           {
            "marker": {
             "colorbar": {
              "outlinewidth": 0,
              "ticks": ""
             }
            },
            "type": "scatterternary"
           }
          ],
          "surface": [
           {
            "colorbar": {
             "outlinewidth": 0,
             "ticks": ""
            },
            "colorscale": [
             [
              0,
              "#0d0887"
             ],
             [
              0.1111111111111111,
              "#46039f"
             ],
             [
              0.2222222222222222,
              "#7201a8"
             ],
             [
              0.3333333333333333,
              "#9c179e"
             ],
             [
              0.4444444444444444,
              "#bd3786"
             ],
             [
              0.5555555555555556,
              "#d8576b"
             ],
             [
              0.6666666666666666,
              "#ed7953"
             ],
             [
              0.7777777777777778,
              "#fb9f3a"
             ],
             [
              0.8888888888888888,
              "#fdca26"
             ],
             [
              1,
              "#f0f921"
             ]
            ],
            "type": "surface"
           }
          ],
          "table": [
           {
            "cells": {
             "fill": {
              "color": "#EBF0F8"
             },
             "line": {
              "color": "white"
             }
            },
            "header": {
             "fill": {
              "color": "#C8D4E3"
             },
             "line": {
              "color": "white"
             }
            },
            "type": "table"
           }
          ]
         },
         "layout": {
          "annotationdefaults": {
           "arrowcolor": "#2a3f5f",
           "arrowhead": 0,
           "arrowwidth": 1
          },
          "autotypenumbers": "strict",
          "coloraxis": {
           "colorbar": {
            "outlinewidth": 0,
            "ticks": ""
           }
          },
          "colorscale": {
           "diverging": [
            [
             0,
             "#8e0152"
            ],
            [
             0.1,
             "#c51b7d"
            ],
            [
             0.2,
             "#de77ae"
            ],
            [
             0.3,
             "#f1b6da"
            ],
            [
             0.4,
             "#fde0ef"
            ],
            [
             0.5,
             "#f7f7f7"
            ],
            [
             0.6,
             "#e6f5d0"
            ],
            [
             0.7,
             "#b8e186"
            ],
            [
             0.8,
             "#7fbc41"
            ],
            [
             0.9,
             "#4d9221"
            ],
            [
             1,
             "#276419"
            ]
           ],
           "sequential": [
            [
             0,
             "#0d0887"
            ],
            [
             0.1111111111111111,
             "#46039f"
            ],
            [
             0.2222222222222222,
             "#7201a8"
            ],
            [
             0.3333333333333333,
             "#9c179e"
            ],
            [
             0.4444444444444444,
             "#bd3786"
            ],
            [
             0.5555555555555556,
             "#d8576b"
            ],
            [
             0.6666666666666666,
             "#ed7953"
            ],
            [
             0.7777777777777778,
             "#fb9f3a"
            ],
            [
             0.8888888888888888,
             "#fdca26"
            ],
            [
             1,
             "#f0f921"
            ]
           ],
           "sequentialminus": [
            [
             0,
             "#0d0887"
            ],
            [
             0.1111111111111111,
             "#46039f"
            ],
            [
             0.2222222222222222,
             "#7201a8"
            ],
            [
             0.3333333333333333,
             "#9c179e"
            ],
            [
             0.4444444444444444,
             "#bd3786"
            ],
            [
             0.5555555555555556,
             "#d8576b"
            ],
            [
             0.6666666666666666,
             "#ed7953"
            ],
            [
             0.7777777777777778,
             "#fb9f3a"
            ],
            [
             0.8888888888888888,
             "#fdca26"
            ],
            [
             1,
             "#f0f921"
            ]
           ]
          },
          "colorway": [
           "#636efa",
           "#EF553B",
           "#00cc96",
           "#ab63fa",
           "#FFA15A",
           "#19d3f3",
           "#FF6692",
           "#B6E880",
           "#FF97FF",
           "#FECB52"
          ],
          "font": {
           "color": "#2a3f5f"
          },
          "geo": {
           "bgcolor": "white",
           "lakecolor": "white",
           "landcolor": "#E5ECF6",
           "showlakes": true,
           "showland": true,
           "subunitcolor": "white"
          },
          "hoverlabel": {
           "align": "left"
          },
          "hovermode": "closest",
          "mapbox": {
           "style": "light"
          },
          "paper_bgcolor": "white",
          "plot_bgcolor": "#E5ECF6",
          "polar": {
           "angularaxis": {
            "gridcolor": "white",
            "linecolor": "white",
            "ticks": ""
           },
           "bgcolor": "#E5ECF6",
           "radialaxis": {
            "gridcolor": "white",
            "linecolor": "white",
            "ticks": ""
           }
          },
          "scene": {
           "xaxis": {
            "backgroundcolor": "#E5ECF6",
            "gridcolor": "white",
            "gridwidth": 2,
            "linecolor": "white",
            "showbackground": true,
            "ticks": "",
            "zerolinecolor": "white"
           },
           "yaxis": {
            "backgroundcolor": "#E5ECF6",
            "gridcolor": "white",
            "gridwidth": 2,
            "linecolor": "white",
            "showbackground": true,
            "ticks": "",
            "zerolinecolor": "white"
           },
           "zaxis": {
            "backgroundcolor": "#E5ECF6",
            "gridcolor": "white",
            "gridwidth": 2,
            "linecolor": "white",
            "showbackground": true,
            "ticks": "",
            "zerolinecolor": "white"
           }
          },
          "shapedefaults": {
           "line": {
            "color": "#2a3f5f"
           }
          },
          "ternary": {
           "aaxis": {
            "gridcolor": "white",
            "linecolor": "white",
            "ticks": ""
           },
           "baxis": {
            "gridcolor": "white",
            "linecolor": "white",
            "ticks": ""
           },
           "bgcolor": "#E5ECF6",
           "caxis": {
            "gridcolor": "white",
            "linecolor": "white",
            "ticks": ""
           }
          },
          "title": {
           "x": 0.05
          },
          "xaxis": {
           "automargin": true,
           "gridcolor": "white",
           "linecolor": "white",
           "ticks": "",
           "title": {
            "standoff": 15
           },
           "zerolinecolor": "white",
           "zerolinewidth": 2
          },
          "yaxis": {
           "automargin": true,
           "gridcolor": "white",
           "linecolor": "white",
           "ticks": "",
           "title": {
            "standoff": 15
           },
           "zerolinecolor": "white",
           "zerolinewidth": 2
          }
         }
        },
        "title": {
         "text": "Barplot of Feature importances"
        },
        "width": 900,
        "yaxis": {
         "showgrid": false,
         "showline": false,
         "showticklabels": true
        }
       }
      },
      "text/html": [
       "<div>                            <div id=\"8ad6bff2-7c42-48ad-9c32-0480cecde000\" class=\"plotly-graph-div\" style=\"height:2000px; width:900px;\"></div>            <script type=\"text/javascript\">                require([\"plotly\"], function(Plotly) {                    window.PLOTLYENV=window.PLOTLYENV || {};                                    if (document.getElementById(\"8ad6bff2-7c42-48ad-9c32-0480cecde000\")) {                    Plotly.newPlot(                        \"8ad6bff2-7c42-48ad-9c32-0480cecde000\",                        [{\"marker\":{\"color\":[0.0,0.0,0.0,0.0,0.0,0.00016165347845581427,0.00016203483185362635,0.0001653761151126856,0.00019130097873263984,0.0002346159929103915,0.00028604840118043247,0.0003235177277045489,0.00035235773060158154,0.0004158197093672128,0.00044605935176172766,0.0006197188695039054,0.0007148195496434932,0.0007187894334273088,0.0007278950114923029,0.0007963520664256195,0.0008965365535275902,0.0011498608494837658,0.001270823436778823,0.0014496142448763142,0.0014995491166218556,0.0015385042872263317,0.0017492380387401905,0.0017603955775375118,0.0019647053728023152,0.0037264924582162432,0.004174057835055185,0.004576751074028133,0.005278045277058135,0.006565322421680692,0.008584258166764266,0.009483929671759822,0.009773282285043598,0.01149263088990036,0.012609145090832337,0.014794297800161123,0.015374201560426012,0.01543754116748563,0.018942799189970955,0.024372416487005284,0.026540310992013864,0.028183264407555263,0.030900863764462636,0.03467434439007504,0.04030089230958734,0.04179531303640348,0.04377810614289607,0.06202171413603533,0.08109077353453951,0.08412006019644244,0.09752492931016607,0.10950125606195099,0.13478741361671628],\"colorscale\":[[0.0,\"#440154\"],[0.1111111111111111,\"#482878\"],[0.2222222222222222,\"#3e4989\"],[0.3333333333333333,\"#31688e\"],[0.4444444444444444,\"#26828e\"],[0.5555555555555556,\"#1f9e89\"],[0.6666666666666666,\"#35b779\"],[0.7777777777777778,\"#6ece58\"],[0.8888888888888888,\"#b5de2b\"],[1.0,\"#fde725\"]],\"reversescale\":true},\"name\":\"Gradient Boosting Classifer Feature importance\",\"orientation\":\"h\",\"x\":[0.0,0.0,0.0,0.0,0.0,0.00016165347845581427,0.00016203483185362635,0.0001653761151126856,0.00019130097873263984,0.0002346159929103915,0.00028604840118043247,0.0003235177277045489,0.00035235773060158154,0.0004158197093672128,0.00044605935176172766,0.0006197188695039054,0.0007148195496434932,0.0007187894334273088,0.0007278950114923029,0.0007963520664256195,0.0008965365535275902,0.0011498608494837658,0.001270823436778823,0.0014496142448763142,0.0014995491166218556,0.0015385042872263317,0.0017492380387401905,0.0017603955775375118,0.0019647053728023152,0.0037264924582162432,0.004174057835055185,0.004576751074028133,0.005278045277058135,0.006565322421680692,0.008584258166764266,0.009483929671759822,0.009773282285043598,0.01149263088990036,0.012609145090832337,0.014794297800161123,0.015374201560426012,0.01543754116748563,0.018942799189970955,0.024372416487005284,0.026540310992013864,0.028183264407555263,0.030900863764462636,0.03467434439007504,0.04030089230958734,0.04179531303640348,0.04377810614289607,0.06202171413603533,0.08109077353453951,0.08412006019644244,0.09752492931016607,0.10950125606195099,0.13478741361671628],\"y\":[\"ps_calc_17_bin\",\"ps_calc_20_bin\",\"ps_car_10_cat\",\"ps_ind_10_bin\",\"ps_ind_13_bin\",\"ps_calc_09\",\"ps_calc_15_bin\",\"ps_calc_04\",\"ps_calc_14\",\"ps_calc_19_bin\",\"ps_calc_01\",\"ps_ind_11_bin\",\"ps_calc_16_bin\",\"ps_ind_12_bin\",\"ps_calc_02\",\"ps_calc_13\",\"ps_calc_03\",\"ps_calc_08\",\"ps_calc_10\",\"ps_calc_18_bin\",\"ps_car_05_cat\",\"ps_calc_11\",\"ps_car_08_cat\",\"ps_ind_18_bin\",\"ps_calc_12\",\"ps_calc_07\",\"ps_calc_06\",\"ps_calc_05\",\"ps_ind_14\",\"ps_ind_09_bin\",\"ps_car_09_cat\",\"ps_car_11_cat\",\"ps_car_11\",\"ps_car_06_cat\",\"ps_car_02_cat\",\"ps_car_14\",\"ps_ind_08_bin\",\"ps_ind_02_cat\",\"ps_car_12\",\"ps_ind_16_bin\",\"ps_car_15\",\"ps_reg_01\",\"ps_ind_01\",\"ps_reg_02\",\"ps_car_01_cat\",\"ps_ind_04_cat\",\"ps_ind_06_bin\",\"ps_ind_15\",\"ps_car_03_cat\",\"ps_car_04_cat\",\"ps_ind_07_bin\",\"ps_car_07_cat\",\"ps_reg_03\",\"ps_ind_03\",\"ps_ind_17_bin\",\"ps_ind_05_cat\",\"ps_car_13\"],\"type\":\"bar\"}],                        {\"height\":2000,\"template\":{\"data\":{\"barpolar\":[{\"marker\":{\"line\":{\"color\":\"#E5ECF6\",\"width\":0.5},\"pattern\":{\"fillmode\":\"overlay\",\"size\":10,\"solidity\":0.2}},\"type\":\"barpolar\"}],\"bar\":[{\"error_x\":{\"color\":\"#2a3f5f\"},\"error_y\":{\"color\":\"#2a3f5f\"},\"marker\":{\"line\":{\"color\":\"#E5ECF6\",\"width\":0.5},\"pattern\":{\"fillmode\":\"overlay\",\"size\":10,\"solidity\":0.2}},\"type\":\"bar\"}],\"carpet\":[{\"aaxis\":{\"endlinecolor\":\"#2a3f5f\",\"gridcolor\":\"white\",\"linecolor\":\"white\",\"minorgridcolor\":\"white\",\"startlinecolor\":\"#2a3f5f\"},\"baxis\":{\"endlinecolor\":\"#2a3f5f\",\"gridcolor\":\"white\",\"linecolor\":\"white\",\"minorgridcolor\":\"white\",\"startlinecolor\":\"#2a3f5f\"},\"type\":\"carpet\"}],\"choropleth\":[{\"colorbar\":{\"outlinewidth\":0,\"ticks\":\"\"},\"type\":\"choropleth\"}],\"contourcarpet\":[{\"colorbar\":{\"outlinewidth\":0,\"ticks\":\"\"},\"type\":\"contourcarpet\"}],\"contour\":[{\"colorbar\":{\"outlinewidth\":0,\"ticks\":\"\"},\"colorscale\":[[0.0,\"#0d0887\"],[0.1111111111111111,\"#46039f\"],[0.2222222222222222,\"#7201a8\"],[0.3333333333333333,\"#9c179e\"],[0.4444444444444444,\"#bd3786\"],[0.5555555555555556,\"#d8576b\"],[0.6666666666666666,\"#ed7953\"],[0.7777777777777778,\"#fb9f3a\"],[0.8888888888888888,\"#fdca26\"],[1.0,\"#f0f921\"]],\"type\":\"contour\"}],\"heatmapgl\":[{\"colorbar\":{\"outlinewidth\":0,\"ticks\":\"\"},\"colorscale\":[[0.0,\"#0d0887\"],[0.1111111111111111,\"#46039f\"],[0.2222222222222222,\"#7201a8\"],[0.3333333333333333,\"#9c179e\"],[0.4444444444444444,\"#bd3786\"],[0.5555555555555556,\"#d8576b\"],[0.6666666666666666,\"#ed7953\"],[0.7777777777777778,\"#fb9f3a\"],[0.8888888888888888,\"#fdca26\"],[1.0,\"#f0f921\"]],\"type\":\"heatmapgl\"}],\"heatmap\":[{\"colorbar\":{\"outlinewidth\":0,\"ticks\":\"\"},\"colorscale\":[[0.0,\"#0d0887\"],[0.1111111111111111,\"#46039f\"],[0.2222222222222222,\"#7201a8\"],[0.3333333333333333,\"#9c179e\"],[0.4444444444444444,\"#bd3786\"],[0.5555555555555556,\"#d8576b\"],[0.6666666666666666,\"#ed7953\"],[0.7777777777777778,\"#fb9f3a\"],[0.8888888888888888,\"#fdca26\"],[1.0,\"#f0f921\"]],\"type\":\"heatmap\"}],\"histogram2dcontour\":[{\"colorbar\":{\"outlinewidth\":0,\"ticks\":\"\"},\"colorscale\":[[0.0,\"#0d0887\"],[0.1111111111111111,\"#46039f\"],[0.2222222222222222,\"#7201a8\"],[0.3333333333333333,\"#9c179e\"],[0.4444444444444444,\"#bd3786\"],[0.5555555555555556,\"#d8576b\"],[0.6666666666666666,\"#ed7953\"],[0.7777777777777778,\"#fb9f3a\"],[0.8888888888888888,\"#fdca26\"],[1.0,\"#f0f921\"]],\"type\":\"histogram2dcontour\"}],\"histogram2d\":[{\"colorbar\":{\"outlinewidth\":0,\"ticks\":\"\"},\"colorscale\":[[0.0,\"#0d0887\"],[0.1111111111111111,\"#46039f\"],[0.2222222222222222,\"#7201a8\"],[0.3333333333333333,\"#9c179e\"],[0.4444444444444444,\"#bd3786\"],[0.5555555555555556,\"#d8576b\"],[0.6666666666666666,\"#ed7953\"],[0.7777777777777778,\"#fb9f3a\"],[0.8888888888888888,\"#fdca26\"],[1.0,\"#f0f921\"]],\"type\":\"histogram2d\"}],\"histogram\":[{\"marker\":{\"pattern\":{\"fillmode\":\"overlay\",\"size\":10,\"solidity\":0.2}},\"type\":\"histogram\"}],\"mesh3d\":[{\"colorbar\":{\"outlinewidth\":0,\"ticks\":\"\"},\"type\":\"mesh3d\"}],\"parcoords\":[{\"line\":{\"colorbar\":{\"outlinewidth\":0,\"ticks\":\"\"}},\"type\":\"parcoords\"}],\"pie\":[{\"automargin\":true,\"type\":\"pie\"}],\"scatter3d\":[{\"line\":{\"colorbar\":{\"outlinewidth\":0,\"ticks\":\"\"}},\"marker\":{\"colorbar\":{\"outlinewidth\":0,\"ticks\":\"\"}},\"type\":\"scatter3d\"}],\"scattercarpet\":[{\"marker\":{\"colorbar\":{\"outlinewidth\":0,\"ticks\":\"\"}},\"type\":\"scattercarpet\"}],\"scattergeo\":[{\"marker\":{\"colorbar\":{\"outlinewidth\":0,\"ticks\":\"\"}},\"type\":\"scattergeo\"}],\"scattergl\":[{\"marker\":{\"colorbar\":{\"outlinewidth\":0,\"ticks\":\"\"}},\"type\":\"scattergl\"}],\"scattermapbox\":[{\"marker\":{\"colorbar\":{\"outlinewidth\":0,\"ticks\":\"\"}},\"type\":\"scattermapbox\"}],\"scatterpolargl\":[{\"marker\":{\"colorbar\":{\"outlinewidth\":0,\"ticks\":\"\"}},\"type\":\"scatterpolargl\"}],\"scatterpolar\":[{\"marker\":{\"colorbar\":{\"outlinewidth\":0,\"ticks\":\"\"}},\"type\":\"scatterpolar\"}],\"scatter\":[{\"fillpattern\":{\"fillmode\":\"overlay\",\"size\":10,\"solidity\":0.2},\"type\":\"scatter\"}],\"scatterternary\":[{\"marker\":{\"colorbar\":{\"outlinewidth\":0,\"ticks\":\"\"}},\"type\":\"scatterternary\"}],\"surface\":[{\"colorbar\":{\"outlinewidth\":0,\"ticks\":\"\"},\"colorscale\":[[0.0,\"#0d0887\"],[0.1111111111111111,\"#46039f\"],[0.2222222222222222,\"#7201a8\"],[0.3333333333333333,\"#9c179e\"],[0.4444444444444444,\"#bd3786\"],[0.5555555555555556,\"#d8576b\"],[0.6666666666666666,\"#ed7953\"],[0.7777777777777778,\"#fb9f3a\"],[0.8888888888888888,\"#fdca26\"],[1.0,\"#f0f921\"]],\"type\":\"surface\"}],\"table\":[{\"cells\":{\"fill\":{\"color\":\"#EBF0F8\"},\"line\":{\"color\":\"white\"}},\"header\":{\"fill\":{\"color\":\"#C8D4E3\"},\"line\":{\"color\":\"white\"}},\"type\":\"table\"}]},\"layout\":{\"annotationdefaults\":{\"arrowcolor\":\"#2a3f5f\",\"arrowhead\":0,\"arrowwidth\":1},\"autotypenumbers\":\"strict\",\"coloraxis\":{\"colorbar\":{\"outlinewidth\":0,\"ticks\":\"\"}},\"colorscale\":{\"diverging\":[[0,\"#8e0152\"],[0.1,\"#c51b7d\"],[0.2,\"#de77ae\"],[0.3,\"#f1b6da\"],[0.4,\"#fde0ef\"],[0.5,\"#f7f7f7\"],[0.6,\"#e6f5d0\"],[0.7,\"#b8e186\"],[0.8,\"#7fbc41\"],[0.9,\"#4d9221\"],[1,\"#276419\"]],\"sequential\":[[0.0,\"#0d0887\"],[0.1111111111111111,\"#46039f\"],[0.2222222222222222,\"#7201a8\"],[0.3333333333333333,\"#9c179e\"],[0.4444444444444444,\"#bd3786\"],[0.5555555555555556,\"#d8576b\"],[0.6666666666666666,\"#ed7953\"],[0.7777777777777778,\"#fb9f3a\"],[0.8888888888888888,\"#fdca26\"],[1.0,\"#f0f921\"]],\"sequentialminus\":[[0.0,\"#0d0887\"],[0.1111111111111111,\"#46039f\"],[0.2222222222222222,\"#7201a8\"],[0.3333333333333333,\"#9c179e\"],[0.4444444444444444,\"#bd3786\"],[0.5555555555555556,\"#d8576b\"],[0.6666666666666666,\"#ed7953\"],[0.7777777777777778,\"#fb9f3a\"],[0.8888888888888888,\"#fdca26\"],[1.0,\"#f0f921\"]]},\"colorway\":[\"#636efa\",\"#EF553B\",\"#00cc96\",\"#ab63fa\",\"#FFA15A\",\"#19d3f3\",\"#FF6692\",\"#B6E880\",\"#FF97FF\",\"#FECB52\"],\"font\":{\"color\":\"#2a3f5f\"},\"geo\":{\"bgcolor\":\"white\",\"lakecolor\":\"white\",\"landcolor\":\"#E5ECF6\",\"showlakes\":true,\"showland\":true,\"subunitcolor\":\"white\"},\"hoverlabel\":{\"align\":\"left\"},\"hovermode\":\"closest\",\"mapbox\":{\"style\":\"light\"},\"paper_bgcolor\":\"white\",\"plot_bgcolor\":\"#E5ECF6\",\"polar\":{\"angularaxis\":{\"gridcolor\":\"white\",\"linecolor\":\"white\",\"ticks\":\"\"},\"bgcolor\":\"#E5ECF6\",\"radialaxis\":{\"gridcolor\":\"white\",\"linecolor\":\"white\",\"ticks\":\"\"}},\"scene\":{\"xaxis\":{\"backgroundcolor\":\"#E5ECF6\",\"gridcolor\":\"white\",\"gridwidth\":2,\"linecolor\":\"white\",\"showbackground\":true,\"ticks\":\"\",\"zerolinecolor\":\"white\"},\"yaxis\":{\"backgroundcolor\":\"#E5ECF6\",\"gridcolor\":\"white\",\"gridwidth\":2,\"linecolor\":\"white\",\"showbackground\":true,\"ticks\":\"\",\"zerolinecolor\":\"white\"},\"zaxis\":{\"backgroundcolor\":\"#E5ECF6\",\"gridcolor\":\"white\",\"gridwidth\":2,\"linecolor\":\"white\",\"showbackground\":true,\"ticks\":\"\",\"zerolinecolor\":\"white\"}},\"shapedefaults\":{\"line\":{\"color\":\"#2a3f5f\"}},\"ternary\":{\"aaxis\":{\"gridcolor\":\"white\",\"linecolor\":\"white\",\"ticks\":\"\"},\"baxis\":{\"gridcolor\":\"white\",\"linecolor\":\"white\",\"ticks\":\"\"},\"bgcolor\":\"#E5ECF6\",\"caxis\":{\"gridcolor\":\"white\",\"linecolor\":\"white\",\"ticks\":\"\"}},\"title\":{\"x\":0.05},\"xaxis\":{\"automargin\":true,\"gridcolor\":\"white\",\"linecolor\":\"white\",\"ticks\":\"\",\"title\":{\"standoff\":15},\"zerolinecolor\":\"white\",\"zerolinewidth\":2},\"yaxis\":{\"automargin\":true,\"gridcolor\":\"white\",\"linecolor\":\"white\",\"ticks\":\"\",\"title\":{\"standoff\":15},\"zerolinecolor\":\"white\",\"zerolinewidth\":2}}},\"title\":{\"text\":\"Barplot of Feature importances\"},\"width\":900,\"yaxis\":{\"showgrid\":false,\"showline\":false,\"showticklabels\":true}},                        {\"responsive\": true}                    ).then(function(){\n",
       "                            \n",
       "var gd = document.getElementById('8ad6bff2-7c42-48ad-9c32-0480cecde000');\n",
       "var x = new MutationObserver(function (mutations, observer) {{\n",
       "        var display = window.getComputedStyle(gd).display;\n",
       "        if (!display || display === 'none') {{\n",
       "            console.log([gd, 'removed!']);\n",
       "            Plotly.purge(gd);\n",
       "            observer.disconnect();\n",
       "        }}\n",
       "}});\n",
       "\n",
       "// Listen for the removal of the full notebook cells\n",
       "var notebookContainer = gd.closest('#notebook-container');\n",
       "if (notebookContainer) {{\n",
       "    x.observe(notebookContainer, {childList: true});\n",
       "}}\n",
       "\n",
       "// Listen for the clearing of the current output cell\n",
       "var outputEl = gd.closest('.output');\n",
       "if (outputEl) {{\n",
       "    x.observe(outputEl, {childList: true});\n",
       "}}\n",
       "\n",
       "                        })                };                });            </script>        </div>"
      ]
     },
     "metadata": {},
     "output_type": "display_data"
    }
   ],
   "source": [
    "x, y = (list(x) for x in zip(*sorted(zip(gb.feature_importances_, features), \n",
    "                                                            reverse = False)))\n",
    "trace2 = go.Bar(\n",
    "    x=x ,\n",
    "    y=y,\n",
    "    marker=dict(\n",
    "        color=x,\n",
    "        colorscale = 'Viridis',\n",
    "        reversescale = True\n",
    "    ),\n",
    "    name='Gradient Boosting Classifer Feature importance',\n",
    "    orientation='h',\n",
    ")\n",
    "\n",
    "layout = dict(\n",
    "    title='Barplot of Feature importances',\n",
    "     width = 900, height = 2000,\n",
    "    yaxis=dict(\n",
    "        showgrid=False,\n",
    "        showline=False,\n",
    "        showticklabels=True,\n",
    "    ))\n",
    "\n",
    "fig1 = go.Figure(data=[trace2])\n",
    "fig1['layout'].update(layout)\n",
    "py.iplot(fig1, filename='plots')"
   ]
  },
  {
   "cell_type": "code",
   "execution_count": null,
   "id": "a5f447f8",
   "metadata": {},
   "outputs": [],
   "source": []
  }
 ],
 "metadata": {
  "kernelspec": {
   "display_name": "Python 3 (ipykernel)",
   "language": "python",
   "name": "python3"
  },
  "language_info": {
   "codemirror_mode": {
    "name": "ipython",
    "version": 3
   },
   "file_extension": ".py",
   "mimetype": "text/x-python",
   "name": "python",
   "nbconvert_exporter": "python",
   "pygments_lexer": "ipython3",
   "version": "3.10.9"
  }
 },
 "nbformat": 4,
 "nbformat_minor": 5
}
